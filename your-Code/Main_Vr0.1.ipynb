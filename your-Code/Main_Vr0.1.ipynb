{
 "cells": [
  {
   "cell_type": "markdown",
   "id": "0cfae56b",
   "metadata": {
    "toc": true
   },
   "source": [
    "<h1>Table of Contents<span class=\"tocSkip\"></span></h1>\n",
    "<div class=\"toc\"><ul class=\"toc-item\"><li><span><a href=\"#importing-Data-&amp;-Libraries\" data-toc-modified-id=\"importing-Data-&amp;-Libraries-1\"><span class=\"toc-item-num\">1&nbsp;&nbsp;</span>importing Data &amp; Libraries</a></span></li><li><span><a href=\"#Cleaning-Data\" data-toc-modified-id=\"Cleaning-Data-2\"><span class=\"toc-item-num\">2&nbsp;&nbsp;</span>Cleaning Data</a></span><ul class=\"toc-item\"><li><span><a href=\"#Dealing-with-Null-values-in-Data\" data-toc-modified-id=\"Dealing-with-Null-values-in-Data-2.1\"><span class=\"toc-item-num\">2.1&nbsp;&nbsp;</span>Dealing with Null values in Data</a></span></li><li><span><a href=\"#Dealing-with-Missing-values-in-Data\" data-toc-modified-id=\"Dealing-with-Missing-values-in-Data-2.2\"><span class=\"toc-item-num\">2.2&nbsp;&nbsp;</span>Dealing with Missing values in Data</a></span><ul class=\"toc-item\"><li><span><a href=\"#ServiceArea(Categorical)\" data-toc-modified-id=\"ServiceArea(Categorical)-2.2.1\"><span class=\"toc-item-num\">2.2.1&nbsp;&nbsp;</span>ServiceArea(Categorical)</a></span></li><li><span><a href=\"#Age(Numerical)\" data-toc-modified-id=\"Age(Numerical)-2.2.2\"><span class=\"toc-item-num\">2.2.2&nbsp;&nbsp;</span>Age(Numerical)</a></span></li><li><span><a href=\"#HandsetPrice\" data-toc-modified-id=\"HandsetPrice-2.2.3\"><span class=\"toc-item-num\">2.2.3&nbsp;&nbsp;</span>HandsetPrice</a></span></li></ul></li><li><span><a href=\"#Changing-the-Numerical-ordinal-to-Num-ordinal\" data-toc-modified-id=\"Changing-the-Numerical-ordinal-to-Num-ordinal-2.3\"><span class=\"toc-item-num\">2.3&nbsp;&nbsp;</span>Changing the Numerical ordinal to Num ordinal</a></span><ul class=\"toc-item\"><li><span><a href=\"#CreditRating\" data-toc-modified-id=\"CreditRating-2.3.1\"><span class=\"toc-item-num\">2.3.1&nbsp;&nbsp;</span>CreditRating</a></span></li></ul></li><li><span><a href=\"#Removing-multicollinearity\" data-toc-modified-id=\"Removing-multicollinearity-2.4\"><span class=\"toc-item-num\">2.4&nbsp;&nbsp;</span>Removing multicollinearity</a></span></li><li><span><a href=\"#removing-Outliers\" data-toc-modified-id=\"removing-Outliers-2.5\"><span class=\"toc-item-num\">2.5&nbsp;&nbsp;</span>removing Outliers</a></span></li></ul></li><li><span><a href=\"#Normalizing\" data-toc-modified-id=\"Normalizing-3\"><span class=\"toc-item-num\">3&nbsp;&nbsp;</span>Normalizing</a></span></li><li><span><a href=\"#Prediction-for-Differnet-Type-of-Normalization\" data-toc-modified-id=\"Prediction-for-Differnet-Type-of-Normalization-4\"><span class=\"toc-item-num\">4&nbsp;&nbsp;</span>Prediction for Differnet Type of Normalization</a></span><ul class=\"toc-item\"><li><span><a href=\"#MinMaxScaler\" data-toc-modified-id=\"MinMaxScaler-4.1\"><span class=\"toc-item-num\">4.1&nbsp;&nbsp;</span>MinMaxScaler</a></span></li><li><span><a href=\"#&quot;PowerTransformer&quot;\" data-toc-modified-id=\"&quot;PowerTransformer&quot;-4.2\"><span class=\"toc-item-num\">4.2&nbsp;&nbsp;</span>\"PowerTransformer\"</a></span></li><li><span><a href=\"#StandardScaler\" data-toc-modified-id=\"StandardScaler-4.3\"><span class=\"toc-item-num\">4.3&nbsp;&nbsp;</span>StandardScaler</a></span></li></ul></li><li><span><a href=\"#OverSampling\" data-toc-modified-id=\"OverSampling-5\"><span class=\"toc-item-num\">5&nbsp;&nbsp;</span>OverSampling</a></span></li><li><span><a href=\"#Under-sampling\" data-toc-modified-id=\"Under-sampling-6\"><span class=\"toc-item-num\">6&nbsp;&nbsp;</span>Under sampling</a></span><ul class=\"toc-item\"><li><ul class=\"toc-item\"><li><span><a href=\"#NearMiss\" data-toc-modified-id=\"NearMiss-6.0.1\"><span class=\"toc-item-num\">6.0.1&nbsp;&nbsp;</span>NearMiss</a></span></li><li><span><a href=\"#ClusterCentroids\" data-toc-modified-id=\"ClusterCentroids-6.0.2\"><span class=\"toc-item-num\">6.0.2&nbsp;&nbsp;</span>ClusterCentroids</a></span></li></ul></li></ul></li><li><span><a href=\"#Analyse-Customer-Data\" data-toc-modified-id=\"Analyse-Customer-Data-7\"><span class=\"toc-item-num\">7&nbsp;&nbsp;</span>Analyse Customer Data</a></span><ul class=\"toc-item\"><li><span><a href=\"#Define-High-value-Customer(HVC)\" data-toc-modified-id=\"Define-High-value-Customer(HVC)-7.1\"><span class=\"toc-item-num\">7.1&nbsp;&nbsp;</span>Define High value Customer(HVC)</a></span></li></ul></li></ul></div>"
   ]
  },
  {
   "cell_type": "markdown",
   "id": "c536ae7a",
   "metadata": {},
   "source": [
    "# importing Data & Libraries"
   ]
  },
  {
   "cell_type": "code",
   "execution_count": 552,
   "id": "8203d633",
   "metadata": {},
   "outputs": [],
   "source": [
    "import pandas as pd\n",
    "import numpy as np\n",
    "from sklearn.impute import KNNImputer\n",
    "import matplotlib.pyplot as plt\n",
    "%matplotlib inline\n",
    "import seaborn as sns\n",
    "from sklearn.preprocessing import PowerTransformer\n",
    "from statsmodels.stats.outliers_influence import variance_inflation_factor\n",
    "from statsmodels.tools.tools import add_constant\n",
    "from sklearn.preprocessing import PowerTransformer\n",
    "from sklearn.preprocessing import MinMaxScaler\n",
    "from sklearn.preprocessing import OneHotEncoder\n",
    "from sklearn.preprocessing import StandardScaler\n",
    "from sklearn.neighbors import KNeighborsRegressor\n",
    "from sklearn.neighbors import KNeighborsClassifier\n",
    "from sklearn.metrics import confusion_matrix, accuracy_score, precision_score, recall_score, ConfusionMatrixDisplay\n",
    "from sklearn.metrics import classification_report, f1_score, cohen_kappa_score,mean_squared_error\n",
    "from sklearn.metrics import mean_squared_error,r2_score"
   ]
  },
  {
   "cell_type": "code",
   "execution_count": 553,
   "id": "b777cc27",
   "metadata": {},
   "outputs": [
    {
     "data": {
      "text/html": [
       "<div>\n",
       "<style scoped>\n",
       "    .dataframe tbody tr th:only-of-type {\n",
       "        vertical-align: middle;\n",
       "    }\n",
       "\n",
       "    .dataframe tbody tr th {\n",
       "        vertical-align: top;\n",
       "    }\n",
       "\n",
       "    .dataframe thead th {\n",
       "        text-align: right;\n",
       "    }\n",
       "</style>\n",
       "<table border=\"1\" class=\"dataframe\">\n",
       "  <thead>\n",
       "    <tr style=\"text-align: right;\">\n",
       "      <th></th>\n",
       "      <th>CustomerID</th>\n",
       "      <th>Churn</th>\n",
       "      <th>MonthlyRevenue</th>\n",
       "      <th>MonthlyMinutes</th>\n",
       "      <th>TotalRecurringCharge</th>\n",
       "      <th>DirectorAssistedCalls</th>\n",
       "      <th>OverageMinutes</th>\n",
       "      <th>RoamingCalls</th>\n",
       "      <th>PercChangeMinutes</th>\n",
       "      <th>PercChangeRevenues</th>\n",
       "      <th>...</th>\n",
       "      <th>ReferralsMadeBySubscriber</th>\n",
       "      <th>IncomeGroup</th>\n",
       "      <th>OwnsMotorcycle</th>\n",
       "      <th>AdjustmentsToCreditRating</th>\n",
       "      <th>HandsetPrice</th>\n",
       "      <th>MadeCallToRetentionTeam</th>\n",
       "      <th>CreditRating</th>\n",
       "      <th>PrizmCode</th>\n",
       "      <th>Occupation</th>\n",
       "      <th>MaritalStatus</th>\n",
       "    </tr>\n",
       "  </thead>\n",
       "  <tbody>\n",
       "    <tr>\n",
       "      <th>0</th>\n",
       "      <td>3378298</td>\n",
       "      <td>No</td>\n",
       "      <td>-6.17</td>\n",
       "      <td>0.0</td>\n",
       "      <td>-6.0</td>\n",
       "      <td>0.00</td>\n",
       "      <td>0.0</td>\n",
       "      <td>0.0</td>\n",
       "      <td>0.0</td>\n",
       "      <td>6.2</td>\n",
       "      <td>...</td>\n",
       "      <td>0</td>\n",
       "      <td>6</td>\n",
       "      <td>No</td>\n",
       "      <td>0</td>\n",
       "      <td>Unknown</td>\n",
       "      <td>No</td>\n",
       "      <td>7-Lowest</td>\n",
       "      <td>Suburban</td>\n",
       "      <td>Other</td>\n",
       "      <td>No</td>\n",
       "    </tr>\n",
       "    <tr>\n",
       "      <th>1</th>\n",
       "      <td>3265738</td>\n",
       "      <td>No</td>\n",
       "      <td>-5.86</td>\n",
       "      <td>0.0</td>\n",
       "      <td>-5.0</td>\n",
       "      <td>0.00</td>\n",
       "      <td>0.0</td>\n",
       "      <td>0.0</td>\n",
       "      <td>0.0</td>\n",
       "      <td>5.9</td>\n",
       "      <td>...</td>\n",
       "      <td>0</td>\n",
       "      <td>6</td>\n",
       "      <td>No</td>\n",
       "      <td>0</td>\n",
       "      <td>Unknown</td>\n",
       "      <td>No</td>\n",
       "      <td>3-Good</td>\n",
       "      <td>Suburban</td>\n",
       "      <td>Other</td>\n",
       "      <td>Yes</td>\n",
       "    </tr>\n",
       "    <tr>\n",
       "      <th>2</th>\n",
       "      <td>3210322</td>\n",
       "      <td>No</td>\n",
       "      <td>-2.52</td>\n",
       "      <td>211.0</td>\n",
       "      <td>0.0</td>\n",
       "      <td>0.33</td>\n",
       "      <td>0.0</td>\n",
       "      <td>0.0</td>\n",
       "      <td>NaN</td>\n",
       "      <td>NaN</td>\n",
       "      <td>...</td>\n",
       "      <td>0</td>\n",
       "      <td>0</td>\n",
       "      <td>No</td>\n",
       "      <td>0</td>\n",
       "      <td>30</td>\n",
       "      <td>No</td>\n",
       "      <td>3-Good</td>\n",
       "      <td>Suburban</td>\n",
       "      <td>Other</td>\n",
       "      <td>Unknown</td>\n",
       "    </tr>\n",
       "    <tr>\n",
       "      <th>3</th>\n",
       "      <td>3096670</td>\n",
       "      <td>Yes</td>\n",
       "      <td>0.00</td>\n",
       "      <td>2.0</td>\n",
       "      <td>0.0</td>\n",
       "      <td>0.00</td>\n",
       "      <td>0.0</td>\n",
       "      <td>0.0</td>\n",
       "      <td>NaN</td>\n",
       "      <td>NaN</td>\n",
       "      <td>...</td>\n",
       "      <td>0</td>\n",
       "      <td>0</td>\n",
       "      <td>No</td>\n",
       "      <td>0</td>\n",
       "      <td>30</td>\n",
       "      <td>No</td>\n",
       "      <td>5-Low</td>\n",
       "      <td>Suburban</td>\n",
       "      <td>Other</td>\n",
       "      <td>Unknown</td>\n",
       "    </tr>\n",
       "    <tr>\n",
       "      <th>4</th>\n",
       "      <td>3103410</td>\n",
       "      <td>Yes</td>\n",
       "      <td>0.00</td>\n",
       "      <td>55.0</td>\n",
       "      <td>0.0</td>\n",
       "      <td>0.00</td>\n",
       "      <td>0.0</td>\n",
       "      <td>0.0</td>\n",
       "      <td>NaN</td>\n",
       "      <td>NaN</td>\n",
       "      <td>...</td>\n",
       "      <td>0</td>\n",
       "      <td>4</td>\n",
       "      <td>No</td>\n",
       "      <td>0</td>\n",
       "      <td>10</td>\n",
       "      <td>No</td>\n",
       "      <td>4-Medium</td>\n",
       "      <td>Other</td>\n",
       "      <td>Other</td>\n",
       "      <td>Unknown</td>\n",
       "    </tr>\n",
       "    <tr>\n",
       "      <th>...</th>\n",
       "      <td>...</td>\n",
       "      <td>...</td>\n",
       "      <td>...</td>\n",
       "      <td>...</td>\n",
       "      <td>...</td>\n",
       "      <td>...</td>\n",
       "      <td>...</td>\n",
       "      <td>...</td>\n",
       "      <td>...</td>\n",
       "      <td>...</td>\n",
       "      <td>...</td>\n",
       "      <td>...</td>\n",
       "      <td>...</td>\n",
       "      <td>...</td>\n",
       "      <td>...</td>\n",
       "      <td>...</td>\n",
       "      <td>...</td>\n",
       "      <td>...</td>\n",
       "      <td>...</td>\n",
       "      <td>...</td>\n",
       "      <td>...</td>\n",
       "    </tr>\n",
       "    <tr>\n",
       "      <th>51042</th>\n",
       "      <td>3399910</td>\n",
       "      <td>No</td>\n",
       "      <td>NaN</td>\n",
       "      <td>NaN</td>\n",
       "      <td>NaN</td>\n",
       "      <td>NaN</td>\n",
       "      <td>NaN</td>\n",
       "      <td>NaN</td>\n",
       "      <td>NaN</td>\n",
       "      <td>NaN</td>\n",
       "      <td>...</td>\n",
       "      <td>0</td>\n",
       "      <td>7</td>\n",
       "      <td>No</td>\n",
       "      <td>0</td>\n",
       "      <td>30</td>\n",
       "      <td>No</td>\n",
       "      <td>1-Highest</td>\n",
       "      <td>Suburban</td>\n",
       "      <td>Other</td>\n",
       "      <td>Unknown</td>\n",
       "    </tr>\n",
       "    <tr>\n",
       "      <th>51043</th>\n",
       "      <td>3399958</td>\n",
       "      <td>Yes</td>\n",
       "      <td>NaN</td>\n",
       "      <td>NaN</td>\n",
       "      <td>NaN</td>\n",
       "      <td>NaN</td>\n",
       "      <td>NaN</td>\n",
       "      <td>NaN</td>\n",
       "      <td>NaN</td>\n",
       "      <td>NaN</td>\n",
       "      <td>...</td>\n",
       "      <td>0</td>\n",
       "      <td>6</td>\n",
       "      <td>No</td>\n",
       "      <td>0</td>\n",
       "      <td>60</td>\n",
       "      <td>No</td>\n",
       "      <td>1-Highest</td>\n",
       "      <td>Suburban</td>\n",
       "      <td>Other</td>\n",
       "      <td>Yes</td>\n",
       "    </tr>\n",
       "    <tr>\n",
       "      <th>51044</th>\n",
       "      <td>3399978</td>\n",
       "      <td>Yes</td>\n",
       "      <td>NaN</td>\n",
       "      <td>NaN</td>\n",
       "      <td>NaN</td>\n",
       "      <td>NaN</td>\n",
       "      <td>NaN</td>\n",
       "      <td>NaN</td>\n",
       "      <td>NaN</td>\n",
       "      <td>NaN</td>\n",
       "      <td>...</td>\n",
       "      <td>0</td>\n",
       "      <td>7</td>\n",
       "      <td>No</td>\n",
       "      <td>1</td>\n",
       "      <td>80</td>\n",
       "      <td>No</td>\n",
       "      <td>5-Low</td>\n",
       "      <td>Other</td>\n",
       "      <td>Clerical</td>\n",
       "      <td>No</td>\n",
       "    </tr>\n",
       "    <tr>\n",
       "      <th>51045</th>\n",
       "      <td>3399990</td>\n",
       "      <td>No</td>\n",
       "      <td>NaN</td>\n",
       "      <td>NaN</td>\n",
       "      <td>NaN</td>\n",
       "      <td>NaN</td>\n",
       "      <td>NaN</td>\n",
       "      <td>NaN</td>\n",
       "      <td>NaN</td>\n",
       "      <td>NaN</td>\n",
       "      <td>...</td>\n",
       "      <td>0</td>\n",
       "      <td>9</td>\n",
       "      <td>No</td>\n",
       "      <td>0</td>\n",
       "      <td>30</td>\n",
       "      <td>No</td>\n",
       "      <td>5-Low</td>\n",
       "      <td>Other</td>\n",
       "      <td>Other</td>\n",
       "      <td>No</td>\n",
       "    </tr>\n",
       "    <tr>\n",
       "      <th>51046</th>\n",
       "      <td>3399994</td>\n",
       "      <td>No</td>\n",
       "      <td>NaN</td>\n",
       "      <td>NaN</td>\n",
       "      <td>NaN</td>\n",
       "      <td>NaN</td>\n",
       "      <td>NaN</td>\n",
       "      <td>NaN</td>\n",
       "      <td>NaN</td>\n",
       "      <td>NaN</td>\n",
       "      <td>...</td>\n",
       "      <td>0</td>\n",
       "      <td>0</td>\n",
       "      <td>No</td>\n",
       "      <td>1</td>\n",
       "      <td>60</td>\n",
       "      <td>Yes</td>\n",
       "      <td>5-Low</td>\n",
       "      <td>Other</td>\n",
       "      <td>Other</td>\n",
       "      <td>Unknown</td>\n",
       "    </tr>\n",
       "  </tbody>\n",
       "</table>\n",
       "<p>51047 rows × 58 columns</p>\n",
       "</div>"
      ],
      "text/plain": [
       "       CustomerID Churn  MonthlyRevenue  MonthlyMinutes  TotalRecurringCharge  \\\n",
       "0         3378298    No           -6.17             0.0                  -6.0   \n",
       "1         3265738    No           -5.86             0.0                  -5.0   \n",
       "2         3210322    No           -2.52           211.0                   0.0   \n",
       "3         3096670   Yes            0.00             2.0                   0.0   \n",
       "4         3103410   Yes            0.00            55.0                   0.0   \n",
       "...           ...   ...             ...             ...                   ...   \n",
       "51042     3399910    No             NaN             NaN                   NaN   \n",
       "51043     3399958   Yes             NaN             NaN                   NaN   \n",
       "51044     3399978   Yes             NaN             NaN                   NaN   \n",
       "51045     3399990    No             NaN             NaN                   NaN   \n",
       "51046     3399994    No             NaN             NaN                   NaN   \n",
       "\n",
       "       DirectorAssistedCalls  OverageMinutes  RoamingCalls  PercChangeMinutes  \\\n",
       "0                       0.00             0.0           0.0                0.0   \n",
       "1                       0.00             0.0           0.0                0.0   \n",
       "2                       0.33             0.0           0.0                NaN   \n",
       "3                       0.00             0.0           0.0                NaN   \n",
       "4                       0.00             0.0           0.0                NaN   \n",
       "...                      ...             ...           ...                ...   \n",
       "51042                    NaN             NaN           NaN                NaN   \n",
       "51043                    NaN             NaN           NaN                NaN   \n",
       "51044                    NaN             NaN           NaN                NaN   \n",
       "51045                    NaN             NaN           NaN                NaN   \n",
       "51046                    NaN             NaN           NaN                NaN   \n",
       "\n",
       "       PercChangeRevenues  ...  ReferralsMadeBySubscriber  IncomeGroup  \\\n",
       "0                     6.2  ...                          0            6   \n",
       "1                     5.9  ...                          0            6   \n",
       "2                     NaN  ...                          0            0   \n",
       "3                     NaN  ...                          0            0   \n",
       "4                     NaN  ...                          0            4   \n",
       "...                   ...  ...                        ...          ...   \n",
       "51042                 NaN  ...                          0            7   \n",
       "51043                 NaN  ...                          0            6   \n",
       "51044                 NaN  ...                          0            7   \n",
       "51045                 NaN  ...                          0            9   \n",
       "51046                 NaN  ...                          0            0   \n",
       "\n",
       "       OwnsMotorcycle  AdjustmentsToCreditRating  HandsetPrice  \\\n",
       "0                  No                          0       Unknown   \n",
       "1                  No                          0       Unknown   \n",
       "2                  No                          0            30   \n",
       "3                  No                          0            30   \n",
       "4                  No                          0            10   \n",
       "...               ...                        ...           ...   \n",
       "51042              No                          0            30   \n",
       "51043              No                          0            60   \n",
       "51044              No                          1            80   \n",
       "51045              No                          0            30   \n",
       "51046              No                          1            60   \n",
       "\n",
       "       MadeCallToRetentionTeam  CreditRating  PrizmCode  Occupation  \\\n",
       "0                           No      7-Lowest   Suburban       Other   \n",
       "1                           No        3-Good   Suburban       Other   \n",
       "2                           No        3-Good   Suburban       Other   \n",
       "3                           No         5-Low   Suburban       Other   \n",
       "4                           No      4-Medium      Other       Other   \n",
       "...                        ...           ...        ...         ...   \n",
       "51042                       No     1-Highest   Suburban       Other   \n",
       "51043                       No     1-Highest   Suburban       Other   \n",
       "51044                       No         5-Low      Other    Clerical   \n",
       "51045                       No         5-Low      Other       Other   \n",
       "51046                      Yes         5-Low      Other       Other   \n",
       "\n",
       "       MaritalStatus  \n",
       "0                 No  \n",
       "1                Yes  \n",
       "2            Unknown  \n",
       "3            Unknown  \n",
       "4            Unknown  \n",
       "...              ...  \n",
       "51042        Unknown  \n",
       "51043            Yes  \n",
       "51044             No  \n",
       "51045             No  \n",
       "51046        Unknown  \n",
       "\n",
       "[51047 rows x 58 columns]"
      ]
     },
     "execution_count": 553,
     "metadata": {},
     "output_type": "execute_result"
    }
   ],
   "source": [
    "data=pd.read_csv('Data.csv')\n",
    "data"
   ]
  },
  {
   "cell_type": "markdown",
   "id": "7d958bc3",
   "metadata": {},
   "source": [
    "# Cleaning Data\n",
    "\n",
    "## Dealing with Null values in Data\n"
   ]
  },
  {
   "cell_type": "code",
   "execution_count": 554,
   "id": "3c3a669e",
   "metadata": {
    "scrolled": true
   },
   "outputs": [
    {
     "data": {
      "text/plain": [
       "CustomerID                     0\n",
       "Churn                          0\n",
       "MonthlyRevenue               156\n",
       "MonthlyMinutes               156\n",
       "TotalRecurringCharge         156\n",
       "DirectorAssistedCalls        156\n",
       "OverageMinutes               156\n",
       "RoamingCalls                 156\n",
       "PercChangeMinutes            367\n",
       "PercChangeRevenues           367\n",
       "DroppedCalls                   0\n",
       "BlockedCalls                   0\n",
       "UnansweredCalls                0\n",
       "CustomerCareCalls              0\n",
       "ThreewayCalls                  0\n",
       "ReceivedCalls                  0\n",
       "OutboundCalls                  0\n",
       "InboundCalls                   0\n",
       "PeakCallsInOut                 0\n",
       "OffPeakCallsInOut              0\n",
       "DroppedBlockedCalls            0\n",
       "CallForwardingCalls            0\n",
       "CallWaitingCalls               0\n",
       "MonthsInService                0\n",
       "UniqueSubs                     0\n",
       "ActiveSubs                     0\n",
       "ServiceArea                   24\n",
       "Handsets                       1\n",
       "HandsetModels                  1\n",
       "CurrentEquipmentDays           1\n",
       "AgeHH1                       909\n",
       "AgeHH2                       909\n",
       "ChildrenInHH                   0\n",
       "HandsetRefurbished             0\n",
       "HandsetWebCapable              0\n",
       "TruckOwner                     0\n",
       "RVOwner                        0\n",
       "Homeownership                  0\n",
       "BuysViaMailOrder               0\n",
       "RespondsToMailOffers           0\n",
       "OptOutMailings                 0\n",
       "NonUSTravel                    0\n",
       "OwnsComputer                   0\n",
       "HasCreditCard                  0\n",
       "RetentionCalls                 0\n",
       "RetentionOffersAccepted        0\n",
       "NewCellphoneUser               0\n",
       "NotNewCellphoneUser            0\n",
       "ReferralsMadeBySubscriber      0\n",
       "IncomeGroup                    0\n",
       "OwnsMotorcycle                 0\n",
       "AdjustmentsToCreditRating      0\n",
       "HandsetPrice                   0\n",
       "MadeCallToRetentionTeam        0\n",
       "CreditRating                   0\n",
       "PrizmCode                      0\n",
       "Occupation                     0\n",
       "MaritalStatus                  0\n",
       "dtype: int64"
      ]
     },
     "execution_count": 554,
     "metadata": {},
     "output_type": "execute_result"
    }
   ],
   "source": [
    "data.isna().sum()"
   ]
  },
  {
   "cell_type": "code",
   "execution_count": 555,
   "id": "f6e3d238",
   "metadata": {
    "scrolled": false
   },
   "outputs": [],
   "source": [
    "# dealing with null values in MonthlyRevenue, it has 156 we delete all Na\n",
    "data = data[data['MonthlyRevenue'].isna()==False]"
   ]
  },
  {
   "cell_type": "code",
   "execution_count": 556,
   "id": "8b3970da",
   "metadata": {},
   "outputs": [],
   "source": [
    "# delaing with Null values in PercChangeMinutes , They are not much so we delete them\n",
    "data = data[data['PercChangeMinutes'].isna()==False]"
   ]
  },
  {
   "cell_type": "code",
   "execution_count": 557,
   "id": "3f27a75c",
   "metadata": {},
   "outputs": [],
   "source": [
    "# delaing with Null values in Service Area, They are not much so we delete them\n",
    "data = data[data['ServiceArea'].isna()==False]"
   ]
  },
  {
   "cell_type": "code",
   "execution_count": 558,
   "id": "c0dc46a5",
   "metadata": {},
   "outputs": [],
   "source": [
    "#For AgeHH1 and AgHH2 both them reperesnet of age so we Delete one of them and we delete null valuyes as well\n",
    "data=data.drop('AgeHH2', axis=1)"
   ]
  },
  {
   "cell_type": "code",
   "execution_count": 559,
   "id": "86cf6698",
   "metadata": {
    "scrolled": true
   },
   "outputs": [],
   "source": [
    "# Drop Na and also change the name of Column\n",
    "data = data[data['AgeHH1'].isna()==False]\n",
    "data = data.rename(columns={'AgeHH1':'Age'})"
   ]
  },
  {
   "cell_type": "code",
   "execution_count": 560,
   "id": "620123c2",
   "metadata": {},
   "outputs": [],
   "source": [
    "# we have only one null value in Handsets ,HandsetModels , CurrentEquipmentDays , so we delet them as well\n",
    "data = data[data['Handsets'].isna()==False]"
   ]
  },
  {
   "cell_type": "code",
   "execution_count": 561,
   "id": "352994a8",
   "metadata": {},
   "outputs": [
    {
     "data": {
      "text/plain": [
       "(49752, 57)"
      ]
     },
     "execution_count": 561,
     "metadata": {},
     "output_type": "execute_result"
    }
   ],
   "source": [
    "# Make sure there in no Null Values in Data\n",
    "data.isna().sum()\n",
    "data.shape"
   ]
  },
  {
   "cell_type": "markdown",
   "id": "803bbd76",
   "metadata": {},
   "source": [
    "## Dealing with Missing values in Data"
   ]
  },
  {
   "cell_type": "code",
   "execution_count": 562,
   "id": "7f02827a",
   "metadata": {},
   "outputs": [
    {
     "name": "stdout",
     "output_type": "stream",
     "text": [
      "<class 'pandas.core.frame.DataFrame'>\n",
      "Int64Index: 49752 entries, 0 to 50890\n",
      "Data columns (total 57 columns):\n",
      " #   Column                     Non-Null Count  Dtype  \n",
      "---  ------                     --------------  -----  \n",
      " 0   CustomerID                 49752 non-null  int64  \n",
      " 1   Churn                      49752 non-null  object \n",
      " 2   MonthlyRevenue             49752 non-null  float64\n",
      " 3   MonthlyMinutes             49752 non-null  float64\n",
      " 4   TotalRecurringCharge       49752 non-null  float64\n",
      " 5   DirectorAssistedCalls      49752 non-null  float64\n",
      " 6   OverageMinutes             49752 non-null  float64\n",
      " 7   RoamingCalls               49752 non-null  float64\n",
      " 8   PercChangeMinutes          49752 non-null  float64\n",
      " 9   PercChangeRevenues         49752 non-null  float64\n",
      " 10  DroppedCalls               49752 non-null  float64\n",
      " 11  BlockedCalls               49752 non-null  float64\n",
      " 12  UnansweredCalls            49752 non-null  float64\n",
      " 13  CustomerCareCalls          49752 non-null  float64\n",
      " 14  ThreewayCalls              49752 non-null  float64\n",
      " 15  ReceivedCalls              49752 non-null  float64\n",
      " 16  OutboundCalls              49752 non-null  float64\n",
      " 17  InboundCalls               49752 non-null  float64\n",
      " 18  PeakCallsInOut             49752 non-null  float64\n",
      " 19  OffPeakCallsInOut          49752 non-null  float64\n",
      " 20  DroppedBlockedCalls        49752 non-null  float64\n",
      " 21  CallForwardingCalls        49752 non-null  float64\n",
      " 22  CallWaitingCalls           49752 non-null  float64\n",
      " 23  MonthsInService            49752 non-null  int64  \n",
      " 24  UniqueSubs                 49752 non-null  int64  \n",
      " 25  ActiveSubs                 49752 non-null  int64  \n",
      " 26  ServiceArea                49752 non-null  object \n",
      " 27  Handsets                   49752 non-null  float64\n",
      " 28  HandsetModels              49752 non-null  float64\n",
      " 29  CurrentEquipmentDays       49752 non-null  float64\n",
      " 30  Age                        49752 non-null  float64\n",
      " 31  ChildrenInHH               49752 non-null  object \n",
      " 32  HandsetRefurbished         49752 non-null  object \n",
      " 33  HandsetWebCapable          49752 non-null  object \n",
      " 34  TruckOwner                 49752 non-null  object \n",
      " 35  RVOwner                    49752 non-null  object \n",
      " 36  Homeownership              49752 non-null  object \n",
      " 37  BuysViaMailOrder           49752 non-null  object \n",
      " 38  RespondsToMailOffers       49752 non-null  object \n",
      " 39  OptOutMailings             49752 non-null  object \n",
      " 40  NonUSTravel                49752 non-null  object \n",
      " 41  OwnsComputer               49752 non-null  object \n",
      " 42  HasCreditCard              49752 non-null  object \n",
      " 43  RetentionCalls             49752 non-null  int64  \n",
      " 44  RetentionOffersAccepted    49752 non-null  int64  \n",
      " 45  NewCellphoneUser           49752 non-null  object \n",
      " 46  NotNewCellphoneUser        49752 non-null  object \n",
      " 47  ReferralsMadeBySubscriber  49752 non-null  int64  \n",
      " 48  IncomeGroup                49752 non-null  int64  \n",
      " 49  OwnsMotorcycle             49752 non-null  object \n",
      " 50  AdjustmentsToCreditRating  49752 non-null  int64  \n",
      " 51  HandsetPrice               49752 non-null  object \n",
      " 52  MadeCallToRetentionTeam    49752 non-null  object \n",
      " 53  CreditRating               49752 non-null  object \n",
      " 54  PrizmCode                  49752 non-null  object \n",
      " 55  Occupation                 49752 non-null  object \n",
      " 56  MaritalStatus              49752 non-null  object \n",
      "dtypes: float64(25), int64(9), object(23)\n",
      "memory usage: 22.0+ MB\n"
     ]
    }
   ],
   "source": [
    "data.info()"
   ]
  },
  {
   "cell_type": "code",
   "execution_count": 563,
   "id": "fe8924dd",
   "metadata": {},
   "outputs": [],
   "source": [
    "# check the values of data if we have missing values(not null somthing that are not correct or unknown)\n"
   ]
  },
  {
   "cell_type": "markdown",
   "id": "77dc2317",
   "metadata": {},
   "source": [
    "### ServiceArea(Categorical)"
   ]
  },
  {
   "cell_type": "code",
   "execution_count": 564,
   "id": "e315b06b",
   "metadata": {},
   "outputs": [
    {
     "data": {
      "text/plain": [
       "California              6926\n",
       "Texas                   6827\n",
       "New York                5055\n",
       "Florida                 3699\n",
       "Illinois                2031\n",
       "Ohio                    1908\n",
       "Virginia                1633\n",
       "New Jersey              1496\n",
       "Michigan                1451\n",
       "Georgia                 1438\n",
       "Maryland                1247\n",
       "Massachusetts           1185\n",
       "North Carolina          1145\n",
       "Missouri                1117\n",
       "Pennsylvania            1081\n",
       "Washington               837\n",
       "Connecticut              825\n",
       "Minnesota                801\n",
       "Tennessee                788\n",
       "Arizona                  779\n",
       "Colorado                 716\n",
       "Indiana                  692\n",
       "Kansas                   630\n",
       "Wisconsin                626\n",
       "Nevada                   503\n",
       "Kentucky                 438\n",
       "Louisiana                384\n",
       "Oklahoma                 369\n",
       "South Carolina           348\n",
       "District of Columbia     335\n",
       "Oregon                   288\n",
       "Nebraska                 279\n",
       "Iowa                     269\n",
       "Hawaii                   252\n",
       "New Hampshire            227\n",
       "New Mexico               169\n",
       "Utah                     166\n",
       "Alabama                  142\n",
       "Arkansas                 140\n",
       "Rhode Island             139\n",
       "Delaware                 130\n",
       "West Virginia             81\n",
       "Mississippi               64\n",
       "Maine                     48\n",
       "South Dakota              30\n",
       "Idaho                     16\n",
       "North Dakota               2\n",
       "Name: ServiceArea, dtype: int64"
      ]
     },
     "execution_count": 564,
     "metadata": {},
     "output_type": "execute_result"
    }
   ],
   "source": [
    "data.ServiceArea.value_counts()\n",
    "# service area dosent have any missindg values"
   ]
  },
  {
   "cell_type": "markdown",
   "id": "3362b563",
   "metadata": {},
   "source": [
    "### Age(Numerical)\n",
    "\n"
   ]
  },
  {
   "cell_type": "code",
   "execution_count": 565,
   "id": "46d55a88",
   "metadata": {},
   "outputs": [
    {
     "data": {
      "text/plain": [
       "0.0     13808\n",
       "46.0     2136\n",
       "42.0     2056\n",
       "50.0     2051\n",
       "48.0     2035\n",
       "44.0     2019\n",
       "40.0     1965\n",
       "38.0     1951\n",
       "52.0     1950\n",
       "36.0     1875\n",
       "30.0     1866\n",
       "32.0     1816\n",
       "34.0     1812\n",
       "54.0     1705\n",
       "28.0     1642\n",
       "26.0     1384\n",
       "56.0     1372\n",
       "58.0     1229\n",
       "24.0      853\n",
       "60.0      804\n",
       "22.0      535\n",
       "62.0      476\n",
       "64.0      399\n",
       "66.0      303\n",
       "68.0      277\n",
       "20.0      255\n",
       "70.0      246\n",
       "72.0      224\n",
       "74.0      165\n",
       "76.0      137\n",
       "78.0      102\n",
       "80.0       81\n",
       "82.0       54\n",
       "84.0       44\n",
       "18.0       44\n",
       "86.0       29\n",
       "88.0       23\n",
       "90.0       12\n",
       "94.0        7\n",
       "92.0        6\n",
       "98.0        2\n",
       "96.0        1\n",
       "99.0        1\n",
       "Name: Age, dtype: int64"
      ]
     },
     "execution_count": 565,
     "metadata": {},
     "output_type": "execute_result"
    }
   ],
   "source": [
    "data.Age.value_counts()\n",
    "# we have 13808 value with 0 which is missing value so we need to\n",
    "#complete missing values because the number is so high\n"
   ]
  },
  {
   "cell_type": "code",
   "execution_count": 566,
   "id": "18a580b6",
   "metadata": {},
   "outputs": [
    {
     "data": {
      "text/plain": [
       "(35944, 57)"
      ]
     },
     "execution_count": 566,
     "metadata": {},
     "output_type": "execute_result"
    }
   ],
   "source": [
    "# Becuse we have lots of 0 in data we dont want to change the value of them so we change 0 value with 0.0001\n",
    "# to just calculate missging value for Age 0\n",
    "data=data[data['Age']!=0]\n",
    "data.shape"
   ]
  },
  {
   "cell_type": "markdown",
   "id": "9a85beb0",
   "metadata": {},
   "source": [
    "### HandsetPrice"
   ]
  },
  {
   "cell_type": "code",
   "execution_count": 567,
   "id": "4fc0329a",
   "metadata": {},
   "outputs": [],
   "source": [
    "# we have 28150 Unkonwn value so we can use KNNImputer for completeing this part of data\n",
    "data.HandsetPrice.value_counts()\n",
    "# this field should be numercial but becuase we have unknown in values so this feature is obejct\n",
    "# we need to change that in order to input numericla value\n",
    "# repalce Unkonwn with value which is not in data like 100000, so we are going to predict values for those one\n",
    "data['HandsetPrice'] = data['HandsetPrice'].replace(\"Unknown\",100000)\n",
    "data['HandsetPrice'] = data['HandsetPrice'].astype('int64')\n",
    "data[['HandsetPrice','CustomerID']].sort_values(by='HandsetPrice' ,ascending=False)\n",
    "numerical=data.select_dtypes(['int64', 'float64'])\n",
    "numerical=numerical.drop('CustomerID' ,axis=1)"
   ]
  },
  {
   "cell_type": "code",
   "execution_count": 568,
   "id": "d54ddcf9",
   "metadata": {},
   "outputs": [],
   "source": [
    "cols_backup = numerical.columns\n",
    "imputer=KNNImputer(missing_values=100000, n_neighbors=10, weights='uniform')\n",
    "imputed_data = imputer.fit_transform(numerical)\n",
    "numerical= pd.DataFrame(data=imputed_data, columns=cols_backup)"
   ]
  },
  {
   "cell_type": "code",
   "execution_count": 569,
   "id": "cda28bfe",
   "metadata": {},
   "outputs": [
    {
     "data": {
      "text/plain": [
       "(35944, 34)"
      ]
     },
     "execution_count": 569,
     "metadata": {},
     "output_type": "execute_result"
    }
   ],
   "source": [
    "numerical.shape"
   ]
  },
  {
   "cell_type": "code",
   "execution_count": 570,
   "id": "ada1fc19",
   "metadata": {},
   "outputs": [
    {
     "data": {
      "text/html": [
       "<div>\n",
       "<style scoped>\n",
       "    .dataframe tbody tr th:only-of-type {\n",
       "        vertical-align: middle;\n",
       "    }\n",
       "\n",
       "    .dataframe tbody tr th {\n",
       "        vertical-align: top;\n",
       "    }\n",
       "\n",
       "    .dataframe thead th {\n",
       "        text-align: right;\n",
       "    }\n",
       "</style>\n",
       "<table border=\"1\" class=\"dataframe\">\n",
       "  <thead>\n",
       "    <tr style=\"text-align: right;\">\n",
       "      <th></th>\n",
       "      <th>HandsetPrice</th>\n",
       "    </tr>\n",
       "  </thead>\n",
       "  <tbody>\n",
       "    <tr>\n",
       "      <th>32108</th>\n",
       "      <td>500.0</td>\n",
       "    </tr>\n",
       "    <tr>\n",
       "      <th>25201</th>\n",
       "      <td>500.0</td>\n",
       "    </tr>\n",
       "    <tr>\n",
       "      <th>33930</th>\n",
       "      <td>500.0</td>\n",
       "    </tr>\n",
       "    <tr>\n",
       "      <th>34631</th>\n",
       "      <td>500.0</td>\n",
       "    </tr>\n",
       "    <tr>\n",
       "      <th>35833</th>\n",
       "      <td>400.0</td>\n",
       "    </tr>\n",
       "    <tr>\n",
       "      <th>...</th>\n",
       "      <td>...</td>\n",
       "    </tr>\n",
       "    <tr>\n",
       "      <th>1147</th>\n",
       "      <td>10.0</td>\n",
       "    </tr>\n",
       "    <tr>\n",
       "      <th>1148</th>\n",
       "      <td>10.0</td>\n",
       "    </tr>\n",
       "    <tr>\n",
       "      <th>5997</th>\n",
       "      <td>10.0</td>\n",
       "    </tr>\n",
       "    <tr>\n",
       "      <th>24242</th>\n",
       "      <td>10.0</td>\n",
       "    </tr>\n",
       "    <tr>\n",
       "      <th>19934</th>\n",
       "      <td>10.0</td>\n",
       "    </tr>\n",
       "  </tbody>\n",
       "</table>\n",
       "<p>35944 rows × 1 columns</p>\n",
       "</div>"
      ],
      "text/plain": [
       "       HandsetPrice\n",
       "32108         500.0\n",
       "25201         500.0\n",
       "33930         500.0\n",
       "34631         500.0\n",
       "35833         400.0\n",
       "...             ...\n",
       "1147           10.0\n",
       "1148           10.0\n",
       "5997           10.0\n",
       "24242          10.0\n",
       "19934          10.0\n",
       "\n",
       "[35944 rows x 1 columns]"
      ]
     },
     "execution_count": 570,
     "metadata": {},
     "output_type": "execute_result"
    }
   ],
   "source": [
    "numerical[['HandsetPrice']].sort_values(by='HandsetPrice',ascending=False)"
   ]
  },
  {
   "cell_type": "code",
   "execution_count": 571,
   "id": "f754306b",
   "metadata": {},
   "outputs": [
    {
     "data": {
      "text/plain": [
       "(35944, 57)"
      ]
     },
     "execution_count": 571,
     "metadata": {},
     "output_type": "execute_result"
    }
   ],
   "source": [
    "# Repalcing Data of HandsetPrice with imputer data\n",
    "data.loc[data.index.isin(numerical.index),'HandsetPrice'] = numerical.HandsetPrice\n",
    "data.shape"
   ]
  },
  {
   "cell_type": "code",
   "execution_count": 572,
   "id": "6e898601",
   "metadata": {},
   "outputs": [
    {
     "data": {
      "text/plain": [
       "(3888, 57)"
      ]
     },
     "execution_count": 572,
     "metadata": {},
     "output_type": "execute_result"
    }
   ],
   "source": [
    "data[data['HandsetPrice']==100000].shape"
   ]
  },
  {
   "cell_type": "code",
   "execution_count": 573,
   "id": "5ce66256",
   "metadata": {},
   "outputs": [
    {
     "data": {
      "text/html": [
       "<div>\n",
       "<style scoped>\n",
       "    .dataframe tbody tr th:only-of-type {\n",
       "        vertical-align: middle;\n",
       "    }\n",
       "\n",
       "    .dataframe tbody tr th {\n",
       "        vertical-align: top;\n",
       "    }\n",
       "\n",
       "    .dataframe thead th {\n",
       "        text-align: right;\n",
       "    }\n",
       "</style>\n",
       "<table border=\"1\" class=\"dataframe\">\n",
       "  <thead>\n",
       "    <tr style=\"text-align: right;\">\n",
       "      <th></th>\n",
       "      <th>CustomerID</th>\n",
       "      <th>HandsetPrice</th>\n",
       "    </tr>\n",
       "  </thead>\n",
       "  <tbody>\n",
       "    <tr>\n",
       "      <th>1</th>\n",
       "      <td>3265738</td>\n",
       "      <td>30.0</td>\n",
       "    </tr>\n",
       "    <tr>\n",
       "      <th>6</th>\n",
       "      <td>3391282</td>\n",
       "      <td>20.0</td>\n",
       "    </tr>\n",
       "    <tr>\n",
       "      <th>7</th>\n",
       "      <td>3391442</td>\n",
       "      <td>40.0</td>\n",
       "    </tr>\n",
       "    <tr>\n",
       "      <th>8</th>\n",
       "      <td>3399894</td>\n",
       "      <td>30.0</td>\n",
       "    </tr>\n",
       "    <tr>\n",
       "      <th>11</th>\n",
       "      <td>3391058</td>\n",
       "      <td>30.0</td>\n",
       "    </tr>\n",
       "    <tr>\n",
       "      <th>...</th>\n",
       "      <td>...</td>\n",
       "      <td>...</td>\n",
       "    </tr>\n",
       "    <tr>\n",
       "      <th>50873</th>\n",
       "      <td>3002606</td>\n",
       "      <td>10.0</td>\n",
       "    </tr>\n",
       "    <tr>\n",
       "      <th>50879</th>\n",
       "      <td>3196882</td>\n",
       "      <td>100.0</td>\n",
       "    </tr>\n",
       "    <tr>\n",
       "      <th>50881</th>\n",
       "      <td>3162914</td>\n",
       "      <td>80.0</td>\n",
       "    </tr>\n",
       "    <tr>\n",
       "      <th>50882</th>\n",
       "      <td>3300310</td>\n",
       "      <td>100.0</td>\n",
       "    </tr>\n",
       "    <tr>\n",
       "      <th>50887</th>\n",
       "      <td>3059858</td>\n",
       "      <td>100.0</td>\n",
       "    </tr>\n",
       "  </tbody>\n",
       "</table>\n",
       "<p>32056 rows × 2 columns</p>\n",
       "</div>"
      ],
      "text/plain": [
       "       CustomerID  HandsetPrice\n",
       "1         3265738          30.0\n",
       "6         3391282          20.0\n",
       "7         3391442          40.0\n",
       "8         3399894          30.0\n",
       "11        3391058          30.0\n",
       "...           ...           ...\n",
       "50873     3002606          10.0\n",
       "50879     3196882         100.0\n",
       "50881     3162914          80.0\n",
       "50882     3300310         100.0\n",
       "50887     3059858         100.0\n",
       "\n",
       "[32056 rows x 2 columns]"
      ]
     },
     "execution_count": 573,
     "metadata": {},
     "output_type": "execute_result"
    }
   ],
   "source": [
    "# we still have 312 row which KNN couldn't replace values so we delete them\n",
    "data[['HandsetPrice','CustomerID']].sort_values(by='HandsetPrice',ascending=False)\n",
    "data=data[data['HandsetPrice']!=100000]\n",
    "# based on data of this column, the mod 10 of all values were 0 so we need to change these new value of missing data to obay the currnt rule\n",
    "data['HandsetPrice'].apply(np.ceil)\n",
    "data['HandsetPrice']=data['HandsetPrice']-np.mod(data['HandsetPrice'],10)\n",
    "data[['CustomerID','HandsetPrice']]"
   ]
  },
  {
   "cell_type": "markdown",
   "id": "227acef7",
   "metadata": {},
   "source": [
    "## Changing the Numerical ordinal to Num ordinal"
   ]
  },
  {
   "cell_type": "code",
   "execution_count": 574,
   "id": "2b2d6a6c",
   "metadata": {},
   "outputs": [
    {
     "data": {
      "text/plain": [
       "2-High       12924\n",
       "1-Highest     6659\n",
       "3-Good        5165\n",
       "5-Low         3164\n",
       "4-Medium      2928\n",
       "7-Lowest       695\n",
       "6-VeryLow      521\n",
       "Name: CreditRating, dtype: int64"
      ]
     },
     "execution_count": 574,
     "metadata": {},
     "output_type": "execute_result"
    }
   ],
   "source": [
    "data['CreditRating'].value_counts()"
   ]
  },
  {
   "cell_type": "markdown",
   "id": "47e1df5e",
   "metadata": {},
   "source": [
    "### CreditRating"
   ]
  },
  {
   "cell_type": "code",
   "execution_count": 575,
   "id": "9d1fe9c3",
   "metadata": {},
   "outputs": [
    {
     "data": {
      "text/plain": [
       "6    12924\n",
       "7     6659\n",
       "5     5165\n",
       "3     3164\n",
       "4     2928\n",
       "1      695\n",
       "2      521\n",
       "Name: CreditRating, dtype: int64"
      ]
     },
     "execution_count": 575,
     "metadata": {},
     "output_type": "execute_result"
    }
   ],
   "source": [
    "# creditRating Could be Numercial Ordinal so we can make it Numercical\n",
    "def creditrating(x):\n",
    "    if x ==\"7-Lowest\":\n",
    "        return 1\n",
    "    elif x ==\"6-VeryLow\":\n",
    "        return 2\n",
    "    elif x ==\"5-Low\":\n",
    "        return 3\n",
    "    elif x ==\"4-Medium\":\n",
    "        return 4\n",
    "    elif x ==\"3-Good\":\n",
    "        return 5\n",
    "    elif x ==\"2-High\":\n",
    "        return 6\n",
    "    elif x ==\"1-Highest\":\n",
    "        return 7\n",
    "    else:\n",
    "        return x   \n",
    "data['CreditRating']=data['CreditRating'].apply(creditrating)\n",
    "data['CreditRating'].value_counts()"
   ]
  },
  {
   "cell_type": "code",
   "execution_count": 576,
   "id": "dbad53fa",
   "metadata": {},
   "outputs": [
    {
     "name": "stdout",
     "output_type": "stream",
     "text": [
      "<class 'pandas.core.frame.DataFrame'>\n",
      "Int64Index: 32056 entries, 1 to 50887\n",
      "Data columns (total 28 columns):\n",
      " #   Column                     Non-Null Count  Dtype \n",
      "---  ------                     --------------  ----- \n",
      " 0   Churn                      32056 non-null  object\n",
      " 1   ServiceArea                32056 non-null  object\n",
      " 2   ChildrenInHH               32056 non-null  object\n",
      " 3   HandsetRefurbished         32056 non-null  object\n",
      " 4   HandsetWebCapable          32056 non-null  object\n",
      " 5   TruckOwner                 32056 non-null  object\n",
      " 6   RVOwner                    32056 non-null  object\n",
      " 7   Homeownership              32056 non-null  object\n",
      " 8   BuysViaMailOrder           32056 non-null  object\n",
      " 9   RespondsToMailOffers       32056 non-null  object\n",
      " 10  OptOutMailings             32056 non-null  object\n",
      " 11  NonUSTravel                32056 non-null  object\n",
      " 12  OwnsComputer               32056 non-null  object\n",
      " 13  HasCreditCard              32056 non-null  object\n",
      " 14  NewCellphoneUser           32056 non-null  object\n",
      " 15  NotNewCellphoneUser        32056 non-null  object\n",
      " 16  OwnsMotorcycle             32056 non-null  object\n",
      " 17  MadeCallToRetentionTeam    32056 non-null  object\n",
      " 18  PrizmCode                  32056 non-null  object\n",
      " 19  Occupation                 32056 non-null  object\n",
      " 20  MaritalStatus              32056 non-null  object\n",
      " 21  Handsets                   32056 non-null  object\n",
      " 22  HandsetModels              32056 non-null  object\n",
      " 23  RetentionCalls             32056 non-null  object\n",
      " 24  RetentionOffersAccepted    32056 non-null  object\n",
      " 25  ReferralsMadeBySubscriber  32056 non-null  object\n",
      " 26  AdjustmentsToCreditRating  32056 non-null  object\n",
      " 27  CreditRating               32056 non-null  object\n",
      "dtypes: object(28)\n",
      "memory usage: 8.1+ MB\n"
     ]
    }
   ],
   "source": [
    "categorical.info()"
   ]
  },
  {
   "cell_type": "code",
   "execution_count": 577,
   "id": "9adb2cf0",
   "metadata": {},
   "outputs": [],
   "source": [
    "# Handsets ,HandsetModels,RetentionCall,RetentionOffersAccepted,ReferralsMadeBySubscriber are ordinal\n",
    "categorical=data.select_dtypes(['object'])\n",
    "numerical=data.select_dtypes(['int64','float64'])\n",
    "numerical=numerical.drop('CustomerID',axis=1)\n",
    "\n",
    "categorical=pd.concat([categorical,data[['Handsets',\n",
    "                                         'HandsetModels',\n",
    "                                         'RetentionCalls',\n",
    "                                         'RetentionOffersAccepted',\n",
    "                                         'ReferralsMadeBySubscriber',\n",
    "                                         'AdjustmentsToCreditRating',\n",
    "                                         'CreditRating' ]]], axis=1)\n",
    "numerical=numerical.drop(numerical[['Handsets',\n",
    "                                       'HandsetModels',\n",
    "                                       'RetentionCalls',\n",
    "                                       'RetentionOffersAccepted',\n",
    "                                       'ReferralsMadeBySubscriber',\n",
    "                                       'AdjustmentsToCreditRating',\n",
    "                                       'CreditRating']], axis=1)"
   ]
  },
  {
   "cell_type": "code",
   "execution_count": 578,
   "id": "ab7d836f",
   "metadata": {},
   "outputs": [
    {
     "name": "stdout",
     "output_type": "stream",
     "text": [
      "1\n"
     ]
    }
   ],
   "source": [
    "categorical[['Handsets',\n",
    "            'HandsetModels',\n",
    "            'RetentionCalls',\n",
    "            'RetentionOffersAccepted',\n",
    "            'ReferralsMadeBySubscriber',\n",
    "            'AdjustmentsToCreditRating',\n",
    "            'CreditRating']] = categorical[['Handsets',\n",
    "            'HandsetModels',\n",
    "            'RetentionCalls',\n",
    "            'RetentionOffersAccepted',\n",
    "            'ReferralsMadeBySubscriber',\n",
    "            'AdjustmentsToCreditRating',\n",
    "            'CreditRating']].astype('object')\n",
    "print(\"1\")\n"
   ]
  },
  {
   "cell_type": "code",
   "execution_count": null,
   "id": "b18c66fe",
   "metadata": {},
   "outputs": [],
   "source": []
  },
  {
   "cell_type": "raw",
   "id": "4d9cddac",
   "metadata": {},
   "source": [
    "categorical=data.select_dtypes(['object'])\n",
    "numerical=data.select_dtypes(['int64','float64'])\n",
    "numerical=numerical.drop('CustomerID',axis=1)\n",
    "categorical.info()\n",
    "numerical.info()"
   ]
  },
  {
   "cell_type": "code",
   "execution_count": 579,
   "id": "ec91db50",
   "metadata": {},
   "outputs": [],
   "source": [
    "num_backup=numerical\n",
    "cat_backup=categorical"
   ]
  },
  {
   "cell_type": "code",
   "execution_count": 580,
   "id": "6c846d5c",
   "metadata": {},
   "outputs": [
    {
     "data": {
      "text/plain": [
       "(32056, 28)"
      ]
     },
     "execution_count": 580,
     "metadata": {},
     "output_type": "execute_result"
    }
   ],
   "source": [
    "numerical.shape"
   ]
  },
  {
   "cell_type": "code",
   "execution_count": 581,
   "id": "a4407507",
   "metadata": {},
   "outputs": [
    {
     "name": "stdout",
     "output_type": "stream",
     "text": [
      "<class 'pandas.core.frame.DataFrame'>\n",
      "Int64Index: 32056 entries, 1 to 50887\n",
      "Data columns (total 28 columns):\n",
      " #   Column                 Non-Null Count  Dtype  \n",
      "---  ------                 --------------  -----  \n",
      " 0   MonthlyRevenue         32056 non-null  float64\n",
      " 1   MonthlyMinutes         32056 non-null  float64\n",
      " 2   TotalRecurringCharge   32056 non-null  float64\n",
      " 3   DirectorAssistedCalls  32056 non-null  float64\n",
      " 4   OverageMinutes         32056 non-null  float64\n",
      " 5   RoamingCalls           32056 non-null  float64\n",
      " 6   PercChangeMinutes      32056 non-null  float64\n",
      " 7   PercChangeRevenues     32056 non-null  float64\n",
      " 8   DroppedCalls           32056 non-null  float64\n",
      " 9   BlockedCalls           32056 non-null  float64\n",
      " 10  UnansweredCalls        32056 non-null  float64\n",
      " 11  CustomerCareCalls      32056 non-null  float64\n",
      " 12  ThreewayCalls          32056 non-null  float64\n",
      " 13  ReceivedCalls          32056 non-null  float64\n",
      " 14  OutboundCalls          32056 non-null  float64\n",
      " 15  InboundCalls           32056 non-null  float64\n",
      " 16  PeakCallsInOut         32056 non-null  float64\n",
      " 17  OffPeakCallsInOut      32056 non-null  float64\n",
      " 18  DroppedBlockedCalls    32056 non-null  float64\n",
      " 19  CallForwardingCalls    32056 non-null  float64\n",
      " 20  CallWaitingCalls       32056 non-null  float64\n",
      " 21  MonthsInService        32056 non-null  int64  \n",
      " 22  UniqueSubs             32056 non-null  int64  \n",
      " 23  ActiveSubs             32056 non-null  int64  \n",
      " 24  CurrentEquipmentDays   32056 non-null  float64\n",
      " 25  Age                    32056 non-null  float64\n",
      " 26  IncomeGroup            32056 non-null  int64  \n",
      " 27  HandsetPrice           32056 non-null  float64\n",
      "dtypes: float64(24), int64(4)\n",
      "memory usage: 7.1 MB\n"
     ]
    }
   ],
   "source": [
    "numerical.info()"
   ]
  },
  {
   "cell_type": "code",
   "execution_count": 582,
   "id": "5201d3cb",
   "metadata": {},
   "outputs": [
    {
     "data": {
      "text/plain": [
       "(32056, 28)"
      ]
     },
     "execution_count": 582,
     "metadata": {},
     "output_type": "execute_result"
    }
   ],
   "source": [
    "categorical.shape"
   ]
  },
  {
   "cell_type": "code",
   "execution_count": 583,
   "id": "c5d57ac0",
   "metadata": {},
   "outputs": [
    {
     "name": "stdout",
     "output_type": "stream",
     "text": [
      "<class 'pandas.core.frame.DataFrame'>\n",
      "Int64Index: 32056 entries, 1 to 50887\n",
      "Data columns (total 28 columns):\n",
      " #   Column                     Non-Null Count  Dtype \n",
      "---  ------                     --------------  ----- \n",
      " 0   Churn                      32056 non-null  object\n",
      " 1   ServiceArea                32056 non-null  object\n",
      " 2   ChildrenInHH               32056 non-null  object\n",
      " 3   HandsetRefurbished         32056 non-null  object\n",
      " 4   HandsetWebCapable          32056 non-null  object\n",
      " 5   TruckOwner                 32056 non-null  object\n",
      " 6   RVOwner                    32056 non-null  object\n",
      " 7   Homeownership              32056 non-null  object\n",
      " 8   BuysViaMailOrder           32056 non-null  object\n",
      " 9   RespondsToMailOffers       32056 non-null  object\n",
      " 10  OptOutMailings             32056 non-null  object\n",
      " 11  NonUSTravel                32056 non-null  object\n",
      " 12  OwnsComputer               32056 non-null  object\n",
      " 13  HasCreditCard              32056 non-null  object\n",
      " 14  NewCellphoneUser           32056 non-null  object\n",
      " 15  NotNewCellphoneUser        32056 non-null  object\n",
      " 16  OwnsMotorcycle             32056 non-null  object\n",
      " 17  MadeCallToRetentionTeam    32056 non-null  object\n",
      " 18  PrizmCode                  32056 non-null  object\n",
      " 19  Occupation                 32056 non-null  object\n",
      " 20  MaritalStatus              32056 non-null  object\n",
      " 21  Handsets                   32056 non-null  object\n",
      " 22  HandsetModels              32056 non-null  object\n",
      " 23  RetentionCalls             32056 non-null  object\n",
      " 24  RetentionOffersAccepted    32056 non-null  object\n",
      " 25  ReferralsMadeBySubscriber  32056 non-null  object\n",
      " 26  AdjustmentsToCreditRating  32056 non-null  object\n",
      " 27  CreditRating               32056 non-null  object\n",
      "dtypes: object(28)\n",
      "memory usage: 7.1+ MB\n"
     ]
    }
   ],
   "source": [
    "categorical.info()"
   ]
  },
  {
   "cell_type": "code",
   "execution_count": 584,
   "id": "1284a72a",
   "metadata": {},
   "outputs": [
    {
     "name": "stdout",
     "output_type": "stream",
     "text": [
      "<class 'pandas.core.frame.DataFrame'>\n",
      "Int64Index: 32056 entries, 1 to 50887\n",
      "Data columns (total 28 columns):\n",
      " #   Column                     Non-Null Count  Dtype \n",
      "---  ------                     --------------  ----- \n",
      " 0   Churn                      32056 non-null  object\n",
      " 1   ServiceArea                32056 non-null  object\n",
      " 2   ChildrenInHH               32056 non-null  object\n",
      " 3   HandsetRefurbished         32056 non-null  object\n",
      " 4   HandsetWebCapable          32056 non-null  object\n",
      " 5   TruckOwner                 32056 non-null  object\n",
      " 6   RVOwner                    32056 non-null  object\n",
      " 7   Homeownership              32056 non-null  object\n",
      " 8   BuysViaMailOrder           32056 non-null  object\n",
      " 9   RespondsToMailOffers       32056 non-null  object\n",
      " 10  OptOutMailings             32056 non-null  object\n",
      " 11  NonUSTravel                32056 non-null  object\n",
      " 12  OwnsComputer               32056 non-null  object\n",
      " 13  HasCreditCard              32056 non-null  object\n",
      " 14  NewCellphoneUser           32056 non-null  object\n",
      " 15  NotNewCellphoneUser        32056 non-null  object\n",
      " 16  OwnsMotorcycle             32056 non-null  object\n",
      " 17  MadeCallToRetentionTeam    32056 non-null  object\n",
      " 18  PrizmCode                  32056 non-null  object\n",
      " 19  Occupation                 32056 non-null  object\n",
      " 20  MaritalStatus              32056 non-null  object\n",
      " 21  Handsets                   32056 non-null  object\n",
      " 22  HandsetModels              32056 non-null  object\n",
      " 23  RetentionCalls             32056 non-null  object\n",
      " 24  RetentionOffersAccepted    32056 non-null  object\n",
      " 25  ReferralsMadeBySubscriber  32056 non-null  object\n",
      " 26  AdjustmentsToCreditRating  32056 non-null  object\n",
      " 27  CreditRating               32056 non-null  object\n",
      "dtypes: object(28)\n",
      "memory usage: 7.1+ MB\n",
      "<class 'pandas.core.frame.DataFrame'>\n",
      "Int64Index: 32056 entries, 1 to 50887\n",
      "Data columns (total 28 columns):\n",
      " #   Column                 Non-Null Count  Dtype  \n",
      "---  ------                 --------------  -----  \n",
      " 0   MonthlyRevenue         32056 non-null  float64\n",
      " 1   MonthlyMinutes         32056 non-null  float64\n",
      " 2   TotalRecurringCharge   32056 non-null  float64\n",
      " 3   DirectorAssistedCalls  32056 non-null  float64\n",
      " 4   OverageMinutes         32056 non-null  float64\n",
      " 5   RoamingCalls           32056 non-null  float64\n",
      " 6   PercChangeMinutes      32056 non-null  float64\n",
      " 7   PercChangeRevenues     32056 non-null  float64\n",
      " 8   DroppedCalls           32056 non-null  float64\n",
      " 9   BlockedCalls           32056 non-null  float64\n",
      " 10  UnansweredCalls        32056 non-null  float64\n",
      " 11  CustomerCareCalls      32056 non-null  float64\n",
      " 12  ThreewayCalls          32056 non-null  float64\n",
      " 13  ReceivedCalls          32056 non-null  float64\n",
      " 14  OutboundCalls          32056 non-null  float64\n",
      " 15  InboundCalls           32056 non-null  float64\n",
      " 16  PeakCallsInOut         32056 non-null  float64\n",
      " 17  OffPeakCallsInOut      32056 non-null  float64\n",
      " 18  DroppedBlockedCalls    32056 non-null  float64\n",
      " 19  CallForwardingCalls    32056 non-null  float64\n",
      " 20  CallWaitingCalls       32056 non-null  float64\n",
      " 21  MonthsInService        32056 non-null  int64  \n",
      " 22  UniqueSubs             32056 non-null  int64  \n",
      " 23  ActiveSubs             32056 non-null  int64  \n",
      " 24  CurrentEquipmentDays   32056 non-null  float64\n",
      " 25  Age                    32056 non-null  float64\n",
      " 26  IncomeGroup            32056 non-null  int64  \n",
      " 27  HandsetPrice           32056 non-null  float64\n",
      "dtypes: float64(24), int64(4)\n",
      "memory usage: 7.1 MB\n"
     ]
    },
    {
     "data": {
      "text/html": [
       "<div>\n",
       "<style scoped>\n",
       "    .dataframe tbody tr th:only-of-type {\n",
       "        vertical-align: middle;\n",
       "    }\n",
       "\n",
       "    .dataframe tbody tr th {\n",
       "        vertical-align: top;\n",
       "    }\n",
       "\n",
       "    .dataframe thead th {\n",
       "        text-align: right;\n",
       "    }\n",
       "</style>\n",
       "<table border=\"1\" class=\"dataframe\">\n",
       "  <thead>\n",
       "    <tr style=\"text-align: right;\">\n",
       "      <th></th>\n",
       "      <th>count</th>\n",
       "      <th>mean</th>\n",
       "      <th>std</th>\n",
       "      <th>min</th>\n",
       "      <th>25%</th>\n",
       "      <th>50%</th>\n",
       "      <th>75%</th>\n",
       "      <th>max</th>\n",
       "    </tr>\n",
       "  </thead>\n",
       "  <tbody>\n",
       "    <tr>\n",
       "      <th>MonthlyRevenue</th>\n",
       "      <td>32056.0</td>\n",
       "      <td>51.307668</td>\n",
       "      <td>39.038464</td>\n",
       "      <td>-5.86</td>\n",
       "      <td>31.13</td>\n",
       "      <td>41.21</td>\n",
       "      <td>58.0525</td>\n",
       "      <td>855.50</td>\n",
       "    </tr>\n",
       "    <tr>\n",
       "      <th>MonthlyMinutes</th>\n",
       "      <td>32056.0</td>\n",
       "      <td>440.605472</td>\n",
       "      <td>485.432550</td>\n",
       "      <td>0.00</td>\n",
       "      <td>123.00</td>\n",
       "      <td>291.00</td>\n",
       "      <td>580.0000</td>\n",
       "      <td>6336.00</td>\n",
       "    </tr>\n",
       "    <tr>\n",
       "      <th>TotalRecurringCharge</th>\n",
       "      <td>32056.0</td>\n",
       "      <td>43.462877</td>\n",
       "      <td>22.598603</td>\n",
       "      <td>-5.00</td>\n",
       "      <td>30.00</td>\n",
       "      <td>41.00</td>\n",
       "      <td>50.0000</td>\n",
       "      <td>342.00</td>\n",
       "    </tr>\n",
       "    <tr>\n",
       "      <th>DirectorAssistedCalls</th>\n",
       "      <td>32056.0</td>\n",
       "      <td>0.753304</td>\n",
       "      <td>1.936352</td>\n",
       "      <td>0.00</td>\n",
       "      <td>0.00</td>\n",
       "      <td>0.00</td>\n",
       "      <td>0.7400</td>\n",
       "      <td>72.77</td>\n",
       "    </tr>\n",
       "    <tr>\n",
       "      <th>OverageMinutes</th>\n",
       "      <td>32056.0</td>\n",
       "      <td>29.095614</td>\n",
       "      <td>83.919467</td>\n",
       "      <td>0.00</td>\n",
       "      <td>0.00</td>\n",
       "      <td>0.00</td>\n",
       "      <td>25.0000</td>\n",
       "      <td>4321.00</td>\n",
       "    </tr>\n",
       "    <tr>\n",
       "      <th>RoamingCalls</th>\n",
       "      <td>32056.0</td>\n",
       "      <td>0.913726</td>\n",
       "      <td>6.922440</td>\n",
       "      <td>0.00</td>\n",
       "      <td>0.00</td>\n",
       "      <td>0.00</td>\n",
       "      <td>0.2000</td>\n",
       "      <td>692.40</td>\n",
       "    </tr>\n",
       "    <tr>\n",
       "      <th>PercChangeMinutes</th>\n",
       "      <td>32056.0</td>\n",
       "      <td>-7.370789</td>\n",
       "      <td>215.409016</td>\n",
       "      <td>-3875.00</td>\n",
       "      <td>-66.00</td>\n",
       "      <td>-4.00</td>\n",
       "      <td>54.0000</td>\n",
       "      <td>4480.00</td>\n",
       "    </tr>\n",
       "    <tr>\n",
       "      <th>PercChangeRevenues</th>\n",
       "      <td>32056.0</td>\n",
       "      <td>-1.048833</td>\n",
       "      <td>30.113752</td>\n",
       "      <td>-571.10</td>\n",
       "      <td>-4.80</td>\n",
       "      <td>-0.30</td>\n",
       "      <td>0.9000</td>\n",
       "      <td>868.20</td>\n",
       "    </tr>\n",
       "    <tr>\n",
       "      <th>DroppedCalls</th>\n",
       "      <td>32056.0</td>\n",
       "      <td>5.005628</td>\n",
       "      <td>7.743163</td>\n",
       "      <td>0.00</td>\n",
       "      <td>0.70</td>\n",
       "      <td>2.30</td>\n",
       "      <td>6.3000</td>\n",
       "      <td>145.30</td>\n",
       "    </tr>\n",
       "    <tr>\n",
       "      <th>BlockedCalls</th>\n",
       "      <td>32056.0</td>\n",
       "      <td>3.528269</td>\n",
       "      <td>9.750621</td>\n",
       "      <td>0.00</td>\n",
       "      <td>0.00</td>\n",
       "      <td>1.00</td>\n",
       "      <td>3.3000</td>\n",
       "      <td>324.70</td>\n",
       "    </tr>\n",
       "    <tr>\n",
       "      <th>UnansweredCalls</th>\n",
       "      <td>32056.0</td>\n",
       "      <td>24.211580</td>\n",
       "      <td>34.845077</td>\n",
       "      <td>0.00</td>\n",
       "      <td>4.30</td>\n",
       "      <td>13.30</td>\n",
       "      <td>30.7000</td>\n",
       "      <td>848.70</td>\n",
       "    </tr>\n",
       "    <tr>\n",
       "      <th>CustomerCareCalls</th>\n",
       "      <td>32056.0</td>\n",
       "      <td>1.476956</td>\n",
       "      <td>4.543875</td>\n",
       "      <td>0.00</td>\n",
       "      <td>0.00</td>\n",
       "      <td>0.00</td>\n",
       "      <td>1.0000</td>\n",
       "      <td>327.30</td>\n",
       "    </tr>\n",
       "    <tr>\n",
       "      <th>ThreewayCalls</th>\n",
       "      <td>32056.0</td>\n",
       "      <td>0.250618</td>\n",
       "      <td>1.125456</td>\n",
       "      <td>0.00</td>\n",
       "      <td>0.00</td>\n",
       "      <td>0.00</td>\n",
       "      <td>0.0000</td>\n",
       "      <td>66.00</td>\n",
       "    </tr>\n",
       "    <tr>\n",
       "      <th>ReceivedCalls</th>\n",
       "      <td>32056.0</td>\n",
       "      <td>93.054455</td>\n",
       "      <td>150.054889</td>\n",
       "      <td>0.00</td>\n",
       "      <td>4.80</td>\n",
       "      <td>36.00</td>\n",
       "      <td>115.9000</td>\n",
       "      <td>2619.30</td>\n",
       "    </tr>\n",
       "    <tr>\n",
       "      <th>OutboundCalls</th>\n",
       "      <td>32056.0</td>\n",
       "      <td>21.370499</td>\n",
       "      <td>31.765482</td>\n",
       "      <td>0.00</td>\n",
       "      <td>2.30</td>\n",
       "      <td>10.30</td>\n",
       "      <td>27.7000</td>\n",
       "      <td>644.30</td>\n",
       "    </tr>\n",
       "    <tr>\n",
       "      <th>InboundCalls</th>\n",
       "      <td>32056.0</td>\n",
       "      <td>6.859630</td>\n",
       "      <td>14.617461</td>\n",
       "      <td>0.00</td>\n",
       "      <td>0.00</td>\n",
       "      <td>1.30</td>\n",
       "      <td>7.3000</td>\n",
       "      <td>344.70</td>\n",
       "    </tr>\n",
       "    <tr>\n",
       "      <th>PeakCallsInOut</th>\n",
       "      <td>32056.0</td>\n",
       "      <td>78.884053</td>\n",
       "      <td>98.636949</td>\n",
       "      <td>0.00</td>\n",
       "      <td>18.30</td>\n",
       "      <td>51.70</td>\n",
       "      <td>102.7000</td>\n",
       "      <td>2090.70</td>\n",
       "    </tr>\n",
       "    <tr>\n",
       "      <th>OffPeakCallsInOut</th>\n",
       "      <td>32056.0</td>\n",
       "      <td>56.955001</td>\n",
       "      <td>84.059960</td>\n",
       "      <td>0.00</td>\n",
       "      <td>8.30</td>\n",
       "      <td>27.70</td>\n",
       "      <td>70.7000</td>\n",
       "      <td>1399.30</td>\n",
       "    </tr>\n",
       "    <tr>\n",
       "      <th>DroppedBlockedCalls</th>\n",
       "      <td>32056.0</td>\n",
       "      <td>8.580010</td>\n",
       "      <td>13.683243</td>\n",
       "      <td>0.00</td>\n",
       "      <td>1.30</td>\n",
       "      <td>4.30</td>\n",
       "      <td>10.3000</td>\n",
       "      <td>339.00</td>\n",
       "    </tr>\n",
       "    <tr>\n",
       "      <th>CallForwardingCalls</th>\n",
       "      <td>32056.0</td>\n",
       "      <td>0.010042</td>\n",
       "      <td>0.500776</td>\n",
       "      <td>0.00</td>\n",
       "      <td>0.00</td>\n",
       "      <td>0.00</td>\n",
       "      <td>0.0000</td>\n",
       "      <td>55.70</td>\n",
       "    </tr>\n",
       "    <tr>\n",
       "      <th>CallWaitingCalls</th>\n",
       "      <td>32056.0</td>\n",
       "      <td>1.517987</td>\n",
       "      <td>5.159329</td>\n",
       "      <td>0.00</td>\n",
       "      <td>0.00</td>\n",
       "      <td>0.00</td>\n",
       "      <td>1.0000</td>\n",
       "      <td>170.70</td>\n",
       "    </tr>\n",
       "    <tr>\n",
       "      <th>MonthsInService</th>\n",
       "      <td>32056.0</td>\n",
       "      <td>20.069191</td>\n",
       "      <td>10.087483</td>\n",
       "      <td>6.00</td>\n",
       "      <td>12.00</td>\n",
       "      <td>18.00</td>\n",
       "      <td>26.0000</td>\n",
       "      <td>61.00</td>\n",
       "    </tr>\n",
       "    <tr>\n",
       "      <th>UniqueSubs</th>\n",
       "      <td>32056.0</td>\n",
       "      <td>1.552689</td>\n",
       "      <td>0.864001</td>\n",
       "      <td>1.00</td>\n",
       "      <td>1.00</td>\n",
       "      <td>1.00</td>\n",
       "      <td>2.0000</td>\n",
       "      <td>13.00</td>\n",
       "    </tr>\n",
       "    <tr>\n",
       "      <th>ActiveSubs</th>\n",
       "      <td>32056.0</td>\n",
       "      <td>1.384671</td>\n",
       "      <td>0.644612</td>\n",
       "      <td>0.00</td>\n",
       "      <td>1.00</td>\n",
       "      <td>1.00</td>\n",
       "      <td>2.0000</td>\n",
       "      <td>8.00</td>\n",
       "    </tr>\n",
       "    <tr>\n",
       "      <th>CurrentEquipmentDays</th>\n",
       "      <td>32056.0</td>\n",
       "      <td>392.761355</td>\n",
       "      <td>266.834912</td>\n",
       "      <td>-5.00</td>\n",
       "      <td>202.00</td>\n",
       "      <td>339.00</td>\n",
       "      <td>549.0000</td>\n",
       "      <td>1812.00</td>\n",
       "    </tr>\n",
       "    <tr>\n",
       "      <th>Age</th>\n",
       "      <td>32056.0</td>\n",
       "      <td>43.596238</td>\n",
       "      <td>12.432043</td>\n",
       "      <td>18.00</td>\n",
       "      <td>34.00</td>\n",
       "      <td>44.00</td>\n",
       "      <td>52.0000</td>\n",
       "      <td>99.00</td>\n",
       "    </tr>\n",
       "    <tr>\n",
       "      <th>IncomeGroup</th>\n",
       "      <td>32056.0</td>\n",
       "      <td>5.731844</td>\n",
       "      <td>2.268878</td>\n",
       "      <td>0.00</td>\n",
       "      <td>4.00</td>\n",
       "      <td>6.00</td>\n",
       "      <td>7.0000</td>\n",
       "      <td>9.00</td>\n",
       "    </tr>\n",
       "    <tr>\n",
       "      <th>HandsetPrice</th>\n",
       "      <td>32056.0</td>\n",
       "      <td>70.504430</td>\n",
       "      <td>48.763511</td>\n",
       "      <td>10.00</td>\n",
       "      <td>30.00</td>\n",
       "      <td>60.00</td>\n",
       "      <td>90.0000</td>\n",
       "      <td>500.00</td>\n",
       "    </tr>\n",
       "  </tbody>\n",
       "</table>\n",
       "</div>"
      ],
      "text/plain": [
       "                         count        mean         std      min     25%  \\\n",
       "MonthlyRevenue         32056.0   51.307668   39.038464    -5.86   31.13   \n",
       "MonthlyMinutes         32056.0  440.605472  485.432550     0.00  123.00   \n",
       "TotalRecurringCharge   32056.0   43.462877   22.598603    -5.00   30.00   \n",
       "DirectorAssistedCalls  32056.0    0.753304    1.936352     0.00    0.00   \n",
       "OverageMinutes         32056.0   29.095614   83.919467     0.00    0.00   \n",
       "RoamingCalls           32056.0    0.913726    6.922440     0.00    0.00   \n",
       "PercChangeMinutes      32056.0   -7.370789  215.409016 -3875.00  -66.00   \n",
       "PercChangeRevenues     32056.0   -1.048833   30.113752  -571.10   -4.80   \n",
       "DroppedCalls           32056.0    5.005628    7.743163     0.00    0.70   \n",
       "BlockedCalls           32056.0    3.528269    9.750621     0.00    0.00   \n",
       "UnansweredCalls        32056.0   24.211580   34.845077     0.00    4.30   \n",
       "CustomerCareCalls      32056.0    1.476956    4.543875     0.00    0.00   \n",
       "ThreewayCalls          32056.0    0.250618    1.125456     0.00    0.00   \n",
       "ReceivedCalls          32056.0   93.054455  150.054889     0.00    4.80   \n",
       "OutboundCalls          32056.0   21.370499   31.765482     0.00    2.30   \n",
       "InboundCalls           32056.0    6.859630   14.617461     0.00    0.00   \n",
       "PeakCallsInOut         32056.0   78.884053   98.636949     0.00   18.30   \n",
       "OffPeakCallsInOut      32056.0   56.955001   84.059960     0.00    8.30   \n",
       "DroppedBlockedCalls    32056.0    8.580010   13.683243     0.00    1.30   \n",
       "CallForwardingCalls    32056.0    0.010042    0.500776     0.00    0.00   \n",
       "CallWaitingCalls       32056.0    1.517987    5.159329     0.00    0.00   \n",
       "MonthsInService        32056.0   20.069191   10.087483     6.00   12.00   \n",
       "UniqueSubs             32056.0    1.552689    0.864001     1.00    1.00   \n",
       "ActiveSubs             32056.0    1.384671    0.644612     0.00    1.00   \n",
       "CurrentEquipmentDays   32056.0  392.761355  266.834912    -5.00  202.00   \n",
       "Age                    32056.0   43.596238   12.432043    18.00   34.00   \n",
       "IncomeGroup            32056.0    5.731844    2.268878     0.00    4.00   \n",
       "HandsetPrice           32056.0   70.504430   48.763511    10.00   30.00   \n",
       "\n",
       "                          50%       75%      max  \n",
       "MonthlyRevenue          41.21   58.0525   855.50  \n",
       "MonthlyMinutes         291.00  580.0000  6336.00  \n",
       "TotalRecurringCharge    41.00   50.0000   342.00  \n",
       "DirectorAssistedCalls    0.00    0.7400    72.77  \n",
       "OverageMinutes           0.00   25.0000  4321.00  \n",
       "RoamingCalls             0.00    0.2000   692.40  \n",
       "PercChangeMinutes       -4.00   54.0000  4480.00  \n",
       "PercChangeRevenues      -0.30    0.9000   868.20  \n",
       "DroppedCalls             2.30    6.3000   145.30  \n",
       "BlockedCalls             1.00    3.3000   324.70  \n",
       "UnansweredCalls         13.30   30.7000   848.70  \n",
       "CustomerCareCalls        0.00    1.0000   327.30  \n",
       "ThreewayCalls            0.00    0.0000    66.00  \n",
       "ReceivedCalls           36.00  115.9000  2619.30  \n",
       "OutboundCalls           10.30   27.7000   644.30  \n",
       "InboundCalls             1.30    7.3000   344.70  \n",
       "PeakCallsInOut          51.70  102.7000  2090.70  \n",
       "OffPeakCallsInOut       27.70   70.7000  1399.30  \n",
       "DroppedBlockedCalls      4.30   10.3000   339.00  \n",
       "CallForwardingCalls      0.00    0.0000    55.70  \n",
       "CallWaitingCalls         0.00    1.0000   170.70  \n",
       "MonthsInService         18.00   26.0000    61.00  \n",
       "UniqueSubs               1.00    2.0000    13.00  \n",
       "ActiveSubs               1.00    2.0000     8.00  \n",
       "CurrentEquipmentDays   339.00  549.0000  1812.00  \n",
       "Age                     44.00   52.0000    99.00  \n",
       "IncomeGroup              6.00    7.0000     9.00  \n",
       "HandsetPrice            60.00   90.0000   500.00  "
      ]
     },
     "execution_count": 584,
     "metadata": {},
     "output_type": "execute_result"
    }
   ],
   "source": [
    "categorical.info()\n",
    "numerical.info()\n",
    "numerical.describe().T"
   ]
  },
  {
   "cell_type": "code",
   "execution_count": 585,
   "id": "1ab0c8f0",
   "metadata": {},
   "outputs": [
    {
     "data": {
      "text/plain": [
       "Index(['MonthlyRevenue', 'MonthlyMinutes', 'TotalRecurringCharge',\n",
       "       'DirectorAssistedCalls', 'OverageMinutes', 'RoamingCalls',\n",
       "       'PercChangeMinutes', 'PercChangeRevenues', 'DroppedCalls',\n",
       "       'BlockedCalls', 'UnansweredCalls', 'CustomerCareCalls', 'ThreewayCalls',\n",
       "       'ReceivedCalls', 'OutboundCalls', 'InboundCalls', 'PeakCallsInOut',\n",
       "       'OffPeakCallsInOut', 'DroppedBlockedCalls', 'CallForwardingCalls',\n",
       "       'CallWaitingCalls', 'MonthsInService', 'UniqueSubs', 'ActiveSubs',\n",
       "       'CurrentEquipmentDays', 'Age', 'IncomeGroup', 'HandsetPrice'],\n",
       "      dtype='object')"
      ]
     },
     "execution_count": 585,
     "metadata": {},
     "output_type": "execute_result"
    }
   ],
   "source": [
    "numerical.columns"
   ]
  },
  {
   "cell_type": "markdown",
   "id": "d9d3ec6d",
   "metadata": {},
   "source": [
    "## Removing multicollinearity"
   ]
  },
  {
   "cell_type": "code",
   "execution_count": 586,
   "id": "7085acec",
   "metadata": {},
   "outputs": [
    {
     "name": "stderr",
     "output_type": "stream",
     "text": [
      "/var/folders/_z/gw3f_k0d08zctss1m54yb4pc0000gn/T/ipykernel_32268/3183272961.py:18: SettingWithCopyWarning: \n",
      "A value is trying to be set on a copy of a slice from a DataFrame.\n",
      "Try using .loc[row_indexer,col_indexer] = value instead\n",
      "\n",
      "See the caveats in the documentation: https://pandas.pydata.org/pandas-docs/stable/user_guide/indexing.html#returning-a-view-versus-a-copy\n",
      "  X['intercept'] = 1\n"
     ]
    },
    {
     "data": {
      "text/html": [
       "<div>\n",
       "<style scoped>\n",
       "    .dataframe tbody tr th:only-of-type {\n",
       "        vertical-align: middle;\n",
       "    }\n",
       "\n",
       "    .dataframe tbody tr th {\n",
       "        vertical-align: top;\n",
       "    }\n",
       "\n",
       "    .dataframe thead th {\n",
       "        text-align: right;\n",
       "    }\n",
       "</style>\n",
       "<table border=\"1\" class=\"dataframe\">\n",
       "  <thead>\n",
       "    <tr style=\"text-align: right;\">\n",
       "      <th></th>\n",
       "      <th>Variable</th>\n",
       "      <th>VIF</th>\n",
       "    </tr>\n",
       "  </thead>\n",
       "  <tbody>\n",
       "    <tr>\n",
       "      <th>18</th>\n",
       "      <td>DroppedBlockedCalls</td>\n",
       "      <td>352.417271</td>\n",
       "    </tr>\n",
       "    <tr>\n",
       "      <th>9</th>\n",
       "      <td>BlockedCalls</td>\n",
       "      <td>183.446621</td>\n",
       "    </tr>\n",
       "    <tr>\n",
       "      <th>8</th>\n",
       "      <td>DroppedCalls</td>\n",
       "      <td>115.361091</td>\n",
       "    </tr>\n",
       "    <tr>\n",
       "      <th>0</th>\n",
       "      <td>MonthlyRevenue</td>\n",
       "      <td>10.436602</td>\n",
       "    </tr>\n",
       "    <tr>\n",
       "      <th>1</th>\n",
       "      <td>MonthlyMinutes</td>\n",
       "      <td>6.581934</td>\n",
       "    </tr>\n",
       "    <tr>\n",
       "      <th>4</th>\n",
       "      <td>OverageMinutes</td>\n",
       "      <td>5.621825</td>\n",
       "    </tr>\n",
       "    <tr>\n",
       "      <th>25</th>\n",
       "      <td>HandsetModels</td>\n",
       "      <td>5.345846</td>\n",
       "    </tr>\n",
       "    <tr>\n",
       "      <th>17</th>\n",
       "      <td>OffPeakCallsInOut</td>\n",
       "      <td>5.099240</td>\n",
       "    </tr>\n",
       "    <tr>\n",
       "      <th>16</th>\n",
       "      <td>PeakCallsInOut</td>\n",
       "      <td>4.846852</td>\n",
       "    </tr>\n",
       "    <tr>\n",
       "      <th>24</th>\n",
       "      <td>Handsets</td>\n",
       "      <td>4.799646</td>\n",
       "    </tr>\n",
       "    <tr>\n",
       "      <th>13</th>\n",
       "      <td>ReceivedCalls</td>\n",
       "      <td>4.531384</td>\n",
       "    </tr>\n",
       "    <tr>\n",
       "      <th>2</th>\n",
       "      <td>TotalRecurringCharge</td>\n",
       "      <td>4.298577</td>\n",
       "    </tr>\n",
       "    <tr>\n",
       "      <th>14</th>\n",
       "      <td>OutboundCalls</td>\n",
       "      <td>3.629435</td>\n",
       "    </tr>\n",
       "    <tr>\n",
       "      <th>23</th>\n",
       "      <td>ActiveSubs</td>\n",
       "      <td>3.017471</td>\n",
       "    </tr>\n",
       "    <tr>\n",
       "      <th>22</th>\n",
       "      <td>UniqueSubs</td>\n",
       "      <td>2.953341</td>\n",
       "    </tr>\n",
       "    <tr>\n",
       "      <th>10</th>\n",
       "      <td>UnansweredCalls</td>\n",
       "      <td>2.772436</td>\n",
       "    </tr>\n",
       "    <tr>\n",
       "      <th>15</th>\n",
       "      <td>InboundCalls</td>\n",
       "      <td>2.585693</td>\n",
       "    </tr>\n",
       "    <tr>\n",
       "      <th>20</th>\n",
       "      <td>CallWaitingCalls</td>\n",
       "      <td>2.561315</td>\n",
       "    </tr>\n",
       "    <tr>\n",
       "      <th>21</th>\n",
       "      <td>MonthsInService</td>\n",
       "      <td>2.475939</td>\n",
       "    </tr>\n",
       "    <tr>\n",
       "      <th>26</th>\n",
       "      <td>CurrentEquipmentDays</td>\n",
       "      <td>2.406797</td>\n",
       "    </tr>\n",
       "    <tr>\n",
       "      <th>28</th>\n",
       "      <td>RetentionCalls</td>\n",
       "      <td>2.313254</td>\n",
       "    </tr>\n",
       "    <tr>\n",
       "      <th>29</th>\n",
       "      <td>RetentionOffersAccepted</td>\n",
       "      <td>2.301253</td>\n",
       "    </tr>\n",
       "    <tr>\n",
       "      <th>6</th>\n",
       "      <td>PercChangeMinutes</td>\n",
       "      <td>1.610274</td>\n",
       "    </tr>\n",
       "    <tr>\n",
       "      <th>7</th>\n",
       "      <td>PercChangeRevenues</td>\n",
       "      <td>1.574957</td>\n",
       "    </tr>\n",
       "    <tr>\n",
       "      <th>3</th>\n",
       "      <td>DirectorAssistedCalls</td>\n",
       "      <td>1.398450</td>\n",
       "    </tr>\n",
       "    <tr>\n",
       "      <th>5</th>\n",
       "      <td>RoamingCalls</td>\n",
       "      <td>1.376389</td>\n",
       "    </tr>\n",
       "    <tr>\n",
       "      <th>11</th>\n",
       "      <td>CustomerCareCalls</td>\n",
       "      <td>1.284965</td>\n",
       "    </tr>\n",
       "    <tr>\n",
       "      <th>12</th>\n",
       "      <td>ThreewayCalls</td>\n",
       "      <td>1.172976</td>\n",
       "    </tr>\n",
       "    <tr>\n",
       "      <th>33</th>\n",
       "      <td>HandsetPrice</td>\n",
       "      <td>1.074383</td>\n",
       "    </tr>\n",
       "    <tr>\n",
       "      <th>32</th>\n",
       "      <td>AdjustmentsToCreditRating</td>\n",
       "      <td>1.067088</td>\n",
       "    </tr>\n",
       "    <tr>\n",
       "      <th>31</th>\n",
       "      <td>IncomeGroup</td>\n",
       "      <td>1.067014</td>\n",
       "    </tr>\n",
       "    <tr>\n",
       "      <th>27</th>\n",
       "      <td>Age</td>\n",
       "      <td>1.039204</td>\n",
       "    </tr>\n",
       "    <tr>\n",
       "      <th>30</th>\n",
       "      <td>ReferralsMadeBySubscriber</td>\n",
       "      <td>1.016423</td>\n",
       "    </tr>\n",
       "    <tr>\n",
       "      <th>19</th>\n",
       "      <td>CallForwardingCalls</td>\n",
       "      <td>1.002196</td>\n",
       "    </tr>\n",
       "  </tbody>\n",
       "</table>\n",
       "</div>"
      ],
      "text/plain": [
       "                     Variable         VIF\n",
       "18        DroppedBlockedCalls  352.417271\n",
       "9                BlockedCalls  183.446621\n",
       "8                DroppedCalls  115.361091\n",
       "0              MonthlyRevenue   10.436602\n",
       "1              MonthlyMinutes    6.581934\n",
       "4              OverageMinutes    5.621825\n",
       "25              HandsetModels    5.345846\n",
       "17          OffPeakCallsInOut    5.099240\n",
       "16             PeakCallsInOut    4.846852\n",
       "24                   Handsets    4.799646\n",
       "13              ReceivedCalls    4.531384\n",
       "2        TotalRecurringCharge    4.298577\n",
       "14              OutboundCalls    3.629435\n",
       "23                 ActiveSubs    3.017471\n",
       "22                 UniqueSubs    2.953341\n",
       "10            UnansweredCalls    2.772436\n",
       "15               InboundCalls    2.585693\n",
       "20           CallWaitingCalls    2.561315\n",
       "21            MonthsInService    2.475939\n",
       "26       CurrentEquipmentDays    2.406797\n",
       "28             RetentionCalls    2.313254\n",
       "29    RetentionOffersAccepted    2.301253\n",
       "6           PercChangeMinutes    1.610274\n",
       "7          PercChangeRevenues    1.574957\n",
       "3       DirectorAssistedCalls    1.398450\n",
       "5                RoamingCalls    1.376389\n",
       "11          CustomerCareCalls    1.284965\n",
       "12              ThreewayCalls    1.172976\n",
       "33               HandsetPrice    1.074383\n",
       "32  AdjustmentsToCreditRating    1.067088\n",
       "31                IncomeGroup    1.067014\n",
       "27                        Age    1.039204\n",
       "30  ReferralsMadeBySubscriber    1.016423\n",
       "19        CallForwardingCalls    1.002196"
      ]
     },
     "execution_count": 586,
     "metadata": {},
     "output_type": "execute_result"
    }
   ],
   "source": [
    "# load statmodels functions\n",
    "col = numerical.columns\n",
    "considered_features = ['MonthlyRevenue', 'MonthlyMinutes', 'TotalRecurringCharge',\n",
    "       'DirectorAssistedCalls', 'OverageMinutes', 'RoamingCalls',\n",
    "       'PercChangeMinutes', 'PercChangeRevenues', 'DroppedCalls',\n",
    "       'BlockedCalls', 'UnansweredCalls', 'CustomerCareCalls', 'ThreewayCalls',\n",
    "       'ReceivedCalls', 'OutboundCalls', 'InboundCalls', 'PeakCallsInOut',\n",
    "       'OffPeakCallsInOut', 'DroppedBlockedCalls', 'CallForwardingCalls',\n",
    "       'CallWaitingCalls', 'MonthsInService', 'UniqueSubs', 'ActiveSubs',\n",
    "       'Handsets', 'HandsetModels', 'CurrentEquipmentDays', 'Age',\n",
    "       'RetentionCalls', 'RetentionOffersAccepted',\n",
    "       'ReferralsMadeBySubscriber', 'IncomeGroup', 'AdjustmentsToCreditRating',\n",
    "       'HandsetPrice']\n",
    "# compute the vif for all given features\n",
    "def compute_vif(considered_features):\n",
    "    X = data[considered_features]\n",
    "    # the calculation of variance inflation requires a constant\n",
    "    X['intercept'] = 1\n",
    "    # create dataframe to store vif values\n",
    "    vif = pd.DataFrame()\n",
    "    vif[\"Variable\"] = X.columns\n",
    "    vif[\"VIF\"] = [variance_inflation_factor(X.values, i) for i in range(X.shape[1])]\n",
    "    vif = vif[vif['Variable']!='intercept']\n",
    "    return vif\n",
    "compute_vif(considered_features)\n",
    "compute_vif(considered_features).sort_values('VIF', ascending=False)"
   ]
  },
  {
   "cell_type": "code",
   "execution_count": 587,
   "id": "1741e141",
   "metadata": {},
   "outputs": [
    {
     "name": "stderr",
     "output_type": "stream",
     "text": [
      "/var/folders/_z/gw3f_k0d08zctss1m54yb4pc0000gn/T/ipykernel_32268/3183272961.py:18: SettingWithCopyWarning: \n",
      "A value is trying to be set on a copy of a slice from a DataFrame.\n",
      "Try using .loc[row_indexer,col_indexer] = value instead\n",
      "\n",
      "See the caveats in the documentation: https://pandas.pydata.org/pandas-docs/stable/user_guide/indexing.html#returning-a-view-versus-a-copy\n",
      "  X['intercept'] = 1\n"
     ]
    },
    {
     "data": {
      "text/html": [
       "<div>\n",
       "<style scoped>\n",
       "    .dataframe tbody tr th:only-of-type {\n",
       "        vertical-align: middle;\n",
       "    }\n",
       "\n",
       "    .dataframe tbody tr th {\n",
       "        vertical-align: top;\n",
       "    }\n",
       "\n",
       "    .dataframe thead th {\n",
       "        text-align: right;\n",
       "    }\n",
       "</style>\n",
       "<table border=\"1\" class=\"dataframe\">\n",
       "  <thead>\n",
       "    <tr style=\"text-align: right;\">\n",
       "      <th></th>\n",
       "      <th>Variable</th>\n",
       "      <th>VIF</th>\n",
       "    </tr>\n",
       "  </thead>\n",
       "  <tbody>\n",
       "    <tr>\n",
       "      <th>0</th>\n",
       "      <td>MonthlyRevenue</td>\n",
       "      <td>10.435942</td>\n",
       "    </tr>\n",
       "    <tr>\n",
       "      <th>1</th>\n",
       "      <td>MonthlyMinutes</td>\n",
       "      <td>6.581686</td>\n",
       "    </tr>\n",
       "    <tr>\n",
       "      <th>4</th>\n",
       "      <td>OverageMinutes</td>\n",
       "      <td>5.621800</td>\n",
       "    </tr>\n",
       "    <tr>\n",
       "      <th>24</th>\n",
       "      <td>HandsetModels</td>\n",
       "      <td>5.345240</td>\n",
       "    </tr>\n",
       "    <tr>\n",
       "      <th>17</th>\n",
       "      <td>OffPeakCallsInOut</td>\n",
       "      <td>5.098717</td>\n",
       "    </tr>\n",
       "    <tr>\n",
       "      <th>16</th>\n",
       "      <td>PeakCallsInOut</td>\n",
       "      <td>4.844237</td>\n",
       "    </tr>\n",
       "    <tr>\n",
       "      <th>23</th>\n",
       "      <td>Handsets</td>\n",
       "      <td>4.799643</td>\n",
       "    </tr>\n",
       "    <tr>\n",
       "      <th>13</th>\n",
       "      <td>ReceivedCalls</td>\n",
       "      <td>4.531364</td>\n",
       "    </tr>\n",
       "    <tr>\n",
       "      <th>2</th>\n",
       "      <td>TotalRecurringCharge</td>\n",
       "      <td>4.298350</td>\n",
       "    </tr>\n",
       "    <tr>\n",
       "      <th>14</th>\n",
       "      <td>OutboundCalls</td>\n",
       "      <td>3.628657</td>\n",
       "    </tr>\n",
       "    <tr>\n",
       "      <th>22</th>\n",
       "      <td>ActiveSubs</td>\n",
       "      <td>3.017465</td>\n",
       "    </tr>\n",
       "    <tr>\n",
       "      <th>21</th>\n",
       "      <td>UniqueSubs</td>\n",
       "      <td>2.953222</td>\n",
       "    </tr>\n",
       "    <tr>\n",
       "      <th>10</th>\n",
       "      <td>UnansweredCalls</td>\n",
       "      <td>2.772416</td>\n",
       "    </tr>\n",
       "    <tr>\n",
       "      <th>15</th>\n",
       "      <td>InboundCalls</td>\n",
       "      <td>2.585691</td>\n",
       "    </tr>\n",
       "    <tr>\n",
       "      <th>19</th>\n",
       "      <td>CallWaitingCalls</td>\n",
       "      <td>2.561048</td>\n",
       "    </tr>\n",
       "    <tr>\n",
       "      <th>20</th>\n",
       "      <td>MonthsInService</td>\n",
       "      <td>2.475878</td>\n",
       "    </tr>\n",
       "    <tr>\n",
       "      <th>25</th>\n",
       "      <td>CurrentEquipmentDays</td>\n",
       "      <td>2.406795</td>\n",
       "    </tr>\n",
       "    <tr>\n",
       "      <th>27</th>\n",
       "      <td>RetentionCalls</td>\n",
       "      <td>2.313196</td>\n",
       "    </tr>\n",
       "    <tr>\n",
       "      <th>28</th>\n",
       "      <td>RetentionOffersAccepted</td>\n",
       "      <td>2.301245</td>\n",
       "    </tr>\n",
       "    <tr>\n",
       "      <th>8</th>\n",
       "      <td>DroppedCalls</td>\n",
       "      <td>1.980854</td>\n",
       "    </tr>\n",
       "    <tr>\n",
       "      <th>6</th>\n",
       "      <td>PercChangeMinutes</td>\n",
       "      <td>1.609870</td>\n",
       "    </tr>\n",
       "    <tr>\n",
       "      <th>7</th>\n",
       "      <td>PercChangeRevenues</td>\n",
       "      <td>1.574925</td>\n",
       "    </tr>\n",
       "    <tr>\n",
       "      <th>3</th>\n",
       "      <td>DirectorAssistedCalls</td>\n",
       "      <td>1.398299</td>\n",
       "    </tr>\n",
       "    <tr>\n",
       "      <th>5</th>\n",
       "      <td>RoamingCalls</td>\n",
       "      <td>1.376302</td>\n",
       "    </tr>\n",
       "    <tr>\n",
       "      <th>11</th>\n",
       "      <td>CustomerCareCalls</td>\n",
       "      <td>1.283925</td>\n",
       "    </tr>\n",
       "    <tr>\n",
       "      <th>9</th>\n",
       "      <td>BlockedCalls</td>\n",
       "      <td>1.223957</td>\n",
       "    </tr>\n",
       "    <tr>\n",
       "      <th>12</th>\n",
       "      <td>ThreewayCalls</td>\n",
       "      <td>1.172941</td>\n",
       "    </tr>\n",
       "    <tr>\n",
       "      <th>32</th>\n",
       "      <td>HandsetPrice</td>\n",
       "      <td>1.074224</td>\n",
       "    </tr>\n",
       "    <tr>\n",
       "      <th>31</th>\n",
       "      <td>AdjustmentsToCreditRating</td>\n",
       "      <td>1.067073</td>\n",
       "    </tr>\n",
       "    <tr>\n",
       "      <th>30</th>\n",
       "      <td>IncomeGroup</td>\n",
       "      <td>1.067014</td>\n",
       "    </tr>\n",
       "    <tr>\n",
       "      <th>26</th>\n",
       "      <td>Age</td>\n",
       "      <td>1.039202</td>\n",
       "    </tr>\n",
       "    <tr>\n",
       "      <th>29</th>\n",
       "      <td>ReferralsMadeBySubscriber</td>\n",
       "      <td>1.016416</td>\n",
       "    </tr>\n",
       "    <tr>\n",
       "      <th>18</th>\n",
       "      <td>CallForwardingCalls</td>\n",
       "      <td>1.002186</td>\n",
       "    </tr>\n",
       "  </tbody>\n",
       "</table>\n",
       "</div>"
      ],
      "text/plain": [
       "                     Variable        VIF\n",
       "0              MonthlyRevenue  10.435942\n",
       "1              MonthlyMinutes   6.581686\n",
       "4              OverageMinutes   5.621800\n",
       "24              HandsetModels   5.345240\n",
       "17          OffPeakCallsInOut   5.098717\n",
       "16             PeakCallsInOut   4.844237\n",
       "23                   Handsets   4.799643\n",
       "13              ReceivedCalls   4.531364\n",
       "2        TotalRecurringCharge   4.298350\n",
       "14              OutboundCalls   3.628657\n",
       "22                 ActiveSubs   3.017465\n",
       "21                 UniqueSubs   2.953222\n",
       "10            UnansweredCalls   2.772416\n",
       "15               InboundCalls   2.585691\n",
       "19           CallWaitingCalls   2.561048\n",
       "20            MonthsInService   2.475878\n",
       "25       CurrentEquipmentDays   2.406795\n",
       "27             RetentionCalls   2.313196\n",
       "28    RetentionOffersAccepted   2.301245\n",
       "8                DroppedCalls   1.980854\n",
       "6           PercChangeMinutes   1.609870\n",
       "7          PercChangeRevenues   1.574925\n",
       "3       DirectorAssistedCalls   1.398299\n",
       "5                RoamingCalls   1.376302\n",
       "11          CustomerCareCalls   1.283925\n",
       "9                BlockedCalls   1.223957\n",
       "12              ThreewayCalls   1.172941\n",
       "32               HandsetPrice   1.074224\n",
       "31  AdjustmentsToCreditRating   1.067073\n",
       "30                IncomeGroup   1.067014\n",
       "26                        Age   1.039202\n",
       "29  ReferralsMadeBySubscriber   1.016416\n",
       "18        CallForwardingCalls   1.002186"
      ]
     },
     "execution_count": 587,
     "metadata": {},
     "output_type": "execute_result"
    }
   ],
   "source": [
    "# the VIF of DroppedBlockedCalls is 283 so we remove it\n",
    "# compute vif values after removing a feature\n",
    "considered_features.remove('DroppedBlockedCalls')\n",
    "compute_vif(considered_features)\n",
    "compute_vif(considered_features).sort_values('VIF', ascending=False)"
   ]
  },
  {
   "cell_type": "code",
   "execution_count": 588,
   "id": "2c0b245b",
   "metadata": {},
   "outputs": [
    {
     "name": "stderr",
     "output_type": "stream",
     "text": [
      "/var/folders/_z/gw3f_k0d08zctss1m54yb4pc0000gn/T/ipykernel_32268/3183272961.py:18: SettingWithCopyWarning: \n",
      "A value is trying to be set on a copy of a slice from a DataFrame.\n",
      "Try using .loc[row_indexer,col_indexer] = value instead\n",
      "\n",
      "See the caveats in the documentation: https://pandas.pydata.org/pandas-docs/stable/user_guide/indexing.html#returning-a-view-versus-a-copy\n",
      "  X['intercept'] = 1\n"
     ]
    },
    {
     "data": {
      "text/html": [
       "<div>\n",
       "<style scoped>\n",
       "    .dataframe tbody tr th:only-of-type {\n",
       "        vertical-align: middle;\n",
       "    }\n",
       "\n",
       "    .dataframe tbody tr th {\n",
       "        vertical-align: top;\n",
       "    }\n",
       "\n",
       "    .dataframe thead th {\n",
       "        text-align: right;\n",
       "    }\n",
       "</style>\n",
       "<table border=\"1\" class=\"dataframe\">\n",
       "  <thead>\n",
       "    <tr style=\"text-align: right;\">\n",
       "      <th></th>\n",
       "      <th>Variable</th>\n",
       "      <th>VIF</th>\n",
       "    </tr>\n",
       "  </thead>\n",
       "  <tbody>\n",
       "    <tr>\n",
       "      <th>0</th>\n",
       "      <td>MonthlyMinutes</td>\n",
       "      <td>6.581409</td>\n",
       "    </tr>\n",
       "    <tr>\n",
       "      <th>23</th>\n",
       "      <td>HandsetModels</td>\n",
       "      <td>5.344425</td>\n",
       "    </tr>\n",
       "    <tr>\n",
       "      <th>16</th>\n",
       "      <td>OffPeakCallsInOut</td>\n",
       "      <td>5.064744</td>\n",
       "    </tr>\n",
       "    <tr>\n",
       "      <th>15</th>\n",
       "      <td>PeakCallsInOut</td>\n",
       "      <td>4.840692</td>\n",
       "    </tr>\n",
       "    <tr>\n",
       "      <th>22</th>\n",
       "      <td>Handsets</td>\n",
       "      <td>4.794587</td>\n",
       "    </tr>\n",
       "    <tr>\n",
       "      <th>12</th>\n",
       "      <td>ReceivedCalls</td>\n",
       "      <td>4.503178</td>\n",
       "    </tr>\n",
       "    <tr>\n",
       "      <th>13</th>\n",
       "      <td>OutboundCalls</td>\n",
       "      <td>3.623437</td>\n",
       "    </tr>\n",
       "    <tr>\n",
       "      <th>21</th>\n",
       "      <td>ActiveSubs</td>\n",
       "      <td>3.017083</td>\n",
       "    </tr>\n",
       "    <tr>\n",
       "      <th>20</th>\n",
       "      <td>UniqueSubs</td>\n",
       "      <td>2.953084</td>\n",
       "    </tr>\n",
       "    <tr>\n",
       "      <th>9</th>\n",
       "      <td>UnansweredCalls</td>\n",
       "      <td>2.770039</td>\n",
       "    </tr>\n",
       "    <tr>\n",
       "      <th>14</th>\n",
       "      <td>InboundCalls</td>\n",
       "      <td>2.585275</td>\n",
       "    </tr>\n",
       "    <tr>\n",
       "      <th>18</th>\n",
       "      <td>CallWaitingCalls</td>\n",
       "      <td>2.500647</td>\n",
       "    </tr>\n",
       "    <tr>\n",
       "      <th>19</th>\n",
       "      <td>MonthsInService</td>\n",
       "      <td>2.447484</td>\n",
       "    </tr>\n",
       "    <tr>\n",
       "      <th>24</th>\n",
       "      <td>CurrentEquipmentDays</td>\n",
       "      <td>2.402063</td>\n",
       "    </tr>\n",
       "    <tr>\n",
       "      <th>26</th>\n",
       "      <td>RetentionCalls</td>\n",
       "      <td>2.313058</td>\n",
       "    </tr>\n",
       "    <tr>\n",
       "      <th>27</th>\n",
       "      <td>RetentionOffersAccepted</td>\n",
       "      <td>2.301073</td>\n",
       "    </tr>\n",
       "    <tr>\n",
       "      <th>7</th>\n",
       "      <td>DroppedCalls</td>\n",
       "      <td>1.979757</td>\n",
       "    </tr>\n",
       "    <tr>\n",
       "      <th>1</th>\n",
       "      <td>TotalRecurringCharge</td>\n",
       "      <td>1.895870</td>\n",
       "    </tr>\n",
       "    <tr>\n",
       "      <th>3</th>\n",
       "      <td>OverageMinutes</td>\n",
       "      <td>1.833609</td>\n",
       "    </tr>\n",
       "    <tr>\n",
       "      <th>5</th>\n",
       "      <td>PercChangeMinutes</td>\n",
       "      <td>1.607518</td>\n",
       "    </tr>\n",
       "    <tr>\n",
       "      <th>6</th>\n",
       "      <td>PercChangeRevenues</td>\n",
       "      <td>1.574328</td>\n",
       "    </tr>\n",
       "    <tr>\n",
       "      <th>2</th>\n",
       "      <td>DirectorAssistedCalls</td>\n",
       "      <td>1.356013</td>\n",
       "    </tr>\n",
       "    <tr>\n",
       "      <th>10</th>\n",
       "      <td>CustomerCareCalls</td>\n",
       "      <td>1.283845</td>\n",
       "    </tr>\n",
       "    <tr>\n",
       "      <th>8</th>\n",
       "      <td>BlockedCalls</td>\n",
       "      <td>1.220625</td>\n",
       "    </tr>\n",
       "    <tr>\n",
       "      <th>11</th>\n",
       "      <td>ThreewayCalls</td>\n",
       "      <td>1.172938</td>\n",
       "    </tr>\n",
       "    <tr>\n",
       "      <th>31</th>\n",
       "      <td>HandsetPrice</td>\n",
       "      <td>1.069095</td>\n",
       "    </tr>\n",
       "    <tr>\n",
       "      <th>29</th>\n",
       "      <td>IncomeGroup</td>\n",
       "      <td>1.067000</td>\n",
       "    </tr>\n",
       "    <tr>\n",
       "      <th>30</th>\n",
       "      <td>AdjustmentsToCreditRating</td>\n",
       "      <td>1.065779</td>\n",
       "    </tr>\n",
       "    <tr>\n",
       "      <th>4</th>\n",
       "      <td>RoamingCalls</td>\n",
       "      <td>1.041741</td>\n",
       "    </tr>\n",
       "    <tr>\n",
       "      <th>25</th>\n",
       "      <td>Age</td>\n",
       "      <td>1.038883</td>\n",
       "    </tr>\n",
       "    <tr>\n",
       "      <th>28</th>\n",
       "      <td>ReferralsMadeBySubscriber</td>\n",
       "      <td>1.015750</td>\n",
       "    </tr>\n",
       "    <tr>\n",
       "      <th>17</th>\n",
       "      <td>CallForwardingCalls</td>\n",
       "      <td>1.002185</td>\n",
       "    </tr>\n",
       "  </tbody>\n",
       "</table>\n",
       "</div>"
      ],
      "text/plain": [
       "                     Variable       VIF\n",
       "0              MonthlyMinutes  6.581409\n",
       "23              HandsetModels  5.344425\n",
       "16          OffPeakCallsInOut  5.064744\n",
       "15             PeakCallsInOut  4.840692\n",
       "22                   Handsets  4.794587\n",
       "12              ReceivedCalls  4.503178\n",
       "13              OutboundCalls  3.623437\n",
       "21                 ActiveSubs  3.017083\n",
       "20                 UniqueSubs  2.953084\n",
       "9             UnansweredCalls  2.770039\n",
       "14               InboundCalls  2.585275\n",
       "18           CallWaitingCalls  2.500647\n",
       "19            MonthsInService  2.447484\n",
       "24       CurrentEquipmentDays  2.402063\n",
       "26             RetentionCalls  2.313058\n",
       "27    RetentionOffersAccepted  2.301073\n",
       "7                DroppedCalls  1.979757\n",
       "1        TotalRecurringCharge  1.895870\n",
       "3              OverageMinutes  1.833609\n",
       "5           PercChangeMinutes  1.607518\n",
       "6          PercChangeRevenues  1.574328\n",
       "2       DirectorAssistedCalls  1.356013\n",
       "10          CustomerCareCalls  1.283845\n",
       "8                BlockedCalls  1.220625\n",
       "11              ThreewayCalls  1.172938\n",
       "31               HandsetPrice  1.069095\n",
       "29                IncomeGroup  1.067000\n",
       "30  AdjustmentsToCreditRating  1.065779\n",
       "4                RoamingCalls  1.041741\n",
       "25                        Age  1.038883\n",
       "28  ReferralsMadeBySubscriber  1.015750\n",
       "17        CallForwardingCalls  1.002185"
      ]
     },
     "execution_count": 588,
     "metadata": {},
     "output_type": "execute_result"
    }
   ],
   "source": [
    "# the VIF of MonthlyRevenue is 10.106 so we remove it\n",
    "# compute vif values after removing a feature\n",
    "considered_features.remove('MonthlyRevenue')\n",
    "compute_vif(considered_features)\n",
    "compute_vif(considered_features).sort_values('VIF', ascending=False)"
   ]
  },
  {
   "cell_type": "code",
   "execution_count": 589,
   "id": "f7e7e9f5",
   "metadata": {},
   "outputs": [
    {
     "name": "stderr",
     "output_type": "stream",
     "text": [
      "/var/folders/_z/gw3f_k0d08zctss1m54yb4pc0000gn/T/ipykernel_32268/3183272961.py:18: SettingWithCopyWarning: \n",
      "A value is trying to be set on a copy of a slice from a DataFrame.\n",
      "Try using .loc[row_indexer,col_indexer] = value instead\n",
      "\n",
      "See the caveats in the documentation: https://pandas.pydata.org/pandas-docs/stable/user_guide/indexing.html#returning-a-view-versus-a-copy\n",
      "  X['intercept'] = 1\n"
     ]
    }
   ],
   "source": [
    "# the VIF of MonthlyMintes is 5.76 so we remove it\n",
    "considered_features.remove('MonthlyMinutes')\n",
    "compute_vif(considered_features)\n",
    "compute_vif(considered_features).sort_values('VIF', ascending=False)\n",
    "numerical=numerical.drop(['DroppedBlockedCalls','MonthlyRevenue','MonthlyMinutes'],axis=1)"
   ]
  },
  {
   "cell_type": "code",
   "execution_count": 590,
   "id": "6a73cc2d",
   "metadata": {},
   "outputs": [
    {
     "name": "stderr",
     "output_type": "stream",
     "text": [
      "/var/folders/_z/gw3f_k0d08zctss1m54yb4pc0000gn/T/ipykernel_32268/3183272961.py:18: SettingWithCopyWarning: \n",
      "A value is trying to be set on a copy of a slice from a DataFrame.\n",
      "Try using .loc[row_indexer,col_indexer] = value instead\n",
      "\n",
      "See the caveats in the documentation: https://pandas.pydata.org/pandas-docs/stable/user_guide/indexing.html#returning-a-view-versus-a-copy\n",
      "  X['intercept'] = 1\n"
     ]
    },
    {
     "data": {
      "text/html": [
       "<div>\n",
       "<style scoped>\n",
       "    .dataframe tbody tr th:only-of-type {\n",
       "        vertical-align: middle;\n",
       "    }\n",
       "\n",
       "    .dataframe tbody tr th {\n",
       "        vertical-align: top;\n",
       "    }\n",
       "\n",
       "    .dataframe thead th {\n",
       "        text-align: right;\n",
       "    }\n",
       "</style>\n",
       "<table border=\"1\" class=\"dataframe\">\n",
       "  <thead>\n",
       "    <tr style=\"text-align: right;\">\n",
       "      <th></th>\n",
       "      <th>Variable</th>\n",
       "      <th>VIF</th>\n",
       "    </tr>\n",
       "  </thead>\n",
       "  <tbody>\n",
       "    <tr>\n",
       "      <th>22</th>\n",
       "      <td>HandsetModels</td>\n",
       "      <td>5.344318</td>\n",
       "    </tr>\n",
       "    <tr>\n",
       "      <th>15</th>\n",
       "      <td>OffPeakCallsInOut</td>\n",
       "      <td>4.840555</td>\n",
       "    </tr>\n",
       "    <tr>\n",
       "      <th>14</th>\n",
       "      <td>PeakCallsInOut</td>\n",
       "      <td>4.809132</td>\n",
       "    </tr>\n",
       "    <tr>\n",
       "      <th>21</th>\n",
       "      <td>Handsets</td>\n",
       "      <td>4.791393</td>\n",
       "    </tr>\n",
       "    <tr>\n",
       "      <th>11</th>\n",
       "      <td>ReceivedCalls</td>\n",
       "      <td>3.597238</td>\n",
       "    </tr>\n",
       "    <tr>\n",
       "      <th>12</th>\n",
       "      <td>OutboundCalls</td>\n",
       "      <td>3.586882</td>\n",
       "    </tr>\n",
       "    <tr>\n",
       "      <th>20</th>\n",
       "      <td>ActiveSubs</td>\n",
       "      <td>3.017070</td>\n",
       "    </tr>\n",
       "    <tr>\n",
       "      <th>19</th>\n",
       "      <td>UniqueSubs</td>\n",
       "      <td>2.952919</td>\n",
       "    </tr>\n",
       "    <tr>\n",
       "      <th>8</th>\n",
       "      <td>UnansweredCalls</td>\n",
       "      <td>2.757831</td>\n",
       "    </tr>\n",
       "    <tr>\n",
       "      <th>13</th>\n",
       "      <td>InboundCalls</td>\n",
       "      <td>2.564709</td>\n",
       "    </tr>\n",
       "    <tr>\n",
       "      <th>17</th>\n",
       "      <td>CallWaitingCalls</td>\n",
       "      <td>2.496296</td>\n",
       "    </tr>\n",
       "    <tr>\n",
       "      <th>18</th>\n",
       "      <td>MonthsInService</td>\n",
       "      <td>2.447106</td>\n",
       "    </tr>\n",
       "    <tr>\n",
       "      <th>23</th>\n",
       "      <td>CurrentEquipmentDays</td>\n",
       "      <td>2.397515</td>\n",
       "    </tr>\n",
       "    <tr>\n",
       "      <th>25</th>\n",
       "      <td>RetentionCalls</td>\n",
       "      <td>2.312918</td>\n",
       "    </tr>\n",
       "    <tr>\n",
       "      <th>26</th>\n",
       "      <td>RetentionOffersAccepted</td>\n",
       "      <td>2.300962</td>\n",
       "    </tr>\n",
       "    <tr>\n",
       "      <th>6</th>\n",
       "      <td>DroppedCalls</td>\n",
       "      <td>1.961190</td>\n",
       "    </tr>\n",
       "    <tr>\n",
       "      <th>0</th>\n",
       "      <td>TotalRecurringCharge</td>\n",
       "      <td>1.698579</td>\n",
       "    </tr>\n",
       "    <tr>\n",
       "      <th>2</th>\n",
       "      <td>OverageMinutes</td>\n",
       "      <td>1.685670</td>\n",
       "    </tr>\n",
       "    <tr>\n",
       "      <th>4</th>\n",
       "      <td>PercChangeMinutes</td>\n",
       "      <td>1.596083</td>\n",
       "    </tr>\n",
       "    <tr>\n",
       "      <th>5</th>\n",
       "      <td>PercChangeRevenues</td>\n",
       "      <td>1.574239</td>\n",
       "    </tr>\n",
       "    <tr>\n",
       "      <th>1</th>\n",
       "      <td>DirectorAssistedCalls</td>\n",
       "      <td>1.328586</td>\n",
       "    </tr>\n",
       "    <tr>\n",
       "      <th>9</th>\n",
       "      <td>CustomerCareCalls</td>\n",
       "      <td>1.266217</td>\n",
       "    </tr>\n",
       "    <tr>\n",
       "      <th>7</th>\n",
       "      <td>BlockedCalls</td>\n",
       "      <td>1.215769</td>\n",
       "    </tr>\n",
       "    <tr>\n",
       "      <th>10</th>\n",
       "      <td>ThreewayCalls</td>\n",
       "      <td>1.172637</td>\n",
       "    </tr>\n",
       "    <tr>\n",
       "      <th>30</th>\n",
       "      <td>HandsetPrice</td>\n",
       "      <td>1.069045</td>\n",
       "    </tr>\n",
       "    <tr>\n",
       "      <th>28</th>\n",
       "      <td>IncomeGroup</td>\n",
       "      <td>1.066872</td>\n",
       "    </tr>\n",
       "    <tr>\n",
       "      <th>29</th>\n",
       "      <td>AdjustmentsToCreditRating</td>\n",
       "      <td>1.065556</td>\n",
       "    </tr>\n",
       "    <tr>\n",
       "      <th>24</th>\n",
       "      <td>Age</td>\n",
       "      <td>1.037677</td>\n",
       "    </tr>\n",
       "    <tr>\n",
       "      <th>3</th>\n",
       "      <td>RoamingCalls</td>\n",
       "      <td>1.030240</td>\n",
       "    </tr>\n",
       "    <tr>\n",
       "      <th>27</th>\n",
       "      <td>ReferralsMadeBySubscriber</td>\n",
       "      <td>1.013351</td>\n",
       "    </tr>\n",
       "    <tr>\n",
       "      <th>16</th>\n",
       "      <td>CallForwardingCalls</td>\n",
       "      <td>1.001945</td>\n",
       "    </tr>\n",
       "  </tbody>\n",
       "</table>\n",
       "</div>"
      ],
      "text/plain": [
       "                     Variable       VIF\n",
       "22              HandsetModels  5.344318\n",
       "15          OffPeakCallsInOut  4.840555\n",
       "14             PeakCallsInOut  4.809132\n",
       "21                   Handsets  4.791393\n",
       "11              ReceivedCalls  3.597238\n",
       "12              OutboundCalls  3.586882\n",
       "20                 ActiveSubs  3.017070\n",
       "19                 UniqueSubs  2.952919\n",
       "8             UnansweredCalls  2.757831\n",
       "13               InboundCalls  2.564709\n",
       "17           CallWaitingCalls  2.496296\n",
       "18            MonthsInService  2.447106\n",
       "23       CurrentEquipmentDays  2.397515\n",
       "25             RetentionCalls  2.312918\n",
       "26    RetentionOffersAccepted  2.300962\n",
       "6                DroppedCalls  1.961190\n",
       "0        TotalRecurringCharge  1.698579\n",
       "2              OverageMinutes  1.685670\n",
       "4           PercChangeMinutes  1.596083\n",
       "5          PercChangeRevenues  1.574239\n",
       "1       DirectorAssistedCalls  1.328586\n",
       "9           CustomerCareCalls  1.266217\n",
       "7                BlockedCalls  1.215769\n",
       "10              ThreewayCalls  1.172637\n",
       "30               HandsetPrice  1.069045\n",
       "28                IncomeGroup  1.066872\n",
       "29  AdjustmentsToCreditRating  1.065556\n",
       "24                        Age  1.037677\n",
       "3                RoamingCalls  1.030240\n",
       "27  ReferralsMadeBySubscriber  1.013351\n",
       "16        CallForwardingCalls  1.001945"
      ]
     },
     "execution_count": 590,
     "metadata": {},
     "output_type": "execute_result"
    }
   ],
   "source": [
    "compute_vif(considered_features).sort_values('VIF', ascending=False)"
   ]
  },
  {
   "cell_type": "code",
   "execution_count": 591,
   "id": "51754790",
   "metadata": {},
   "outputs": [],
   "source": [
    "#numerical=numerical.drop(['DroppedBlockedCalls','MonthlyMinutes'],axis=1)"
   ]
  },
  {
   "cell_type": "code",
   "execution_count": 592,
   "id": "825037bf",
   "metadata": {
    "scrolled": true
   },
   "outputs": [
    {
     "name": "stdout",
     "output_type": "stream",
     "text": [
      "<class 'pandas.core.frame.DataFrame'>\n",
      "Int64Index: 32056 entries, 1 to 50887\n",
      "Data columns (total 28 columns):\n",
      " #   Column                     Non-Null Count  Dtype \n",
      "---  ------                     --------------  ----- \n",
      " 0   Churn                      32056 non-null  object\n",
      " 1   ServiceArea                32056 non-null  object\n",
      " 2   ChildrenInHH               32056 non-null  object\n",
      " 3   HandsetRefurbished         32056 non-null  object\n",
      " 4   HandsetWebCapable          32056 non-null  object\n",
      " 5   TruckOwner                 32056 non-null  object\n",
      " 6   RVOwner                    32056 non-null  object\n",
      " 7   Homeownership              32056 non-null  object\n",
      " 8   BuysViaMailOrder           32056 non-null  object\n",
      " 9   RespondsToMailOffers       32056 non-null  object\n",
      " 10  OptOutMailings             32056 non-null  object\n",
      " 11  NonUSTravel                32056 non-null  object\n",
      " 12  OwnsComputer               32056 non-null  object\n",
      " 13  HasCreditCard              32056 non-null  object\n",
      " 14  NewCellphoneUser           32056 non-null  object\n",
      " 15  NotNewCellphoneUser        32056 non-null  object\n",
      " 16  OwnsMotorcycle             32056 non-null  object\n",
      " 17  MadeCallToRetentionTeam    32056 non-null  object\n",
      " 18  PrizmCode                  32056 non-null  object\n",
      " 19  Occupation                 32056 non-null  object\n",
      " 20  MaritalStatus              32056 non-null  object\n",
      " 21  Handsets                   32056 non-null  object\n",
      " 22  HandsetModels              32056 non-null  object\n",
      " 23  RetentionCalls             32056 non-null  object\n",
      " 24  RetentionOffersAccepted    32056 non-null  object\n",
      " 25  ReferralsMadeBySubscriber  32056 non-null  object\n",
      " 26  AdjustmentsToCreditRating  32056 non-null  object\n",
      " 27  CreditRating               32056 non-null  object\n",
      "dtypes: object(28)\n",
      "memory usage: 7.1+ MB\n"
     ]
    }
   ],
   "source": [
    "categorical.info()"
   ]
  },
  {
   "cell_type": "code",
   "execution_count": 593,
   "id": "f3267ecc",
   "metadata": {},
   "outputs": [
    {
     "name": "stdout",
     "output_type": "stream",
     "text": [
      "<class 'pandas.core.frame.DataFrame'>\n",
      "Int64Index: 32056 entries, 1 to 50887\n",
      "Data columns (total 25 columns):\n",
      " #   Column                 Non-Null Count  Dtype  \n",
      "---  ------                 --------------  -----  \n",
      " 0   TotalRecurringCharge   32056 non-null  float64\n",
      " 1   DirectorAssistedCalls  32056 non-null  float64\n",
      " 2   OverageMinutes         32056 non-null  float64\n",
      " 3   RoamingCalls           32056 non-null  float64\n",
      " 4   PercChangeMinutes      32056 non-null  float64\n",
      " 5   PercChangeRevenues     32056 non-null  float64\n",
      " 6   DroppedCalls           32056 non-null  float64\n",
      " 7   BlockedCalls           32056 non-null  float64\n",
      " 8   UnansweredCalls        32056 non-null  float64\n",
      " 9   CustomerCareCalls      32056 non-null  float64\n",
      " 10  ThreewayCalls          32056 non-null  float64\n",
      " 11  ReceivedCalls          32056 non-null  float64\n",
      " 12  OutboundCalls          32056 non-null  float64\n",
      " 13  InboundCalls           32056 non-null  float64\n",
      " 14  PeakCallsInOut         32056 non-null  float64\n",
      " 15  OffPeakCallsInOut      32056 non-null  float64\n",
      " 16  CallForwardingCalls    32056 non-null  float64\n",
      " 17  CallWaitingCalls       32056 non-null  float64\n",
      " 18  MonthsInService        32056 non-null  int64  \n",
      " 19  UniqueSubs             32056 non-null  int64  \n",
      " 20  ActiveSubs             32056 non-null  int64  \n",
      " 21  CurrentEquipmentDays   32056 non-null  float64\n",
      " 22  Age                    32056 non-null  float64\n",
      " 23  IncomeGroup            32056 non-null  int64  \n",
      " 24  HandsetPrice           32056 non-null  float64\n",
      "dtypes: float64(21), int64(4)\n",
      "memory usage: 6.4 MB\n"
     ]
    }
   ],
   "source": [
    "numerical.info()"
   ]
  },
  {
   "cell_type": "code",
   "execution_count": 594,
   "id": "b12cfc6d",
   "metadata": {},
   "outputs": [
    {
     "data": {
      "image/png": "[encoded data removed]",
      "text/plain": [
       "<Figure size 2880x4320 with 26 Axes>"
      ]
     },
     "metadata": {
      "needs_background": "light"
     },
     "output_type": "display_data"
    }
   ],
   "source": [
    "def plot_num(df):\n",
    "    col=list(df.columns)\n",
    "    fig,ax=plt.subplots(int(np.ceil(len(col)/2)),2 ,figsize=(40,60))\n",
    "    plt.subplots_adjust(left=0.1,\n",
    "                    bottom=0.1, \n",
    "                    right=0.9, \n",
    "                    top=0.9, \n",
    "                    wspace=0.4, \n",
    "                    hspace=0.5)\n",
    "    j=0\n",
    "    k=0\n",
    "    for i in range(len(col)):\n",
    "        sns.histplot(x =df[col[i]], data = df, ax=ax[j,k],bins = 50)\n",
    "        k=k+1\n",
    "        if k>=2:\n",
    "            j=j+1\n",
    "            k=0\n",
    "            \n",
    "plot_num(numerical)"
   ]
  },
  {
   "cell_type": "code",
   "execution_count": 595,
   "id": "eac55dad",
   "metadata": {},
   "outputs": [
    {
     "data": {
      "image/png": "[encoded data removed]",
      "text/plain": [
       "<Figure size 432x288 with 1 Axes>"
      ]
     },
     "metadata": {
      "needs_background": "light"
     },
     "output_type": "display_data"
    },
    {
     "data": {
      "image/png": "[encoded data removed]",
      "text/plain": [
       "<Figure size 432x288 with 1 Axes>"
      ]
     },
     "metadata": {
      "needs_background": "light"
     },
     "output_type": "display_data"
    },
    {
     "data": {
      "image/png": "[encoded data removed]",
      "text/plain": [
       "<Figure size 432x288 with 1 Axes>"
      ]
     },
     "metadata": {
      "needs_background": "light"
     },
     "output_type": "display_data"
    },
    {
     "data": {
      "image/png": "[encoded data removed]",
      "text/plain": [
       "<Figure size 432x288 with 1 Axes>"
      ]
     },
     "metadata": {
      "needs_background": "light"
     },
     "output_type": "display_data"
    },
    {
     "data": {
      "image/png": "[encoded data removed]",
      "text/plain": [
       "<Figure size 432x288 with 1 Axes>"
      ]
     },
     "metadata": {
      "needs_background": "light"
     },
     "output_type": "display_data"
    },
    {
     "data": {
      "image/png": "[encoded data removed]",
      "text/plain": [
       "<Figure size 432x288 with 1 Axes>"
      ]
     },
     "metadata": {
      "needs_background": "light"
     },
     "output_type": "display_data"
    },
    {
     "data": {
      "image/png": "[encoded data removed]",
      "text/plain": [
       "<Figure size 432x288 with 1 Axes>"
      ]
     },
     "metadata": {
      "needs_background": "light"
     },
     "output_type": "display_data"
    },
    {
     "data": {
      "image/png": "[encoded data removed]",
      "text/plain": [
       "<Figure size 432x288 with 1 Axes>"
      ]
     },
     "metadata": {
      "needs_background": "light"
     },
     "output_type": "display_data"
    },
    {
     "data": {
      "image/png": "[encoded data removed]",
      "text/plain": [
       "<Figure size 432x288 with 1 Axes>"
      ]
     },
     "metadata": {
      "needs_background": "light"
     },
     "output_type": "display_data"
    },
    {
     "data": {
      "image/png": "[encoded data removed]",
      "text/plain": [
       "<Figure size 432x288 with 1 Axes>"
      ]
     },
     "metadata": {
      "needs_background": "light"
     },
     "output_type": "display_data"
    },
    {
     "data": {
      "image/png": "[encoded data removed]",
      "text/plain": [
       "<Figure size 432x288 with 1 Axes>"
      ]
     },
     "metadata": {
      "needs_background": "light"
     },
     "output_type": "display_data"
    },
    {
     "data": {
      "image/png": "[encoded data removed]",
      "text/plain": [
       "<Figure size 432x288 with 1 Axes>"
      ]
     },
     "metadata": {
      "needs_background": "light"
     },
     "output_type": "display_data"
    },
    {
     "data": {
      "image/png": "[encoded data removed]",
      "text/plain": [
       "<Figure size 432x288 with 1 Axes>"
      ]
     },
     "metadata": {
      "needs_background": "light"
     },
     "output_type": "display_data"
    },
    {
     "data": {
      "image/png": "[encoded data removed]",
      "text/plain": [
       "<Figure size 432x288 with 1 Axes>"
      ]
     },
     "metadata": {
      "needs_background": "light"
     },
     "output_type": "display_data"
    },
    {
     "data": {
      "image/png": "[encoded data removed]",
      "text/plain": [
       "<Figure size 432x288 with 1 Axes>"
      ]
     },
     "metadata": {
      "needs_background": "light"
     },
     "output_type": "display_data"
    },
    {
     "data": {
      "image/png": "[encoded data removed]",
      "text/plain": [
       "<Figure size 432x288 with 1 Axes>"
      ]
     },
     "metadata": {
      "needs_background": "light"
     },
     "output_type": "display_data"
    },
    {
     "data": {
      "image/png": "[encoded data removed]",
      "text/plain": [
       "<Figure size 432x288 with 1 Axes>"
      ]
     },
     "metadata": {
      "needs_background": "light"
     },
     "output_type": "display_data"
    },
    {
     "data": {
      "image/png": "[encoded data removed]",
      "text/plain": [
       "<Figure size 432x288 with 1 Axes>"
      ]
     },
     "metadata": {
      "needs_background": "light"
     },
     "output_type": "display_data"
    },
    {
     "data": {
      "image/png": "[encoded data removed]",
      "text/plain": [
       "<Figure size 432x288 with 1 Axes>"
      ]
     },
     "metadata": {
      "needs_background": "light"
     },
     "output_type": "display_data"
    },
    {
     "data": {
      "image/png": "[encoded data removed]",
      "text/plain": [
       "<Figure size 432x288 with 1 Axes>"
      ]
     },
     "metadata": {
      "needs_background": "light"
     },
     "output_type": "display_data"
    },
    {
     "data": {
      "image/png": "[encoded data removed]",
      "text/plain": [
       "<Figure size 432x288 with 1 Axes>"
      ]
     },
     "metadata": {
      "needs_background": "light"
     },
     "output_type": "display_data"
    },
    {
     "data": {
      "image/png": "[encoded data removed]",
      "text/plain": [
       "<Figure size 432x288 with 1 Axes>"
      ]
     },
     "metadata": {
      "needs_background": "light"
     },
     "output_type": "display_data"
    },
    {
     "data": {
      "image/png": "[encoded data removed]",
      "text/plain": [
       "<Figure size 432x288 with 1 Axes>"
      ]
     },
     "metadata": {
      "needs_background": "light"
     },
     "output_type": "display_data"
    },
    {
     "data": {
      "image/png": "[encoded data removed]",
      "text/plain": [
       "<Figure size 432x288 with 1 Axes>"
      ]
     },
     "metadata": {
      "needs_background": "light"
     },
     "output_type": "display_data"
    },
    {
     "data": {
      "image/png": "[encoded data removed]",
      "text/plain": [
       "<Figure size 432x288 with 1 Axes>"
      ]
     },
     "metadata": {
      "needs_background": "light"
     },
     "output_type": "display_data"
    }
   ],
   "source": [
    "def plot_num(df):\n",
    "    col=list(df.columns)\n",
    "    for i in range(len(col)):\n",
    "        sns.boxplot(x =df[col[i]], data = df) \n",
    "        plt.show()\n",
    "plot_num(numerical)"
   ]
  },
  {
   "cell_type": "markdown",
   "id": "c619833a",
   "metadata": {},
   "source": [
    "## removing Outliers"
   ]
  },
  {
   "cell_type": "code",
   "execution_count": 596,
   "id": "dfd41c1c",
   "metadata": {},
   "outputs": [
    {
     "data": {
      "image/png": "[encoded data removed]",
      "text/plain": [
       "<Figure size 432x288 with 1 Axes>"
      ]
     },
     "metadata": {
      "needs_background": "light"
     },
     "output_type": "display_data"
    },
    {
     "data": {
      "text/plain": [
       "(31888, 25)"
      ]
     },
     "execution_count": 596,
     "metadata": {},
     "output_type": "execute_result"
    }
   ],
   "source": [
    "# Age\n",
    "#For age we weill remove agell people grater that 80 it seems not corrcet\n",
    "numerical[numerical['Age']>80]['Age'].value_counts()\n",
    "numerical=numerical[numerical['Age']<=80]\n",
    "sns.boxplot(x =numerical['Age'], data = numerical) \n",
    "plt.show()\n",
    "numerical.shape"
   ]
  },
  {
   "cell_type": "code",
   "execution_count": 597,
   "id": "3de25a06",
   "metadata": {},
   "outputs": [
    {
     "name": "stdout",
     "output_type": "stream",
     "text": [
      "310.0    3\n",
      "262.0    1\n",
      "281.0    1\n",
      "300.0    1\n",
      "302.0    1\n",
      "342.0    1\n",
      "338.0    1\n",
      "Name: TotalRecurringCharge, dtype: int64\n"
     ]
    },
    {
     "data": {
      "image/png": "[encoded data removed]",
      "text/plain": [
       "<Figure size 432x288 with 1 Axes>"
      ]
     },
     "metadata": {
      "needs_background": "light"
     },
     "output_type": "display_data"
    },
    {
     "data": {
      "text/plain": [
       "(31879, 25)"
      ]
     },
     "execution_count": 597,
     "metadata": {},
     "output_type": "execute_result"
    }
   ],
   "source": [
    "#'TotalRecurringCharge'\n",
    "print(numerical[numerical['TotalRecurringCharge']>250]['TotalRecurringCharge'].value_counts())\n",
    "numerical=numerical[numerical['TotalRecurringCharge']<=250]\n",
    "sns.boxplot(x =numerical['TotalRecurringCharge'], data = numerical) \n",
    "plt.show()\n",
    "numerical.shape"
   ]
  },
  {
   "cell_type": "code",
   "execution_count": 598,
   "id": "3ed30bc2",
   "metadata": {},
   "outputs": [
    {
     "name": "stdout",
     "output_type": "stream",
     "text": [
      "4321.0    1\n",
      "Name: OverageMinutes, dtype: int64\n"
     ]
    },
    {
     "data": {
      "image/png": "[encoded data removed]",
      "text/plain": [
       "<Figure size 432x288 with 1 Axes>"
      ]
     },
     "metadata": {
      "needs_background": "light"
     },
     "output_type": "display_data"
    },
    {
     "data": {
      "text/plain": [
       "(31878, 25)"
      ]
     },
     "execution_count": 598,
     "metadata": {},
     "output_type": "execute_result"
    }
   ],
   "source": [
    "#OverageMinutes\n",
    "print(numerical[numerical['OverageMinutes']>3000]['OverageMinutes'].value_counts())\n",
    "numerical=numerical[numerical['OverageMinutes']<=3000]\n",
    "sns.boxplot(x =numerical['OverageMinutes'], data = numerical) \n",
    "plt.show()\n",
    "numerical.shape"
   ]
  },
  {
   "cell_type": "code",
   "execution_count": 599,
   "id": "7110a54a",
   "metadata": {},
   "outputs": [
    {
     "name": "stdout",
     "output_type": "stream",
     "text": [
      "102.6    1\n",
      "122.9    1\n",
      "161.4    1\n",
      "147.2    1\n",
      "199.0    1\n",
      "292.5    1\n",
      "451.9    1\n",
      "416.3    1\n",
      "201.2    1\n",
      "165.9    1\n",
      "692.4    1\n",
      "Name: RoamingCalls, dtype: int64\n"
     ]
    },
    {
     "data": {
      "image/png": "[encoded data removed]",
      "text/plain": [
       "<Figure size 432x288 with 1 Axes>"
      ]
     },
     "metadata": {
      "needs_background": "light"
     },
     "output_type": "display_data"
    },
    {
     "data": {
      "text/plain": [
       "(31867, 25)"
      ]
     },
     "execution_count": 599,
     "metadata": {},
     "output_type": "execute_result"
    }
   ],
   "source": [
    "#RoamingCalls \n",
    "print(numerical[numerical['RoamingCalls']>100]['RoamingCalls'].value_counts())\n",
    "numerical=numerical[numerical['RoamingCalls']<=100]\n",
    "sns.boxplot(x =numerical['RoamingCalls'], data = numerical) \n",
    "plt.show()\n",
    "numerical.shape"
   ]
  },
  {
   "cell_type": "code",
   "execution_count": 600,
   "id": "cdfb7c2e",
   "metadata": {},
   "outputs": [
    {
     "name": "stdout",
     "output_type": "stream",
     "text": [
      "-3875.0    1\n",
      "-3331.0    1\n",
      " 4480.0    1\n",
      " 3712.0    1\n",
      "Name: PercChangeMinutes, dtype: int64\n"
     ]
    },
    {
     "data": {
      "image/png": "[encoded data removed]",
      "text/plain": [
       "<Figure size 432x288 with 1 Axes>"
      ]
     },
     "metadata": {
      "needs_background": "light"
     },
     "output_type": "display_data"
    },
    {
     "data": {
      "text/plain": [
       "(31863, 25)"
      ]
     },
     "execution_count": 600,
     "metadata": {},
     "output_type": "execute_result"
    }
   ],
   "source": [
    "#PercChangeMinutes\n",
    "print(numerical[(numerical['PercChangeMinutes']>3000)|(numerical['PercChangeMinutes']<-3000)\n",
    "               ]['PercChangeMinutes'].value_counts())\n",
    "numerical=numerical[(numerical['PercChangeMinutes']<3000)&(numerical['PercChangeMinutes']>-3000)]\n",
    "sns.boxplot(x =numerical['PercChangeMinutes'], data = numerical) \n",
    "plt.show()\n",
    "numerical.shape"
   ]
  },
  {
   "cell_type": "code",
   "execution_count": 601,
   "id": "3bf078b6",
   "metadata": {},
   "outputs": [
    {
     "name": "stdout",
     "output_type": "stream",
     "text": [
      "527.4    1\n",
      "404.7    1\n",
      "509.7    1\n",
      "638.6    1\n",
      "402.1    1\n",
      "741.1    1\n",
      "Name: PercChangeRevenues, dtype: int64\n"
     ]
    },
    {
     "data": {
      "image/png": "[encoded data removed]",
      "text/plain": [
       "<Figure size 432x288 with 1 Axes>"
      ]
     },
     "metadata": {
      "needs_background": "light"
     },
     "output_type": "display_data"
    },
    {
     "data": {
      "text/plain": [
       "(31857, 25)"
      ]
     },
     "execution_count": 601,
     "metadata": {},
     "output_type": "execute_result"
    }
   ],
   "source": [
    "#PercChangeRevenues\n",
    "print(numerical[numerical['PercChangeRevenues']>400]['PercChangeRevenues'].value_counts())\n",
    "numerical=numerical[numerical['PercChangeRevenues']<=400]\n",
    "sns.boxplot(x =numerical['PercChangeRevenues'], data = numerical) \n",
    "plt.show()\n",
    "numerical.shape"
   ]
  },
  {
   "cell_type": "code",
   "execution_count": 602,
   "id": "d7616aa6",
   "metadata": {},
   "outputs": [
    {
     "name": "stdout",
     "output_type": "stream",
     "text": [
      "Series([], Name: DroppedCalls, dtype: int64)\n"
     ]
    },
    {
     "data": {
      "image/png": "[encoded data removed]",
      "text/plain": [
       "<Figure size 432x288 with 1 Axes>"
      ]
     },
     "metadata": {
      "needs_background": "light"
     },
     "output_type": "display_data"
    },
    {
     "data": {
      "text/plain": [
       "(31857, 25)"
      ]
     },
     "execution_count": 602,
     "metadata": {},
     "output_type": "execute_result"
    }
   ],
   "source": [
    "#DroppedCalls \n",
    "print(numerical[numerical['DroppedCalls']>150]['DroppedCalls'].value_counts())\n",
    "numerical=numerical[numerical['DroppedCalls']<=150]\n",
    "sns.boxplot(x =numerical['DroppedCalls'], data = numerical) \n",
    "plt.show()\n",
    "numerical.shape"
   ]
  },
  {
   "cell_type": "code",
   "execution_count": 603,
   "id": "6b90775f",
   "metadata": {},
   "outputs": [
    {
     "name": "stdout",
     "output_type": "stream",
     "text": [
      "286.3    1\n",
      "311.3    1\n",
      "266.3    1\n",
      "278.7    1\n",
      "Name: BlockedCalls, dtype: int64\n"
     ]
    },
    {
     "data": {
      "image/png": "[encoded data removed]",
      "text/plain": [
       "<Figure size 432x288 with 1 Axes>"
      ]
     },
     "metadata": {
      "needs_background": "light"
     },
     "output_type": "display_data"
    },
    {
     "data": {
      "text/plain": [
       "(31853, 25)"
      ]
     },
     "execution_count": 603,
     "metadata": {},
     "output_type": "execute_result"
    }
   ],
   "source": [
    "#BlockedCalls\n",
    "print(numerical[numerical['BlockedCalls']>250]['BlockedCalls'].value_counts())\n",
    "numerical=numerical[numerical['BlockedCalls']<=250]\n",
    "sns.boxplot(x =numerical['BlockedCalls'], data = numerical) \n",
    "plt.show()\n",
    "numerical.shape"
   ]
  },
  {
   "cell_type": "code",
   "execution_count": 604,
   "id": "36538510",
   "metadata": {},
   "outputs": [
    {
     "name": "stdout",
     "output_type": "stream",
     "text": [
      "653.7    1\n",
      "610.3    1\n",
      "663.3    1\n",
      "848.7    1\n",
      "814.3    1\n",
      "Name: UnansweredCalls, dtype: int64\n"
     ]
    },
    {
     "data": {
      "image/png": "[encoded data removed]",
      "text/plain": [
       "<Figure size 432x288 with 1 Axes>"
      ]
     },
     "metadata": {
      "needs_background": "light"
     },
     "output_type": "display_data"
    },
    {
     "data": {
      "text/plain": [
       "(31848, 25)"
      ]
     },
     "execution_count": 604,
     "metadata": {},
     "output_type": "execute_result"
    }
   ],
   "source": [
    "#UnansweredCalls\n",
    "print(numerical[numerical['UnansweredCalls']>550]['UnansweredCalls'].value_counts())\n",
    "numerical=numerical[numerical['UnansweredCalls']<=550]\n",
    "sns.boxplot(x =numerical['UnansweredCalls'], data = numerical) \n",
    "plt.show()\n",
    "numerical.shape"
   ]
  },
  {
   "cell_type": "code",
   "execution_count": 605,
   "id": "3a846475",
   "metadata": {},
   "outputs": [
    {
     "name": "stdout",
     "output_type": "stream",
     "text": [
      "172.3    1\n",
      "150.0    1\n",
      "327.3    1\n",
      "132.3    1\n",
      "Name: CustomerCareCalls, dtype: int64\n"
     ]
    },
    {
     "data": {
      "image/png": "[encoded data removed]",
      "text/plain": [
       "<Figure size 432x288 with 1 Axes>"
      ]
     },
     "metadata": {
      "needs_background": "light"
     },
     "output_type": "display_data"
    },
    {
     "data": {
      "text/plain": [
       "(31844, 25)"
      ]
     },
     "execution_count": 605,
     "metadata": {},
     "output_type": "execute_result"
    }
   ],
   "source": [
    "#CustomerCareCalls\n",
    "print(numerical[numerical['CustomerCareCalls']>100]['CustomerCareCalls'].value_counts())\n",
    "numerical=numerical[numerical['CustomerCareCalls']<=100]\n",
    "sns.boxplot(x =numerical['CustomerCareCalls'], data = numerical) \n",
    "plt.show()\n",
    "numerical.shape"
   ]
  },
  {
   "cell_type": "code",
   "execution_count": 606,
   "id": "ba3b0015",
   "metadata": {},
   "outputs": [
    {
     "name": "stdout",
     "output_type": "stream",
     "text": [
      "39.3    1\n",
      "41.7    1\n",
      "Name: ThreewayCalls, dtype: int64\n"
     ]
    },
    {
     "data": {
      "image/png": "[encoded data removed]",
      "text/plain": [
       "<Figure size 432x288 with 1 Axes>"
      ]
     },
     "metadata": {
      "needs_background": "light"
     },
     "output_type": "display_data"
    },
    {
     "data": {
      "text/plain": [
       "(31842, 25)"
      ]
     },
     "execution_count": 606,
     "metadata": {},
     "output_type": "execute_result"
    }
   ],
   "source": [
    "#ThreewayCalls \n",
    "print(numerical[numerical['ThreewayCalls']>35]['ThreewayCalls'].value_counts())\n",
    "numerical=numerical[numerical['ThreewayCalls']<=35]\n",
    "sns.boxplot(x =numerical['ThreewayCalls'], data = numerical) \n",
    "plt.show()\n",
    "numerical.shape"
   ]
  },
  {
   "cell_type": "code",
   "execution_count": 607,
   "id": "52d75203",
   "metadata": {},
   "outputs": [
    {
     "name": "stdout",
     "output_type": "stream",
     "text": [
      "2619.3    1\n",
      "2075.9    1\n",
      "Name: ReceivedCalls, dtype: int64\n"
     ]
    },
    {
     "data": {
      "image/png": "[encoded data removed]",
      "text/plain": [
       "<Figure size 432x288 with 1 Axes>"
      ]
     },
     "metadata": {
      "needs_background": "light"
     },
     "output_type": "display_data"
    },
    {
     "data": {
      "text/plain": [
       "(31840, 25)"
      ]
     },
     "execution_count": 607,
     "metadata": {},
     "output_type": "execute_result"
    }
   ],
   "source": [
    "#ReceivedCalls\n",
    "print(numerical[numerical['ReceivedCalls']>2000]['ReceivedCalls'].value_counts())\n",
    "numerical=numerical[numerical['ReceivedCalls']<=2000]\n",
    "sns.boxplot(x =numerical['ReceivedCalls'], data = numerical) \n",
    "plt.show()\n",
    "numerical.shape"
   ]
  },
  {
   "cell_type": "code",
   "execution_count": 608,
   "id": "36ec5d8c",
   "metadata": {},
   "outputs": [
    {
     "name": "stdout",
     "output_type": "stream",
     "text": [
      "540.7    1\n",
      "429.7    1\n",
      "413.7    1\n",
      "Name: OutboundCalls, dtype: int64\n"
     ]
    },
    {
     "data": {
      "image/png": "[encoded data removed]",
      "text/plain": [
       "<Figure size 432x288 with 1 Axes>"
      ]
     },
     "metadata": {
      "needs_background": "light"
     },
     "output_type": "display_data"
    },
    {
     "data": {
      "text/plain": [
       "(31837, 25)"
      ]
     },
     "execution_count": 608,
     "metadata": {},
     "output_type": "execute_result"
    }
   ],
   "source": [
    "#OutboundCalls\n",
    "print(numerical[numerical['OutboundCalls']>400]['OutboundCalls'].value_counts())\n",
    "numerical=numerical[numerical['OutboundCalls']<=400]\n",
    "sns.boxplot(x =numerical['OutboundCalls'], data = numerical) \n",
    "plt.show()\n",
    "numerical.shape"
   ]
  },
  {
   "cell_type": "code",
   "execution_count": 609,
   "id": "8db24aa6",
   "metadata": {},
   "outputs": [
    {
     "name": "stdout",
     "output_type": "stream",
     "text": [
      "260.7    1\n",
      "304.0    1\n",
      "281.7    1\n",
      "Name: InboundCalls, dtype: int64\n"
     ]
    },
    {
     "data": {
      "image/png": "[encoded data removed]",
      "text/plain": [
       "<Figure size 432x288 with 1 Axes>"
      ]
     },
     "metadata": {
      "needs_background": "light"
     },
     "output_type": "display_data"
    },
    {
     "data": {
      "text/plain": [
       "(31834, 25)"
      ]
     },
     "execution_count": 609,
     "metadata": {},
     "output_type": "execute_result"
    }
   ],
   "source": [
    "#InboundCalls\n",
    "print(numerical[numerical['InboundCalls']>250]['InboundCalls'].value_counts())\n",
    "numerical=numerical[numerical['InboundCalls']<=250]\n",
    "sns.boxplot(x =numerical['InboundCalls'], data = numerical) \n",
    "plt.show()\n",
    "numerical.shape"
   ]
  },
  {
   "cell_type": "code",
   "execution_count": 610,
   "id": "880f692a",
   "metadata": {},
   "outputs": [
    {
     "name": "stdout",
     "output_type": "stream",
     "text": [
      "1000.3    1\n",
      "1101.3    1\n",
      "1784.7    1\n",
      "1117.7    1\n",
      "1070.7    1\n",
      "1034.0    1\n",
      "1165.7    1\n",
      "1096.3    1\n",
      "1119.3    1\n",
      "1018.7    1\n",
      "1292.0    1\n",
      "1090.3    1\n",
      "1196.0    1\n",
      "1053.3    1\n",
      "1177.3    1\n",
      "1001.3    1\n",
      "1355.7    1\n",
      "Name: PeakCallsInOut, dtype: int64\n"
     ]
    },
    {
     "data": {
      "image/png": "[encoded data removed]",
      "text/plain": [
       "<Figure size 432x288 with 1 Axes>"
      ]
     },
     "metadata": {
      "needs_background": "light"
     },
     "output_type": "display_data"
    },
    {
     "data": {
      "text/plain": [
       "(31817, 25)"
      ]
     },
     "execution_count": 610,
     "metadata": {},
     "output_type": "execute_result"
    }
   ],
   "source": [
    "#PeakCallsInOut\n",
    "print(numerical[numerical['PeakCallsInOut']>1000]['PeakCallsInOut'].value_counts())\n",
    "numerical=numerical[numerical['PeakCallsInOut']<=1000]\n",
    "sns.boxplot(x =numerical['PeakCallsInOut'], data = numerical) \n",
    "plt.show()\n",
    "numerical.shape"
   ]
  },
  {
   "cell_type": "code",
   "execution_count": 611,
   "id": "e696d0f0",
   "metadata": {},
   "outputs": [
    {
     "name": "stdout",
     "output_type": "stream",
     "text": [
      "51.7    1\n",
      "55.7    1\n",
      "Name: CallForwardingCalls, dtype: int64\n"
     ]
    },
    {
     "data": {
      "image/png": "[encoded data removed]",
      "text/plain": [
       "<Figure size 432x288 with 1 Axes>"
      ]
     },
     "metadata": {
      "needs_background": "light"
     },
     "output_type": "display_data"
    },
    {
     "data": {
      "text/plain": [
       "(31815, 25)"
      ]
     },
     "execution_count": 611,
     "metadata": {},
     "output_type": "execute_result"
    }
   ],
   "source": [
    "#CallForwardingCalls\n",
    "print(numerical[numerical['CallForwardingCalls']>40]['CallForwardingCalls'].value_counts())\n",
    "numerical=numerical[numerical['CallForwardingCalls']<=40]\n",
    "sns.boxplot(x =numerical['CallForwardingCalls'], data = numerical) \n",
    "plt.show()\n",
    "numerical.shape"
   ]
  },
  {
   "cell_type": "code",
   "execution_count": 612,
   "id": "a7cb2a2d",
   "metadata": {},
   "outputs": [
    {
     "name": "stdout",
     "output_type": "stream",
     "text": [
      "105.3    1\n",
      "145.3    1\n",
      "140.3    1\n",
      "102.0    1\n",
      "126.3    1\n",
      "Name: CallWaitingCalls, dtype: int64\n"
     ]
    },
    {
     "data": {
      "image/png": "[encoded data removed]",
      "text/plain": [
       "<Figure size 432x288 with 1 Axes>"
      ]
     },
     "metadata": {
      "needs_background": "light"
     },
     "output_type": "display_data"
    },
    {
     "data": {
      "text/plain": [
       "(31810, 25)"
      ]
     },
     "execution_count": 612,
     "metadata": {},
     "output_type": "execute_result"
    }
   ],
   "source": [
    "#CallWaitingCalls\n",
    "print(numerical[numerical['CallWaitingCalls']>100]['CallWaitingCalls'].value_counts())\n",
    "numerical=numerical[numerical['CallWaitingCalls']<=100]\n",
    "sns.boxplot(x =numerical['CallWaitingCalls'], data = numerical) \n",
    "plt.show()\n",
    "numerical.shape"
   ]
  },
  {
   "cell_type": "code",
   "execution_count": 613,
   "id": "7209d6af",
   "metadata": {},
   "outputs": [
    {
     "name": "stdout",
     "output_type": "stream",
     "text": [
      "Series([], Name: UniqueSubs, dtype: int64)\n"
     ]
    },
    {
     "data": {
      "image/png": "[encoded data removed]",
      "text/plain": [
       "<Figure size 432x288 with 1 Axes>"
      ]
     },
     "metadata": {
      "needs_background": "light"
     },
     "output_type": "display_data"
    },
    {
     "data": {
      "text/plain": [
       "(31810, 25)"
      ]
     },
     "execution_count": 613,
     "metadata": {},
     "output_type": "execute_result"
    }
   ],
   "source": [
    "#UniqueSubs\n",
    "print(numerical[numerical['UniqueSubs']>17]['UniqueSubs'].value_counts())\n",
    "numerical=numerical[numerical['UniqueSubs']<=17]\n",
    "sns.boxplot(x =numerical['UniqueSubs'], data = numerical) \n",
    "plt.show()\n",
    "numerical.shape"
   ]
  },
  {
   "cell_type": "code",
   "execution_count": 614,
   "id": "20cb984e",
   "metadata": {},
   "outputs": [
    {
     "name": "stdout",
     "output_type": "stream",
     "text": [
      "(31810, 28)\n",
      "(31810, 25)\n"
     ]
    }
   ],
   "source": [
    "# Removing rows in cat which we delete in numerical removing outliers\n",
    "#cat.loc[cat.index.isin(numerical.index),'HandsetPrice'] = numerical.HandsetPrice\n",
    "cols=categorical.columns\n",
    "cat_df = pd.DataFrame(categorical, columns=cols, index =numerical.index)\n",
    "num_df=numerical\n",
    "print(cat_df.shape)\n",
    "print(num_df.shape)"
   ]
  },
  {
   "cell_type": "code",
   "execution_count": 485,
   "id": "2c451bdd",
   "metadata": {},
   "outputs": [
    {
     "data": {
      "image/png": "[encoded data removed]",
      "text/plain": [
       "<Figure size 1080x1800 with 28 Axes>"
      ]
     },
     "metadata": {
      "needs_background": "light"
     },
     "output_type": "display_data"
    }
   ],
   "source": [
    "def plot_cat(df):\n",
    "    col=list(df.columns)\n",
    "    fig,ax=plt.subplots(int(np.ceil(len(col)/2)),2 ,figsize=(15,25))\n",
    "    plt.subplots_adjust(left=0.1,\n",
    "                    bottom=0.08, \n",
    "                    right=0.8, \n",
    "                    top=0.9, \n",
    "                    wspace=0.4, \n",
    "                    hspace=0.8)\n",
    "    j=0\n",
    "    k=0\n",
    "    for i in range(len(col)):\n",
    "        chart=sns.countplot(x=df[col[i]],data=df,ax=ax[j,k])\n",
    "        chart.set_xticklabels(chart.get_xticklabels(), rotation=45)\n",
    "        k=k+1\n",
    "        if k>=2:\n",
    "            j=j+1\n",
    "            k=0\n",
    "plot_cat(cat_df)"
   ]
  },
  {
   "cell_type": "code",
   "execution_count": 486,
   "id": "3c85fcd8",
   "metadata": {},
   "outputs": [],
   "source": [
    "# we have lots of imbalced data so we remove those one whic are not have impact\n",
    "cat_df=cat_df.drop(['ChildrenInHH','HandsetRefurbished',\n",
    "                    'HandsetWebCapable','TruckOwner'\n",
    "                   ,'RVOwner','NonUSTravel',\n",
    "                    'NotNewCellphoneUser','OwnsMotorcycle',\n",
    "                    'ReferralsMadeBySubscriber',\n",
    "                    'RetentionCalls','RetentionOffersAccepted',\n",
    "                    'AdjustmentsToCreditRating'\n",
    "                   ] ,axis=1)\n",
    "\n",
    "cat_df=num_df.drop(['IncomeGroup'\n",
    "                   ] ,axis=1)\n"
   ]
  },
  {
   "cell_type": "code",
   "execution_count": null,
   "id": "873033ae",
   "metadata": {},
   "outputs": [],
   "source": []
  },
  {
   "cell_type": "code",
   "execution_count": 487,
   "id": "794eb70f",
   "metadata": {},
   "outputs": [
    {
     "name": "stdout",
     "output_type": "stream",
     "text": [
      "<class 'pandas.core.frame.DataFrame'>\n",
      "Int64Index: 31810 entries, 1 to 50881\n",
      "Data columns (total 24 columns):\n",
      " #   Column                 Non-Null Count  Dtype  \n",
      "---  ------                 --------------  -----  \n",
      " 0   TotalRecurringCharge   31810 non-null  float64\n",
      " 1   DirectorAssistedCalls  31810 non-null  float64\n",
      " 2   OverageMinutes         31810 non-null  float64\n",
      " 3   RoamingCalls           31810 non-null  float64\n",
      " 4   PercChangeMinutes      31810 non-null  float64\n",
      " 5   PercChangeRevenues     31810 non-null  float64\n",
      " 6   DroppedCalls           31810 non-null  float64\n",
      " 7   BlockedCalls           31810 non-null  float64\n",
      " 8   UnansweredCalls        31810 non-null  float64\n",
      " 9   CustomerCareCalls      31810 non-null  float64\n",
      " 10  ThreewayCalls          31810 non-null  float64\n",
      " 11  ReceivedCalls          31810 non-null  float64\n",
      " 12  OutboundCalls          31810 non-null  float64\n",
      " 13  InboundCalls           31810 non-null  float64\n",
      " 14  PeakCallsInOut         31810 non-null  float64\n",
      " 15  OffPeakCallsInOut      31810 non-null  float64\n",
      " 16  CallForwardingCalls    31810 non-null  float64\n",
      " 17  CallWaitingCalls       31810 non-null  float64\n",
      " 18  MonthsInService        31810 non-null  int64  \n",
      " 19  UniqueSubs             31810 non-null  int64  \n",
      " 20  ActiveSubs             31810 non-null  int64  \n",
      " 21  CurrentEquipmentDays   31810 non-null  float64\n",
      " 22  Age                    31810 non-null  float64\n",
      " 23  HandsetPrice           31810 non-null  float64\n",
      "dtypes: float64(21), int64(3)\n",
      "memory usage: 7.1 MB\n",
      "<class 'pandas.core.frame.DataFrame'>\n",
      "Int64Index: 31810 entries, 1 to 50881\n",
      "Data columns (total 25 columns):\n",
      " #   Column                 Non-Null Count  Dtype  \n",
      "---  ------                 --------------  -----  \n",
      " 0   TotalRecurringCharge   31810 non-null  float64\n",
      " 1   DirectorAssistedCalls  31810 non-null  float64\n",
      " 2   OverageMinutes         31810 non-null  float64\n",
      " 3   RoamingCalls           31810 non-null  float64\n",
      " 4   PercChangeMinutes      31810 non-null  float64\n",
      " 5   PercChangeRevenues     31810 non-null  float64\n",
      " 6   DroppedCalls           31810 non-null  float64\n",
      " 7   BlockedCalls           31810 non-null  float64\n",
      " 8   UnansweredCalls        31810 non-null  float64\n",
      " 9   CustomerCareCalls      31810 non-null  float64\n",
      " 10  ThreewayCalls          31810 non-null  float64\n",
      " 11  ReceivedCalls          31810 non-null  float64\n",
      " 12  OutboundCalls          31810 non-null  float64\n",
      " 13  InboundCalls           31810 non-null  float64\n",
      " 14  PeakCallsInOut         31810 non-null  float64\n",
      " 15  OffPeakCallsInOut      31810 non-null  float64\n",
      " 16  CallForwardingCalls    31810 non-null  float64\n",
      " 17  CallWaitingCalls       31810 non-null  float64\n",
      " 18  MonthsInService        31810 non-null  int64  \n",
      " 19  UniqueSubs             31810 non-null  int64  \n",
      " 20  ActiveSubs             31810 non-null  int64  \n",
      " 21  CurrentEquipmentDays   31810 non-null  float64\n",
      " 22  Age                    31810 non-null  float64\n",
      " 23  IncomeGroup            31810 non-null  int64  \n",
      " 24  HandsetPrice           31810 non-null  float64\n",
      "dtypes: float64(21), int64(4)\n",
      "memory usage: 7.3 MB\n"
     ]
    }
   ],
   "source": [
    "cat_df.info()\n",
    "cat_df_backup=cat_df\n",
    "num_df.info()"
   ]
  },
  {
   "cell_type": "markdown",
   "id": "fe6eb1c7",
   "metadata": {},
   "source": [
    "# Normalizing"
   ]
  },
  {
   "cell_type": "code",
   "execution_count": 488,
   "id": "225f7e96",
   "metadata": {},
   "outputs": [
    {
     "ename": "KeyError",
     "evalue": "'Churn'",
     "output_type": "error",
     "traceback": [
      "\u001b[0;31m---------------------------------------------------------------------------\u001b[0m",
      "\u001b[0;31mKeyError\u001b[0m                                  Traceback (most recent call last)",
      "\u001b[0;32m~/opt/anaconda3/lib/python3.9/site-packages/pandas/core/indexes/base.py\u001b[0m in \u001b[0;36mget_loc\u001b[0;34m(self, key, method, tolerance)\u001b[0m\n\u001b[1;32m   3360\u001b[0m             \u001b[0;32mtry\u001b[0m\u001b[0;34m:\u001b[0m\u001b[0;34m\u001b[0m\u001b[0;34m\u001b[0m\u001b[0m\n\u001b[0;32m-> 3361\u001b[0;31m                 \u001b[0;32mreturn\u001b[0m \u001b[0mself\u001b[0m\u001b[0;34m.\u001b[0m\u001b[0m_engine\u001b[0m\u001b[0;34m.\u001b[0m\u001b[0mget_loc\u001b[0m\u001b[0;34m(\u001b[0m\u001b[0mcasted_key\u001b[0m\u001b[0;34m)\u001b[0m\u001b[0;34m\u001b[0m\u001b[0;34m\u001b[0m\u001b[0m\n\u001b[0m\u001b[1;32m   3362\u001b[0m             \u001b[0;32mexcept\u001b[0m \u001b[0mKeyError\u001b[0m \u001b[0;32mas\u001b[0m \u001b[0merr\u001b[0m\u001b[0;34m:\u001b[0m\u001b[0;34m\u001b[0m\u001b[0;34m\u001b[0m\u001b[0m\n",
      "\u001b[0;32m~/opt/anaconda3/lib/python3.9/site-packages/pandas/_libs/index.pyx\u001b[0m in \u001b[0;36mpandas._libs.index.IndexEngine.get_loc\u001b[0;34m()\u001b[0m\n",
      "\u001b[0;32m~/opt/anaconda3/lib/python3.9/site-packages/pandas/_libs/index.pyx\u001b[0m in \u001b[0;36mpandas._libs.index.IndexEngine.get_loc\u001b[0;34m()\u001b[0m\n",
      "\u001b[0;32m~/opt/anaconda3/lib/python3.9/site-packages/pandas/_libs/index.pyx\u001b[0m in \u001b[0;36mpandas._libs.index.IndexEngine._get_loc_duplicates\u001b[0;34m()\u001b[0m\n",
      "\u001b[0;32m~/opt/anaconda3/lib/python3.9/site-packages/pandas/_libs/index.pyx\u001b[0m in \u001b[0;36mpandas._libs.index.IndexEngine._maybe_get_bool_indexer\u001b[0;34m()\u001b[0m\n",
      "\u001b[0;32m~/opt/anaconda3/lib/python3.9/site-packages/pandas/_libs/index.pyx\u001b[0m in \u001b[0;36mpandas._libs.index.IndexEngine._unpack_bool_indexer\u001b[0;34m()\u001b[0m\n",
      "\u001b[0;31mKeyError\u001b[0m: 'Churn'",
      "\nThe above exception was the direct cause of the following exception:\n",
      "\u001b[0;31mKeyError\u001b[0m                                  Traceback (most recent call last)",
      "\u001b[0;32m/var/folders/_z/gw3f_k0d08zctss1m54yb4pc0000gn/T/ipykernel_32268/4253750745.py\u001b[0m in \u001b[0;36m<module>\u001b[0;34m\u001b[0m\n\u001b[1;32m      1\u001b[0m \u001b[0mX\u001b[0m\u001b[0;34m=\u001b[0m\u001b[0mpd\u001b[0m\u001b[0;34m.\u001b[0m\u001b[0mconcat\u001b[0m\u001b[0;34m(\u001b[0m\u001b[0;34m[\u001b[0m\u001b[0mcat_df\u001b[0m\u001b[0;34m,\u001b[0m\u001b[0mnum_df\u001b[0m\u001b[0;34m]\u001b[0m\u001b[0;34m,\u001b[0m \u001b[0maxis\u001b[0m\u001b[0;34m=\u001b[0m\u001b[0;36m1\u001b[0m\u001b[0;34m)\u001b[0m\u001b[0;34m\u001b[0m\u001b[0;34m\u001b[0m\u001b[0m\n\u001b[0;32m----> 2\u001b[0;31m \u001b[0mY\u001b[0m\u001b[0;34m=\u001b[0m\u001b[0mX\u001b[0m\u001b[0;34m[\u001b[0m\u001b[0;34m'Churn'\u001b[0m\u001b[0;34m]\u001b[0m\u001b[0;34m\u001b[0m\u001b[0;34m\u001b[0m\u001b[0m\n\u001b[0m\u001b[1;32m      3\u001b[0m \u001b[0mX\u001b[0m\u001b[0;34m=\u001b[0m\u001b[0mX\u001b[0m\u001b[0;34m.\u001b[0m\u001b[0mdrop\u001b[0m\u001b[0;34m(\u001b[0m\u001b[0;34m'Churn'\u001b[0m\u001b[0;34m,\u001b[0m\u001b[0maxis\u001b[0m\u001b[0;34m=\u001b[0m\u001b[0;36m1\u001b[0m\u001b[0;34m)\u001b[0m\u001b[0;34m\u001b[0m\u001b[0;34m\u001b[0m\u001b[0m\n\u001b[1;32m      4\u001b[0m \u001b[0mX\u001b[0m\u001b[0;34m.\u001b[0m\u001b[0mshape\u001b[0m\u001b[0;34m\u001b[0m\u001b[0;34m\u001b[0m\u001b[0m\n\u001b[1;32m      5\u001b[0m \u001b[0mX\u001b[0m\u001b[0;34m.\u001b[0m\u001b[0minfo\u001b[0m\u001b[0;34m(\u001b[0m\u001b[0;34m)\u001b[0m\u001b[0;34m\u001b[0m\u001b[0;34m\u001b[0m\u001b[0m\n",
      "\u001b[0;32m~/opt/anaconda3/lib/python3.9/site-packages/pandas/core/frame.py\u001b[0m in \u001b[0;36m__getitem__\u001b[0;34m(self, key)\u001b[0m\n\u001b[1;32m   3456\u001b[0m             \u001b[0;32mif\u001b[0m \u001b[0mself\u001b[0m\u001b[0;34m.\u001b[0m\u001b[0mcolumns\u001b[0m\u001b[0;34m.\u001b[0m\u001b[0mnlevels\u001b[0m \u001b[0;34m>\u001b[0m \u001b[0;36m1\u001b[0m\u001b[0;34m:\u001b[0m\u001b[0;34m\u001b[0m\u001b[0;34m\u001b[0m\u001b[0m\n\u001b[1;32m   3457\u001b[0m                 \u001b[0;32mreturn\u001b[0m \u001b[0mself\u001b[0m\u001b[0;34m.\u001b[0m\u001b[0m_getitem_multilevel\u001b[0m\u001b[0;34m(\u001b[0m\u001b[0mkey\u001b[0m\u001b[0;34m)\u001b[0m\u001b[0;34m\u001b[0m\u001b[0;34m\u001b[0m\u001b[0m\n\u001b[0;32m-> 3458\u001b[0;31m             \u001b[0mindexer\u001b[0m \u001b[0;34m=\u001b[0m \u001b[0mself\u001b[0m\u001b[0;34m.\u001b[0m\u001b[0mcolumns\u001b[0m\u001b[0;34m.\u001b[0m\u001b[0mget_loc\u001b[0m\u001b[0;34m(\u001b[0m\u001b[0mkey\u001b[0m\u001b[0;34m)\u001b[0m\u001b[0;34m\u001b[0m\u001b[0;34m\u001b[0m\u001b[0m\n\u001b[0m\u001b[1;32m   3459\u001b[0m             \u001b[0;32mif\u001b[0m \u001b[0mis_integer\u001b[0m\u001b[0;34m(\u001b[0m\u001b[0mindexer\u001b[0m\u001b[0;34m)\u001b[0m\u001b[0;34m:\u001b[0m\u001b[0;34m\u001b[0m\u001b[0;34m\u001b[0m\u001b[0m\n\u001b[1;32m   3460\u001b[0m                 \u001b[0mindexer\u001b[0m \u001b[0;34m=\u001b[0m \u001b[0;34m[\u001b[0m\u001b[0mindexer\u001b[0m\u001b[0;34m]\u001b[0m\u001b[0;34m\u001b[0m\u001b[0;34m\u001b[0m\u001b[0m\n",
      "\u001b[0;32m~/opt/anaconda3/lib/python3.9/site-packages/pandas/core/indexes/base.py\u001b[0m in \u001b[0;36mget_loc\u001b[0;34m(self, key, method, tolerance)\u001b[0m\n\u001b[1;32m   3361\u001b[0m                 \u001b[0;32mreturn\u001b[0m \u001b[0mself\u001b[0m\u001b[0;34m.\u001b[0m\u001b[0m_engine\u001b[0m\u001b[0;34m.\u001b[0m\u001b[0mget_loc\u001b[0m\u001b[0;34m(\u001b[0m\u001b[0mcasted_key\u001b[0m\u001b[0;34m)\u001b[0m\u001b[0;34m\u001b[0m\u001b[0;34m\u001b[0m\u001b[0m\n\u001b[1;32m   3362\u001b[0m             \u001b[0;32mexcept\u001b[0m \u001b[0mKeyError\u001b[0m \u001b[0;32mas\u001b[0m \u001b[0merr\u001b[0m\u001b[0;34m:\u001b[0m\u001b[0;34m\u001b[0m\u001b[0;34m\u001b[0m\u001b[0m\n\u001b[0;32m-> 3363\u001b[0;31m                 \u001b[0;32mraise\u001b[0m \u001b[0mKeyError\u001b[0m\u001b[0;34m(\u001b[0m\u001b[0mkey\u001b[0m\u001b[0;34m)\u001b[0m \u001b[0;32mfrom\u001b[0m \u001b[0merr\u001b[0m\u001b[0;34m\u001b[0m\u001b[0;34m\u001b[0m\u001b[0m\n\u001b[0m\u001b[1;32m   3364\u001b[0m \u001b[0;34m\u001b[0m\u001b[0m\n\u001b[1;32m   3365\u001b[0m         \u001b[0;32mif\u001b[0m \u001b[0mis_scalar\u001b[0m\u001b[0;34m(\u001b[0m\u001b[0mkey\u001b[0m\u001b[0;34m)\u001b[0m \u001b[0;32mand\u001b[0m \u001b[0misna\u001b[0m\u001b[0;34m(\u001b[0m\u001b[0mkey\u001b[0m\u001b[0;34m)\u001b[0m \u001b[0;32mand\u001b[0m \u001b[0;32mnot\u001b[0m \u001b[0mself\u001b[0m\u001b[0;34m.\u001b[0m\u001b[0mhasnans\u001b[0m\u001b[0;34m:\u001b[0m\u001b[0;34m\u001b[0m\u001b[0;34m\u001b[0m\u001b[0m\n",
      "\u001b[0;31mKeyError\u001b[0m: 'Churn'"
     ]
    }
   ],
   "source": [
    "X=pd.concat([cat_df,num_df], axis=1) \n",
    "Y=X['Churn']\n",
    "X=X.drop('Churn',axis=1)\n",
    "X.shape\n",
    "X.info()"
   ]
  },
  {
   "cell_type": "code",
   "execution_count": null,
   "id": "8330813b",
   "metadata": {},
   "outputs": [],
   "source": [
    "from sklearn.model_selection import train_test_split\n",
    "X_train, X_test, y_train, y_test = train_test_split(X, Y, test_size=0.2, random_state=42)"
   ]
  },
  {
   "cell_type": "code",
   "execution_count": null,
   "id": "5d405c77",
   "metadata": {},
   "outputs": [],
   "source": [
    "# Normalizing\n",
    "def normal(name,X_train,y_train,X_test,y_test):\n",
    "    \n",
    "    while ( name not in ['MinMaxScaler','PowerTransformer','StandardScaler']):\n",
    "        value = input(\"Incorrect transformer name, please enter a valid one: [1:'MinMaxScaler',2:'PowerTransformer',3:'StandardScaler']\")\n",
    "        if ( value == '1'):\n",
    "            name = \"MinMaxScaler\"\n",
    "        elif ( value == '2'):\n",
    "            name = \"PowerTransformer\"\n",
    "        elif ( value == \"3\"):\n",
    "            name = \"StandardScaler\"\n",
    "        else:\n",
    "            name = None          \n",
    "    #X_train_df = pd.DataFrame(X_train, columns=X.columns)\n",
    "    #X_test_df  = pd.DataFrame(X_test,  columns=X.columns)\n",
    "    X_train_num = X_train.select_dtypes(include = np.number)\n",
    "    X_test_num  = X_test.select_dtypes(include = np.number)\n",
    "    X_train_cat = X_train.select_dtypes(include = 'object')\n",
    "    X_test_cat  = X_test.select_dtypes(include = 'object')\n",
    "    \n",
    "    encoder = OneHotEncoder(drop='first',handle_unknown = 'ignore')\n",
    "    encoder.fit(X_train_cat)\n",
    "    \n",
    "    X_train_cat_encoded = encoder.transform(X_train_cat).toarray()\n",
    "    cols = encoder.get_feature_names_out(input_features=X_train_cat.columns)\n",
    "    X_train_encoded_df = pd.DataFrame(X_train_cat_encoded, columns=cols, index = X_train_cat.index)\n",
    "    X_train_encoded = pd.concat([X_train_encoded_df,X_train_num], axis=1)\n",
    "    \n",
    "    X_test_cat_encoded = encoder.transform(X_test_cat).toarray()\n",
    "    X_test_cat_encoded_df = pd.DataFrame(X_test_cat_encoded,columns=cols, index = X_test_cat.index)\n",
    "    X_test_encoded = pd.concat([X_test_cat_encoded_df,X_test_num], axis=1)\n",
    "        \n",
    "    if name==\"MinMaxScaler\":\n",
    "        transformer = MinMaxScaler()\n",
    "        transformer.fit(X_train_encoded)\n",
    "    elif name==\"PowerTransformer\":\n",
    "        transformer = PowerTransformer()\n",
    "        transformer.fit(X_train_encoded)\n",
    "    elif name=='StandardScaler':\n",
    "        transformer = StandardScaler()\n",
    "        transformer.fit(X_train_encoded)\n",
    "        \n",
    "    X_train_scaled_total = transformer.transform(X_train_encoded)\n",
    "    X_train_scaled_total_df = pd.DataFrame(X_train_scaled_total, columns = X_train_encoded.columns)\n",
    "    X_test_scaled_total  = transformer.transform(X_test_encoded)\n",
    "    X_test_scaled_total_df = pd.DataFrame(X_test_scaled_total, columns= X_test_encoded.columns)\n",
    "\n",
    "    \n",
    "    return X_train_scaled_total_df, X_test_scaled_total_df"
   ]
  },
  {
   "cell_type": "code",
   "execution_count": null,
   "id": "3621c2ac",
   "metadata": {},
   "outputs": [],
   "source": [
    "def errors_check(y_train, y_pred_train, y_test, y_pred_test):\n",
    "    #Check the Errors\n",
    "    #accuracy\n",
    "    print(\"The accuracy of  in the TRAIN set is: {:.3f}\".format(accuracy_score(y_train, y_pred_train)))\n",
    "    print(\"The accuracy of in the TEST  set is: {:.3f}\".format(accuracy_score(y_test, y_pred_test)))\n",
    "\n",
    "    #Precission\n",
    "    print(\"The precission of in the TRAIN set is: {:.3f}\".format(precision_score(y_train, y_pred_train, pos_label=\"Yes\")))\n",
    "    print(\"The precission of in the TEST  set is: {:.3f}\".format(precision_score(y_test, y_pred_test, pos_label=\"Yes\")))\n",
    "\n",
    "    #Recall\n",
    "    print(\"The recall of  in the TRAIN set is: {:.3f}\".format(recall_score(y_train, y_pred_train, pos_label=\"Yes\")))\n",
    "    print(\"The recall of  in the TEST  set is: {:.3f}\".format(recall_score(y_test,  y_pred_test, pos_label=\"Yes\")))\n",
    "    #f1_score\n",
    "    print(\"The F1-score of for the TRAIN set is {:.2f}\".format(f1_score(y_train,y_pred_train, pos_label=\"Yes\")))\n",
    "    #Kappa\n",
    "    print(\"The kappa in of  the TRAIN- set is: {:.2f}\".format(cohen_kappa_score(y_train,y_pred_train)))\n",
    "    print(\"The kappa in of the TEST set is: {:.2f}\".format(cohen_kappa_score(y_test,y_pred_test)))"
   ]
  },
  {
   "cell_type": "markdown",
   "id": "1cbe9e81",
   "metadata": {},
   "source": [
    "# Prediction for Differnet Type of Normalization"
   ]
  },
  {
   "cell_type": "markdown",
   "id": "5f8d2e99",
   "metadata": {},
   "source": [
    "## MinMaxScaler"
   ]
  },
  {
   "cell_type": "code",
   "execution_count": null,
   "id": "19d5ce0e",
   "metadata": {},
   "outputs": [],
   "source": [
    "X_train_minmax, X_test_minmax=normal(\"MinMaxScaler\",X_train,y_train,X_test,y_test)"
   ]
  },
  {
   "cell_type": "code",
   "execution_count": null,
   "id": "e1c23d58",
   "metadata": {},
   "outputs": [],
   "source": [
    "#Prediction with KNN\n",
    "from sklearn.neighbors import KNeighborsClassifier\n",
    "neigh = KNeighborsClassifier(n_neighbors=3)\n",
    "neigh.fit(X_train_minmax,y_train)"
   ]
  },
  {
   "cell_type": "code",
   "execution_count": null,
   "id": "ce3cc5a0",
   "metadata": {},
   "outputs": [],
   "source": [
    "#perdict\n",
    "y_pred_train = neigh.predict(X_train_minmax)\n",
    "y_pred_test = neigh.predict(X_test_minmax)\n",
    "errors_check(y_train, y_pred_train, y_test, y_pred_test)"
   ]
  },
  {
   "cell_type": "code",
   "execution_count": null,
   "id": "81dd5d1c",
   "metadata": {},
   "outputs": [],
   "source": [
    "print(\"The confusion matrix on the TRAIN set is: \")\n",
    "cm_train = confusion_matrix(y_train,y_pred_train)\n",
    "cm_train\n",
    "disp = ConfusionMatrixDisplay(cm_train,display_labels=lr.classes_);\n",
    "disp.plot()\n",
    "plt.show()"
   ]
  },
  {
   "cell_type": "code",
   "execution_count": null,
   "id": "b33c427f",
   "metadata": {},
   "outputs": [],
   "source": [
    "#Predict with LogisticRegression\n",
    "from sklearn.linear_model import LogisticRegression\n",
    "lr = LogisticRegression(random_state=0, solver='lbfgs')\n",
    "lr.fit(X_train_minmax,y_train)"
   ]
  },
  {
   "cell_type": "code",
   "execution_count": null,
   "id": "88a3aa75",
   "metadata": {},
   "outputs": [],
   "source": [
    "#perdict\n",
    "y_pred_train = lr.predict(X_train_minmax)\n",
    "y_pred_test = lr.predict(X_test_minmax)"
   ]
  },
  {
   "cell_type": "code",
   "execution_count": null,
   "id": "800398ad",
   "metadata": {},
   "outputs": [],
   "source": [
    "errors_check(y_train, y_pred_train, y_test, y_pred_test)"
   ]
  },
  {
   "cell_type": "code",
   "execution_count": null,
   "id": "3c16e5d2",
   "metadata": {},
   "outputs": [],
   "source": [
    "print(\"The confusion matrix on the TRAIN set is: \")\n",
    "cm_train = confusion_matrix(y_train,y_pred_train)\n",
    "cm_train\n",
    "disp = ConfusionMatrixDisplay(cm_train,display_labels=lr.classes_);\n",
    "disp.plot()\n",
    "plt.show()"
   ]
  },
  {
   "cell_type": "markdown",
   "id": "1af62812",
   "metadata": {},
   "source": [
    "## \"PowerTransformer\""
   ]
  },
  {
   "cell_type": "code",
   "execution_count": null,
   "id": "55926305",
   "metadata": {},
   "outputs": [],
   "source": [
    "X_train_power, X_test_power=normal(\"PowerTransformer\",X_train,y_train,X_test,y_test)"
   ]
  },
  {
   "cell_type": "code",
   "execution_count": null,
   "id": "e5e50077",
   "metadata": {},
   "outputs": [],
   "source": [
    "#Prediction with KNN\n",
    "from sklearn.neighbors import KNeighborsClassifier\n",
    "neigh = KNeighborsClassifier(n_neighbors=3)\n",
    "neigh.fit(X_train_power,y_train)"
   ]
  },
  {
   "cell_type": "code",
   "execution_count": null,
   "id": "dc933c8c",
   "metadata": {},
   "outputs": [],
   "source": [
    "##Prediction with KNN\n",
    "y_pred_train = neigh.predict(X_train_power)\n",
    "y_pred_test = neigh.predict(X_test_power)"
   ]
  },
  {
   "cell_type": "code",
   "execution_count": null,
   "id": "1e5e207c",
   "metadata": {},
   "outputs": [],
   "source": [
    "errors_check(y_train, y_pred_train, y_test, y_pred_test)"
   ]
  },
  {
   "cell_type": "code",
   "execution_count": null,
   "id": "45ff81e7",
   "metadata": {},
   "outputs": [],
   "source": [
    "cm_train = confusion_matrix(y_train,y_pred_train)\n",
    "cm_train\n",
    "disp = ConfusionMatrixDisplay(cm_train,display_labels=lr.classes_);\n",
    "disp.plot()\n",
    "plt.show()"
   ]
  },
  {
   "cell_type": "code",
   "execution_count": null,
   "id": "3c1595ce",
   "metadata": {},
   "outputs": [],
   "source": [
    "from sklearn.linear_model import LogisticRegression\n",
    "lr = LogisticRegression(random_state=0, solver='lbfgs')\n",
    "lr.fit(X_train_power,y_train)"
   ]
  },
  {
   "cell_type": "code",
   "execution_count": null,
   "id": "2edb609f",
   "metadata": {},
   "outputs": [],
   "source": [
    "#perdict-PowerTransformer\n",
    "y_pred_train = lr.predict(X_train_power)\n",
    "y_pred_test = lr.predict(X_test_power)"
   ]
  },
  {
   "cell_type": "code",
   "execution_count": null,
   "id": "399fa50f",
   "metadata": {},
   "outputs": [],
   "source": [
    "errors_check(y_train, y_pred_train, y_test, y_pred_test)"
   ]
  },
  {
   "cell_type": "code",
   "execution_count": null,
   "id": "697450ce",
   "metadata": {},
   "outputs": [],
   "source": [
    "cm_train = confusion_matrix(y_train,y_pred_train)\n",
    "cm_train\n",
    "disp = ConfusionMatrixDisplay(cm_train,display_labels=lr.classes_);\n",
    "disp.plot()\n",
    "plt.show()"
   ]
  },
  {
   "cell_type": "code",
   "execution_count": null,
   "id": "f051f0eb",
   "metadata": {},
   "outputs": [],
   "source": [
    "ls=list(lr.coef_)\n",
    "df = pd.DataFrame()\n",
    "coeff_df = pd.DataFrame(df,X_train_power.columns, columns=['Coefficient'])\n",
    "for i in range(103):\n",
    "    coeff_df.iloc[i,0]=np.absolute(ls[0][i])\n",
    "#df.sort_values(by=['Coefficient'])\n",
    "coeff_df.to_csv('coef.csv')"
   ]
  },
  {
   "cell_type": "code",
   "execution_count": null,
   "id": "f523f30e",
   "metadata": {},
   "outputs": [],
   "source": [
    "coeff_df[['Coefficient']].sort_values(by='Coefficient', ascending=False )\n",
    "#data[['HandsetPrice','CustomerID']].sort_values(by='HandsetPrice',ascending=False)\n",
    "#data[['Age','CustomerID']].sort_values(by='Age')\n"
   ]
  },
  {
   "cell_type": "markdown",
   "id": "21152156",
   "metadata": {},
   "source": [
    "## StandardScaler"
   ]
  },
  {
   "cell_type": "code",
   "execution_count": null,
   "id": "d956e464",
   "metadata": {},
   "outputs": [],
   "source": [
    "X_train_stan, X_test_stan=normal(\"StandardScaler\",X_train,y_train,X_test,y_test)"
   ]
  },
  {
   "cell_type": "code",
   "execution_count": null,
   "id": "4bfc178c",
   "metadata": {},
   "outputs": [],
   "source": [
    "#Prediction KNN\n",
    "neigh = KNeighborsClassifier(n_neighbors=3)\n",
    "neigh.fit(X_train_stan,y_train)"
   ]
  },
  {
   "cell_type": "code",
   "execution_count": null,
   "id": "56e498cf",
   "metadata": {},
   "outputs": [],
   "source": [
    "y_pred_train = neigh.predict(X_train_stan)\n",
    "y_pred_test = neigh.predict(X_test_stan)"
   ]
  },
  {
   "cell_type": "code",
   "execution_count": null,
   "id": "38c73385",
   "metadata": {},
   "outputs": [],
   "source": [
    "errors_check(y_train, y_pred_train, y_test, y_pred_test)"
   ]
  },
  {
   "cell_type": "code",
   "execution_count": null,
   "id": "d9d90d3d",
   "metadata": {},
   "outputs": [],
   "source": [
    "cm_train = confusion_matrix(y_train,y_pred_train)\n",
    "cm_train\n",
    "disp = ConfusionMatrixDisplay(cm_train,display_labels=lr.classes_);\n",
    "disp.plot()\n",
    "plt.show()"
   ]
  },
  {
   "cell_type": "code",
   "execution_count": null,
   "id": "7beb55e2",
   "metadata": {},
   "outputs": [],
   "source": [
    "#Prediction LogisticRegression\n",
    "lr = LogisticRegression(random_state=0, solver='lbfgs')\n",
    "lr.fit(X_train_stan,y_train)"
   ]
  },
  {
   "cell_type": "code",
   "execution_count": null,
   "id": "f227346e",
   "metadata": {},
   "outputs": [],
   "source": [
    "#perdict-StandardScalerTransformer\n",
    "y_pred_train = lr.predict(X_train_stan)\n",
    "y_pred_test = lr.predict(X_test_stan)"
   ]
  },
  {
   "cell_type": "code",
   "execution_count": null,
   "id": "76cd4087",
   "metadata": {},
   "outputs": [],
   "source": [
    "errors_check(y_train, y_pred_train, y_test, y_pred_test)"
   ]
  },
  {
   "cell_type": "code",
   "execution_count": null,
   "id": "a19193d3",
   "metadata": {},
   "outputs": [],
   "source": [
    "print(\"The confusion matrix on the TRAIN set is: \")\n",
    "cm_train = confusion_matrix(y_train, y_pred_train)\n",
    "cm_train\n",
    "disp = ConfusionMatrixDisplay(cm_train,display_labels=lr.classes_);\n",
    "disp.plot()\n",
    "plt.show()"
   ]
  },
  {
   "cell_type": "markdown",
   "id": "369a5d97",
   "metadata": {},
   "source": [
    "# OverSampling"
   ]
  },
  {
   "cell_type": "code",
   "execution_count": null,
   "id": "313df251",
   "metadata": {},
   "outputs": [],
   "source": [
    "from imblearn.over_sampling import SMOTE"
   ]
  },
  {
   "cell_type": "code",
   "execution_count": null,
   "id": "f9056936",
   "metadata": {},
   "outputs": [],
   "source": [
    "sm = SMOTE(random_state=100,k_neighbors=3)\n",
    "X_train_SMOTE,y_train_SMOTE = sm.fit_resample(X_train_power,y_train)"
   ]
  },
  {
   "cell_type": "code",
   "execution_count": null,
   "id": "ca5e40c5",
   "metadata": {},
   "outputs": [],
   "source": [
    "neigh = KNeighborsClassifier(n_neighbors=3)\n",
    "neigh.fit(X_train_SMOTE,y_train_SMOTE)"
   ]
  },
  {
   "cell_type": "code",
   "execution_count": null,
   "id": "25a2c2c8",
   "metadata": {},
   "outputs": [],
   "source": [
    "y_pred_train = neigh.predict(X_train_SMOTE)\n",
    "y_pred_test = neigh.predict(X_test_power)"
   ]
  },
  {
   "cell_type": "code",
   "execution_count": null,
   "id": "8d67c2dc",
   "metadata": {},
   "outputs": [],
   "source": [
    "errors_check(y_train_SMOTE, y_pred_train, y_test, y_pred_test)"
   ]
  },
  {
   "cell_type": "code",
   "execution_count": null,
   "id": "a7f7a4b5",
   "metadata": {},
   "outputs": [],
   "source": [
    "cm_test = confusion_matrix(y_test,y_pred_test)\n",
    "disp = ConfusionMatrixDisplay(confusion_matrix=cm_test, display_labels=lr.classes_)\n",
    "disp.plot()\n",
    "plt.show()"
   ]
  },
  {
   "cell_type": "code",
   "execution_count": null,
   "id": "d462ebe8",
   "metadata": {},
   "outputs": [],
   "source": [
    "lr = LogisticRegression(max_iter=1000)\n",
    "lr.fit(X_train_SMOTE, y_train_SMOTE)\n",
    "y_pred_test = lr.predict(X_test_power)\n",
    "y_pred_train = lr.predict(X_train_SMOTE)"
   ]
  },
  {
   "cell_type": "code",
   "execution_count": null,
   "id": "9dea2232",
   "metadata": {},
   "outputs": [],
   "source": [
    "errors_check(y_train_SMOTE, y_pred_train, y_test, y_pred_test)"
   ]
  },
  {
   "cell_type": "code",
   "execution_count": null,
   "id": "19defa5c",
   "metadata": {
    "scrolled": true
   },
   "outputs": [],
   "source": [
    "cm_test = confusion_matrix(y_test,y_pred_test)\n",
    "disp = ConfusionMatrixDisplay(confusion_matrix=cm_test, display_labels=lr.classes_)\n",
    "disp.plot()\n",
    "plt.show()"
   ]
  },
  {
   "cell_type": "code",
   "execution_count": null,
   "id": "a6229693",
   "metadata": {},
   "outputs": [],
   "source": [
    "!pip install imbalanced-learn\n"
   ]
  },
  {
   "cell_type": "code",
   "execution_count": null,
   "id": "45f8c018",
   "metadata": {},
   "outputs": [],
   "source": [
    "# check version number\n",
    "import imblearn\n",
    "print(imblearn.__version__)"
   ]
  },
  {
   "cell_type": "code",
   "execution_count": null,
   "id": "16c30769",
   "metadata": {},
   "outputs": [],
   "source": [
    "from imblearn.over_sampling import RandomOverSampler\n",
    "oversample = RandomOverSampler(sampling_strategy='minority')\n",
    "oversample = RandomOverSampler(sampling_strategy=1)\n",
    "X_train_over, y_train_over = oversample.fit_resample(X_train_power,y_train)"
   ]
  },
  {
   "cell_type": "code",
   "execution_count": null,
   "id": "be8a2a90",
   "metadata": {},
   "outputs": [],
   "source": [
    "neigh = KNeighborsClassifier(n_neighbors=3)\n",
    "neigh.fit(X_train_over, y_train_over)"
   ]
  },
  {
   "cell_type": "code",
   "execution_count": null,
   "id": "ef82be13",
   "metadata": {},
   "outputs": [],
   "source": [
    "y_pred_train = neigh.predict(X_train_over)\n",
    "y_pred_test = neigh.predict(X_test_power)"
   ]
  },
  {
   "cell_type": "code",
   "execution_count": null,
   "id": "0725310c",
   "metadata": {},
   "outputs": [],
   "source": [
    "errors_check(y_train_over, y_pred_train, y_test, y_pred_test)"
   ]
  },
  {
   "cell_type": "code",
   "execution_count": null,
   "id": "50bba40e",
   "metadata": {},
   "outputs": [],
   "source": [
    "cm_test = confusion_matrix(y_test,y_pred_test)\n",
    "disp = ConfusionMatrixDisplay(confusion_matrix=cm_test, display_labels=lr.classes_)\n",
    "disp.plot()\n",
    "plt.show()"
   ]
  },
  {
   "cell_type": "code",
   "execution_count": null,
   "id": "30cb9dd0",
   "metadata": {},
   "outputs": [],
   "source": [
    "lr = LogisticRegression(max_iter=1000)\n",
    "lr.fit(X_train_over, y_train_over)\n",
    "y_pred_test = lr.predict(X_test_power)\n",
    "y_pred_train = lr.predict(X_train_over)"
   ]
  },
  {
   "cell_type": "code",
   "execution_count": null,
   "id": "5f494669",
   "metadata": {},
   "outputs": [],
   "source": [
    "errors_check(y_train_over, y_pred_train, y_test, y_pred_test)"
   ]
  },
  {
   "cell_type": "code",
   "execution_count": null,
   "id": "9bfcd524",
   "metadata": {},
   "outputs": [],
   "source": [
    "cm_test = confusion_matrix(y_test,y_pred_test)\n",
    "disp = ConfusionMatrixDisplay(confusion_matrix=cm_test, display_labels=lr.classes_)\n",
    "disp.plot()\n",
    "plt.show()"
   ]
  },
  {
   "cell_type": "code",
   "execution_count": null,
   "id": "3133e80d",
   "metadata": {},
   "outputs": [],
   "source": []
  },
  {
   "cell_type": "markdown",
   "id": "7f6b52de",
   "metadata": {
    "collapsed": true
   },
   "source": [
    "# Under sampling"
   ]
  },
  {
   "cell_type": "code",
   "execution_count": null,
   "id": "8675c842",
   "metadata": {},
   "outputs": [],
   "source": []
  },
  {
   "cell_type": "markdown",
   "id": "4f2623e8",
   "metadata": {},
   "source": [
    "### NearMiss"
   ]
  },
  {
   "cell_type": "code",
   "execution_count": null,
   "id": "8158113a",
   "metadata": {},
   "outputs": [],
   "source": [
    "from imblearn.under_sampling import NearMiss\n",
    "nm = NearMiss(version=1)\n",
    "X_train_under, y_train_under = nm.fit_resample(X_train_power,y_train)"
   ]
  },
  {
   "cell_type": "code",
   "execution_count": null,
   "id": "f39402b0",
   "metadata": {},
   "outputs": [],
   "source": [
    "#KNN-UnderSampling\n",
    "neigh = KNeighborsClassifier(n_neighbors=3)\n",
    "neigh.fit(X_train_under, y_train_under)"
   ]
  },
  {
   "cell_type": "code",
   "execution_count": null,
   "id": "7dd52415",
   "metadata": {},
   "outputs": [],
   "source": [
    "y_pred_train = neigh.predict(X_train_under)\n",
    "y_pred_test = neigh.predict(X_test_power)"
   ]
  },
  {
   "cell_type": "code",
   "execution_count": null,
   "id": "b0fd79de",
   "metadata": {},
   "outputs": [],
   "source": [
    "errors_check(y_train_under, y_pred_train, y_test, y_pred_test)"
   ]
  },
  {
   "cell_type": "code",
   "execution_count": null,
   "id": "d5ef4372",
   "metadata": {},
   "outputs": [],
   "source": [
    "cm_test = confusion_matrix(y_test,y_pred_test)\n",
    "disp = ConfusionMatrixDisplay(confusion_matrix=cm_test, display_labels=lr.classes_)\n",
    "disp.plot()\n",
    "plt.show()"
   ]
  },
  {
   "cell_type": "code",
   "execution_count": null,
   "id": "7d71763e",
   "metadata": {},
   "outputs": [],
   "source": [
    "#LogisticRegression_Under Sampling\n",
    "lr.fit(X_train_under, y_train_under)\n",
    "y_pred_test = lr.predict(X_test_power)\n",
    "y_pred_train = lr.predict(X_train_under)"
   ]
  },
  {
   "cell_type": "code",
   "execution_count": null,
   "id": "c24418fd",
   "metadata": {},
   "outputs": [],
   "source": [
    "errors_check(y_train_under,y_pred_train, y_test, y_pred_test)"
   ]
  },
  {
   "cell_type": "markdown",
   "id": "427930ca",
   "metadata": {},
   "source": []
  },
  {
   "cell_type": "code",
   "execution_count": null,
   "id": "e668944c",
   "metadata": {},
   "outputs": [],
   "source": [
    "from imblearn.under_sampling import NearMiss\n",
    "nm1 = NearMiss(version=1)\n",
    "X_train_nm, y_train_nm = nm1.fit_resample(X_train_power,y_train)"
   ]
  },
  {
   "cell_type": "code",
   "execution_count": null,
   "id": "e5f1124e",
   "metadata": {},
   "outputs": [],
   "source": [
    "#KNN-NearMiss\n",
    "neigh = KNeighborsClassifier(n_neighbors=5)\n",
    "neigh.fit(X_train_nm,y_train_nm )\n",
    "y_pred_train = neigh.predict(X_train_nm)\n",
    "y_pred_test = neigh.predict(X_test_power)"
   ]
  },
  {
   "cell_type": "code",
   "execution_count": null,
   "id": "476ef2c4",
   "metadata": {},
   "outputs": [],
   "source": [
    "errors_check(y_train_under,y_pred_train, y_test, y_pred_test)"
   ]
  },
  {
   "cell_type": "code",
   "execution_count": null,
   "id": "3df1b3ca",
   "metadata": {},
   "outputs": [],
   "source": [
    "cm_test = confusion_matrix(y_test,y_pred_test)\n",
    "disp = ConfusionMatrixDisplay(confusion_matrix=cm_test, display_labels=lr.classes_)\n",
    "disp.plot()\n",
    "plt.show()"
   ]
  },
  {
   "cell_type": "code",
   "execution_count": null,
   "id": "de05ac85",
   "metadata": {},
   "outputs": [],
   "source": [
    "#LogisticRegression_NearMiss\n",
    "lr.fit(X_train_under, y_train_under)\n",
    "y_pred_test = lr.predict(X_test_power)\n",
    "y_pred_train = lr.predict(X_train_nm)"
   ]
  },
  {
   "cell_type": "code",
   "execution_count": null,
   "id": "e18c3829",
   "metadata": {},
   "outputs": [],
   "source": [
    "errors_check(y_train_under,y_pred_train, y_test, y_pred_test)"
   ]
  },
  {
   "cell_type": "code",
   "execution_count": null,
   "id": "5906c298",
   "metadata": {},
   "outputs": [],
   "source": [
    "cm_test = confusion_matrix(y_test,y_pred_test)\n",
    "disp = ConfusionMatrixDisplay(confusion_matrix=cm_test, display_labels=lr.classes_)\n",
    "disp.plot()\n",
    "plt.show()"
   ]
  },
  {
   "cell_type": "markdown",
   "id": "915298d7",
   "metadata": {},
   "source": [
    "### ClusterCentroids"
   ]
  },
  {
   "cell_type": "code",
   "execution_count": null,
   "id": "058a3d65",
   "metadata": {},
   "outputs": [],
   "source": [
    "from imblearn.under_sampling import ClusterCentroids\n",
    "cc = ClusterCentroids(random_state=0)\n",
    "X_train_clu, y_train_clu = cc.fit_resample(X_train_power,y_train)"
   ]
  },
  {
   "cell_type": "code",
   "execution_count": null,
   "id": "603cfea1",
   "metadata": {},
   "outputs": [],
   "source": [
    "#KNN-Clustercentroids\n",
    "neigh = KNeighborsClassifier(n_neighbors=3)\n",
    "neigh.fit(X_train_clu, y_train_clu)\n",
    "y_pred_train = neigh.predict(X_train_clu)\n",
    "y_pred_test = neigh.predict(X_test_power)"
   ]
  },
  {
   "cell_type": "code",
   "execution_count": null,
   "id": "33f3398f",
   "metadata": {},
   "outputs": [],
   "source": [
    "errors_check(y_train_under,y_pred_train, y_test, y_pred_test)"
   ]
  },
  {
   "cell_type": "code",
   "execution_count": null,
   "id": "d34bd20a",
   "metadata": {},
   "outputs": [],
   "source": [
    "cm_test = confusion_matrix(y_test,y_pred_test)\n",
    "disp = ConfusionMatrixDisplay(confusion_matrix=cm_test, display_labels=lr.classes_)\n",
    "disp.plot()\n",
    "plt.show()"
   ]
  },
  {
   "cell_type": "code",
   "execution_count": null,
   "id": "f8644c7e",
   "metadata": {},
   "outputs": [],
   "source": [
    "lr = LogisticRegression(max_iter=1000)\n",
    "lr.fit(X_resampled_nm1, y_resampled)\n",
    "y_pred_test = lr.predict(X_test_power)\n",
    "y_pred_train = lr.predict(X_resampled)"
   ]
  },
  {
   "cell_type": "code",
   "execution_count": null,
   "id": "4abdc621",
   "metadata": {},
   "outputs": [],
   "source": [
    "cm_test = confusion_matrix(y_test,y_pred_test)\n",
    "disp = ConfusionMatrixDisplay(confusion_matrix=cm_test, display_labels=lr.classes_)\n",
    "disp.plot()\n",
    "plt.show()"
   ]
  },
  {
   "cell_type": "markdown",
   "id": "9c52410c",
   "metadata": {},
   "source": [
    "# Analyse Customer Data"
   ]
  },
  {
   "cell_type": "markdown",
   "id": "aaa83e79",
   "metadata": {},
   "source": [
    "## Define High value Customer(HVC)"
   ]
  },
  {
   "cell_type": "code",
   "execution_count": null,
   "id": "21d27013",
   "metadata": {},
   "outputs": [],
   "source": [
    "labels = [\"Very Low\", \"Moderate \",\"High\"]\n",
    "cut_bins =[-6,57,100,200]\n",
    "data['Revene_per_account'] = pd.cut(data['MonthlyRevenue'], cut_bins, labels = labels)\n",
    "data['Revene_per_account'].value_counts()"
   ]
  },
  {
   "cell_type": "code",
   "execution_count": null,
   "id": "9a8693f6",
   "metadata": {},
   "outputs": [],
   "source": [
    "#labels = [\"Low\", \"Moderate\", \"High\"]\n",
    "#cut_bins = [6,15,24,62]\n",
    "#data['Tenure_level'] = pd.qcut(data['MonthsInService'],cut_bins, labels=labels)\n",
    "#data.index==296322\n",
    "#data.iloc[[296322]]"
   ]
  },
  {
   "cell_type": "code",
   "execution_count": null,
   "id": "71080252",
   "metadata": {},
   "outputs": [],
   "source": [
    "data['Tenure_level'] = np.where((data['MonthsInService']<18),\"Low\",data['Tenure_level'])\n",
    "data['Tenure_level'] = np.where((data['MonthsInService']>=18)\n",
    "                                &(data['MonthsInService']<36),\"Moderate\",data['Tenure_level'])\n",
    "data['Tenure_level'] = np.where((data['MonthsInService']>=36),\"High\",data['Tenure_level'])"
   ]
  },
  {
   "cell_type": "code",
   "execution_count": null,
   "id": "4b12caf8",
   "metadata": {},
   "outputs": [],
   "source": [
    "data['Tenure_level'].value_counts()"
   ]
  },
  {
   "cell_type": "code",
   "execution_count": null,
   "id": "a50b31f6",
   "metadata": {},
   "outputs": [],
   "source": []
  },
  {
   "cell_type": "code",
   "execution_count": null,
   "id": "64147e2c",
   "metadata": {},
   "outputs": [],
   "source": [
    "data['HVC'] = np.where(((data['Tenure_level']==\"High\")&(data['Revene_per_account']=='High'))\n",
    "    |((data['Tenure_level']==\"Moderate\")& (data['Revene_per_account']=='High')),\"Yes\",\"No\")\n",
    "data[data[['HVC','Revene_per_account','Tenure_level']]['HVC']==\"Yes\"]"
   ]
  },
  {
   "cell_type": "code",
   "execution_count": null,
   "id": "d6c3e33b",
   "metadata": {},
   "outputs": [],
   "source": [
    "#labels = [\"1, \"2\", \"3\", \"4\", \"5\",\"6\",\"7\", \"8\", \"9\", \"10\"]\n",
    "#bins = pd.cut(data['MonthlyRevenue'],10, labels=labels)\n",
    "#data['Revene_per_account'] = pd.cut(data['MonthlyRevenue'], 10, labels = labels)\n",
    "#bins.value_counts()"
   ]
  },
  {
   "cell_type": "code",
   "execution_count": null,
   "id": "0adf92a2",
   "metadata": {},
   "outputs": [],
   "source": [
    "from sklearn.datasets import load_iris\n",
    "from sklearn.model_selection import cross_val_score\n",
    "from sklearn.tree import DecisionTreeClassifier\n",
    "dtc = DecisionTreeClassifier(random_state = 42)\n",
    "#accuracies = cross_val_score(dtc,X_train_power,y_train, cv=5)\n",
    "dtc.fit(X_train_power,y_train)\n",
    "y_pred = dtc.predict(X_test)\n",
    "\n",
    "\n",
    "lr = LogisticRegression(max_iter=1000)\n",
    "lr.fit(X_resampled_nm1, y_resampled)\n",
    "y_pred_test = lr.predict(X_test_minmax)\n",
    "y_pred_train = lr.predict(X_resampled_nm1)\n",
    "#Obtain accuracy\n",
    "#print(\"Train Score:\",np.mean(accuracies))\n",
    "#print(\"Test Score:\",dtc.score(X_test,y_test))"
   ]
  }
 ],
 "metadata": {
  "kernelspec": {
   "display_name": "Python 3 (ipykernel)",
   "language": "python",
   "name": "python3"
  },
  "language_info": {
   "codemirror_mode": {
    "name": "ipython",
    "version": 3
   },
   "file_extension": ".py",
   "mimetype": "text/x-python",
   "name": "python",
   "nbconvert_exporter": "python",
   "pygments_lexer": "ipython3",
   "version": "3.9.7"
  },
  "toc": {
   "base_numbering": 1,
   "nav_menu": {},
   "number_sections": true,
   "sideBar": true,
   "skip_h1_title": false,
   "title_cell": "Table of Contents",
   "title_sidebar": "Contents",
   "toc_cell": true,
   "toc_position": {
    "height": "calc(100% - 180px)",
    "left": "10px",
    "top": "150px",
    "width": "256px"
   },
   "toc_section_display": true,
   "toc_window_display": false
  },
  "varInspector": {
   "cols": {
    "lenName": 16,
    "lenType": 16,
    "lenVar": 40
   },
   "kernels_config": {
    "python": {
     "delete_cmd_postfix": "",
     "delete_cmd_prefix": "del ",
     "library": "var_list.py",
     "varRefreshCmd": "print(var_dic_list())"
    },
    "r": {
     "delete_cmd_postfix": ") ",
     "delete_cmd_prefix": "rm(",
     "library": "var_list.r",
     "varRefreshCmd": "cat(var_dic_list()) "
    }
   },
   "types_to_exclude": [
    "module",
    "function",
    "builtin_function_or_method",
    "instance",
    "_Feature"
   ],
   "window_display": false
  }
 },
 "nbformat": 4,
 "nbformat_minor": 5
}
