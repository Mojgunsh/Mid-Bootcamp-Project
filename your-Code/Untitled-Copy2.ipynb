{
 "cells": [
  {
   "cell_type": "markdown",
   "id": "0cfae56b",
   "metadata": {
    "toc": true
   },
   "source": [
    "<h1>Table of Contents<span class=\"tocSkip\"></span></h1>\n",
    "<div class=\"toc\"><ul class=\"toc-item\"><li><span><a href=\"#importing-Data-&amp;-Libraries\" data-toc-modified-id=\"importing-Data-&amp;-Libraries-1\"><span class=\"toc-item-num\">1&nbsp;&nbsp;</span>importing Data &amp; Libraries</a></span></li><li><span><a href=\"#Cleaning-Data\" data-toc-modified-id=\"Cleaning-Data-2\"><span class=\"toc-item-num\">2&nbsp;&nbsp;</span>Cleaning Data</a></span><ul class=\"toc-item\"><li><span><a href=\"#Dealing-with-Null-values-in-Data\" data-toc-modified-id=\"Dealing-with-Null-values-in-Data-2.1\"><span class=\"toc-item-num\">2.1&nbsp;&nbsp;</span>Dealing with Null values in Data</a></span></li><li><span><a href=\"#Dealing-with-Missing-values-in-Data\" data-toc-modified-id=\"Dealing-with-Missing-values-in-Data-2.2\"><span class=\"toc-item-num\">2.2&nbsp;&nbsp;</span>Dealing with Missing values in Data</a></span><ul class=\"toc-item\"><li><span><a href=\"#ServiceArea(Categorical)\" data-toc-modified-id=\"ServiceArea(Categorical)-2.2.1\"><span class=\"toc-item-num\">2.2.1&nbsp;&nbsp;</span>ServiceArea(Categorical)</a></span></li><li><span><a href=\"#Age(Numerical)\" data-toc-modified-id=\"Age(Numerical)-2.2.2\"><span class=\"toc-item-num\">2.2.2&nbsp;&nbsp;</span>Age(Numerical)</a></span></li><li><span><a href=\"#HandsetPrice\" data-toc-modified-id=\"HandsetPrice-2.2.3\"><span class=\"toc-item-num\">2.2.3&nbsp;&nbsp;</span>HandsetPrice</a></span></li></ul></li><li><span><a href=\"#Changing-the-Numerical-ordinal-to-Catrgorical-ordinal\" data-toc-modified-id=\"Changing-the-Numerical-ordinal-to-Catrgorical-ordinal-2.3\"><span class=\"toc-item-num\">2.3&nbsp;&nbsp;</span>Changing the Numerical ordinal to Catrgorical ordinal</a></span><ul class=\"toc-item\"><li><span><a href=\"#CreditRating\" data-toc-modified-id=\"CreditRating-2.3.1\"><span class=\"toc-item-num\">2.3.1&nbsp;&nbsp;</span>CreditRating</a></span></li></ul></li><li><span><a href=\"#Removing-multicollinearity\" data-toc-modified-id=\"Removing-multicollinearity-2.4\"><span class=\"toc-item-num\">2.4&nbsp;&nbsp;</span>Removing multicollinearity</a></span></li><li><span><a href=\"#removing-Outliers\" data-toc-modified-id=\"removing-Outliers-2.5\"><span class=\"toc-item-num\">2.5&nbsp;&nbsp;</span>removing Outliers</a></span></li></ul></li><li><span><a href=\"#Normalizing\" data-toc-modified-id=\"Normalizing-3\"><span class=\"toc-item-num\">3&nbsp;&nbsp;</span>Normalizing</a></span></li><li><span><a href=\"#Prediction-for-Differnet-Type-of-Normalization\" data-toc-modified-id=\"Prediction-for-Differnet-Type-of-Normalization-4\"><span class=\"toc-item-num\">4&nbsp;&nbsp;</span>Prediction for Differnet Type of Normalization</a></span><ul class=\"toc-item\"><li><span><a href=\"#MinMaxScaler\" data-toc-modified-id=\"MinMaxScaler-4.1\"><span class=\"toc-item-num\">4.1&nbsp;&nbsp;</span>MinMaxScaler</a></span></li><li><span><a href=\"#&quot;PowerTransformer&quot;\" data-toc-modified-id=\"&quot;PowerTransformer&quot;-4.2\"><span class=\"toc-item-num\">4.2&nbsp;&nbsp;</span>\"PowerTransformer\"</a></span></li><li><span><a href=\"#StandardScaler\" data-toc-modified-id=\"StandardScaler-4.3\"><span class=\"toc-item-num\">4.3&nbsp;&nbsp;</span>StandardScaler</a></span></li></ul></li></ul></div>"
   ]
  },
  {
   "cell_type": "markdown",
   "id": "c536ae7a",
   "metadata": {},
   "source": [
    "# importing Data & Libraries"
   ]
  },
  {
   "cell_type": "code",
   "execution_count": 106,
   "id": "8203d633",
   "metadata": {},
   "outputs": [],
   "source": [
    "import pandas as pd\n",
    "import numpy as np\n",
    "from sklearn.impute import KNNImputer\n",
    "import matplotlib.pyplot as plt\n",
    "%matplotlib inline\n",
    "import seaborn as sns\n",
    "from sklearn.preprocessing import PowerTransformer\n",
    "from statsmodels.stats.outliers_influence import variance_inflation_factor\n",
    "from statsmodels.tools.tools import add_constant\n",
    "from sklearn.preprocessing import PowerTransformer\n",
    "from sklearn.preprocessing import MinMaxScaler\n",
    "from sklearn.preprocessing import OneHotEncoder\n",
    "from sklearn.preprocessing import StandardScaler\n",
    "from sklearn.neighbors import KNeighborsRegressor\n",
    "from sklearn.neighbors import KNeighborsClassifier\n",
    "from sklearn.metrics import confusion_matrix, accuracy_score, precision_score, recall_score, ConfusionMatrixDisplay\n",
    "from sklearn.metrics import classification_report, f1_score, cohen_kappa_score,mean_squared_error\n",
    "from sklearn.metrics import mean_squared_error,r2_score"
   ]
  },
  {
   "cell_type": "code",
   "execution_count": 107,
   "id": "b777cc27",
   "metadata": {},
   "outputs": [
    {
     "data": {
      "text/html": [
       "<div>\n",
       "<style scoped>\n",
       "    .dataframe tbody tr th:only-of-type {\n",
       "        vertical-align: middle;\n",
       "    }\n",
       "\n",
       "    .dataframe tbody tr th {\n",
       "        vertical-align: top;\n",
       "    }\n",
       "\n",
       "    .dataframe thead th {\n",
       "        text-align: right;\n",
       "    }\n",
       "</style>\n",
       "<table border=\"1\" class=\"dataframe\">\n",
       "  <thead>\n",
       "    <tr style=\"text-align: right;\">\n",
       "      <th></th>\n",
       "      <th>CustomerID</th>\n",
       "      <th>Churn</th>\n",
       "      <th>MonthlyRevenue</th>\n",
       "      <th>MonthlyMinutes</th>\n",
       "      <th>TotalRecurringCharge</th>\n",
       "      <th>DirectorAssistedCalls</th>\n",
       "      <th>OverageMinutes</th>\n",
       "      <th>RoamingCalls</th>\n",
       "      <th>PercChangeMinutes</th>\n",
       "      <th>PercChangeRevenues</th>\n",
       "      <th>...</th>\n",
       "      <th>ReferralsMadeBySubscriber</th>\n",
       "      <th>IncomeGroup</th>\n",
       "      <th>OwnsMotorcycle</th>\n",
       "      <th>AdjustmentsToCreditRating</th>\n",
       "      <th>HandsetPrice</th>\n",
       "      <th>MadeCallToRetentionTeam</th>\n",
       "      <th>CreditRating</th>\n",
       "      <th>PrizmCode</th>\n",
       "      <th>Occupation</th>\n",
       "      <th>MaritalStatus</th>\n",
       "    </tr>\n",
       "  </thead>\n",
       "  <tbody>\n",
       "    <tr>\n",
       "      <th>0</th>\n",
       "      <td>3378298</td>\n",
       "      <td>No</td>\n",
       "      <td>-6.17</td>\n",
       "      <td>0.0</td>\n",
       "      <td>-6.0</td>\n",
       "      <td>0.00</td>\n",
       "      <td>0.0</td>\n",
       "      <td>0.0</td>\n",
       "      <td>0.0</td>\n",
       "      <td>6.2</td>\n",
       "      <td>...</td>\n",
       "      <td>0</td>\n",
       "      <td>6</td>\n",
       "      <td>No</td>\n",
       "      <td>0</td>\n",
       "      <td>Unknown</td>\n",
       "      <td>No</td>\n",
       "      <td>7-Lowest</td>\n",
       "      <td>Suburban</td>\n",
       "      <td>Other</td>\n",
       "      <td>No</td>\n",
       "    </tr>\n",
       "    <tr>\n",
       "      <th>1</th>\n",
       "      <td>3265738</td>\n",
       "      <td>No</td>\n",
       "      <td>-5.86</td>\n",
       "      <td>0.0</td>\n",
       "      <td>-5.0</td>\n",
       "      <td>0.00</td>\n",
       "      <td>0.0</td>\n",
       "      <td>0.0</td>\n",
       "      <td>0.0</td>\n",
       "      <td>5.9</td>\n",
       "      <td>...</td>\n",
       "      <td>0</td>\n",
       "      <td>6</td>\n",
       "      <td>No</td>\n",
       "      <td>0</td>\n",
       "      <td>Unknown</td>\n",
       "      <td>No</td>\n",
       "      <td>3-Good</td>\n",
       "      <td>Suburban</td>\n",
       "      <td>Other</td>\n",
       "      <td>Yes</td>\n",
       "    </tr>\n",
       "    <tr>\n",
       "      <th>2</th>\n",
       "      <td>3210322</td>\n",
       "      <td>No</td>\n",
       "      <td>-2.52</td>\n",
       "      <td>211.0</td>\n",
       "      <td>0.0</td>\n",
       "      <td>0.33</td>\n",
       "      <td>0.0</td>\n",
       "      <td>0.0</td>\n",
       "      <td>NaN</td>\n",
       "      <td>NaN</td>\n",
       "      <td>...</td>\n",
       "      <td>0</td>\n",
       "      <td>0</td>\n",
       "      <td>No</td>\n",
       "      <td>0</td>\n",
       "      <td>30</td>\n",
       "      <td>No</td>\n",
       "      <td>3-Good</td>\n",
       "      <td>Suburban</td>\n",
       "      <td>Other</td>\n",
       "      <td>Unknown</td>\n",
       "    </tr>\n",
       "    <tr>\n",
       "      <th>3</th>\n",
       "      <td>3096670</td>\n",
       "      <td>Yes</td>\n",
       "      <td>0.00</td>\n",
       "      <td>2.0</td>\n",
       "      <td>0.0</td>\n",
       "      <td>0.00</td>\n",
       "      <td>0.0</td>\n",
       "      <td>0.0</td>\n",
       "      <td>NaN</td>\n",
       "      <td>NaN</td>\n",
       "      <td>...</td>\n",
       "      <td>0</td>\n",
       "      <td>0</td>\n",
       "      <td>No</td>\n",
       "      <td>0</td>\n",
       "      <td>30</td>\n",
       "      <td>No</td>\n",
       "      <td>5-Low</td>\n",
       "      <td>Suburban</td>\n",
       "      <td>Other</td>\n",
       "      <td>Unknown</td>\n",
       "    </tr>\n",
       "    <tr>\n",
       "      <th>4</th>\n",
       "      <td>3103410</td>\n",
       "      <td>Yes</td>\n",
       "      <td>0.00</td>\n",
       "      <td>55.0</td>\n",
       "      <td>0.0</td>\n",
       "      <td>0.00</td>\n",
       "      <td>0.0</td>\n",
       "      <td>0.0</td>\n",
       "      <td>NaN</td>\n",
       "      <td>NaN</td>\n",
       "      <td>...</td>\n",
       "      <td>0</td>\n",
       "      <td>4</td>\n",
       "      <td>No</td>\n",
       "      <td>0</td>\n",
       "      <td>10</td>\n",
       "      <td>No</td>\n",
       "      <td>4-Medium</td>\n",
       "      <td>Other</td>\n",
       "      <td>Other</td>\n",
       "      <td>Unknown</td>\n",
       "    </tr>\n",
       "    <tr>\n",
       "      <th>...</th>\n",
       "      <td>...</td>\n",
       "      <td>...</td>\n",
       "      <td>...</td>\n",
       "      <td>...</td>\n",
       "      <td>...</td>\n",
       "      <td>...</td>\n",
       "      <td>...</td>\n",
       "      <td>...</td>\n",
       "      <td>...</td>\n",
       "      <td>...</td>\n",
       "      <td>...</td>\n",
       "      <td>...</td>\n",
       "      <td>...</td>\n",
       "      <td>...</td>\n",
       "      <td>...</td>\n",
       "      <td>...</td>\n",
       "      <td>...</td>\n",
       "      <td>...</td>\n",
       "      <td>...</td>\n",
       "      <td>...</td>\n",
       "      <td>...</td>\n",
       "    </tr>\n",
       "    <tr>\n",
       "      <th>51042</th>\n",
       "      <td>3399910</td>\n",
       "      <td>No</td>\n",
       "      <td>NaN</td>\n",
       "      <td>NaN</td>\n",
       "      <td>NaN</td>\n",
       "      <td>NaN</td>\n",
       "      <td>NaN</td>\n",
       "      <td>NaN</td>\n",
       "      <td>NaN</td>\n",
       "      <td>NaN</td>\n",
       "      <td>...</td>\n",
       "      <td>0</td>\n",
       "      <td>7</td>\n",
       "      <td>No</td>\n",
       "      <td>0</td>\n",
       "      <td>30</td>\n",
       "      <td>No</td>\n",
       "      <td>1-Highest</td>\n",
       "      <td>Suburban</td>\n",
       "      <td>Other</td>\n",
       "      <td>Unknown</td>\n",
       "    </tr>\n",
       "    <tr>\n",
       "      <th>51043</th>\n",
       "      <td>3399958</td>\n",
       "      <td>Yes</td>\n",
       "      <td>NaN</td>\n",
       "      <td>NaN</td>\n",
       "      <td>NaN</td>\n",
       "      <td>NaN</td>\n",
       "      <td>NaN</td>\n",
       "      <td>NaN</td>\n",
       "      <td>NaN</td>\n",
       "      <td>NaN</td>\n",
       "      <td>...</td>\n",
       "      <td>0</td>\n",
       "      <td>6</td>\n",
       "      <td>No</td>\n",
       "      <td>0</td>\n",
       "      <td>60</td>\n",
       "      <td>No</td>\n",
       "      <td>1-Highest</td>\n",
       "      <td>Suburban</td>\n",
       "      <td>Other</td>\n",
       "      <td>Yes</td>\n",
       "    </tr>\n",
       "    <tr>\n",
       "      <th>51044</th>\n",
       "      <td>3399978</td>\n",
       "      <td>Yes</td>\n",
       "      <td>NaN</td>\n",
       "      <td>NaN</td>\n",
       "      <td>NaN</td>\n",
       "      <td>NaN</td>\n",
       "      <td>NaN</td>\n",
       "      <td>NaN</td>\n",
       "      <td>NaN</td>\n",
       "      <td>NaN</td>\n",
       "      <td>...</td>\n",
       "      <td>0</td>\n",
       "      <td>7</td>\n",
       "      <td>No</td>\n",
       "      <td>1</td>\n",
       "      <td>80</td>\n",
       "      <td>No</td>\n",
       "      <td>5-Low</td>\n",
       "      <td>Other</td>\n",
       "      <td>Clerical</td>\n",
       "      <td>No</td>\n",
       "    </tr>\n",
       "    <tr>\n",
       "      <th>51045</th>\n",
       "      <td>3399990</td>\n",
       "      <td>No</td>\n",
       "      <td>NaN</td>\n",
       "      <td>NaN</td>\n",
       "      <td>NaN</td>\n",
       "      <td>NaN</td>\n",
       "      <td>NaN</td>\n",
       "      <td>NaN</td>\n",
       "      <td>NaN</td>\n",
       "      <td>NaN</td>\n",
       "      <td>...</td>\n",
       "      <td>0</td>\n",
       "      <td>9</td>\n",
       "      <td>No</td>\n",
       "      <td>0</td>\n",
       "      <td>30</td>\n",
       "      <td>No</td>\n",
       "      <td>5-Low</td>\n",
       "      <td>Other</td>\n",
       "      <td>Other</td>\n",
       "      <td>No</td>\n",
       "    </tr>\n",
       "    <tr>\n",
       "      <th>51046</th>\n",
       "      <td>3399994</td>\n",
       "      <td>No</td>\n",
       "      <td>NaN</td>\n",
       "      <td>NaN</td>\n",
       "      <td>NaN</td>\n",
       "      <td>NaN</td>\n",
       "      <td>NaN</td>\n",
       "      <td>NaN</td>\n",
       "      <td>NaN</td>\n",
       "      <td>NaN</td>\n",
       "      <td>...</td>\n",
       "      <td>0</td>\n",
       "      <td>0</td>\n",
       "      <td>No</td>\n",
       "      <td>1</td>\n",
       "      <td>60</td>\n",
       "      <td>Yes</td>\n",
       "      <td>5-Low</td>\n",
       "      <td>Other</td>\n",
       "      <td>Other</td>\n",
       "      <td>Unknown</td>\n",
       "    </tr>\n",
       "  </tbody>\n",
       "</table>\n",
       "<p>51047 rows × 58 columns</p>\n",
       "</div>"
      ],
      "text/plain": [
       "       CustomerID Churn  MonthlyRevenue  MonthlyMinutes  TotalRecurringCharge  \\\n",
       "0         3378298    No           -6.17             0.0                  -6.0   \n",
       "1         3265738    No           -5.86             0.0                  -5.0   \n",
       "2         3210322    No           -2.52           211.0                   0.0   \n",
       "3         3096670   Yes            0.00             2.0                   0.0   \n",
       "4         3103410   Yes            0.00            55.0                   0.0   \n",
       "...           ...   ...             ...             ...                   ...   \n",
       "51042     3399910    No             NaN             NaN                   NaN   \n",
       "51043     3399958   Yes             NaN             NaN                   NaN   \n",
       "51044     3399978   Yes             NaN             NaN                   NaN   \n",
       "51045     3399990    No             NaN             NaN                   NaN   \n",
       "51046     3399994    No             NaN             NaN                   NaN   \n",
       "\n",
       "       DirectorAssistedCalls  OverageMinutes  RoamingCalls  PercChangeMinutes  \\\n",
       "0                       0.00             0.0           0.0                0.0   \n",
       "1                       0.00             0.0           0.0                0.0   \n",
       "2                       0.33             0.0           0.0                NaN   \n",
       "3                       0.00             0.0           0.0                NaN   \n",
       "4                       0.00             0.0           0.0                NaN   \n",
       "...                      ...             ...           ...                ...   \n",
       "51042                    NaN             NaN           NaN                NaN   \n",
       "51043                    NaN             NaN           NaN                NaN   \n",
       "51044                    NaN             NaN           NaN                NaN   \n",
       "51045                    NaN             NaN           NaN                NaN   \n",
       "51046                    NaN             NaN           NaN                NaN   \n",
       "\n",
       "       PercChangeRevenues  ...  ReferralsMadeBySubscriber  IncomeGroup  \\\n",
       "0                     6.2  ...                          0            6   \n",
       "1                     5.9  ...                          0            6   \n",
       "2                     NaN  ...                          0            0   \n",
       "3                     NaN  ...                          0            0   \n",
       "4                     NaN  ...                          0            4   \n",
       "...                   ...  ...                        ...          ...   \n",
       "51042                 NaN  ...                          0            7   \n",
       "51043                 NaN  ...                          0            6   \n",
       "51044                 NaN  ...                          0            7   \n",
       "51045                 NaN  ...                          0            9   \n",
       "51046                 NaN  ...                          0            0   \n",
       "\n",
       "       OwnsMotorcycle  AdjustmentsToCreditRating  HandsetPrice  \\\n",
       "0                  No                          0       Unknown   \n",
       "1                  No                          0       Unknown   \n",
       "2                  No                          0            30   \n",
       "3                  No                          0            30   \n",
       "4                  No                          0            10   \n",
       "...               ...                        ...           ...   \n",
       "51042              No                          0            30   \n",
       "51043              No                          0            60   \n",
       "51044              No                          1            80   \n",
       "51045              No                          0            30   \n",
       "51046              No                          1            60   \n",
       "\n",
       "       MadeCallToRetentionTeam  CreditRating  PrizmCode  Occupation  \\\n",
       "0                           No      7-Lowest   Suburban       Other   \n",
       "1                           No        3-Good   Suburban       Other   \n",
       "2                           No        3-Good   Suburban       Other   \n",
       "3                           No         5-Low   Suburban       Other   \n",
       "4                           No      4-Medium      Other       Other   \n",
       "...                        ...           ...        ...         ...   \n",
       "51042                       No     1-Highest   Suburban       Other   \n",
       "51043                       No     1-Highest   Suburban       Other   \n",
       "51044                       No         5-Low      Other    Clerical   \n",
       "51045                       No         5-Low      Other       Other   \n",
       "51046                      Yes         5-Low      Other       Other   \n",
       "\n",
       "       MaritalStatus  \n",
       "0                 No  \n",
       "1                Yes  \n",
       "2            Unknown  \n",
       "3            Unknown  \n",
       "4            Unknown  \n",
       "...              ...  \n",
       "51042        Unknown  \n",
       "51043            Yes  \n",
       "51044             No  \n",
       "51045             No  \n",
       "51046        Unknown  \n",
       "\n",
       "[51047 rows x 58 columns]"
      ]
     },
     "execution_count": 107,
     "metadata": {},
     "output_type": "execute_result"
    }
   ],
   "source": [
    "data=pd.read_csv('Data.csv')\n",
    "data"
   ]
  },
  {
   "cell_type": "markdown",
   "id": "7d958bc3",
   "metadata": {},
   "source": [
    "# Cleaning Data\n",
    "\n",
    "## Dealing with Null values in Data\n"
   ]
  },
  {
   "cell_type": "code",
   "execution_count": 108,
   "id": "3c3a669e",
   "metadata": {},
   "outputs": [
    {
     "data": {
      "text/plain": [
       "CustomerID                     0\n",
       "Churn                          0\n",
       "MonthlyRevenue               156\n",
       "MonthlyMinutes               156\n",
       "TotalRecurringCharge         156\n",
       "DirectorAssistedCalls        156\n",
       "OverageMinutes               156\n",
       "RoamingCalls                 156\n",
       "PercChangeMinutes            367\n",
       "PercChangeRevenues           367\n",
       "DroppedCalls                   0\n",
       "BlockedCalls                   0\n",
       "UnansweredCalls                0\n",
       "CustomerCareCalls              0\n",
       "ThreewayCalls                  0\n",
       "ReceivedCalls                  0\n",
       "OutboundCalls                  0\n",
       "InboundCalls                   0\n",
       "PeakCallsInOut                 0\n",
       "OffPeakCallsInOut              0\n",
       "DroppedBlockedCalls            0\n",
       "CallForwardingCalls            0\n",
       "CallWaitingCalls               0\n",
       "MonthsInService                0\n",
       "UniqueSubs                     0\n",
       "ActiveSubs                     0\n",
       "ServiceArea                   24\n",
       "Handsets                       1\n",
       "HandsetModels                  1\n",
       "CurrentEquipmentDays           1\n",
       "AgeHH1                       909\n",
       "AgeHH2                       909\n",
       "ChildrenInHH                   0\n",
       "HandsetRefurbished             0\n",
       "HandsetWebCapable              0\n",
       "TruckOwner                     0\n",
       "RVOwner                        0\n",
       "Homeownership                  0\n",
       "BuysViaMailOrder               0\n",
       "RespondsToMailOffers           0\n",
       "OptOutMailings                 0\n",
       "NonUSTravel                    0\n",
       "OwnsComputer                   0\n",
       "HasCreditCard                  0\n",
       "RetentionCalls                 0\n",
       "RetentionOffersAccepted        0\n",
       "NewCellphoneUser               0\n",
       "NotNewCellphoneUser            0\n",
       "ReferralsMadeBySubscriber      0\n",
       "IncomeGroup                    0\n",
       "OwnsMotorcycle                 0\n",
       "AdjustmentsToCreditRating      0\n",
       "HandsetPrice                   0\n",
       "MadeCallToRetentionTeam        0\n",
       "CreditRating                   0\n",
       "PrizmCode                      0\n",
       "Occupation                     0\n",
       "MaritalStatus                  0\n",
       "dtype: int64"
      ]
     },
     "execution_count": 108,
     "metadata": {},
     "output_type": "execute_result"
    }
   ],
   "source": [
    "data.isna().sum()"
   ]
  },
  {
   "cell_type": "code",
   "execution_count": 109,
   "id": "f6e3d238",
   "metadata": {
    "scrolled": false
   },
   "outputs": [],
   "source": [
    "# dealing with null values in MonthlyRevenue, it has 156 we delete all Na\n",
    "data = data[data['MonthlyRevenue'].isna()==False]"
   ]
  },
  {
   "cell_type": "code",
   "execution_count": 110,
   "id": "8b3970da",
   "metadata": {},
   "outputs": [],
   "source": [
    "# delaing with Null values in PercChangeMinutes , They are not much so we delete them\n",
    "data = data[data['PercChangeMinutes'].isna()==False]"
   ]
  },
  {
   "cell_type": "code",
   "execution_count": 111,
   "id": "3f27a75c",
   "metadata": {},
   "outputs": [],
   "source": [
    "# delaing with Null values in Service Area, They are not much so we delete them\n",
    "data = data[data['ServiceArea'].isna()==False]"
   ]
  },
  {
   "cell_type": "code",
   "execution_count": 112,
   "id": "c0dc46a5",
   "metadata": {},
   "outputs": [],
   "source": [
    "#For AgeHH1 and AgHH2 both them reperesnet of age so we Delete one of them and we delete null valuyes as well\n",
    "data=data.drop('AgeHH2', axis=1)"
   ]
  },
  {
   "cell_type": "code",
   "execution_count": 113,
   "id": "86cf6698",
   "metadata": {},
   "outputs": [],
   "source": [
    "# Drop Na and also change the name of Column\n",
    "data = data[data['AgeHH1'].isna()==False]\n",
    "data = data.rename(columns={'AgeHH1':'Age'})"
   ]
  },
  {
   "cell_type": "code",
   "execution_count": 114,
   "id": "620123c2",
   "metadata": {},
   "outputs": [],
   "source": [
    "# we have only one null value in Handsets ,HandsetModels , CurrentEquipmentDays , so we delet them as well\n",
    "data = data[data['Handsets'].isna()==False]"
   ]
  },
  {
   "cell_type": "code",
   "execution_count": 115,
   "id": "352994a8",
   "metadata": {},
   "outputs": [
    {
     "data": {
      "text/plain": [
       "(49752, 57)"
      ]
     },
     "execution_count": 115,
     "metadata": {},
     "output_type": "execute_result"
    }
   ],
   "source": [
    "# Make sure there in no Null Values in Data\n",
    "data.isna().sum()\n",
    "data.shape"
   ]
  },
  {
   "cell_type": "markdown",
   "id": "3accbb89",
   "metadata": {},
   "source": [
    "## Dealing with Missing values in Data"
   ]
  },
  {
   "cell_type": "code",
   "execution_count": 116,
   "id": "3e1f71ad",
   "metadata": {},
   "outputs": [
    {
     "name": "stdout",
     "output_type": "stream",
     "text": [
      "<class 'pandas.core.frame.DataFrame'>\n",
      "Int64Index: 49752 entries, 0 to 50890\n",
      "Data columns (total 57 columns):\n",
      " #   Column                     Non-Null Count  Dtype  \n",
      "---  ------                     --------------  -----  \n",
      " 0   CustomerID                 49752 non-null  int64  \n",
      " 1   Churn                      49752 non-null  object \n",
      " 2   MonthlyRevenue             49752 non-null  float64\n",
      " 3   MonthlyMinutes             49752 non-null  float64\n",
      " 4   TotalRecurringCharge       49752 non-null  float64\n",
      " 5   DirectorAssistedCalls      49752 non-null  float64\n",
      " 6   OverageMinutes             49752 non-null  float64\n",
      " 7   RoamingCalls               49752 non-null  float64\n",
      " 8   PercChangeMinutes          49752 non-null  float64\n",
      " 9   PercChangeRevenues         49752 non-null  float64\n",
      " 10  DroppedCalls               49752 non-null  float64\n",
      " 11  BlockedCalls               49752 non-null  float64\n",
      " 12  UnansweredCalls            49752 non-null  float64\n",
      " 13  CustomerCareCalls          49752 non-null  float64\n",
      " 14  ThreewayCalls              49752 non-null  float64\n",
      " 15  ReceivedCalls              49752 non-null  float64\n",
      " 16  OutboundCalls              49752 non-null  float64\n",
      " 17  InboundCalls               49752 non-null  float64\n",
      " 18  PeakCallsInOut             49752 non-null  float64\n",
      " 19  OffPeakCallsInOut          49752 non-null  float64\n",
      " 20  DroppedBlockedCalls        49752 non-null  float64\n",
      " 21  CallForwardingCalls        49752 non-null  float64\n",
      " 22  CallWaitingCalls           49752 non-null  float64\n",
      " 23  MonthsInService            49752 non-null  int64  \n",
      " 24  UniqueSubs                 49752 non-null  int64  \n",
      " 25  ActiveSubs                 49752 non-null  int64  \n",
      " 26  ServiceArea                49752 non-null  object \n",
      " 27  Handsets                   49752 non-null  float64\n",
      " 28  HandsetModels              49752 non-null  float64\n",
      " 29  CurrentEquipmentDays       49752 non-null  float64\n",
      " 30  Age                        49752 non-null  float64\n",
      " 31  ChildrenInHH               49752 non-null  object \n",
      " 32  HandsetRefurbished         49752 non-null  object \n",
      " 33  HandsetWebCapable          49752 non-null  object \n",
      " 34  TruckOwner                 49752 non-null  object \n",
      " 35  RVOwner                    49752 non-null  object \n",
      " 36  Homeownership              49752 non-null  object \n",
      " 37  BuysViaMailOrder           49752 non-null  object \n",
      " 38  RespondsToMailOffers       49752 non-null  object \n",
      " 39  OptOutMailings             49752 non-null  object \n",
      " 40  NonUSTravel                49752 non-null  object \n",
      " 41  OwnsComputer               49752 non-null  object \n",
      " 42  HasCreditCard              49752 non-null  object \n",
      " 43  RetentionCalls             49752 non-null  int64  \n",
      " 44  RetentionOffersAccepted    49752 non-null  int64  \n",
      " 45  NewCellphoneUser           49752 non-null  object \n",
      " 46  NotNewCellphoneUser        49752 non-null  object \n",
      " 47  ReferralsMadeBySubscriber  49752 non-null  int64  \n",
      " 48  IncomeGroup                49752 non-null  int64  \n",
      " 49  OwnsMotorcycle             49752 non-null  object \n",
      " 50  AdjustmentsToCreditRating  49752 non-null  int64  \n",
      " 51  HandsetPrice               49752 non-null  object \n",
      " 52  MadeCallToRetentionTeam    49752 non-null  object \n",
      " 53  CreditRating               49752 non-null  object \n",
      " 54  PrizmCode                  49752 non-null  object \n",
      " 55  Occupation                 49752 non-null  object \n",
      " 56  MaritalStatus              49752 non-null  object \n",
      "dtypes: float64(25), int64(9), object(23)\n",
      "memory usage: 22.0+ MB\n"
     ]
    }
   ],
   "source": [
    "data.info()"
   ]
  },
  {
   "cell_type": "code",
   "execution_count": 117,
   "id": "994662e4",
   "metadata": {},
   "outputs": [],
   "source": [
    "# check the values of data if we have missing values(not null somthing that are not correct or unknown)\n"
   ]
  },
  {
   "cell_type": "markdown",
   "id": "ca555844",
   "metadata": {},
   "source": [
    "### ServiceArea(Categorical)"
   ]
  },
  {
   "cell_type": "code",
   "execution_count": 118,
   "id": "5f8b832c",
   "metadata": {},
   "outputs": [
    {
     "data": {
      "text/plain": [
       "California              6926\n",
       "Texas                   6827\n",
       "New York                5055\n",
       "Florida                 3699\n",
       "Illinois                2031\n",
       "Ohio                    1908\n",
       "Virginia                1633\n",
       "New Jersey              1496\n",
       "Michigan                1451\n",
       "Georgia                 1438\n",
       "Maryland                1247\n",
       "Massachusetts           1185\n",
       "North Carolina          1145\n",
       "Missouri                1117\n",
       "Pennsylvania            1081\n",
       "Washington               837\n",
       "Connecticut              825\n",
       "Minnesota                801\n",
       "Tennessee                788\n",
       "Arizona                  779\n",
       "Colorado                 716\n",
       "Indiana                  692\n",
       "Kansas                   630\n",
       "Wisconsin                626\n",
       "Nevada                   503\n",
       "Kentucky                 438\n",
       "Louisiana                384\n",
       "Oklahoma                 369\n",
       "South Carolina           348\n",
       "District of Columbia     335\n",
       "Oregon                   288\n",
       "Nebraska                 279\n",
       "Iowa                     269\n",
       "Hawaii                   252\n",
       "New Hampshire            227\n",
       "New Mexico               169\n",
       "Utah                     166\n",
       "Alabama                  142\n",
       "Arkansas                 140\n",
       "Rhode Island             139\n",
       "Delaware                 130\n",
       "West Virginia             81\n",
       "Mississippi               64\n",
       "Maine                     48\n",
       "South Dakota              30\n",
       "Idaho                     16\n",
       "North Dakota               2\n",
       "Name: ServiceArea, dtype: int64"
      ]
     },
     "execution_count": 118,
     "metadata": {},
     "output_type": "execute_result"
    }
   ],
   "source": [
    "data.ServiceArea.value_counts()\n",
    "# service area dosent have any missindg values"
   ]
  },
  {
   "cell_type": "markdown",
   "id": "8cff37c8",
   "metadata": {},
   "source": [
    "### Age(Numerical)\n",
    "\n"
   ]
  },
  {
   "cell_type": "code",
   "execution_count": 119,
   "id": "f73226b9",
   "metadata": {},
   "outputs": [
    {
     "data": {
      "text/plain": [
       "0.0     13808\n",
       "46.0     2136\n",
       "42.0     2056\n",
       "50.0     2051\n",
       "48.0     2035\n",
       "44.0     2019\n",
       "40.0     1965\n",
       "38.0     1951\n",
       "52.0     1950\n",
       "36.0     1875\n",
       "30.0     1866\n",
       "32.0     1816\n",
       "34.0     1812\n",
       "54.0     1705\n",
       "28.0     1642\n",
       "26.0     1384\n",
       "56.0     1372\n",
       "58.0     1229\n",
       "24.0      853\n",
       "60.0      804\n",
       "22.0      535\n",
       "62.0      476\n",
       "64.0      399\n",
       "66.0      303\n",
       "68.0      277\n",
       "20.0      255\n",
       "70.0      246\n",
       "72.0      224\n",
       "74.0      165\n",
       "76.0      137\n",
       "78.0      102\n",
       "80.0       81\n",
       "82.0       54\n",
       "84.0       44\n",
       "18.0       44\n",
       "86.0       29\n",
       "88.0       23\n",
       "90.0       12\n",
       "94.0        7\n",
       "92.0        6\n",
       "98.0        2\n",
       "96.0        1\n",
       "99.0        1\n",
       "Name: Age, dtype: int64"
      ]
     },
     "execution_count": 119,
     "metadata": {},
     "output_type": "execute_result"
    }
   ],
   "source": [
    "data.Age.value_counts()\n",
    "# we have 13808 value with 0 which is missing value so we need to\n",
    "#complete missing values because the number is so high\n"
   ]
  },
  {
   "cell_type": "code",
   "execution_count": 120,
   "id": "a878da94",
   "metadata": {},
   "outputs": [
    {
     "data": {
      "text/plain": [
       "(49752, 33)"
      ]
     },
     "execution_count": 120,
     "metadata": {},
     "output_type": "execute_result"
    }
   ],
   "source": [
    "# Becuse we have lots of 0 in data we dont want to change the value of them so we change 0 value with 0.0001\n",
    "# to just calculate missging value for Age 0\n",
    "data['Age'] = data['Age'].replace(0,0.0001)\n",
    "numerical=data.select_dtypes(['int64', 'float64'])\n",
    "numerical=numerical.drop('CustomerID' ,axis=1)\n",
    "numerical.shape"
   ]
  },
  {
   "cell_type": "code",
   "execution_count": 121,
   "id": "c2ac9215",
   "metadata": {},
   "outputs": [],
   "source": [
    "cols_backup = numerical.columns\n",
    "imputer=KNNImputer(missing_values=0.0001, n_neighbors=5, weights='uniform')\n",
    "imputed_data = imputer.fit_transform(numerical)\n",
    "numerical= pd.DataFrame(data=imputed_data, columns=cols_backup)"
   ]
  },
  {
   "cell_type": "code",
   "execution_count": 122,
   "id": "58604539",
   "metadata": {},
   "outputs": [],
   "source": [
    "# Repalcing Data of age with imputer data\n",
    "data.loc[data.index.isin(numerical.index),'Age'] = numerical.Age"
   ]
  },
  {
   "cell_type": "code",
   "execution_count": 123,
   "id": "08c57645",
   "metadata": {},
   "outputs": [
    {
     "data": {
      "text/plain": [
       "0.0001    364\n",
       "Name: Age, dtype: int64"
      ]
     },
     "execution_count": 123,
     "metadata": {},
     "output_type": "execute_result"
    }
   ],
   "source": [
    "data[data['Age']==0.0001]['Age'].value_counts()"
   ]
  },
  {
   "cell_type": "code",
   "execution_count": 124,
   "id": "306bbc76",
   "metadata": {},
   "outputs": [
    {
     "data": {
      "text/plain": [
       "(49388, 57)"
      ]
     },
     "execution_count": 124,
     "metadata": {},
     "output_type": "execute_result"
    }
   ],
   "source": [
    "# we still have some missing values(364) in age becuse KNN could computed more so we detele them form dataframe\n",
    "data = data[data['Age']!=0.0001]\n",
    "data[['Age','CustomerID']].sort_values(by='Age')\n",
    "data.shape"
   ]
  },
  {
   "cell_type": "markdown",
   "id": "34f56bc8",
   "metadata": {},
   "source": [
    "### HandsetPrice"
   ]
  },
  {
   "cell_type": "code",
   "execution_count": 125,
   "id": "974ec7ca",
   "metadata": {},
   "outputs": [],
   "source": [
    "# we have 28150 Unkonwn value so we can use KNNImputer for completeing this part of data\n",
    "data.HandsetPrice.value_counts()\n",
    "# this field should be numercial but becuase we have unknown in values so this feature is obejct\n",
    "# we need to change that in order to input numericla value\n",
    "# repalce Unkonwn with value which is not in data like 100000, so we are going to predict values for those one\n",
    "data['HandsetPrice'] = data['HandsetPrice'].replace(\"Unknown\",100000)\n",
    "data['HandsetPrice'] = data['HandsetPrice'].astype('int64')\n",
    "data[['HandsetPrice','CustomerID']].sort_values(by='HandsetPrice' ,ascending=False)\n",
    "numerical=data.select_dtypes(['int64', 'float64'])\n",
    "numerical=numerical.drop('CustomerID' ,axis=1)"
   ]
  },
  {
   "cell_type": "code",
   "execution_count": 126,
   "id": "6e4ddb4f",
   "metadata": {},
   "outputs": [],
   "source": [
    "cols_backup = numerical.columns\n",
    "imputer=KNNImputer(missing_values=100000, n_neighbors=5, weights='uniform')\n",
    "imputed_data = imputer.fit_transform(numerical)\n",
    "numerical= pd.DataFrame(data=imputed_data, columns=cols_backup)"
   ]
  },
  {
   "cell_type": "code",
   "execution_count": 127,
   "id": "1b65aa7c",
   "metadata": {},
   "outputs": [
    {
     "data": {
      "text/plain": [
       "(49388, 34)"
      ]
     },
     "execution_count": 127,
     "metadata": {},
     "output_type": "execute_result"
    }
   ],
   "source": [
    "numerical.shape"
   ]
  },
  {
   "cell_type": "code",
   "execution_count": 128,
   "id": "2b39a936",
   "metadata": {},
   "outputs": [
    {
     "data": {
      "text/html": [
       "<div>\n",
       "<style scoped>\n",
       "    .dataframe tbody tr th:only-of-type {\n",
       "        vertical-align: middle;\n",
       "    }\n",
       "\n",
       "    .dataframe tbody tr th {\n",
       "        vertical-align: top;\n",
       "    }\n",
       "\n",
       "    .dataframe thead th {\n",
       "        text-align: right;\n",
       "    }\n",
       "</style>\n",
       "<table border=\"1\" class=\"dataframe\">\n",
       "  <thead>\n",
       "    <tr style=\"text-align: right;\">\n",
       "      <th></th>\n",
       "      <th>HandsetPrice</th>\n",
       "    </tr>\n",
       "  </thead>\n",
       "  <tbody>\n",
       "    <tr>\n",
       "      <th>46693</th>\n",
       "      <td>500.0</td>\n",
       "    </tr>\n",
       "    <tr>\n",
       "      <th>47494</th>\n",
       "      <td>500.0</td>\n",
       "    </tr>\n",
       "    <tr>\n",
       "      <th>33697</th>\n",
       "      <td>500.0</td>\n",
       "    </tr>\n",
       "    <tr>\n",
       "      <th>43936</th>\n",
       "      <td>500.0</td>\n",
       "    </tr>\n",
       "    <tr>\n",
       "      <th>45392</th>\n",
       "      <td>500.0</td>\n",
       "    </tr>\n",
       "    <tr>\n",
       "      <th>...</th>\n",
       "      <td>...</td>\n",
       "    </tr>\n",
       "    <tr>\n",
       "      <th>47484</th>\n",
       "      <td>10.0</td>\n",
       "    </tr>\n",
       "    <tr>\n",
       "      <th>29729</th>\n",
       "      <td>10.0</td>\n",
       "    </tr>\n",
       "    <tr>\n",
       "      <th>9410</th>\n",
       "      <td>10.0</td>\n",
       "    </tr>\n",
       "    <tr>\n",
       "      <th>40379</th>\n",
       "      <td>10.0</td>\n",
       "    </tr>\n",
       "    <tr>\n",
       "      <th>35942</th>\n",
       "      <td>10.0</td>\n",
       "    </tr>\n",
       "  </tbody>\n",
       "</table>\n",
       "<p>49388 rows × 1 columns</p>\n",
       "</div>"
      ],
      "text/plain": [
       "       HandsetPrice\n",
       "46693         500.0\n",
       "47494         500.0\n",
       "33697         500.0\n",
       "43936         500.0\n",
       "45392         500.0\n",
       "...             ...\n",
       "47484          10.0\n",
       "29729          10.0\n",
       "9410           10.0\n",
       "40379          10.0\n",
       "35942          10.0\n",
       "\n",
       "[49388 rows x 1 columns]"
      ]
     },
     "execution_count": 128,
     "metadata": {},
     "output_type": "execute_result"
    }
   ],
   "source": [
    "numerical[['HandsetPrice']].sort_values(by='HandsetPrice',ascending=False)"
   ]
  },
  {
   "cell_type": "code",
   "execution_count": 129,
   "id": "4cf253af",
   "metadata": {},
   "outputs": [
    {
     "data": {
      "text/plain": [
       "(49388, 57)"
      ]
     },
     "execution_count": 129,
     "metadata": {},
     "output_type": "execute_result"
    }
   ],
   "source": [
    "# Repalcing Data of HandsetPrice with imputer data\n",
    "data.loc[data.index.isin(numerical.index),'HandsetPrice'] = numerical.HandsetPrice\n",
    "data.shape"
   ]
  },
  {
   "cell_type": "code",
   "execution_count": 130,
   "id": "a489247d",
   "metadata": {},
   "outputs": [
    {
     "data": {
      "text/plain": [
       "(312, 57)"
      ]
     },
     "execution_count": 130,
     "metadata": {},
     "output_type": "execute_result"
    }
   ],
   "source": [
    "data[data['HandsetPrice']==100000].shape"
   ]
  },
  {
   "cell_type": "code",
   "execution_count": 131,
   "id": "56c9f14b",
   "metadata": {},
   "outputs": [
    {
     "data": {
      "text/html": [
       "<div>\n",
       "<style scoped>\n",
       "    .dataframe tbody tr th:only-of-type {\n",
       "        vertical-align: middle;\n",
       "    }\n",
       "\n",
       "    .dataframe tbody tr th {\n",
       "        vertical-align: top;\n",
       "    }\n",
       "\n",
       "    .dataframe thead th {\n",
       "        text-align: right;\n",
       "    }\n",
       "</style>\n",
       "<table border=\"1\" class=\"dataframe\">\n",
       "  <thead>\n",
       "    <tr style=\"text-align: right;\">\n",
       "      <th></th>\n",
       "      <th>CustomerID</th>\n",
       "      <th>HandsetPrice</th>\n",
       "    </tr>\n",
       "  </thead>\n",
       "  <tbody>\n",
       "    <tr>\n",
       "      <th>0</th>\n",
       "      <td>3378298</td>\n",
       "      <td>104.0</td>\n",
       "    </tr>\n",
       "    <tr>\n",
       "      <th>1</th>\n",
       "      <td>3265738</td>\n",
       "      <td>78.0</td>\n",
       "    </tr>\n",
       "    <tr>\n",
       "      <th>5</th>\n",
       "      <td>3334666</td>\n",
       "      <td>32.0</td>\n",
       "    </tr>\n",
       "    <tr>\n",
       "      <th>6</th>\n",
       "      <td>3391282</td>\n",
       "      <td>32.0</td>\n",
       "    </tr>\n",
       "    <tr>\n",
       "      <th>7</th>\n",
       "      <td>3391442</td>\n",
       "      <td>32.0</td>\n",
       "    </tr>\n",
       "    <tr>\n",
       "      <th>...</th>\n",
       "      <td>...</td>\n",
       "      <td>...</td>\n",
       "    </tr>\n",
       "    <tr>\n",
       "      <th>50873</th>\n",
       "      <td>3002606</td>\n",
       "      <td>10.0</td>\n",
       "    </tr>\n",
       "    <tr>\n",
       "      <th>50879</th>\n",
       "      <td>3196882</td>\n",
       "      <td>100.0</td>\n",
       "    </tr>\n",
       "    <tr>\n",
       "      <th>50881</th>\n",
       "      <td>3162914</td>\n",
       "      <td>80.0</td>\n",
       "    </tr>\n",
       "    <tr>\n",
       "      <th>50882</th>\n",
       "      <td>3300310</td>\n",
       "      <td>100.0</td>\n",
       "    </tr>\n",
       "    <tr>\n",
       "      <th>50887</th>\n",
       "      <td>3059858</td>\n",
       "      <td>100.0</td>\n",
       "    </tr>\n",
       "  </tbody>\n",
       "</table>\n",
       "<p>49076 rows × 2 columns</p>\n",
       "</div>"
      ],
      "text/plain": [
       "       CustomerID  HandsetPrice\n",
       "0         3378298         104.0\n",
       "1         3265738          78.0\n",
       "5         3334666          32.0\n",
       "6         3391282          32.0\n",
       "7         3391442          32.0\n",
       "...           ...           ...\n",
       "50873     3002606          10.0\n",
       "50879     3196882         100.0\n",
       "50881     3162914          80.0\n",
       "50882     3300310         100.0\n",
       "50887     3059858         100.0\n",
       "\n",
       "[49076 rows x 2 columns]"
      ]
     },
     "execution_count": 131,
     "metadata": {},
     "output_type": "execute_result"
    }
   ],
   "source": [
    "# we still have 312 row which KNN couldn't replace values so we delete them\n",
    "data[['HandsetPrice','CustomerID']].sort_values(by='HandsetPrice',ascending=False)\n",
    "data=data[data['HandsetPrice']!=100000]\n",
    "# based on data of this column, the mod 10 of all values were 0 so we need to change these new value of missing data to obay the currnt rule\n",
    "data['HandsetPrice'].apply(np.ceil)\n",
    "data['HandsetPrice']=data['HandsetPrice']+np.mod(data['HandsetPrice'],10)\n",
    "data[['CustomerID','HandsetPrice']]"
   ]
  },
  {
   "cell_type": "markdown",
   "id": "beb70420",
   "metadata": {},
   "source": [
    "## Changing the Numerical ordinal to Catrgorical ordinal"
   ]
  },
  {
   "cell_type": "code",
   "execution_count": 132,
   "id": "bf8bbfa4",
   "metadata": {},
   "outputs": [
    {
     "data": {
      "text/plain": [
       "2-High       18472\n",
       "1-Highest     8323\n",
       "3-Good        8093\n",
       "5-Low         6178\n",
       "4-Medium      5145\n",
       "7-Lowest      2002\n",
       "6-VeryLow      863\n",
       "Name: CreditRating, dtype: int64"
      ]
     },
     "execution_count": 132,
     "metadata": {},
     "output_type": "execute_result"
    }
   ],
   "source": [
    "data['CreditRating'].value_counts()"
   ]
  },
  {
   "cell_type": "markdown",
   "id": "a7de2d48",
   "metadata": {},
   "source": [
    "### CreditRating"
   ]
  },
  {
   "cell_type": "code",
   "execution_count": 133,
   "id": "46f5e311",
   "metadata": {},
   "outputs": [
    {
     "data": {
      "text/plain": [
       "6    18472\n",
       "7     8323\n",
       "5     8093\n",
       "3     6178\n",
       "4     5145\n",
       "1     2002\n",
       "2      863\n",
       "Name: CreditRating, dtype: int64"
      ]
     },
     "execution_count": 133,
     "metadata": {},
     "output_type": "execute_result"
    }
   ],
   "source": [
    "# creditRating Could be Numercial Ordinal so we can make it Numercical\n",
    "def creditrating(x):\n",
    "    if x ==\"7-Lowest\":\n",
    "        return 1\n",
    "    elif x ==\"6-VeryLow\":\n",
    "        return 2\n",
    "    elif x ==\"5-Low\":\n",
    "        return 3\n",
    "    elif x ==\"4-Medium\":\n",
    "        return 4\n",
    "    elif x ==\"3-Good\":\n",
    "        return 5\n",
    "    elif x ==\"2-High\":\n",
    "        return 6\n",
    "    elif x ==\"1-Highest\":\n",
    "        return 7\n",
    "    else:\n",
    "        return x   \n",
    "data['CreditRating']=data['CreditRating'].apply(creditrating)\n",
    "data['CreditRating'].value_counts()"
   ]
  },
  {
   "cell_type": "code",
   "execution_count": 134,
   "id": "13dbeb2c",
   "metadata": {},
   "outputs": [],
   "source": [
    "# Handsets ,HandsetModels,RetentionCall,RetentionOffersAccepted,ReferralsMadeBySubscriber are ordinal\n",
    "categorical=data.select_dtypes(['object'])\n",
    "numerical=data.select_dtypes(['int64','float64'])\n",
    "numerical=numerical.drop('CustomerID',axis=1)\n",
    "\n",
    "categorical=pd.concat([categorical,data[['Handsets',\n",
    "                                         'HandsetModels',\n",
    "                                         'RetentionCalls',\n",
    "                                         'RetentionOffersAccepted',\n",
    "                                         'ReferralsMadeBySubscriber',\n",
    "                                         'AdjustmentsToCreditRating',\n",
    "                                         'CreditRating' ]]], axis=1)\n",
    "numerical=numerical.drop(numerical[['Handsets',\n",
    "                                         'HandsetModels',\n",
    "                                         'RetentionCalls',\n",
    "                                         'RetentionOffersAccepted',\n",
    "                                         'ReferralsMadeBySubscriber',\n",
    "                                         'AdjustmentsToCreditRating',\n",
    "                                         'CreditRating']], axis=1)"
   ]
  },
  {
   "cell_type": "code",
   "execution_count": 135,
   "id": "3c743496",
   "metadata": {},
   "outputs": [],
   "source": [
    "categorical[['Handsets',\n",
    "            'HandsetModels',\n",
    "            'RetentionCalls',\n",
    "            'RetentionOffersAccepted',\n",
    "            'ReferralsMadeBySubscriber',\n",
    "            'AdjustmentsToCreditRating',\n",
    "            'CreditRating']] = categorical[['Handsets',\n",
    "            'HandsetModels',\n",
    "            'RetentionCalls',\n",
    "            'RetentionOffersAccepted',\n",
    "            'ReferralsMadeBySubscriber',\n",
    "            'AdjustmentsToCreditRating',\n",
    "            'CreditRating']].astype('object')\n"
   ]
  },
  {
   "cell_type": "code",
   "execution_count": 136,
   "id": "0e93e884",
   "metadata": {},
   "outputs": [
    {
     "name": "stdout",
     "output_type": "stream",
     "text": [
      "<class 'pandas.core.frame.DataFrame'>\n",
      "Int64Index: 49076 entries, 0 to 50887\n",
      "Data columns (total 28 columns):\n",
      " #   Column                     Non-Null Count  Dtype \n",
      "---  ------                     --------------  ----- \n",
      " 0   Churn                      49076 non-null  object\n",
      " 1   ServiceArea                49076 non-null  object\n",
      " 2   ChildrenInHH               49076 non-null  object\n",
      " 3   HandsetRefurbished         49076 non-null  object\n",
      " 4   HandsetWebCapable          49076 non-null  object\n",
      " 5   TruckOwner                 49076 non-null  object\n",
      " 6   RVOwner                    49076 non-null  object\n",
      " 7   Homeownership              49076 non-null  object\n",
      " 8   BuysViaMailOrder           49076 non-null  object\n",
      " 9   RespondsToMailOffers       49076 non-null  object\n",
      " 10  OptOutMailings             49076 non-null  object\n",
      " 11  NonUSTravel                49076 non-null  object\n",
      " 12  OwnsComputer               49076 non-null  object\n",
      " 13  HasCreditCard              49076 non-null  object\n",
      " 14  NewCellphoneUser           49076 non-null  object\n",
      " 15  NotNewCellphoneUser        49076 non-null  object\n",
      " 16  OwnsMotorcycle             49076 non-null  object\n",
      " 17  MadeCallToRetentionTeam    49076 non-null  object\n",
      " 18  PrizmCode                  49076 non-null  object\n",
      " 19  Occupation                 49076 non-null  object\n",
      " 20  MaritalStatus              49076 non-null  object\n",
      " 21  Handsets                   49076 non-null  object\n",
      " 22  HandsetModels              49076 non-null  object\n",
      " 23  RetentionCalls             49076 non-null  object\n",
      " 24  RetentionOffersAccepted    49076 non-null  object\n",
      " 25  ReferralsMadeBySubscriber  49076 non-null  object\n",
      " 26  AdjustmentsToCreditRating  49076 non-null  object\n",
      " 27  CreditRating               49076 non-null  object\n",
      "dtypes: object(28)\n",
      "memory usage: 10.9+ MB\n"
     ]
    }
   ],
   "source": [
    "categorical.info()"
   ]
  },
  {
   "cell_type": "code",
   "execution_count": 137,
   "id": "a557d03f",
   "metadata": {},
   "outputs": [],
   "source": [
    "num_backup=numerical\n",
    "cat_backup=categorical"
   ]
  },
  {
   "cell_type": "code",
   "execution_count": 138,
   "id": "e4debefd",
   "metadata": {},
   "outputs": [
    {
     "data": {
      "text/plain": [
       "(49076, 28)"
      ]
     },
     "execution_count": 138,
     "metadata": {},
     "output_type": "execute_result"
    }
   ],
   "source": [
    "numerical.shape"
   ]
  },
  {
   "cell_type": "code",
   "execution_count": 139,
   "id": "6ced3e5c",
   "metadata": {},
   "outputs": [
    {
     "data": {
      "text/plain": [
       "(49076, 28)"
      ]
     },
     "execution_count": 139,
     "metadata": {},
     "output_type": "execute_result"
    }
   ],
   "source": [
    "categorical.shape"
   ]
  },
  {
   "cell_type": "code",
   "execution_count": 140,
   "id": "87f9ead1",
   "metadata": {},
   "outputs": [
    {
     "name": "stdout",
     "output_type": "stream",
     "text": [
      "<class 'pandas.core.frame.DataFrame'>\n",
      "Int64Index: 49076 entries, 0 to 50887\n",
      "Data columns (total 28 columns):\n",
      " #   Column                     Non-Null Count  Dtype \n",
      "---  ------                     --------------  ----- \n",
      " 0   Churn                      49076 non-null  object\n",
      " 1   ServiceArea                49076 non-null  object\n",
      " 2   ChildrenInHH               49076 non-null  object\n",
      " 3   HandsetRefurbished         49076 non-null  object\n",
      " 4   HandsetWebCapable          49076 non-null  object\n",
      " 5   TruckOwner                 49076 non-null  object\n",
      " 6   RVOwner                    49076 non-null  object\n",
      " 7   Homeownership              49076 non-null  object\n",
      " 8   BuysViaMailOrder           49076 non-null  object\n",
      " 9   RespondsToMailOffers       49076 non-null  object\n",
      " 10  OptOutMailings             49076 non-null  object\n",
      " 11  NonUSTravel                49076 non-null  object\n",
      " 12  OwnsComputer               49076 non-null  object\n",
      " 13  HasCreditCard              49076 non-null  object\n",
      " 14  NewCellphoneUser           49076 non-null  object\n",
      " 15  NotNewCellphoneUser        49076 non-null  object\n",
      " 16  OwnsMotorcycle             49076 non-null  object\n",
      " 17  MadeCallToRetentionTeam    49076 non-null  object\n",
      " 18  PrizmCode                  49076 non-null  object\n",
      " 19  Occupation                 49076 non-null  object\n",
      " 20  MaritalStatus              49076 non-null  object\n",
      " 21  Handsets                   49076 non-null  object\n",
      " 22  HandsetModels              49076 non-null  object\n",
      " 23  RetentionCalls             49076 non-null  object\n",
      " 24  RetentionOffersAccepted    49076 non-null  object\n",
      " 25  ReferralsMadeBySubscriber  49076 non-null  object\n",
      " 26  AdjustmentsToCreditRating  49076 non-null  object\n",
      " 27  CreditRating               49076 non-null  object\n",
      "dtypes: object(28)\n",
      "memory usage: 10.9+ MB\n",
      "<class 'pandas.core.frame.DataFrame'>\n",
      "Int64Index: 49076 entries, 0 to 50887\n",
      "Data columns (total 28 columns):\n",
      " #   Column                 Non-Null Count  Dtype  \n",
      "---  ------                 --------------  -----  \n",
      " 0   MonthlyRevenue         49076 non-null  float64\n",
      " 1   MonthlyMinutes         49076 non-null  float64\n",
      " 2   TotalRecurringCharge   49076 non-null  float64\n",
      " 3   DirectorAssistedCalls  49076 non-null  float64\n",
      " 4   OverageMinutes         49076 non-null  float64\n",
      " 5   RoamingCalls           49076 non-null  float64\n",
      " 6   PercChangeMinutes      49076 non-null  float64\n",
      " 7   PercChangeRevenues     49076 non-null  float64\n",
      " 8   DroppedCalls           49076 non-null  float64\n",
      " 9   BlockedCalls           49076 non-null  float64\n",
      " 10  UnansweredCalls        49076 non-null  float64\n",
      " 11  CustomerCareCalls      49076 non-null  float64\n",
      " 12  ThreewayCalls          49076 non-null  float64\n",
      " 13  ReceivedCalls          49076 non-null  float64\n",
      " 14  OutboundCalls          49076 non-null  float64\n",
      " 15  InboundCalls           49076 non-null  float64\n",
      " 16  PeakCallsInOut         49076 non-null  float64\n",
      " 17  OffPeakCallsInOut      49076 non-null  float64\n",
      " 18  DroppedBlockedCalls    49076 non-null  float64\n",
      " 19  CallForwardingCalls    49076 non-null  float64\n",
      " 20  CallWaitingCalls       49076 non-null  float64\n",
      " 21  MonthsInService        49076 non-null  int64  \n",
      " 22  UniqueSubs             49076 non-null  int64  \n",
      " 23  ActiveSubs             49076 non-null  int64  \n",
      " 24  CurrentEquipmentDays   49076 non-null  float64\n",
      " 25  Age                    49076 non-null  float64\n",
      " 26  IncomeGroup            49076 non-null  int64  \n",
      " 27  HandsetPrice           49076 non-null  float64\n",
      "dtypes: float64(24), int64(4)\n",
      "memory usage: 10.9 MB\n"
     ]
    },
    {
     "data": {
      "text/html": [
       "<div>\n",
       "<style scoped>\n",
       "    .dataframe tbody tr th:only-of-type {\n",
       "        vertical-align: middle;\n",
       "    }\n",
       "\n",
       "    .dataframe tbody tr th {\n",
       "        vertical-align: top;\n",
       "    }\n",
       "\n",
       "    .dataframe thead th {\n",
       "        text-align: right;\n",
       "    }\n",
       "</style>\n",
       "<table border=\"1\" class=\"dataframe\">\n",
       "  <thead>\n",
       "    <tr style=\"text-align: right;\">\n",
       "      <th></th>\n",
       "      <th>count</th>\n",
       "      <th>mean</th>\n",
       "      <th>std</th>\n",
       "      <th>min</th>\n",
       "      <th>25%</th>\n",
       "      <th>50%</th>\n",
       "      <th>75%</th>\n",
       "      <th>max</th>\n",
       "    </tr>\n",
       "  </thead>\n",
       "  <tbody>\n",
       "    <tr>\n",
       "      <th>MonthlyRevenue</th>\n",
       "      <td>49076.0</td>\n",
       "      <td>56.257527</td>\n",
       "      <td>37.477090</td>\n",
       "      <td>-6.17</td>\n",
       "      <td>33.4575</td>\n",
       "      <td>47.70</td>\n",
       "      <td>69.260</td>\n",
       "      <td>855.50</td>\n",
       "    </tr>\n",
       "    <tr>\n",
       "      <th>MonthlyMinutes</th>\n",
       "      <td>49076.0</td>\n",
       "      <td>506.764284</td>\n",
       "      <td>497.687538</td>\n",
       "      <td>0.00</td>\n",
       "      <td>156.0000</td>\n",
       "      <td>360.00</td>\n",
       "      <td>698.000</td>\n",
       "      <td>6336.00</td>\n",
       "    </tr>\n",
       "    <tr>\n",
       "      <th>TotalRecurringCharge</th>\n",
       "      <td>49076.0</td>\n",
       "      <td>46.301879</td>\n",
       "      <td>22.846621</td>\n",
       "      <td>-6.00</td>\n",
       "      <td>30.0000</td>\n",
       "      <td>45.00</td>\n",
       "      <td>60.000</td>\n",
       "      <td>342.00</td>\n",
       "    </tr>\n",
       "    <tr>\n",
       "      <th>DirectorAssistedCalls</th>\n",
       "      <td>49076.0</td>\n",
       "      <td>0.843443</td>\n",
       "      <td>1.943184</td>\n",
       "      <td>0.00</td>\n",
       "      <td>0.0000</td>\n",
       "      <td>0.25</td>\n",
       "      <td>0.740</td>\n",
       "      <td>72.77</td>\n",
       "    </tr>\n",
       "    <tr>\n",
       "      <th>OverageMinutes</th>\n",
       "      <td>49076.0</td>\n",
       "      <td>34.795705</td>\n",
       "      <td>78.961689</td>\n",
       "      <td>0.00</td>\n",
       "      <td>0.0000</td>\n",
       "      <td>2.00</td>\n",
       "      <td>38.000</td>\n",
       "      <td>4321.00</td>\n",
       "    </tr>\n",
       "    <tr>\n",
       "      <th>RoamingCalls</th>\n",
       "      <td>49076.0</td>\n",
       "      <td>1.051632</td>\n",
       "      <td>6.392971</td>\n",
       "      <td>0.00</td>\n",
       "      <td>0.0000</td>\n",
       "      <td>0.00</td>\n",
       "      <td>0.200</td>\n",
       "      <td>692.40</td>\n",
       "    </tr>\n",
       "    <tr>\n",
       "      <th>PercChangeMinutes</th>\n",
       "      <td>49076.0</td>\n",
       "      <td>-10.863334</td>\n",
       "      <td>242.923162</td>\n",
       "      <td>-3875.00</td>\n",
       "      <td>-82.0000</td>\n",
       "      <td>-5.00</td>\n",
       "      <td>64.000</td>\n",
       "      <td>4480.00</td>\n",
       "    </tr>\n",
       "    <tr>\n",
       "      <th>PercChangeRevenues</th>\n",
       "      <td>49076.0</td>\n",
       "      <td>-1.095957</td>\n",
       "      <td>32.573379</td>\n",
       "      <td>-571.10</td>\n",
       "      <td>-6.7000</td>\n",
       "      <td>-0.30</td>\n",
       "      <td>1.500</td>\n",
       "      <td>868.20</td>\n",
       "    </tr>\n",
       "    <tr>\n",
       "      <th>DroppedCalls</th>\n",
       "      <td>49076.0</td>\n",
       "      <td>5.828358</td>\n",
       "      <td>8.691028</td>\n",
       "      <td>0.00</td>\n",
       "      <td>0.7000</td>\n",
       "      <td>3.00</td>\n",
       "      <td>7.300</td>\n",
       "      <td>221.70</td>\n",
       "    </tr>\n",
       "    <tr>\n",
       "      <th>BlockedCalls</th>\n",
       "      <td>49076.0</td>\n",
       "      <td>3.963756</td>\n",
       "      <td>10.543137</td>\n",
       "      <td>0.00</td>\n",
       "      <td>0.0000</td>\n",
       "      <td>1.00</td>\n",
       "      <td>3.700</td>\n",
       "      <td>324.70</td>\n",
       "    </tr>\n",
       "    <tr>\n",
       "      <th>UnansweredCalls</th>\n",
       "      <td>49076.0</td>\n",
       "      <td>27.465686</td>\n",
       "      <td>37.087250</td>\n",
       "      <td>0.00</td>\n",
       "      <td>5.0000</td>\n",
       "      <td>16.00</td>\n",
       "      <td>35.700</td>\n",
       "      <td>848.70</td>\n",
       "    </tr>\n",
       "    <tr>\n",
       "      <th>CustomerCareCalls</th>\n",
       "      <td>49076.0</td>\n",
       "      <td>1.826282</td>\n",
       "      <td>5.002398</td>\n",
       "      <td>0.00</td>\n",
       "      <td>0.0000</td>\n",
       "      <td>0.00</td>\n",
       "      <td>1.700</td>\n",
       "      <td>327.30</td>\n",
       "    </tr>\n",
       "    <tr>\n",
       "      <th>ThreewayCalls</th>\n",
       "      <td>49076.0</td>\n",
       "      <td>0.286765</td>\n",
       "      <td>1.139077</td>\n",
       "      <td>0.00</td>\n",
       "      <td>0.0000</td>\n",
       "      <td>0.00</td>\n",
       "      <td>0.300</td>\n",
       "      <td>66.00</td>\n",
       "    </tr>\n",
       "    <tr>\n",
       "      <th>ReceivedCalls</th>\n",
       "      <td>49076.0</td>\n",
       "      <td>109.714934</td>\n",
       "      <td>155.885911</td>\n",
       "      <td>0.00</td>\n",
       "      <td>8.2000</td>\n",
       "      <td>51.30</td>\n",
       "      <td>148.225</td>\n",
       "      <td>2619.30</td>\n",
       "    </tr>\n",
       "    <tr>\n",
       "      <th>OutboundCalls</th>\n",
       "      <td>49076.0</td>\n",
       "      <td>24.552812</td>\n",
       "      <td>33.415334</td>\n",
       "      <td>0.00</td>\n",
       "      <td>3.3000</td>\n",
       "      <td>13.30</td>\n",
       "      <td>33.000</td>\n",
       "      <td>644.30</td>\n",
       "    </tr>\n",
       "    <tr>\n",
       "      <th>InboundCalls</th>\n",
       "      <td>49076.0</td>\n",
       "      <td>7.867365</td>\n",
       "      <td>15.540260</td>\n",
       "      <td>0.00</td>\n",
       "      <td>0.0000</td>\n",
       "      <td>2.00</td>\n",
       "      <td>9.000</td>\n",
       "      <td>344.70</td>\n",
       "    </tr>\n",
       "    <tr>\n",
       "      <th>PeakCallsInOut</th>\n",
       "      <td>49076.0</td>\n",
       "      <td>87.274152</td>\n",
       "      <td>98.135083</td>\n",
       "      <td>0.00</td>\n",
       "      <td>23.0000</td>\n",
       "      <td>61.00</td>\n",
       "      <td>118.300</td>\n",
       "      <td>2090.70</td>\n",
       "    </tr>\n",
       "    <tr>\n",
       "      <th>OffPeakCallsInOut</th>\n",
       "      <td>49076.0</td>\n",
       "      <td>65.734803</td>\n",
       "      <td>88.548961</td>\n",
       "      <td>0.00</td>\n",
       "      <td>11.0000</td>\n",
       "      <td>35.00</td>\n",
       "      <td>86.300</td>\n",
       "      <td>1474.70</td>\n",
       "    </tr>\n",
       "    <tr>\n",
       "      <th>DroppedBlockedCalls</th>\n",
       "      <td>49076.0</td>\n",
       "      <td>9.851738</td>\n",
       "      <td>14.950208</td>\n",
       "      <td>0.00</td>\n",
       "      <td>1.7000</td>\n",
       "      <td>5.30</td>\n",
       "      <td>12.300</td>\n",
       "      <td>339.00</td>\n",
       "    </tr>\n",
       "    <tr>\n",
       "      <th>CallForwardingCalls</th>\n",
       "      <td>49076.0</td>\n",
       "      <td>0.011071</td>\n",
       "      <td>0.568709</td>\n",
       "      <td>0.00</td>\n",
       "      <td>0.0000</td>\n",
       "      <td>0.00</td>\n",
       "      <td>0.000</td>\n",
       "      <td>81.30</td>\n",
       "    </tr>\n",
       "    <tr>\n",
       "      <th>CallWaitingCalls</th>\n",
       "      <td>49076.0</td>\n",
       "      <td>1.707144</td>\n",
       "      <td>4.998692</td>\n",
       "      <td>0.00</td>\n",
       "      <td>0.0000</td>\n",
       "      <td>0.30</td>\n",
       "      <td>1.300</td>\n",
       "      <td>170.70</td>\n",
       "    </tr>\n",
       "    <tr>\n",
       "      <th>MonthsInService</th>\n",
       "      <td>49076.0</td>\n",
       "      <td>18.771783</td>\n",
       "      <td>9.752198</td>\n",
       "      <td>6.00</td>\n",
       "      <td>11.0000</td>\n",
       "      <td>16.00</td>\n",
       "      <td>24.000</td>\n",
       "      <td>61.00</td>\n",
       "    </tr>\n",
       "    <tr>\n",
       "      <th>UniqueSubs</th>\n",
       "      <td>49076.0</td>\n",
       "      <td>1.529526</td>\n",
       "      <td>1.229724</td>\n",
       "      <td>1.00</td>\n",
       "      <td>1.0000</td>\n",
       "      <td>1.00</td>\n",
       "      <td>2.000</td>\n",
       "      <td>196.00</td>\n",
       "    </tr>\n",
       "    <tr>\n",
       "      <th>ActiveSubs</th>\n",
       "      <td>49076.0</td>\n",
       "      <td>1.351516</td>\n",
       "      <td>0.668496</td>\n",
       "      <td>0.00</td>\n",
       "      <td>1.0000</td>\n",
       "      <td>1.00</td>\n",
       "      <td>2.000</td>\n",
       "      <td>53.00</td>\n",
       "    </tr>\n",
       "    <tr>\n",
       "      <th>CurrentEquipmentDays</th>\n",
       "      <td>49076.0</td>\n",
       "      <td>380.903823</td>\n",
       "      <td>252.804783</td>\n",
       "      <td>-5.00</td>\n",
       "      <td>205.0000</td>\n",
       "      <td>330.00</td>\n",
       "      <td>517.000</td>\n",
       "      <td>1812.00</td>\n",
       "    </tr>\n",
       "    <tr>\n",
       "      <th>Age</th>\n",
       "      <td>49076.0</td>\n",
       "      <td>43.071783</td>\n",
       "      <td>11.019391</td>\n",
       "      <td>18.00</td>\n",
       "      <td>36.0000</td>\n",
       "      <td>42.00</td>\n",
       "      <td>50.000</td>\n",
       "      <td>99.00</td>\n",
       "    </tr>\n",
       "    <tr>\n",
       "      <th>IncomeGroup</th>\n",
       "      <td>49076.0</td>\n",
       "      <td>4.425564</td>\n",
       "      <td>3.102353</td>\n",
       "      <td>0.00</td>\n",
       "      <td>1.0000</td>\n",
       "      <td>5.00</td>\n",
       "      <td>7.000</td>\n",
       "      <td>9.00</td>\n",
       "    </tr>\n",
       "    <tr>\n",
       "      <th>HandsetPrice</th>\n",
       "      <td>49076.0</td>\n",
       "      <td>75.131266</td>\n",
       "      <td>46.658005</td>\n",
       "      <td>10.00</td>\n",
       "      <td>32.0000</td>\n",
       "      <td>64.00</td>\n",
       "      <td>100.000</td>\n",
       "      <td>500.00</td>\n",
       "    </tr>\n",
       "  </tbody>\n",
       "</table>\n",
       "</div>"
      ],
      "text/plain": [
       "                         count        mean         std      min       25%  \\\n",
       "MonthlyRevenue         49076.0   56.257527   37.477090    -6.17   33.4575   \n",
       "MonthlyMinutes         49076.0  506.764284  497.687538     0.00  156.0000   \n",
       "TotalRecurringCharge   49076.0   46.301879   22.846621    -6.00   30.0000   \n",
       "DirectorAssistedCalls  49076.0    0.843443    1.943184     0.00    0.0000   \n",
       "OverageMinutes         49076.0   34.795705   78.961689     0.00    0.0000   \n",
       "RoamingCalls           49076.0    1.051632    6.392971     0.00    0.0000   \n",
       "PercChangeMinutes      49076.0  -10.863334  242.923162 -3875.00  -82.0000   \n",
       "PercChangeRevenues     49076.0   -1.095957   32.573379  -571.10   -6.7000   \n",
       "DroppedCalls           49076.0    5.828358    8.691028     0.00    0.7000   \n",
       "BlockedCalls           49076.0    3.963756   10.543137     0.00    0.0000   \n",
       "UnansweredCalls        49076.0   27.465686   37.087250     0.00    5.0000   \n",
       "CustomerCareCalls      49076.0    1.826282    5.002398     0.00    0.0000   \n",
       "ThreewayCalls          49076.0    0.286765    1.139077     0.00    0.0000   \n",
       "ReceivedCalls          49076.0  109.714934  155.885911     0.00    8.2000   \n",
       "OutboundCalls          49076.0   24.552812   33.415334     0.00    3.3000   \n",
       "InboundCalls           49076.0    7.867365   15.540260     0.00    0.0000   \n",
       "PeakCallsInOut         49076.0   87.274152   98.135083     0.00   23.0000   \n",
       "OffPeakCallsInOut      49076.0   65.734803   88.548961     0.00   11.0000   \n",
       "DroppedBlockedCalls    49076.0    9.851738   14.950208     0.00    1.7000   \n",
       "CallForwardingCalls    49076.0    0.011071    0.568709     0.00    0.0000   \n",
       "CallWaitingCalls       49076.0    1.707144    4.998692     0.00    0.0000   \n",
       "MonthsInService        49076.0   18.771783    9.752198     6.00   11.0000   \n",
       "UniqueSubs             49076.0    1.529526    1.229724     1.00    1.0000   \n",
       "ActiveSubs             49076.0    1.351516    0.668496     0.00    1.0000   \n",
       "CurrentEquipmentDays   49076.0  380.903823  252.804783    -5.00  205.0000   \n",
       "Age                    49076.0   43.071783   11.019391    18.00   36.0000   \n",
       "IncomeGroup            49076.0    4.425564    3.102353     0.00    1.0000   \n",
       "HandsetPrice           49076.0   75.131266   46.658005    10.00   32.0000   \n",
       "\n",
       "                          50%      75%      max  \n",
       "MonthlyRevenue          47.70   69.260   855.50  \n",
       "MonthlyMinutes         360.00  698.000  6336.00  \n",
       "TotalRecurringCharge    45.00   60.000   342.00  \n",
       "DirectorAssistedCalls    0.25    0.740    72.77  \n",
       "OverageMinutes           2.00   38.000  4321.00  \n",
       "RoamingCalls             0.00    0.200   692.40  \n",
       "PercChangeMinutes       -5.00   64.000  4480.00  \n",
       "PercChangeRevenues      -0.30    1.500   868.20  \n",
       "DroppedCalls             3.00    7.300   221.70  \n",
       "BlockedCalls             1.00    3.700   324.70  \n",
       "UnansweredCalls         16.00   35.700   848.70  \n",
       "CustomerCareCalls        0.00    1.700   327.30  \n",
       "ThreewayCalls            0.00    0.300    66.00  \n",
       "ReceivedCalls           51.30  148.225  2619.30  \n",
       "OutboundCalls           13.30   33.000   644.30  \n",
       "InboundCalls             2.00    9.000   344.70  \n",
       "PeakCallsInOut          61.00  118.300  2090.70  \n",
       "OffPeakCallsInOut       35.00   86.300  1474.70  \n",
       "DroppedBlockedCalls      5.30   12.300   339.00  \n",
       "CallForwardingCalls      0.00    0.000    81.30  \n",
       "CallWaitingCalls         0.30    1.300   170.70  \n",
       "MonthsInService         16.00   24.000    61.00  \n",
       "UniqueSubs               1.00    2.000   196.00  \n",
       "ActiveSubs               1.00    2.000    53.00  \n",
       "CurrentEquipmentDays   330.00  517.000  1812.00  \n",
       "Age                     42.00   50.000    99.00  \n",
       "IncomeGroup              5.00    7.000     9.00  \n",
       "HandsetPrice            64.00  100.000   500.00  "
      ]
     },
     "execution_count": 140,
     "metadata": {},
     "output_type": "execute_result"
    }
   ],
   "source": [
    "categorical.info()\n",
    "numerical.info()\n",
    "numerical.describe().T"
   ]
  },
  {
   "cell_type": "markdown",
   "id": "3f87eefd",
   "metadata": {},
   "source": [
    "## Removing multicollinearity"
   ]
  },
  {
   "cell_type": "code",
   "execution_count": 141,
   "id": "b30a962b",
   "metadata": {},
   "outputs": [
    {
     "name": "stderr",
     "output_type": "stream",
     "text": [
      "/var/folders/_z/gw3f_k0d08zctss1m54yb4pc0000gn/T/ipykernel_6900/2539111567.py:16: SettingWithCopyWarning: \n",
      "A value is trying to be set on a copy of a slice from a DataFrame.\n",
      "Try using .loc[row_indexer,col_indexer] = value instead\n",
      "\n",
      "See the caveats in the documentation: https://pandas.pydata.org/pandas-docs/stable/user_guide/indexing.html#returning-a-view-versus-a-copy\n",
      "  X['intercept'] = 1\n"
     ]
    }
   ],
   "source": [
    "# load statmodels functions\n",
    "col = numerical.columns\n",
    "considered_features = ['MonthlyRevenue', 'MonthlyMinutes', 'TotalRecurringCharge',\n",
    "       'DirectorAssistedCalls', 'OverageMinutes', 'RoamingCalls',\n",
    "       'PercChangeMinutes', 'PercChangeRevenues', 'DroppedCalls',\n",
    "       'BlockedCalls', 'UnansweredCalls', 'CustomerCareCalls', 'ThreewayCalls',\n",
    "       'ReceivedCalls', 'OutboundCalls', 'InboundCalls', 'PeakCallsInOut',\n",
    "       'OffPeakCallsInOut', 'DroppedBlockedCalls', 'CallForwardingCalls',\n",
    "       'CallWaitingCalls', 'MonthsInService', 'UniqueSubs', 'ActiveSubs',\n",
    "       'CurrentEquipmentDays', 'Age', 'IncomeGroup', 'HandsetPrice']\n",
    "# compute the vif for all given features\n",
    "def compute_vif(considered_features):\n",
    "    \n",
    "    X = data[considered_features]\n",
    "    # the calculation of variance inflation requires a constant\n",
    "    X['intercept'] = 1\n",
    "    \n",
    "    # create dataframe to store vif values\n",
    "    vif = pd.DataFrame()\n",
    "    vif[\"Variable\"] = X.columns\n",
    "    vif[\"VIF\"] = [variance_inflation_factor(X.values, i) for i in range(X.shape[1])]\n",
    "    vif = vif[vif['Variable']!='intercept']\n",
    "    return vif\n",
    "compute_vif(considered_features)\n",
    "compute_vif(considered_features).sort_values('VIF', ascending=False)\n",
    "# the VIF of DroppedBlockedCalls is 283 so we remove it\n",
    "# compute vif values after removing a feature\n",
    "considered_features.remove('DroppedBlockedCalls')\n",
    "compute_vif(considered_features)\n",
    "compute_vif(considered_features).sort_values('VIF', ascending=False)\n",
    "# the VIF of MonthlyRevenue is 10.106 so we remove it\n",
    "# compute vif values after removing a feature\n",
    "considered_features.remove('MonthlyRevenue')\n",
    "compute_vif(considered_features)\n",
    "compute_vif(considered_features).sort_values('VIF', ascending=False)\n",
    "# the VIF of MonthlyMintes is 5.76 so we remove it\n",
    "considered_features.remove('MonthlyMinutes')\n",
    "compute_vif(considered_features)\n",
    "compute_vif(considered_features).sort_values('VIF', ascending=False)\n",
    "numerical=numerical.drop(['DroppedBlockedCalls','MonthlyRevenue','MonthlyMinutes'],axis=1)"
   ]
  },
  {
   "cell_type": "code",
   "execution_count": 142,
   "id": "2a201a4b",
   "metadata": {
    "scrolled": true
   },
   "outputs": [
    {
     "data": {
      "text/plain": [
       "(49076, 25)"
      ]
     },
     "execution_count": 142,
     "metadata": {},
     "output_type": "execute_result"
    }
   ],
   "source": [
    "numerical.shape"
   ]
  },
  {
   "cell_type": "code",
   "execution_count": 143,
   "id": "d6b8c0dd",
   "metadata": {},
   "outputs": [
    {
     "name": "stdout",
     "output_type": "stream",
     "text": [
      "<class 'pandas.core.frame.DataFrame'>\n",
      "Int64Index: 49076 entries, 0 to 50887\n",
      "Data columns (total 25 columns):\n",
      " #   Column                 Non-Null Count  Dtype  \n",
      "---  ------                 --------------  -----  \n",
      " 0   TotalRecurringCharge   49076 non-null  float64\n",
      " 1   DirectorAssistedCalls  49076 non-null  float64\n",
      " 2   OverageMinutes         49076 non-null  float64\n",
      " 3   RoamingCalls           49076 non-null  float64\n",
      " 4   PercChangeMinutes      49076 non-null  float64\n",
      " 5   PercChangeRevenues     49076 non-null  float64\n",
      " 6   DroppedCalls           49076 non-null  float64\n",
      " 7   BlockedCalls           49076 non-null  float64\n",
      " 8   UnansweredCalls        49076 non-null  float64\n",
      " 9   CustomerCareCalls      49076 non-null  float64\n",
      " 10  ThreewayCalls          49076 non-null  float64\n",
      " 11  ReceivedCalls          49076 non-null  float64\n",
      " 12  OutboundCalls          49076 non-null  float64\n",
      " 13  InboundCalls           49076 non-null  float64\n",
      " 14  PeakCallsInOut         49076 non-null  float64\n",
      " 15  OffPeakCallsInOut      49076 non-null  float64\n",
      " 16  CallForwardingCalls    49076 non-null  float64\n",
      " 17  CallWaitingCalls       49076 non-null  float64\n",
      " 18  MonthsInService        49076 non-null  int64  \n",
      " 19  UniqueSubs             49076 non-null  int64  \n",
      " 20  ActiveSubs             49076 non-null  int64  \n",
      " 21  CurrentEquipmentDays   49076 non-null  float64\n",
      " 22  Age                    49076 non-null  float64\n",
      " 23  IncomeGroup            49076 non-null  int64  \n",
      " 24  HandsetPrice           49076 non-null  float64\n",
      "dtypes: float64(21), int64(4)\n",
      "memory usage: 9.7 MB\n"
     ]
    }
   ],
   "source": [
    "numerical.info()"
   ]
  },
  {
   "cell_type": "code",
   "execution_count": 144,
   "id": "e835501a",
   "metadata": {},
   "outputs": [
    {
     "data": {
      "image/png": "[encoded data removed]",
      "text/plain": [
       "<Figure size 2880x4320 with 26 Axes>"
      ]
     },
     "metadata": {
      "needs_background": "light"
     },
     "output_type": "display_data"
    }
   ],
   "source": [
    "def plot_num(df):\n",
    "    col=list(df.columns)\n",
    "    fig,ax=plt.subplots(int(np.ceil(len(col)/2)),2 ,figsize=(40,60))\n",
    "    plt.subplots_adjust(left=0.1,\n",
    "                    bottom=0.1, \n",
    "                    right=0.9, \n",
    "                    top=0.9, \n",
    "                    wspace=0.4, \n",
    "                    hspace=0.5)\n",
    "    j=0\n",
    "    k=0\n",
    "    for i in range(len(col)):\n",
    "        sns.histplot(x =df[col[i]], data = df, ax=ax[j,k],bins = 50)\n",
    "        k=k+1\n",
    "        if k>=2:\n",
    "            j=j+1\n",
    "            k=0\n",
    "            \n",
    "plot_num(numerical)"
   ]
  },
  {
   "cell_type": "code",
   "execution_count": 145,
   "id": "082aa9ac",
   "metadata": {},
   "outputs": [
    {
     "data": {
      "image/png": "[encoded data removed]",
      "text/plain": [
       "<Figure size 432x288 with 1 Axes>"
      ]
     },
     "metadata": {
      "needs_background": "light"
     },
     "output_type": "display_data"
    },
    {
     "data": {
      "image/png": "[encoded data removed]",
      "text/plain": [
       "<Figure size 432x288 with 1 Axes>"
      ]
     },
     "metadata": {
      "needs_background": "light"
     },
     "output_type": "display_data"
    },
    {
     "data": {
      "image/png": "[encoded data removed]",
      "text/plain": [
       "<Figure size 432x288 with 1 Axes>"
      ]
     },
     "metadata": {
      "needs_background": "light"
     },
     "output_type": "display_data"
    },
    {
     "data": {
      "image/png": "[encoded data removed]",
      "text/plain": [
       "<Figure size 432x288 with 1 Axes>"
      ]
     },
     "metadata": {
      "needs_background": "light"
     },
     "output_type": "display_data"
    },
    {
     "data": {
      "image/png": "[encoded data removed]",
      "text/plain": [
       "<Figure size 432x288 with 1 Axes>"
      ]
     },
     "metadata": {
      "needs_background": "light"
     },
     "output_type": "display_data"
    },
    {
     "data": {
      "image/png": "[encoded data removed]",
      "text/plain": [
       "<Figure size 432x288 with 1 Axes>"
      ]
     },
     "metadata": {
      "needs_background": "light"
     },
     "output_type": "display_data"
    },
    {
     "data": {
      "image/png": "[encoded data removed]",
      "text/plain": [
       "<Figure size 432x288 with 1 Axes>"
      ]
     },
     "metadata": {
      "needs_background": "light"
     },
     "output_type": "display_data"
    },
    {
     "data": {
      "image/png": "[encoded data removed]",
      "text/plain": [
       "<Figure size 432x288 with 1 Axes>"
      ]
     },
     "metadata": {
      "needs_background": "light"
     },
     "output_type": "display_data"
    },
    {
     "data": {
      "image/png": "[encoded data removed]",
      "text/plain": [
       "<Figure size 432x288 with 1 Axes>"
      ]
     },
     "metadata": {
      "needs_background": "light"
     },
     "output_type": "display_data"
    },
    {
     "data": {
      "image/png": "[encoded data removed]",
      "text/plain": [
       "<Figure size 432x288 with 1 Axes>"
      ]
     },
     "metadata": {
      "needs_background": "light"
     },
     "output_type": "display_data"
    },
    {
     "data": {
      "image/png": "[encoded data removed]",
      "text/plain": [
       "<Figure size 432x288 with 1 Axes>"
      ]
     },
     "metadata": {
      "needs_background": "light"
     },
     "output_type": "display_data"
    },
    {
     "data": {
      "image/png": "[encoded data removed]",
      "text/plain": [
       "<Figure size 432x288 with 1 Axes>"
      ]
     },
     "metadata": {
      "needs_background": "light"
     },
     "output_type": "display_data"
    },
    {
     "data": {
      "image/png": "[encoded data removed]",
      "text/plain": [
       "<Figure size 432x288 with 1 Axes>"
      ]
     },
     "metadata": {
      "needs_background": "light"
     },
     "output_type": "display_data"
    },
    {
     "data": {
      "image/png": "[encoded data removed]",
      "text/plain": [
       "<Figure size 432x288 with 1 Axes>"
      ]
     },
     "metadata": {
      "needs_background": "light"
     },
     "output_type": "display_data"
    },
    {
     "data": {
      "image/png": "[encoded data removed]",
      "text/plain": [
       "<Figure size 432x288 with 1 Axes>"
      ]
     },
     "metadata": {
      "needs_background": "light"
     },
     "output_type": "display_data"
    },
    {
     "data": {
      "image/png": "[encoded data removed]",
      "text/plain": [
       "<Figure size 432x288 with 1 Axes>"
      ]
     },
     "metadata": {
      "needs_background": "light"
     },
     "output_type": "display_data"
    },
    {
     "data": {
      "image/png": "[encoded data removed]",
      "text/plain": [
       "<Figure size 432x288 with 1 Axes>"
      ]
     },
     "metadata": {
      "needs_background": "light"
     },
     "output_type": "display_data"
    },
    {
     "data": {
      "image/png": "[encoded data removed]",
      "text/plain": [
       "<Figure size 432x288 with 1 Axes>"
      ]
     },
     "metadata": {
      "needs_background": "light"
     },
     "output_type": "display_data"
    },
    {
     "data": {
      "image/png": "[encoded data removed]",
      "text/plain": [
       "<Figure size 432x288 with 1 Axes>"
      ]
     },
     "metadata": {
      "needs_background": "light"
     },
     "output_type": "display_data"
    },
    {
     "data": {
      "image/png": "[encoded data removed]",
      "text/plain": [
       "<Figure size 432x288 with 1 Axes>"
      ]
     },
     "metadata": {
      "needs_background": "light"
     },
     "output_type": "display_data"
    },
    {
     "data": {
      "image/png": "[encoded data removed]",
      "text/plain": [
       "<Figure size 432x288 with 1 Axes>"
      ]
     },
     "metadata": {
      "needs_background": "light"
     },
     "output_type": "display_data"
    },
    {
     "data": {
      "image/png": "[encoded data removed]",
      "text/plain": [
       "<Figure size 432x288 with 1 Axes>"
      ]
     },
     "metadata": {
      "needs_background": "light"
     },
     "output_type": "display_data"
    },
    {
     "data": {
      "image/png": "[encoded data removed]",
      "text/plain": [
       "<Figure size 432x288 with 1 Axes>"
      ]
     },
     "metadata": {
      "needs_background": "light"
     },
     "output_type": "display_data"
    },
    {
     "data": {
      "image/png": "[encoded data removed]",
      "text/plain": [
       "<Figure size 432x288 with 1 Axes>"
      ]
     },
     "metadata": {
      "needs_background": "light"
     },
     "output_type": "display_data"
    },
    {
     "data": {
      "image/png": "[encoded data removed]",
      "text/plain": [
       "<Figure size 432x288 with 1 Axes>"
      ]
     },
     "metadata": {
      "needs_background": "light"
     },
     "output_type": "display_data"
    }
   ],
   "source": [
    "def plot_num(df):\n",
    "    col=list(df.columns)\n",
    "    for i in range(len(col)):\n",
    "        sns.boxplot(x =df[col[i]], data = df) \n",
    "        plt.show()\n",
    "plot_num(numerical)"
   ]
  },
  {
   "cell_type": "markdown",
   "id": "d761db1e",
   "metadata": {},
   "source": [
    "## removing Outliers"
   ]
  },
  {
   "cell_type": "code",
   "execution_count": 146,
   "id": "35891766",
   "metadata": {},
   "outputs": [
    {
     "data": {
      "image/png": "[encoded data removed]",
      "text/plain": [
       "<Figure size 432x288 with 1 Axes>"
      ]
     },
     "metadata": {
      "needs_background": "light"
     },
     "output_type": "display_data"
    },
    {
     "data": {
      "text/plain": [
       "(48900, 25)"
      ]
     },
     "execution_count": 146,
     "metadata": {},
     "output_type": "execute_result"
    }
   ],
   "source": [
    "# Age\n",
    "#For age we weill remove agell people grater that 80 it seems not corrcet\n",
    "numerical[numerical['Age']>80]['Age'].value_counts()\n",
    "numerical=numerical[numerical['Age']<=80]\n",
    "sns.boxplot(x =numerical['Age'], data = numerical) \n",
    "plt.show()\n",
    "numerical.shape"
   ]
  },
  {
   "cell_type": "code",
   "execution_count": 147,
   "id": "ad5130d1",
   "metadata": {},
   "outputs": [
    {
     "name": "stdout",
     "output_type": "stream",
     "text": [
      "310.0    3\n",
      "262.0    1\n",
      "281.0    1\n",
      "300.0    1\n",
      "302.0    1\n",
      "342.0    1\n",
      "338.0    1\n",
      "Name: TotalRecurringCharge, dtype: int64\n"
     ]
    },
    {
     "data": {
      "image/png": "[encoded data removed]",
      "text/plain": [
       "<Figure size 432x288 with 1 Axes>"
      ]
     },
     "metadata": {
      "needs_background": "light"
     },
     "output_type": "display_data"
    },
    {
     "data": {
      "text/plain": [
       "(48891, 25)"
      ]
     },
     "execution_count": 147,
     "metadata": {},
     "output_type": "execute_result"
    }
   ],
   "source": [
    "#'TotalRecurringCharge'\n",
    "print(numerical[numerical['TotalRecurringCharge']>250]['TotalRecurringCharge'].value_counts())\n",
    "numerical=numerical[numerical['TotalRecurringCharge']<=250]\n",
    "sns.boxplot(x =numerical['TotalRecurringCharge'], data = numerical) \n",
    "plt.show()\n",
    "numerical.shape"
   ]
  },
  {
   "cell_type": "code",
   "execution_count": 148,
   "id": "580fe0b0",
   "metadata": {},
   "outputs": [
    {
     "name": "stdout",
     "output_type": "stream",
     "text": [
      "4321.0    1\n",
      "Name: OverageMinutes, dtype: int64\n"
     ]
    },
    {
     "data": {
      "image/png": "[encoded data removed]",
      "text/plain": [
       "<Figure size 432x288 with 1 Axes>"
      ]
     },
     "metadata": {
      "needs_background": "light"
     },
     "output_type": "display_data"
    },
    {
     "data": {
      "text/plain": [
       "(48890, 25)"
      ]
     },
     "execution_count": 148,
     "metadata": {},
     "output_type": "execute_result"
    }
   ],
   "source": [
    "#OverageMinutes\n",
    "print(numerical[numerical['OverageMinutes']>3000]['OverageMinutes'].value_counts())\n",
    "numerical=numerical[numerical['OverageMinutes']<=3000]\n",
    "sns.boxplot(x =numerical['OverageMinutes'], data = numerical) \n",
    "plt.show()\n",
    "numerical.shape"
   ]
  },
  {
   "cell_type": "code",
   "execution_count": 149,
   "id": "e2251905",
   "metadata": {},
   "outputs": [
    {
     "name": "stdout",
     "output_type": "stream",
     "text": [
      "105.1    1\n",
      "103.5    1\n",
      "102.6    1\n",
      "122.9    1\n",
      "161.4    1\n",
      "147.2    1\n",
      "199.0    1\n",
      "292.5    1\n",
      "451.9    1\n",
      "416.3    1\n",
      "201.2    1\n",
      "165.9    1\n",
      "692.4    1\n",
      "Name: RoamingCalls, dtype: int64\n"
     ]
    },
    {
     "data": {
      "image/png": "[encoded data removed]",
      "text/plain": [
       "<Figure size 432x288 with 1 Axes>"
      ]
     },
     "metadata": {
      "needs_background": "light"
     },
     "output_type": "display_data"
    },
    {
     "data": {
      "text/plain": [
       "(48877, 25)"
      ]
     },
     "execution_count": 149,
     "metadata": {},
     "output_type": "execute_result"
    }
   ],
   "source": [
    "#RoamingCalls \n",
    "print(numerical[numerical['RoamingCalls']>100]['RoamingCalls'].value_counts())\n",
    "numerical=numerical[numerical['RoamingCalls']<=100]\n",
    "sns.boxplot(x =numerical['RoamingCalls'], data = numerical) \n",
    "plt.show()\n",
    "numerical.shape"
   ]
  },
  {
   "cell_type": "code",
   "execution_count": 150,
   "id": "45abacf0",
   "metadata": {},
   "outputs": [
    {
     "name": "stdout",
     "output_type": "stream",
     "text": [
      "-3875.0    1\n",
      "-3331.0    1\n",
      " 4480.0    1\n",
      " 3712.0    1\n",
      "Name: PercChangeMinutes, dtype: int64\n"
     ]
    },
    {
     "data": {
      "image/png": "[encoded data removed]",
      "text/plain": [
       "<Figure size 432x288 with 1 Axes>"
      ]
     },
     "metadata": {
      "needs_background": "light"
     },
     "output_type": "display_data"
    },
    {
     "data": {
      "text/plain": [
       "(48873, 25)"
      ]
     },
     "execution_count": 150,
     "metadata": {},
     "output_type": "execute_result"
    }
   ],
   "source": [
    "#PercChangeMinutes\n",
    "print(numerical[(numerical['PercChangeMinutes']>3000)|(numerical['PercChangeMinutes']<-3000)\n",
    "               ]['PercChangeMinutes'].value_counts())\n",
    "numerical=numerical[(numerical['PercChangeMinutes']<3000)&(numerical['PercChangeMinutes']>-3000)]\n",
    "sns.boxplot(x =numerical['PercChangeMinutes'], data = numerical) \n",
    "plt.show()\n",
    "numerical.shape"
   ]
  },
  {
   "cell_type": "code",
   "execution_count": 151,
   "id": "366796fd",
   "metadata": {},
   "outputs": [
    {
     "name": "stdout",
     "output_type": "stream",
     "text": [
      "527.4    1\n",
      "404.7    1\n",
      "509.7    1\n",
      "638.6    1\n",
      "402.1    1\n",
      "741.1    1\n",
      "Name: PercChangeRevenues, dtype: int64\n"
     ]
    },
    {
     "data": {
      "image/png": "[encoded data removed]",
      "text/plain": [
       "<Figure size 432x288 with 1 Axes>"
      ]
     },
     "metadata": {
      "needs_background": "light"
     },
     "output_type": "display_data"
    },
    {
     "data": {
      "text/plain": [
       "(48867, 25)"
      ]
     },
     "execution_count": 151,
     "metadata": {},
     "output_type": "execute_result"
    }
   ],
   "source": [
    "#PercChangeRevenues\n",
    "print(numerical[numerical['PercChangeRevenues']>400]['PercChangeRevenues'].value_counts())\n",
    "numerical=numerical[numerical['PercChangeRevenues']<=400]\n",
    "sns.boxplot(x =numerical['PercChangeRevenues'], data = numerical) \n",
    "plt.show()\n",
    "numerical.shape"
   ]
  },
  {
   "cell_type": "code",
   "execution_count": 152,
   "id": "b46584fc",
   "metadata": {},
   "outputs": [
    {
     "name": "stdout",
     "output_type": "stream",
     "text": [
      "208.7    1\n",
      "166.3    1\n",
      "221.7    1\n",
      "Name: DroppedCalls, dtype: int64\n"
     ]
    },
    {
     "data": {
      "image/png": "[encoded data removed]",
      "text/plain": [
       "<Figure size 432x288 with 1 Axes>"
      ]
     },
     "metadata": {
      "needs_background": "light"
     },
     "output_type": "display_data"
    },
    {
     "data": {
      "text/plain": [
       "(48864, 25)"
      ]
     },
     "execution_count": 152,
     "metadata": {},
     "output_type": "execute_result"
    }
   ],
   "source": [
    "#DroppedCalls \n",
    "print(numerical[numerical['DroppedCalls']>150]['DroppedCalls'].value_counts())\n",
    "numerical=numerical[numerical['DroppedCalls']<=150]\n",
    "sns.boxplot(x =numerical['DroppedCalls'], data = numerical) \n",
    "plt.show()\n",
    "numerical.shape"
   ]
  },
  {
   "cell_type": "code",
   "execution_count": 153,
   "id": "f24fa07a",
   "metadata": {},
   "outputs": [
    {
     "name": "stdout",
     "output_type": "stream",
     "text": [
      "286.3    1\n",
      "311.3    1\n",
      "266.3    1\n",
      "314.7    1\n",
      "268.7    1\n",
      "278.7    1\n",
      "Name: BlockedCalls, dtype: int64\n"
     ]
    },
    {
     "data": {
      "image/png": "[encoded data removed]",
      "text/plain": [
       "<Figure size 432x288 with 1 Axes>"
      ]
     },
     "metadata": {
      "needs_background": "light"
     },
     "output_type": "display_data"
    },
    {
     "data": {
      "text/plain": [
       "(48858, 25)"
      ]
     },
     "execution_count": 153,
     "metadata": {},
     "output_type": "execute_result"
    }
   ],
   "source": [
    "#BlockedCalls\n",
    "print(numerical[numerical['BlockedCalls']>250]['BlockedCalls'].value_counts())\n",
    "numerical=numerical[numerical['BlockedCalls']<=250]\n",
    "sns.boxplot(x =numerical['BlockedCalls'], data = numerical) \n",
    "plt.show()\n",
    "numerical.shape"
   ]
  },
  {
   "cell_type": "code",
   "execution_count": 154,
   "id": "6c7af6b2",
   "metadata": {},
   "outputs": [
    {
     "name": "stdout",
     "output_type": "stream",
     "text": [
      "597.3    1\n",
      "771.3    1\n",
      "840.0    1\n",
      "565.0    1\n",
      "653.7    1\n",
      "610.3    1\n",
      "663.3    1\n",
      "848.7    1\n",
      "814.3    1\n",
      "Name: UnansweredCalls, dtype: int64\n"
     ]
    },
    {
     "data": {
      "image/png": "[encoded data removed]",
      "text/plain": [
       "<Figure size 432x288 with 1 Axes>"
      ]
     },
     "metadata": {
      "needs_background": "light"
     },
     "output_type": "display_data"
    },
    {
     "data": {
      "text/plain": [
       "(48849, 25)"
      ]
     },
     "execution_count": 154,
     "metadata": {},
     "output_type": "execute_result"
    }
   ],
   "source": [
    "#UnansweredCalls\n",
    "print(numerical[numerical['UnansweredCalls']>550]['UnansweredCalls'].value_counts())\n",
    "numerical=numerical[numerical['UnansweredCalls']<=550]\n",
    "sns.boxplot(x =numerical['UnansweredCalls'], data = numerical) \n",
    "plt.show()\n",
    "numerical.shape"
   ]
  },
  {
   "cell_type": "code",
   "execution_count": 155,
   "id": "77b7cfe5",
   "metadata": {},
   "outputs": [
    {
     "name": "stdout",
     "output_type": "stream",
     "text": [
      "172.3    1\n",
      "150.0    1\n",
      "124.3    1\n",
      "327.3    1\n",
      "108.3    1\n",
      "273.0    1\n",
      "132.3    1\n",
      "Name: CustomerCareCalls, dtype: int64\n"
     ]
    },
    {
     "data": {
      "image/png": "[encoded data removed]",
      "text/plain": [
       "<Figure size 432x288 with 1 Axes>"
      ]
     },
     "metadata": {
      "needs_background": "light"
     },
     "output_type": "display_data"
    },
    {
     "data": {
      "text/plain": [
       "(48842, 25)"
      ]
     },
     "execution_count": 155,
     "metadata": {},
     "output_type": "execute_result"
    }
   ],
   "source": [
    "#CustomerCareCalls\n",
    "print(numerical[numerical['CustomerCareCalls']>100]['CustomerCareCalls'].value_counts())\n",
    "numerical=numerical[numerical['CustomerCareCalls']<=100]\n",
    "sns.boxplot(x =numerical['CustomerCareCalls'], data = numerical) \n",
    "plt.show()\n",
    "numerical.shape"
   ]
  },
  {
   "cell_type": "code",
   "execution_count": 156,
   "id": "ff07bbb0",
   "metadata": {},
   "outputs": [
    {
     "name": "stdout",
     "output_type": "stream",
     "text": [
      "43.0    1\n",
      "39.3    1\n",
      "41.7    1\n",
      "Name: ThreewayCalls, dtype: int64\n"
     ]
    },
    {
     "data": {
      "image/png": "[encoded data removed]",
      "text/plain": [
       "<Figure size 432x288 with 1 Axes>"
      ]
     },
     "metadata": {
      "needs_background": "light"
     },
     "output_type": "display_data"
    },
    {
     "data": {
      "text/plain": [
       "(48839, 25)"
      ]
     },
     "execution_count": 156,
     "metadata": {},
     "output_type": "execute_result"
    }
   ],
   "source": [
    "#ThreewayCalls \n",
    "print(numerical[numerical['ThreewayCalls']>35]['ThreewayCalls'].value_counts())\n",
    "numerical=numerical[numerical['ThreewayCalls']<=35]\n",
    "sns.boxplot(x =numerical['ThreewayCalls'], data = numerical) \n",
    "plt.show()\n",
    "numerical.shape"
   ]
  },
  {
   "cell_type": "code",
   "execution_count": 157,
   "id": "b4ae02da",
   "metadata": {},
   "outputs": [
    {
     "name": "stdout",
     "output_type": "stream",
     "text": [
      "2619.3    1\n",
      "2075.9    1\n",
      "Name: ReceivedCalls, dtype: int64\n"
     ]
    },
    {
     "data": {
      "image/png": "[encoded data removed]",
      "text/plain": [
       "<Figure size 432x288 with 1 Axes>"
      ]
     },
     "metadata": {
      "needs_background": "light"
     },
     "output_type": "display_data"
    },
    {
     "data": {
      "text/plain": [
       "(48837, 25)"
      ]
     },
     "execution_count": 157,
     "metadata": {},
     "output_type": "execute_result"
    }
   ],
   "source": [
    "#ReceivedCalls\n",
    "print(numerical[numerical['ReceivedCalls']>2000]['ReceivedCalls'].value_counts())\n",
    "numerical=numerical[numerical['ReceivedCalls']<=2000]\n",
    "sns.boxplot(x =numerical['ReceivedCalls'], data = numerical) \n",
    "plt.show()\n",
    "numerical.shape"
   ]
  },
  {
   "cell_type": "code",
   "execution_count": 158,
   "id": "292748e2",
   "metadata": {},
   "outputs": [
    {
     "name": "stdout",
     "output_type": "stream",
     "text": [
      "413.3    1\n",
      "540.7    1\n",
      "429.7    1\n",
      "448.7    1\n",
      "418.3    1\n",
      "413.7    1\n",
      "Name: OutboundCalls, dtype: int64\n"
     ]
    },
    {
     "data": {
      "image/png": "[encoded data removed]",
      "text/plain": [
       "<Figure size 432x288 with 1 Axes>"
      ]
     },
     "metadata": {
      "needs_background": "light"
     },
     "output_type": "display_data"
    },
    {
     "data": {
      "text/plain": [
       "(48831, 25)"
      ]
     },
     "execution_count": 158,
     "metadata": {},
     "output_type": "execute_result"
    }
   ],
   "source": [
    "#OutboundCalls\n",
    "print(numerical[numerical['OutboundCalls']>400]['OutboundCalls'].value_counts())\n",
    "numerical=numerical[numerical['OutboundCalls']<=400]\n",
    "sns.boxplot(x =numerical['OutboundCalls'], data = numerical) \n",
    "plt.show()\n",
    "numerical.shape"
   ]
  },
  {
   "cell_type": "code",
   "execution_count": 159,
   "id": "e9c8673d",
   "metadata": {},
   "outputs": [
    {
     "name": "stdout",
     "output_type": "stream",
     "text": [
      "301.0    1\n",
      "283.7    1\n",
      "260.7    1\n",
      "304.0    1\n",
      "281.7    1\n",
      "Name: InboundCalls, dtype: int64\n"
     ]
    },
    {
     "data": {
      "image/png": "[encoded data removed]",
      "text/plain": [
       "<Figure size 432x288 with 1 Axes>"
      ]
     },
     "metadata": {
      "needs_background": "light"
     },
     "output_type": "display_data"
    },
    {
     "data": {
      "text/plain": [
       "(48826, 25)"
      ]
     },
     "execution_count": 159,
     "metadata": {},
     "output_type": "execute_result"
    }
   ],
   "source": [
    "#InboundCalls\n",
    "print(numerical[numerical['InboundCalls']>250]['InboundCalls'].value_counts())\n",
    "numerical=numerical[numerical['InboundCalls']<=250]\n",
    "sns.boxplot(x =numerical['InboundCalls'], data = numerical) \n",
    "plt.show()\n",
    "numerical.shape"
   ]
  },
  {
   "cell_type": "code",
   "execution_count": 160,
   "id": "f20eacab",
   "metadata": {},
   "outputs": [
    {
     "name": "stdout",
     "output_type": "stream",
     "text": [
      "1116.0    1\n",
      "1119.3    1\n",
      "1784.7    1\n",
      "1117.7    1\n",
      "1070.7    1\n",
      "1034.0    1\n",
      "1165.7    1\n",
      "1096.3    1\n",
      "1101.3    1\n",
      "1292.0    1\n",
      "1025.7    1\n",
      "1090.3    1\n",
      "1196.0    1\n",
      "1053.3    1\n",
      "1177.3    1\n",
      "1001.3    1\n",
      "1018.7    1\n",
      "1000.3    1\n",
      "1355.7    1\n",
      "Name: PeakCallsInOut, dtype: int64\n"
     ]
    },
    {
     "data": {
      "image/png": "[encoded data removed]",
      "text/plain": [
       "<Figure size 432x288 with 1 Axes>"
      ]
     },
     "metadata": {
      "needs_background": "light"
     },
     "output_type": "display_data"
    },
    {
     "data": {
      "text/plain": [
       "(48807, 25)"
      ]
     },
     "execution_count": 160,
     "metadata": {},
     "output_type": "execute_result"
    }
   ],
   "source": [
    "#PeakCallsInOut\n",
    "print(numerical[numerical['PeakCallsInOut']>1000]['PeakCallsInOut'].value_counts())\n",
    "numerical=numerical[numerical['PeakCallsInOut']<=1000]\n",
    "sns.boxplot(x =numerical['PeakCallsInOut'], data = numerical) \n",
    "plt.show()\n",
    "numerical.shape"
   ]
  },
  {
   "cell_type": "code",
   "execution_count": 161,
   "id": "ebfbe09a",
   "metadata": {},
   "outputs": [
    {
     "name": "stdout",
     "output_type": "stream",
     "text": [
      "51.7    1\n",
      "55.7    1\n",
      "81.3    1\n",
      "Name: CallForwardingCalls, dtype: int64\n"
     ]
    },
    {
     "data": {
      "image/png": "[encoded data removed]",
      "text/plain": [
       "<Figure size 432x288 with 1 Axes>"
      ]
     },
     "metadata": {
      "needs_background": "light"
     },
     "output_type": "display_data"
    },
    {
     "data": {
      "text/plain": [
       "(48804, 25)"
      ]
     },
     "execution_count": 161,
     "metadata": {},
     "output_type": "execute_result"
    }
   ],
   "source": [
    "#CallForwardingCalls\n",
    "print(numerical[numerical['CallForwardingCalls']>40]['CallForwardingCalls'].value_counts())\n",
    "numerical=numerical[numerical['CallForwardingCalls']<=40]\n",
    "sns.boxplot(x =numerical['CallForwardingCalls'], data = numerical) \n",
    "plt.show()\n",
    "numerical.shape"
   ]
  },
  {
   "cell_type": "code",
   "execution_count": 162,
   "id": "22fb7f4e",
   "metadata": {},
   "outputs": [
    {
     "name": "stdout",
     "output_type": "stream",
     "text": [
      "105.3    1\n",
      "145.3    1\n",
      "140.3    1\n",
      "156.0    1\n",
      "102.0    1\n",
      "126.3    1\n",
      "Name: CallWaitingCalls, dtype: int64\n"
     ]
    },
    {
     "data": {
      "image/png": "[encoded data removed]",
      "text/plain": [
       "<Figure size 432x288 with 1 Axes>"
      ]
     },
     "metadata": {
      "needs_background": "light"
     },
     "output_type": "display_data"
    },
    {
     "data": {
      "text/plain": [
       "(48798, 25)"
      ]
     },
     "execution_count": 162,
     "metadata": {},
     "output_type": "execute_result"
    }
   ],
   "source": [
    "#CallWaitingCalls\n",
    "print(numerical[numerical['CallWaitingCalls']>100]['CallWaitingCalls'].value_counts())\n",
    "numerical=numerical[numerical['CallWaitingCalls']<=100]\n",
    "sns.boxplot(x =numerical['CallWaitingCalls'], data = numerical) \n",
    "plt.show()\n",
    "numerical.shape"
   ]
  },
  {
   "cell_type": "code",
   "execution_count": 163,
   "id": "c2f4d498",
   "metadata": {},
   "outputs": [
    {
     "name": "stdout",
     "output_type": "stream",
     "text": [
      "18     1\n",
      "196    1\n",
      "Name: UniqueSubs, dtype: int64\n"
     ]
    },
    {
     "data": {
      "image/png": "[encoded data removed]",
      "text/plain": [
       "<Figure size 432x288 with 1 Axes>"
      ]
     },
     "metadata": {
      "needs_background": "light"
     },
     "output_type": "display_data"
    },
    {
     "data": {
      "text/plain": [
       "(48796, 25)"
      ]
     },
     "execution_count": 163,
     "metadata": {},
     "output_type": "execute_result"
    }
   ],
   "source": [
    "#UniqueSubs\n",
    "print(numerical[numerical['UniqueSubs']>17]['UniqueSubs'].value_counts())\n",
    "numerical=numerical[numerical['UniqueSubs']<=17]\n",
    "sns.boxplot(x =numerical['UniqueSubs'], data = numerical) \n",
    "plt.show()\n",
    "numerical.shape"
   ]
  },
  {
   "cell_type": "code",
   "execution_count": 164,
   "id": "5730fcb7",
   "metadata": {},
   "outputs": [
    {
     "name": "stdout",
     "output_type": "stream",
     "text": [
      "(48796, 28)\n",
      "(48796, 25)\n"
     ]
    }
   ],
   "source": [
    "# Removing rows in cat which we delete in numerical removing outliers\n",
    "#cat.loc[cat.index.isin(numerical.index),'HandsetPrice'] = numerical.HandsetPrice\n",
    "cols=categorical.columns\n",
    "cat_df = pd.DataFrame(categorical, columns=cols, index =numerical.index)\n",
    "num_df=numerical\n",
    "print(cat_df.shape)\n",
    "print(num_df.shape)"
   ]
  },
  {
   "cell_type": "code",
   "execution_count": 165,
   "id": "74c9d3f5",
   "metadata": {},
   "outputs": [
    {
     "name": "stdout",
     "output_type": "stream",
     "text": [
      "<class 'pandas.core.frame.DataFrame'>\n",
      "Int64Index: 48796 entries, 0 to 50881\n",
      "Data columns (total 28 columns):\n",
      " #   Column                     Non-Null Count  Dtype \n",
      "---  ------                     --------------  ----- \n",
      " 0   Churn                      48796 non-null  object\n",
      " 1   ServiceArea                48796 non-null  object\n",
      " 2   ChildrenInHH               48796 non-null  object\n",
      " 3   HandsetRefurbished         48796 non-null  object\n",
      " 4   HandsetWebCapable          48796 non-null  object\n",
      " 5   TruckOwner                 48796 non-null  object\n",
      " 6   RVOwner                    48796 non-null  object\n",
      " 7   Homeownership              48796 non-null  object\n",
      " 8   BuysViaMailOrder           48796 non-null  object\n",
      " 9   RespondsToMailOffers       48796 non-null  object\n",
      " 10  OptOutMailings             48796 non-null  object\n",
      " 11  NonUSTravel                48796 non-null  object\n",
      " 12  OwnsComputer               48796 non-null  object\n",
      " 13  HasCreditCard              48796 non-null  object\n",
      " 14  NewCellphoneUser           48796 non-null  object\n",
      " 15  NotNewCellphoneUser        48796 non-null  object\n",
      " 16  OwnsMotorcycle             48796 non-null  object\n",
      " 17  MadeCallToRetentionTeam    48796 non-null  object\n",
      " 18  PrizmCode                  48796 non-null  object\n",
      " 19  Occupation                 48796 non-null  object\n",
      " 20  MaritalStatus              48796 non-null  object\n",
      " 21  Handsets                   48796 non-null  object\n",
      " 22  HandsetModels              48796 non-null  object\n",
      " 23  RetentionCalls             48796 non-null  object\n",
      " 24  RetentionOffersAccepted    48796 non-null  object\n",
      " 25  ReferralsMadeBySubscriber  48796 non-null  object\n",
      " 26  AdjustmentsToCreditRating  48796 non-null  object\n",
      " 27  CreditRating               48796 non-null  object\n",
      "dtypes: object(28)\n",
      "memory usage: 10.8+ MB\n"
     ]
    }
   ],
   "source": [
    "cat_df.info()"
   ]
  },
  {
   "cell_type": "code",
   "execution_count": 166,
   "id": "f4bfb854",
   "metadata": {},
   "outputs": [
    {
     "data": {
      "image/png": "[encoded data removed]",
      "text/plain": [
       "<Figure size 1080x1800 with 28 Axes>"
      ]
     },
     "metadata": {
      "needs_background": "light"
     },
     "output_type": "display_data"
    }
   ],
   "source": [
    "def plot_cat(df):\n",
    "    col=list(df.columns)\n",
    "    fig,ax=plt.subplots(int(np.ceil(len(col)/2)),2 ,figsize=(15,25))\n",
    "    plt.subplots_adjust(left=0.1,\n",
    "                    bottom=0.1, \n",
    "                    right=0.9, \n",
    "                    top=0.9, \n",
    "                    wspace=0.4, \n",
    "                    hspace=0.5)\n",
    "    j=0\n",
    "    k=0\n",
    "    for i in range(len(col)):\n",
    "        chart=sns.countplot(x=df[col[i]],data=df,ax=ax[j,k])\n",
    "        chart.set_xticklabels(chart.get_xticklabels(), rotation=45)\n",
    "        k=k+1\n",
    "        if k>=2:\n",
    "            j=j+1\n",
    "            k=0\n",
    "plot_cat(cat_df)"
   ]
  },
  {
   "cell_type": "markdown",
   "id": "7ae1039a",
   "metadata": {},
   "source": [
    "# Normalizing"
   ]
  },
  {
   "cell_type": "code",
   "execution_count": 167,
   "id": "596d08eb",
   "metadata": {},
   "outputs": [],
   "source": [
    "X=pd.concat([cat_df,num_df], axis=1) \n",
    "Y=X['Churn']\n",
    "X=X.drop('Churn',axis=1)"
   ]
  },
  {
   "cell_type": "code",
   "execution_count": 168,
   "id": "6717005b",
   "metadata": {},
   "outputs": [],
   "source": [
    "from sklearn.model_selection import train_test_split\n",
    "X_train, X_test, y_train, y_test = train_test_split(X, Y, test_size=0.2, random_state=42)"
   ]
  },
  {
   "cell_type": "code",
   "execution_count": 169,
   "id": "8a9d6d3a",
   "metadata": {},
   "outputs": [
    {
     "data": {
      "text/plain": [
       "(48796, 52)"
      ]
     },
     "execution_count": 169,
     "metadata": {},
     "output_type": "execute_result"
    }
   ],
   "source": [
    "X=pd.concat([cat_df,num_df], axis=1) \n",
    "Y=X['Churn']\n",
    "X=X.drop('Churn',axis=1)\n",
    "X.shape"
   ]
  },
  {
   "cell_type": "code",
   "execution_count": 170,
   "id": "0c187667",
   "metadata": {},
   "outputs": [],
   "source": [
    "from sklearn.model_selection import train_test_split\n",
    "X_train, X_test, y_train, y_test = train_test_split(X, Y, test_size=0.2, random_state=42)"
   ]
  },
  {
   "cell_type": "code",
   "execution_count": 171,
   "id": "57f699d7",
   "metadata": {},
   "outputs": [],
   "source": [
    "# Normalizing\n",
    "def normal(name,X_train,y_train,X_test,y_test):\n",
    "    \n",
    "    while ( name not in ['MinMaxScaler','PowerTransformer','StandardScaler']):\n",
    "        value = input(\"Incorrect transformer name, please enter a valid one: [1:'MinMaxScaler',2:'PowerTransformer',3:'StandardScaler']\")\n",
    "        if ( value == '1'):\n",
    "            name = \"MinMaxScaler\"\n",
    "        elif ( value == '2'):\n",
    "            name = \"PowerTransformer\"\n",
    "        elif ( value == \"3\"):\n",
    "            name = \"StandardScaler\"\n",
    "        else:\n",
    "            name = None\n",
    "            \n",
    "    #X_train_df = pd.DataFrame(X_train, columns=X.columns)\n",
    "    #X_test_df  = pd.DataFrame(X_test,  columns=X.columns)\n",
    "    X_train_num = X_train.select_dtypes(include = np.number)\n",
    "    X_test_num  = X_test.select_dtypes(include = np.number)\n",
    "    X_train_cat = X_train.select_dtypes(include ='object')\n",
    "    X_test_cat  = X_test.select_dtypes(include ='object')\n",
    "    \n",
    "    \n",
    "    display(X_test_cat.info())\n",
    "    display(X_train_cat.info())\n",
    "    \n",
    "    encoder = OneHotEncoder(drop='first')\n",
    "    encoder.fit(X_train_cat)\n",
    "    \n",
    "    X_train_cat_encoded = encoder.transform(X_train_cat).toarray()\n",
    "    cols = encoder.get_feature_names_out(input_features=X_train_cat.columns)\n",
    "    X_train_encoded_df = pd.DataFrame(X_train_cat_encoded, columns=cols, index = X_train_cat.index)\n",
    "    X_train_encoded = pd.concat([X_train_encoded_df,X_train_num], axis=1)\n",
    "    \n",
    "    X_test_cat_encoded = encoder.transform(X_test_cat).toarray()\n",
    "    X_test_cat_encoded_df = pd.DataFrame(X_test_cat_encoded,columns=cols, index = X_test_cat.index)\n",
    "    X_test_encoded = pd.concat([X_test_cat_encoded_df,X_test_num], axis=1)\n",
    "        \n",
    "    if name==\"MinMaxScaler\":\n",
    "        transformer = MinMaxScaler()\n",
    "        transformer.fit(X_train_encoded)\n",
    "    elif name==\"PowerTransformer\":\n",
    "        transformer = PowerTransformer()\n",
    "        transformer.fit(X_train_encoded)\n",
    "    elif name=='StandardScaler':\n",
    "        transformer = StandardScaler()\n",
    "        transformer.fit(X_train_encoded)\n",
    "        \n",
    "    X_train_scaled_total = transformer.transform(X_train_encoded)\n",
    "    X_train_scaled_total_df = pd.DataFrame(X_train_scaled_total, columns = X_train_encoded.columns)\n",
    "    X_test_scaled_total  = transformer.transform(X_test_encoded)\n",
    "    X_test_scaled_total_df = pd.DataFrame(X_test_scaled_total, columns= X_test_encoded.columns)\n",
    "    \n",
    "    return X_train_scaled_total_df, X_test_scaled_total_df\n"
   ]
  },
  {
   "cell_type": "code",
   "execution_count": null,
   "id": "94f192a4",
   "metadata": {},
   "outputs": [],
   "source": []
  },
  {
   "cell_type": "markdown",
   "id": "a1b63efa",
   "metadata": {},
   "source": [
    "# Prediction for Differnet Type of Normalization"
   ]
  },
  {
   "cell_type": "markdown",
   "id": "db4f3e52",
   "metadata": {},
   "source": [
    "## MinMaxScaler"
   ]
  },
  {
   "cell_type": "code",
   "execution_count": null,
   "id": "5adba16f",
   "metadata": {},
   "outputs": [
    {
     "name": "stderr",
     "output_type": "stream",
     "text": [
      "ERROR:root:Internal Python error in the inspect module.\n",
      "Below is the traceback from this internal error.\n",
      "\n",
      "ERROR:root:Internal Python error in the inspect module.\n",
      "Below is the traceback from this internal error.\n",
      "\n"
     ]
    },
    {
     "name": "stdout",
     "output_type": "stream",
     "text": [
      "Traceback (most recent call last):\n",
      "  File \"/Users/mojgun/opt/anaconda3/lib/python3.9/site-packages/IPython/core/interactiveshell.py\", line 3444, in run_code\n",
      "    exec(code_obj, self.user_global_ns, self.user_ns)\n",
      "  File \"/var/folders/_z/gw3f_k0d08zctss1m54yb4pc0000gn/T/ipykernel_6900/519754540.py\", line 1, in <module>\n",
      "    X_train_minmax, X_test_minmax=normal(1,X_train,y_train,X_test,y_test)\n",
      "  File \"/var/folders/_z/gw3f_k0d08zctss1m54yb4pc0000gn/T/ipykernel_6900/1046125598.py\", line 5, in normal\n",
      "    value = input(\"Incorrect transformer name, please enter a valid one: [1:'MinMaxScaler',2:'PowerTransformer',3:'StandardScaler']\")\n",
      "  File \"/Users/mojgun/opt/anaconda3/lib/python3.9/site-packages/ipykernel/kernelbase.py\", line 1006, in raw_input\n",
      "    return self._input_request(\n",
      "  File \"/Users/mojgun/opt/anaconda3/lib/python3.9/site-packages/ipykernel/kernelbase.py\", line 1051, in _input_request\n",
      "    raise KeyboardInterrupt(\"Interrupted by user\") from None\n",
      "KeyboardInterrupt: Interrupted by user\n",
      "\n",
      "During handling of the above exception, another exception occurred:\n",
      "\n",
      "Traceback (most recent call last):\n",
      "  File \"/Users/mojgun/opt/anaconda3/lib/python3.9/site-packages/IPython/core/interactiveshell.py\", line 2064, in showtraceback\n",
      "    stb = value._render_traceback_()\n",
      "AttributeError: 'KeyboardInterrupt' object has no attribute '_render_traceback_'\n",
      "\n",
      "During handling of the above exception, another exception occurred:\n",
      "\n",
      "Traceback (most recent call last):\n",
      "  File \"/Users/mojgun/opt/anaconda3/lib/python3.9/site-packages/IPython/core/interactiveshell.py\", line 2064, in showtraceback\n",
      "    stb = value._render_traceback_()\n",
      "KeyboardInterrupt\n",
      "\n",
      "During handling of the above exception, another exception occurred:\n",
      "\n",
      "Traceback (most recent call last):\n",
      "  File \"/Users/mojgun/opt/anaconda3/lib/python3.9/site-packages/IPython/core/interactiveshell.py\", line 3364, in run_ast_nodes\n",
      "    if (await self.run_code(code, result,  async_=asy)):\n",
      "  File \"/Users/mojgun/opt/anaconda3/lib/python3.9/site-packages/IPython/core/interactiveshell.py\", line 3461, in run_code\n",
      "    self.showtraceback(running_compiled_code=True)\n",
      "  File \"/Users/mojgun/opt/anaconda3/lib/python3.9/site-packages/IPython/core/interactiveshell.py\", line 2079, in showtraceback\n",
      "    print('\\n' + self.get_exception_only(), file=sys.stderr)\n",
      "  File \"/Users/mojgun/opt/anaconda3/lib/python3.9/site-packages/IPython/core/interactiveshell.py\", line 2024, in get_exception_only\n",
      "    msg = traceback.format_exception_only(etype, value)\n",
      "  File \"/Users/mojgun/opt/anaconda3/lib/python3.9/traceback.py\", line 140, in format_exception_only\n",
      "    return list(TracebackException(etype, value, None).format_exception_only())\n",
      "  File \"/Users/mojgun/opt/anaconda3/lib/python3.9/traceback.py\", line 495, in __init__\n",
      "    context = TracebackException(\n",
      "  File \"/Users/mojgun/opt/anaconda3/lib/python3.9/traceback.py\", line 495, in __init__\n",
      "    context = TracebackException(\n",
      "  File \"/Users/mojgun/opt/anaconda3/lib/python3.9/traceback.py\", line 495, in __init__\n",
      "    context = TracebackException(\n",
      "  File \"/Users/mojgun/opt/anaconda3/lib/python3.9/traceback.py\", line 517, in __init__\n",
      "    self.stack = StackSummary.extract(\n",
      "  File \"/Users/mojgun/opt/anaconda3/lib/python3.9/traceback.py\", line 348, in extract\n",
      "    co = f.f_code\n",
      "KeyboardInterrupt\n",
      "\n",
      "During handling of the above exception, another exception occurred:\n",
      "\n",
      "Traceback (most recent call last):\n",
      "  File \"/Users/mojgun/opt/anaconda3/lib/python3.9/site-packages/IPython/core/interactiveshell.py\", line 2064, in showtraceback\n",
      "    stb = value._render_traceback_()\n",
      "AttributeError: 'KeyboardInterrupt' object has no attribute '_render_traceback_'\n",
      "\n",
      "During handling of the above exception, another exception occurred:\n",
      "\n",
      "Traceback (most recent call last):\n",
      "  File \"/Users/mojgun/opt/anaconda3/lib/python3.9/site-packages/IPython/core/ultratb.py\", line 1101, in get_records\n",
      "    return _fixed_getinnerframes(etb, number_of_lines_of_context, tb_offset)\n",
      "  File \"/Users/mojgun/opt/anaconda3/lib/python3.9/site-packages/IPython/core/ultratb.py\", line 248, in wrapped\n",
      "    return f(*args, **kwargs)\n",
      "  File \"/Users/mojgun/opt/anaconda3/lib/python3.9/site-packages/IPython/core/ultratb.py\", line 277, in _fixed_getinnerframes\n",
      "    @with_patch_inspect\n",
      "KeyboardInterrupt\n",
      "\n",
      "During handling of the above exception, another exception occurred:\n",
      "\n",
      "Traceback (most recent call last):\n",
      "  File \"/Users/mojgun/opt/anaconda3/lib/python3.9/site-packages/IPython/core/interactiveshell.py\", line 2066, in showtraceback\n",
      "    stb = self.InteractiveTB.structured_traceback(etype,\n",
      "  File \"/Users/mojgun/opt/anaconda3/lib/python3.9/site-packages/IPython/core/ultratb.py\", line 1367, in structured_traceback\n",
      "    return FormattedTB.structured_traceback(\n",
      "  File \"/Users/mojgun/opt/anaconda3/lib/python3.9/site-packages/IPython/core/ultratb.py\", line 1267, in structured_traceback\n",
      "    return VerboseTB.structured_traceback(\n",
      "  File \"/Users/mojgun/opt/anaconda3/lib/python3.9/site-packages/IPython/core/ultratb.py\", line 1124, in structured_traceback\n",
      "    formatted_exception = self.format_exception_as_a_whole(etype, evalue, etb, number_of_lines_of_context,\n",
      "  File \"/Users/mojgun/opt/anaconda3/lib/python3.9/site-packages/IPython/core/ultratb.py\", line 1079, in format_exception_as_a_whole\n",
      "    records = self.get_records(etb, number_of_lines_of_context, tb_offset)\n",
      "  File \"/Users/mojgun/opt/anaconda3/lib/python3.9/site-packages/IPython/core/ultratb.py\", line 1116, in get_records\n",
      "    traceback.print_exc(file=self.ostream)\n",
      "  File \"/Users/mojgun/opt/anaconda3/lib/python3.9/traceback.py\", line 163, in print_exc\n",
      "    print_exception(*sys.exc_info(), limit=limit, file=file, chain=chain)\n",
      "  File \"/Users/mojgun/opt/anaconda3/lib/python3.9/traceback.py\", line 103, in print_exception\n",
      "    for line in TracebackException(\n",
      "  File \"/Users/mojgun/opt/anaconda3/lib/python3.9/traceback.py\", line 495, in __init__\n",
      "    context = TracebackException(\n",
      "  File \"/Users/mojgun/opt/anaconda3/lib/python3.9/traceback.py\", line 495, in __init__\n",
      "    context = TracebackException(\n",
      "  File \"/Users/mojgun/opt/anaconda3/lib/python3.9/traceback.py\", line 495, in __init__\n",
      "    context = TracebackException(\n",
      "  [Previous line repeated 2 more times]\n",
      "  File \"/Users/mojgun/opt/anaconda3/lib/python3.9/traceback.py\", line 517, in __init__\n",
      "    self.stack = StackSummary.extract(\n",
      "  File \"/Users/mojgun/opt/anaconda3/lib/python3.9/traceback.py\", line 362, in extract\n",
      "    linecache.checkcache(filename)\n",
      "  File \"/Users/mojgun/opt/anaconda3/lib/python3.9/site-packages/IPython/core/compilerop.py\", line 185, in check_linecache_ipython\n",
      "    linecache._checkcache_ori(*args)\n",
      "  File \"/Users/mojgun/opt/anaconda3/lib/python3.9/linecache.py\", line 72, in checkcache\n",
      "    stat = os.stat(fullname)\n",
      "KeyboardInterrupt\n",
      "\n",
      "During handling of the above exception, another exception occurred:\n",
      "\n",
      "Traceback (most recent call last):\n",
      "  File \"/Users/mojgun/opt/anaconda3/lib/python3.9/site-packages/IPython/core/interactiveshell.py\", line 2947, in _run_cell\n",
      "    return runner(coro)\n",
      "  File \"/Users/mojgun/opt/anaconda3/lib/python3.9/site-packages/IPython/core/async_helpers.py\", line 68, in _pseudo_sync_runner\n",
      "    coro.send(None)\n",
      "  File \"/Users/mojgun/opt/anaconda3/lib/python3.9/site-packages/IPython/core/interactiveshell.py\", line 3172, in run_cell_async\n",
      "    has_raised = await self.run_ast_nodes(code_ast.body, cell_name,\n",
      "  File \"/Users/mojgun/opt/anaconda3/lib/python3.9/site-packages/IPython/core/interactiveshell.py\", line 3383, in run_ast_nodes\n",
      "    self.showtraceback()\n",
      "  File \"/Users/mojgun/opt/anaconda3/lib/python3.9/site-packages/IPython/core/interactiveshell.py\", line 2079, in showtraceback\n",
      "    print('\\n' + self.get_exception_only(), file=sys.stderr)\n",
      "  File \"/Users/mojgun/opt/anaconda3/lib/python3.9/site-packages/IPython/core/interactiveshell.py\", line 2024, in get_exception_only\n",
      "    msg = traceback.format_exception_only(etype, value)\n",
      "  File \"/Users/mojgun/opt/anaconda3/lib/python3.9/traceback.py\", line 140, in format_exception_only\n",
      "    return list(TracebackException(etype, value, None).format_exception_only())\n",
      "  File \"/Users/mojgun/opt/anaconda3/lib/python3.9/traceback.py\", line 533, in __init__\n",
      "    self._load_lines()\n",
      "  File \"/Users/mojgun/opt/anaconda3/lib/python3.9/traceback.py\", line 545, in _load_lines\n",
      "    self.__context__._load_lines()\n",
      "  File \"/Users/mojgun/opt/anaconda3/lib/python3.9/traceback.py\", line 543, in _load_lines\n",
      "    frame.line\n",
      "  File \"/Users/mojgun/opt/anaconda3/lib/python3.9/traceback.py\", line 288, in line\n",
      "    self._line = linecache.getline(self.filename, self.lineno).strip()\n",
      "  File \"/Users/mojgun/opt/anaconda3/lib/python3.9/linecache.py\", line 30, in getline\n",
      "    lines = getlines(filename, module_globals)\n",
      "  File \"/Users/mojgun/opt/anaconda3/lib/python3.9/linecache.py\", line 46, in getlines\n",
      "    return updatecache(filename, module_globals)\n",
      "  File \"/Users/mojgun/opt/anaconda3/lib/python3.9/linecache.py\", line 136, in updatecache\n",
      "    with tokenize.open(fullname) as fp:\n",
      "  File \"/Users/mojgun/opt/anaconda3/lib/python3.9/tokenize.py\", line 392, in open\n",
      "    buffer = _builtin_open(filename, 'rb')\n",
      "KeyboardInterrupt\n",
      "\n",
      "During handling of the above exception, another exception occurred:\n",
      "\n",
      "Traceback (most recent call last):\n",
      "  File \"/Users/mojgun/opt/anaconda3/lib/python3.9/site-packages/IPython/core/interactiveshell.py\", line 2064, in showtraceback\n",
      "    stb = value._render_traceback_()\n",
      "AttributeError: 'KeyboardInterrupt' object has no attribute '_render_traceback_'\n",
      "\n",
      "During handling of the above exception, another exception occurred:\n",
      "\n",
      "Traceback (most recent call last):\n",
      "  File \"/Users/mojgun/opt/anaconda3/lib/python3.9/site-packages/IPython/core/ultratb.py\", line 1101, in get_records\n",
      "    return _fixed_getinnerframes(etb, number_of_lines_of_context, tb_offset)\n",
      "  File \"/Users/mojgun/opt/anaconda3/lib/python3.9/site-packages/IPython/core/ultratb.py\", line 248, in wrapped\n",
      "    return f(*args, **kwargs)\n",
      "  File \"/Users/mojgun/opt/anaconda3/lib/python3.9/site-packages/IPython/core/ultratb.py\", line 281, in _fixed_getinnerframes\n",
      "    records = fix_frame_records_filenames(inspect.getinnerframes(etb, context))\n",
      "  File \"/Users/mojgun/opt/anaconda3/lib/python3.9/inspect.py\", line 1541, in getinnerframes\n",
      "    frameinfo = (tb.tb_frame,) + getframeinfo(tb, context)\n",
      "  File \"/Users/mojgun/opt/anaconda3/lib/python3.9/inspect.py\", line 1499, in getframeinfo\n",
      "    filename = getsourcefile(frame) or getfile(frame)\n",
      "  File \"/Users/mojgun/opt/anaconda3/lib/python3.9/inspect.py\", line 709, in getsourcefile\n",
      "    if getattr(getmodule(object, filename), '__loader__', None) is not None:\n",
      "  File \"/Users/mojgun/opt/anaconda3/lib/python3.9/inspect.py\", line 746, in getmodule\n",
      "    if ismodule(module) and hasattr(module, '__file__'):\n",
      "KeyboardInterrupt\n"
     ]
    }
   ],
   "source": [
    "X_train_minmax, X_test_minmax=normal(1,X_train,y_train,X_test,y_test)"
   ]
  },
  {
   "cell_type": "code",
   "execution_count": null,
   "id": "62b5a8cb",
   "metadata": {},
   "outputs": [],
   "source": [
    "from sklearn.linear_model import LogisticRegression\n",
    "lr = LogisticRegression(random_state=0, solver='lbfgs')\n",
    "lr.fit(X_train_minmax,y_train)"
   ]
  },
  {
   "cell_type": "code",
   "execution_count": null,
   "id": "38bd2514",
   "metadata": {},
   "outputs": [],
   "source": [
    "#perdict\n",
    "y_pred_train = lr.predict(X_train_minmax)\n",
    "y_pred_test = lr.predict(X_test_minmax)"
   ]
  },
  {
   "cell_type": "code",
   "execution_count": null,
   "id": "3191c031",
   "metadata": {},
   "outputs": [],
   "source": [
    "#Check the Errors\n",
    "#accuracy\n",
    "print(\"The accuracy of MinMaxScaler in the TRAIN set is: {:.3f}\".format(accuracy_score(y_train, y_pred_train)))\n",
    "print(\"The accuracy of MinMaxScaler in the TEST  set is: {:.3f}\".format(accuracy_score(y_test, y_pred_test)))\n",
    "\n",
    "#Precission\n",
    "print(\"The precission of MinMaxScalerin the TRAIN set is: {:.3f}\".format(precision_score(y_train, y_pred_train, pos_label=\"Yes\")))\n",
    "print(\"The precission of MinMaxScaler  in the TEST  set is: {:.3f}\".format(precision_score(y_test, y_pred_test, pos_label=\"Yes\")))\n",
    "\n",
    "#Recall\n",
    "print(\"The recall of MinMaxScaler  in the TRAIN set is: {:.3f}\".format(recall_score(y_train, y_pred_train, pos_label=\"Yes\")))\n",
    "print(\"The recall of MinMaxScaler in the TEST  set is: {:.3f}\".format(recall_score(y_test,  y_pred_test, pos_label=\"Yes\")))\n",
    "#f1_score\n",
    "print(\"The F1-score of MinMaxScaler for the TRAIN set is {:.2f}\".format(f1_score(y_train,y_pred_train, pos_label=\"Yes\")))\n",
    "#Kappa\n",
    "print(\"The kappa in of MinMaxScaler the TRAIN- set is: {:.2f}\".format(cohen_kappa_score(y_train,y_pred_train)))\n",
    "print(\"The kappa in of MinMaxScaler the TEST set is: {:.2f}\".format(cohen_kappa_score(y_test,y_pred_test)))"
   ]
  },
  {
   "cell_type": "code",
   "execution_count": null,
   "id": "775d5049",
   "metadata": {},
   "outputs": [],
   "source": [
    "print(\"The confusion matrix on the TRAIN set is: \")\n",
    "cm_train = confusion_matrix(y_train,y_pred_train)\n",
    "cm_train\n",
    "disp = ConfusionMatrixDisplay(cm_train,display_labels=lr.classes_);\n",
    "disp.plot()\n",
    "plt.show()"
   ]
  },
  {
   "cell_type": "markdown",
   "id": "3a377555",
   "metadata": {},
   "source": [
    "## \"PowerTransformer\""
   ]
  },
  {
   "cell_type": "code",
   "execution_count": null,
   "id": "7796861b",
   "metadata": {},
   "outputs": [],
   "source": [
    "X_train_power, X_test_power=normal(\"PowerTransformer\",X_train,y_train,X_test,y_test)"
   ]
  },
  {
   "cell_type": "code",
   "execution_count": null,
   "id": "5d04a595",
   "metadata": {},
   "outputs": [],
   "source": [
    "from sklearn.linear_model import LogisticRegression\n",
    "lr = LogisticRegression(random_state=0, solver='lbfgs')\n",
    "lr.fit(X_train_power,y_train)"
   ]
  },
  {
   "cell_type": "code",
   "execution_count": null,
   "id": "f794e6a2",
   "metadata": {},
   "outputs": [],
   "source": [
    "#perdict-PowerTransformer\n",
    "y_pred_train = lr.predict(X_train_power)\n",
    "y_pred_test = lr.predict(X_test_power)"
   ]
  },
  {
   "cell_type": "code",
   "execution_count": null,
   "id": "6c419bbc",
   "metadata": {},
   "outputs": [],
   "source": [
    "#Check the Errors\n",
    "#accuracy\n",
    "print(\"The accuracy of PowerTransformer in the TRAIN set is: {:.3f}\".format(accuracy_score(y_train, y_pred_train)))\n",
    "print(\"The accuracy of PowerTransformer in the TEST  set is: {:.3f}\".format(accuracy_score(y_test, y_pred_test)))\n",
    "\n",
    "#Precission\n",
    "print(\"The precission of PowerTransformer in the TRAIN set is: {:.3f}\".format(precision_score(y_train, y_pred_train, pos_label=\"Yes\")))\n",
    "print(\"The precission of PowerTransformer in the TEST  set is: {:.3f}\".format(precision_score(y_test, y_pred_test, pos_label=\"Yes\")))\n",
    "\n",
    "#Recall\n",
    "print(\"The recall of PowerTransformer  in the TRAIN set is: {:.3f}\".format(recall_score(y_train, y_pred_train, pos_label=\"Yes\")))\n",
    "print(\"The recall of PowerTransformer in the TEST  set is: {:.3f}\".format(recall_score(y_test,  y_pred_test, pos_label=\"Yes\")))\n",
    "#f1_score\n",
    "print(\"The F1-score of PowerTransformer for the TRAIN set is {:.2f}\".format(f1_score(y_train,y_pred_train, pos_label=\"Yes\")))\n",
    "#Kappa\n",
    "print(\"The kappa in of PowerTransformer the TRAIN- set is: {:.2f}\".format(cohen_kappa_score(y_train,y_pred_train)))\n",
    "print(\"The kappa in of PowerTransformer the TEST set is: {:.2f}\".format(cohen_kappa_score(y_test,y_pred_test)))"
   ]
  },
  {
   "cell_type": "code",
   "execution_count": null,
   "id": "6ca58df4",
   "metadata": {},
   "outputs": [],
   "source": [
    "print(\"The confusion matrix on the TRAIN set is: \")\n",
    "cm_train = confusion_matrix(y_train, y_pred_train)\n",
    "cm_train\n",
    "disp = ConfusionMatrixDisplay(cm_train,display_labels=lr.classes_);\n",
    "disp.plot()\n",
    "plt.show()"
   ]
  },
  {
   "cell_type": "markdown",
   "id": "8aff493b",
   "metadata": {},
   "source": [
    "## StandardScaler"
   ]
  },
  {
   "cell_type": "code",
   "execution_count": null,
   "id": "c0e0b1a4",
   "metadata": {},
   "outputs": [],
   "source": [
    "X_train_stan, X_test_stan=normal(\"StandardScaler\",X_train,y_train,X_test,y_test)"
   ]
  },
  {
   "cell_type": "code",
   "execution_count": null,
   "id": "28e9393e",
   "metadata": {},
   "outputs": [],
   "source": [
    "lr = LogisticRegression(random_state=0, solver='lbfgs')\n",
    "lr.fit(X_train_stan,y_train)"
   ]
  },
  {
   "cell_type": "code",
   "execution_count": null,
   "id": "30ede46c",
   "metadata": {},
   "outputs": [],
   "source": [
    "#perdict-StandardScalerTransformer\n",
    "y_pred_train = lr.predict(X_train_stan)\n",
    "y_pred_test = lr.predict(X_test_stan)"
   ]
  },
  {
   "cell_type": "code",
   "execution_count": null,
   "id": "e92a2a70",
   "metadata": {},
   "outputs": [],
   "source": [
    "#Check the Errors\n",
    "#accuracy\n",
    "print(\"The accuracy of PowerTransformer in the TRAIN set is: {:.3f}\".format(accuracy_score(y_train, y_pred_train)))\n",
    "print(\"The accuracy of PowerTransformer in the TEST  set is: {:.3f}\".format(accuracy_score(y_test, y_pred_test)))\n",
    "\n",
    "#Precission\n",
    "print(\"The precission of PowerTransformer in the TRAIN set is: {:.3f}\".format(precision_score(y_train, y_pred_train, pos_label=\"Yes\")))\n",
    "print(\"The precission of PowerTransformer in the TEST  set is: {:.3f}\".format(precision_score(y_test, y_pred_test, pos_label=\"Yes\")))\n",
    "\n",
    "#Recall\n",
    "print(\"The recall of PowerTransformer  in the TRAIN set is: {:.3f}\".format(recall_score(y_train, y_pred_train, pos_label=\"Yes\")))\n",
    "print(\"The recall of PowerTransformer in the TEST  set is: {:.3f}\".format(recall_score(y_test,  y_pred_test, pos_label=\"Yes\")))\n",
    "#f1_score\n",
    "print(\"The F1-score of PowerTransformer for the TRAIN set is {:.2f}\".format(f1_score(y_train,y_pred_train, pos_label=\"Yes\")))\n",
    "#Kappa\n",
    "print(\"The kappa in of PowerTransformer the TRAIN- set is: {:.2f}\".format(cohen_kappa_score(y_train,y_pred_train)))\n",
    "print(\"The kappa in of PowerTransformer the TEST set is: {:.2f}\".format(cohen_kappa_score(y_test,y_pred_test)))"
   ]
  },
  {
   "cell_type": "code",
   "execution_count": null,
   "id": "7e516d49",
   "metadata": {},
   "outputs": [],
   "source": [
    "print(\"The confusion matrix on the TRAIN set is: \")\n",
    "cm_train = confusion_matrix(y_train, y_pred_train)\n",
    "cm_train\n",
    "disp = ConfusionMatrixDisplay(cm_train,display_labels=lr.classes_);\n",
    "disp.plot()\n",
    "plt.show()"
   ]
  },
  {
   "cell_type": "code",
   "execution_count": null,
   "id": "95d6abc6",
   "metadata": {},
   "outputs": [],
   "source": [
    "from imblearn.over_sampling import SMOTE"
   ]
  },
  {
   "cell_type": "code",
   "execution_count": null,
   "id": "98a864d2",
   "metadata": {},
   "outputs": [],
   "source": [
    "sm = SMOTE(random_state=100,k_neighbors=5)\n",
    "X_train_SMOTE,y_train_SMOTE = sm.fit_resample(X_train_power,y_train)\n"
   ]
  },
  {
   "cell_type": "code",
   "execution_count": null,
   "id": "a45abab6",
   "metadata": {},
   "outputs": [],
   "source": [
    "from sklearn.linear_model import LogisticRegression\n",
    "lr = LogisticRegression(max_iter=1000)\n",
    "lr.fit(X_train_SMOTE, y_train_SMOTE)\n",
    "y_pred_test = lr.predict(X_test_power)\n",
    "y_pred_train = lr.predict(X_train_SMOTE)"
   ]
  },
  {
   "cell_type": "code",
   "execution_count": null,
   "id": "d188e337",
   "metadata": {},
   "outputs": [],
   "source": [
    "cm_test = confusion_matrix(y_test,y_pred_test)\n",
    "disp = ConfusionMatrixDisplay(confusion_matrix=cm_test, display_labels=lr.classes_)\n",
    "disp.plot()\n",
    "plt.show()"
   ]
  },
  {
   "cell_type": "code",
   "execution_count": null,
   "id": "188fd345",
   "metadata": {},
   "outputs": [],
   "source": [
    "from sklearn.datasets import load_iris\n",
    "from sklearn.model_selection import cross_val_score\n",
    "from sklearn.tree import DecisionTreeClassifier\n",
    "dtc = DecisionTreeClassifier(random_state = 42)\n",
    "#accuracies = cross_val_score(dtc,X_train_power,y_train, cv=5)\n",
    "dtc.fit(X_train_power,y_train)\n",
    "y_pred = dtc.predict(X_test)\n",
    " \n",
    "#Obtain accuracy\n",
    "#print(\"Train Score:\",np.mean(accuracies))\n",
    "#print(\"Test Score:\",dtc.score(X_test,y_test))"
   ]
  },
  {
   "cell_type": "code",
   "execution_count": null,
   "id": "67d3927f",
   "metadata": {},
   "outputs": [],
   "source": [
    "cm_test = confusion_matrix(y_test,y_pred_test)\n",
    "disp = ConfusionMatrixDisplay(confusion_matrix=cm_test, display_labels=lr.classes_)\n",
    "disp.plot()\n",
    "plt.show()"
   ]
  }
 ],
 "metadata": {
  "kernelspec": {
   "display_name": "Python 3 (ipykernel)",
   "language": "python",
   "name": "python3"
  },
  "language_info": {
   "codemirror_mode": {
    "name": "ipython",
    "version": 3
   },
   "file_extension": ".py",
   "mimetype": "text/x-python",
   "name": "python",
   "nbconvert_exporter": "python",
   "pygments_lexer": "ipython3",
   "version": "3.9.7"
  },
  "toc": {
   "base_numbering": 1,
   "nav_menu": {},
   "number_sections": true,
   "sideBar": true,
   "skip_h1_title": false,
   "title_cell": "Table of Contents",
   "title_sidebar": "Contents",
   "toc_cell": true,
   "toc_position": {
    "height": "calc(100% - 180px)",
    "left": "10px",
    "top": "150px",
    "width": "256px"
   },
   "toc_section_display": true,
   "toc_window_display": false
  },
  "varInspector": {
   "cols": {
    "lenName": 16,
    "lenType": 16,
    "lenVar": 40
   },
   "kernels_config": {
    "python": {
     "delete_cmd_postfix": "",
     "delete_cmd_prefix": "del ",
     "library": "var_list.py",
     "varRefreshCmd": "print(var_dic_list())"
    },
    "r": {
     "delete_cmd_postfix": ") ",
     "delete_cmd_prefix": "rm(",
     "library": "var_list.r",
     "varRefreshCmd": "cat(var_dic_list()) "
    }
   },
   "types_to_exclude": [
    "module",
    "function",
    "builtin_function_or_method",
    "instance",
    "_Feature"
   ],
   "window_display": false
  }
 },
 "nbformat": 4,
 "nbformat_minor": 5
}
