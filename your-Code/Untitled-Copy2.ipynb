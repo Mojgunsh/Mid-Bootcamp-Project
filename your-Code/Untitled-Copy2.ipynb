{
 "cells": [
  {
   "cell_type": "markdown",
   "id": "0cfae56b",
   "metadata": {
    "toc": true
   },
   "source": [
    "<h1>Table of Contents<span class=\"tocSkip\"></span></h1>\n",
    "<div class=\"toc\"><ul class=\"toc-item\"><li><span><a href=\"#importing-Data-&amp;-Libraries\" data-toc-modified-id=\"importing-Data-&amp;-Libraries-1\"><span class=\"toc-item-num\">1&nbsp;&nbsp;</span>importing Data &amp; Libraries</a></span></li><li><span><a href=\"#Cleaning-Data\" data-toc-modified-id=\"Cleaning-Data-2\"><span class=\"toc-item-num\">2&nbsp;&nbsp;</span>Cleaning Data</a></span><ul class=\"toc-item\"><li><span><a href=\"#Dealing-with-Null-values-in-Data\" data-toc-modified-id=\"Dealing-with-Null-values-in-Data-2.1\"><span class=\"toc-item-num\">2.1&nbsp;&nbsp;</span>Dealing with Null values in Data</a></span></li><li><span><a href=\"#Dealing-with-Missing-values-in-Data\" data-toc-modified-id=\"Dealing-with-Missing-values-in-Data-2.2\"><span class=\"toc-item-num\">2.2&nbsp;&nbsp;</span>Dealing with Missing values in Data</a></span><ul class=\"toc-item\"><li><span><a href=\"#ServiceArea(Categorical)\" data-toc-modified-id=\"ServiceArea(Categorical)-2.2.1\"><span class=\"toc-item-num\">2.2.1&nbsp;&nbsp;</span>ServiceArea(Categorical)</a></span></li><li><span><a href=\"#Age(Numerical)\" data-toc-modified-id=\"Age(Numerical)-2.2.2\"><span class=\"toc-item-num\">2.2.2&nbsp;&nbsp;</span>Age(Numerical)</a></span></li><li><span><a href=\"#HandsetPrice\" data-toc-modified-id=\"HandsetPrice-2.2.3\"><span class=\"toc-item-num\">2.2.3&nbsp;&nbsp;</span>HandsetPrice</a></span></li></ul></li><li><span><a href=\"#Changing-the-Numerical-ordinal-to-Catrgorical-ordinal\" data-toc-modified-id=\"Changing-the-Numerical-ordinal-to-Catrgorical-ordinal-2.3\"><span class=\"toc-item-num\">2.3&nbsp;&nbsp;</span>Changing the Numerical ordinal to Catrgorical ordinal</a></span><ul class=\"toc-item\"><li><span><a href=\"#CreditRating\" data-toc-modified-id=\"CreditRating-2.3.1\"><span class=\"toc-item-num\">2.3.1&nbsp;&nbsp;</span>CreditRating</a></span></li></ul></li><li><span><a href=\"#Removing-multicollinearity\" data-toc-modified-id=\"Removing-multicollinearity-2.4\"><span class=\"toc-item-num\">2.4&nbsp;&nbsp;</span>Removing multicollinearity</a></span></li><li><span><a href=\"#removing-Outliers\" data-toc-modified-id=\"removing-Outliers-2.5\"><span class=\"toc-item-num\">2.5&nbsp;&nbsp;</span>removing Outliers</a></span></li></ul></li><li><span><a href=\"#Normalizing\" data-toc-modified-id=\"Normalizing-3\"><span class=\"toc-item-num\">3&nbsp;&nbsp;</span>Normalizing</a></span></li><li><span><a href=\"#Prediction-for-Differnet-Type-of-Normalization\" data-toc-modified-id=\"Prediction-for-Differnet-Type-of-Normalization-4\"><span class=\"toc-item-num\">4&nbsp;&nbsp;</span>Prediction for Differnet Type of Normalization</a></span><ul class=\"toc-item\"><li><span><a href=\"#MinMaxScaler\" data-toc-modified-id=\"MinMaxScaler-4.1\"><span class=\"toc-item-num\">4.1&nbsp;&nbsp;</span>MinMaxScaler</a></span></li><li><span><a href=\"#&quot;PowerTransformer&quot;\" data-toc-modified-id=\"&quot;PowerTransformer&quot;-4.2\"><span class=\"toc-item-num\">4.2&nbsp;&nbsp;</span>\"PowerTransformer\"</a></span></li><li><span><a href=\"#StandardScaler\" data-toc-modified-id=\"StandardScaler-4.3\"><span class=\"toc-item-num\">4.3&nbsp;&nbsp;</span>StandardScaler</a></span></li></ul></li></ul></div>"
   ]
  },
  {
   "cell_type": "markdown",
   "id": "c536ae7a",
   "metadata": {},
   "source": [
    "# importing Data & Libraries"
   ]
  },
  {
   "cell_type": "code",
   "execution_count": 1,
   "id": "8203d633",
   "metadata": {},
   "outputs": [],
   "source": [
    "import pandas as pd\n",
    "import numpy as np\n",
    "from sklearn.impute import KNNImputer\n",
    "import matplotlib.pyplot as plt\n",
    "%matplotlib inline\n",
    "import seaborn as sns\n",
    "from sklearn.preprocessing import PowerTransformer\n",
    "from statsmodels.stats.outliers_influence import variance_inflation_factor\n",
    "from statsmodels.tools.tools import add_constant\n",
    "from sklearn.preprocessing import PowerTransformer\n",
    "from sklearn.preprocessing import MinMaxScaler\n",
    "from sklearn.preprocessing import OneHotEncoder\n",
    "from sklearn.preprocessing import StandardScaler\n",
    "from sklearn.neighbors import KNeighborsRegressor\n",
    "from sklearn.neighbors import KNeighborsClassifier\n",
    "from sklearn.metrics import confusion_matrix, accuracy_score, precision_score, recall_score, ConfusionMatrixDisplay\n",
    "from sklearn.metrics import classification_report, f1_score, cohen_kappa_score,mean_squared_error\n",
    "from sklearn.metrics import mean_squared_error,r2_score"
   ]
  },
  {
   "cell_type": "code",
   "execution_count": 2,
   "id": "b777cc27",
   "metadata": {},
   "outputs": [
    {
     "data": {
      "text/html": [
       "<div>\n",
       "<style scoped>\n",
       "    .dataframe tbody tr th:only-of-type {\n",
       "        vertical-align: middle;\n",
       "    }\n",
       "\n",
       "    .dataframe tbody tr th {\n",
       "        vertical-align: top;\n",
       "    }\n",
       "\n",
       "    .dataframe thead th {\n",
       "        text-align: right;\n",
       "    }\n",
       "</style>\n",
       "<table border=\"1\" class=\"dataframe\">\n",
       "  <thead>\n",
       "    <tr style=\"text-align: right;\">\n",
       "      <th></th>\n",
       "      <th>CustomerID</th>\n",
       "      <th>Churn</th>\n",
       "      <th>MonthlyRevenue</th>\n",
       "      <th>MonthlyMinutes</th>\n",
       "      <th>TotalRecurringCharge</th>\n",
       "      <th>DirectorAssistedCalls</th>\n",
       "      <th>OverageMinutes</th>\n",
       "      <th>RoamingCalls</th>\n",
       "      <th>PercChangeMinutes</th>\n",
       "      <th>PercChangeRevenues</th>\n",
       "      <th>...</th>\n",
       "      <th>ReferralsMadeBySubscriber</th>\n",
       "      <th>IncomeGroup</th>\n",
       "      <th>OwnsMotorcycle</th>\n",
       "      <th>AdjustmentsToCreditRating</th>\n",
       "      <th>HandsetPrice</th>\n",
       "      <th>MadeCallToRetentionTeam</th>\n",
       "      <th>CreditRating</th>\n",
       "      <th>PrizmCode</th>\n",
       "      <th>Occupation</th>\n",
       "      <th>MaritalStatus</th>\n",
       "    </tr>\n",
       "  </thead>\n",
       "  <tbody>\n",
       "    <tr>\n",
       "      <th>0</th>\n",
       "      <td>3378298</td>\n",
       "      <td>No</td>\n",
       "      <td>-6.17</td>\n",
       "      <td>0.0</td>\n",
       "      <td>-6.0</td>\n",
       "      <td>0.00</td>\n",
       "      <td>0.0</td>\n",
       "      <td>0.0</td>\n",
       "      <td>0.0</td>\n",
       "      <td>6.2</td>\n",
       "      <td>...</td>\n",
       "      <td>0</td>\n",
       "      <td>6</td>\n",
       "      <td>No</td>\n",
       "      <td>0</td>\n",
       "      <td>Unknown</td>\n",
       "      <td>No</td>\n",
       "      <td>7-Lowest</td>\n",
       "      <td>Suburban</td>\n",
       "      <td>Other</td>\n",
       "      <td>No</td>\n",
       "    </tr>\n",
       "    <tr>\n",
       "      <th>1</th>\n",
       "      <td>3265738</td>\n",
       "      <td>No</td>\n",
       "      <td>-5.86</td>\n",
       "      <td>0.0</td>\n",
       "      <td>-5.0</td>\n",
       "      <td>0.00</td>\n",
       "      <td>0.0</td>\n",
       "      <td>0.0</td>\n",
       "      <td>0.0</td>\n",
       "      <td>5.9</td>\n",
       "      <td>...</td>\n",
       "      <td>0</td>\n",
       "      <td>6</td>\n",
       "      <td>No</td>\n",
       "      <td>0</td>\n",
       "      <td>Unknown</td>\n",
       "      <td>No</td>\n",
       "      <td>3-Good</td>\n",
       "      <td>Suburban</td>\n",
       "      <td>Other</td>\n",
       "      <td>Yes</td>\n",
       "    </tr>\n",
       "    <tr>\n",
       "      <th>2</th>\n",
       "      <td>3210322</td>\n",
       "      <td>No</td>\n",
       "      <td>-2.52</td>\n",
       "      <td>211.0</td>\n",
       "      <td>0.0</td>\n",
       "      <td>0.33</td>\n",
       "      <td>0.0</td>\n",
       "      <td>0.0</td>\n",
       "      <td>NaN</td>\n",
       "      <td>NaN</td>\n",
       "      <td>...</td>\n",
       "      <td>0</td>\n",
       "      <td>0</td>\n",
       "      <td>No</td>\n",
       "      <td>0</td>\n",
       "      <td>30</td>\n",
       "      <td>No</td>\n",
       "      <td>3-Good</td>\n",
       "      <td>Suburban</td>\n",
       "      <td>Other</td>\n",
       "      <td>Unknown</td>\n",
       "    </tr>\n",
       "    <tr>\n",
       "      <th>3</th>\n",
       "      <td>3096670</td>\n",
       "      <td>Yes</td>\n",
       "      <td>0.00</td>\n",
       "      <td>2.0</td>\n",
       "      <td>0.0</td>\n",
       "      <td>0.00</td>\n",
       "      <td>0.0</td>\n",
       "      <td>0.0</td>\n",
       "      <td>NaN</td>\n",
       "      <td>NaN</td>\n",
       "      <td>...</td>\n",
       "      <td>0</td>\n",
       "      <td>0</td>\n",
       "      <td>No</td>\n",
       "      <td>0</td>\n",
       "      <td>30</td>\n",
       "      <td>No</td>\n",
       "      <td>5-Low</td>\n",
       "      <td>Suburban</td>\n",
       "      <td>Other</td>\n",
       "      <td>Unknown</td>\n",
       "    </tr>\n",
       "    <tr>\n",
       "      <th>4</th>\n",
       "      <td>3103410</td>\n",
       "      <td>Yes</td>\n",
       "      <td>0.00</td>\n",
       "      <td>55.0</td>\n",
       "      <td>0.0</td>\n",
       "      <td>0.00</td>\n",
       "      <td>0.0</td>\n",
       "      <td>0.0</td>\n",
       "      <td>NaN</td>\n",
       "      <td>NaN</td>\n",
       "      <td>...</td>\n",
       "      <td>0</td>\n",
       "      <td>4</td>\n",
       "      <td>No</td>\n",
       "      <td>0</td>\n",
       "      <td>10</td>\n",
       "      <td>No</td>\n",
       "      <td>4-Medium</td>\n",
       "      <td>Other</td>\n",
       "      <td>Other</td>\n",
       "      <td>Unknown</td>\n",
       "    </tr>\n",
       "    <tr>\n",
       "      <th>...</th>\n",
       "      <td>...</td>\n",
       "      <td>...</td>\n",
       "      <td>...</td>\n",
       "      <td>...</td>\n",
       "      <td>...</td>\n",
       "      <td>...</td>\n",
       "      <td>...</td>\n",
       "      <td>...</td>\n",
       "      <td>...</td>\n",
       "      <td>...</td>\n",
       "      <td>...</td>\n",
       "      <td>...</td>\n",
       "      <td>...</td>\n",
       "      <td>...</td>\n",
       "      <td>...</td>\n",
       "      <td>...</td>\n",
       "      <td>...</td>\n",
       "      <td>...</td>\n",
       "      <td>...</td>\n",
       "      <td>...</td>\n",
       "      <td>...</td>\n",
       "    </tr>\n",
       "    <tr>\n",
       "      <th>51042</th>\n",
       "      <td>3399910</td>\n",
       "      <td>No</td>\n",
       "      <td>NaN</td>\n",
       "      <td>NaN</td>\n",
       "      <td>NaN</td>\n",
       "      <td>NaN</td>\n",
       "      <td>NaN</td>\n",
       "      <td>NaN</td>\n",
       "      <td>NaN</td>\n",
       "      <td>NaN</td>\n",
       "      <td>...</td>\n",
       "      <td>0</td>\n",
       "      <td>7</td>\n",
       "      <td>No</td>\n",
       "      <td>0</td>\n",
       "      <td>30</td>\n",
       "      <td>No</td>\n",
       "      <td>1-Highest</td>\n",
       "      <td>Suburban</td>\n",
       "      <td>Other</td>\n",
       "      <td>Unknown</td>\n",
       "    </tr>\n",
       "    <tr>\n",
       "      <th>51043</th>\n",
       "      <td>3399958</td>\n",
       "      <td>Yes</td>\n",
       "      <td>NaN</td>\n",
       "      <td>NaN</td>\n",
       "      <td>NaN</td>\n",
       "      <td>NaN</td>\n",
       "      <td>NaN</td>\n",
       "      <td>NaN</td>\n",
       "      <td>NaN</td>\n",
       "      <td>NaN</td>\n",
       "      <td>...</td>\n",
       "      <td>0</td>\n",
       "      <td>6</td>\n",
       "      <td>No</td>\n",
       "      <td>0</td>\n",
       "      <td>60</td>\n",
       "      <td>No</td>\n",
       "      <td>1-Highest</td>\n",
       "      <td>Suburban</td>\n",
       "      <td>Other</td>\n",
       "      <td>Yes</td>\n",
       "    </tr>\n",
       "    <tr>\n",
       "      <th>51044</th>\n",
       "      <td>3399978</td>\n",
       "      <td>Yes</td>\n",
       "      <td>NaN</td>\n",
       "      <td>NaN</td>\n",
       "      <td>NaN</td>\n",
       "      <td>NaN</td>\n",
       "      <td>NaN</td>\n",
       "      <td>NaN</td>\n",
       "      <td>NaN</td>\n",
       "      <td>NaN</td>\n",
       "      <td>...</td>\n",
       "      <td>0</td>\n",
       "      <td>7</td>\n",
       "      <td>No</td>\n",
       "      <td>1</td>\n",
       "      <td>80</td>\n",
       "      <td>No</td>\n",
       "      <td>5-Low</td>\n",
       "      <td>Other</td>\n",
       "      <td>Clerical</td>\n",
       "      <td>No</td>\n",
       "    </tr>\n",
       "    <tr>\n",
       "      <th>51045</th>\n",
       "      <td>3399990</td>\n",
       "      <td>No</td>\n",
       "      <td>NaN</td>\n",
       "      <td>NaN</td>\n",
       "      <td>NaN</td>\n",
       "      <td>NaN</td>\n",
       "      <td>NaN</td>\n",
       "      <td>NaN</td>\n",
       "      <td>NaN</td>\n",
       "      <td>NaN</td>\n",
       "      <td>...</td>\n",
       "      <td>0</td>\n",
       "      <td>9</td>\n",
       "      <td>No</td>\n",
       "      <td>0</td>\n",
       "      <td>30</td>\n",
       "      <td>No</td>\n",
       "      <td>5-Low</td>\n",
       "      <td>Other</td>\n",
       "      <td>Other</td>\n",
       "      <td>No</td>\n",
       "    </tr>\n",
       "    <tr>\n",
       "      <th>51046</th>\n",
       "      <td>3399994</td>\n",
       "      <td>No</td>\n",
       "      <td>NaN</td>\n",
       "      <td>NaN</td>\n",
       "      <td>NaN</td>\n",
       "      <td>NaN</td>\n",
       "      <td>NaN</td>\n",
       "      <td>NaN</td>\n",
       "      <td>NaN</td>\n",
       "      <td>NaN</td>\n",
       "      <td>...</td>\n",
       "      <td>0</td>\n",
       "      <td>0</td>\n",
       "      <td>No</td>\n",
       "      <td>1</td>\n",
       "      <td>60</td>\n",
       "      <td>Yes</td>\n",
       "      <td>5-Low</td>\n",
       "      <td>Other</td>\n",
       "      <td>Other</td>\n",
       "      <td>Unknown</td>\n",
       "    </tr>\n",
       "  </tbody>\n",
       "</table>\n",
       "<p>51047 rows × 58 columns</p>\n",
       "</div>"
      ],
      "text/plain": [
       "       CustomerID Churn  MonthlyRevenue  MonthlyMinutes  TotalRecurringCharge  \\\n",
       "0         3378298    No           -6.17             0.0                  -6.0   \n",
       "1         3265738    No           -5.86             0.0                  -5.0   \n",
       "2         3210322    No           -2.52           211.0                   0.0   \n",
       "3         3096670   Yes            0.00             2.0                   0.0   \n",
       "4         3103410   Yes            0.00            55.0                   0.0   \n",
       "...           ...   ...             ...             ...                   ...   \n",
       "51042     3399910    No             NaN             NaN                   NaN   \n",
       "51043     3399958   Yes             NaN             NaN                   NaN   \n",
       "51044     3399978   Yes             NaN             NaN                   NaN   \n",
       "51045     3399990    No             NaN             NaN                   NaN   \n",
       "51046     3399994    No             NaN             NaN                   NaN   \n",
       "\n",
       "       DirectorAssistedCalls  OverageMinutes  RoamingCalls  PercChangeMinutes  \\\n",
       "0                       0.00             0.0           0.0                0.0   \n",
       "1                       0.00             0.0           0.0                0.0   \n",
       "2                       0.33             0.0           0.0                NaN   \n",
       "3                       0.00             0.0           0.0                NaN   \n",
       "4                       0.00             0.0           0.0                NaN   \n",
       "...                      ...             ...           ...                ...   \n",
       "51042                    NaN             NaN           NaN                NaN   \n",
       "51043                    NaN             NaN           NaN                NaN   \n",
       "51044                    NaN             NaN           NaN                NaN   \n",
       "51045                    NaN             NaN           NaN                NaN   \n",
       "51046                    NaN             NaN           NaN                NaN   \n",
       "\n",
       "       PercChangeRevenues  ...  ReferralsMadeBySubscriber  IncomeGroup  \\\n",
       "0                     6.2  ...                          0            6   \n",
       "1                     5.9  ...                          0            6   \n",
       "2                     NaN  ...                          0            0   \n",
       "3                     NaN  ...                          0            0   \n",
       "4                     NaN  ...                          0            4   \n",
       "...                   ...  ...                        ...          ...   \n",
       "51042                 NaN  ...                          0            7   \n",
       "51043                 NaN  ...                          0            6   \n",
       "51044                 NaN  ...                          0            7   \n",
       "51045                 NaN  ...                          0            9   \n",
       "51046                 NaN  ...                          0            0   \n",
       "\n",
       "       OwnsMotorcycle  AdjustmentsToCreditRating  HandsetPrice  \\\n",
       "0                  No                          0       Unknown   \n",
       "1                  No                          0       Unknown   \n",
       "2                  No                          0            30   \n",
       "3                  No                          0            30   \n",
       "4                  No                          0            10   \n",
       "...               ...                        ...           ...   \n",
       "51042              No                          0            30   \n",
       "51043              No                          0            60   \n",
       "51044              No                          1            80   \n",
       "51045              No                          0            30   \n",
       "51046              No                          1            60   \n",
       "\n",
       "       MadeCallToRetentionTeam  CreditRating  PrizmCode  Occupation  \\\n",
       "0                           No      7-Lowest   Suburban       Other   \n",
       "1                           No        3-Good   Suburban       Other   \n",
       "2                           No        3-Good   Suburban       Other   \n",
       "3                           No         5-Low   Suburban       Other   \n",
       "4                           No      4-Medium      Other       Other   \n",
       "...                        ...           ...        ...         ...   \n",
       "51042                       No     1-Highest   Suburban       Other   \n",
       "51043                       No     1-Highest   Suburban       Other   \n",
       "51044                       No         5-Low      Other    Clerical   \n",
       "51045                       No         5-Low      Other       Other   \n",
       "51046                      Yes         5-Low      Other       Other   \n",
       "\n",
       "       MaritalStatus  \n",
       "0                 No  \n",
       "1                Yes  \n",
       "2            Unknown  \n",
       "3            Unknown  \n",
       "4            Unknown  \n",
       "...              ...  \n",
       "51042        Unknown  \n",
       "51043            Yes  \n",
       "51044             No  \n",
       "51045             No  \n",
       "51046        Unknown  \n",
       "\n",
       "[51047 rows x 58 columns]"
      ]
     },
     "execution_count": 2,
     "metadata": {},
     "output_type": "execute_result"
    }
   ],
   "source": [
    "data=pd.read_csv('Data.csv')\n",
    "data"
   ]
  },
  {
   "cell_type": "markdown",
   "id": "7d958bc3",
   "metadata": {},
   "source": [
    "# Cleaning Data\n",
    "\n",
    "## Dealing with Null values in Data\n"
   ]
  },
  {
   "cell_type": "code",
   "execution_count": 3,
   "id": "3c3a669e",
   "metadata": {},
   "outputs": [
    {
     "data": {
      "text/plain": [
       "CustomerID                     0\n",
       "Churn                          0\n",
       "MonthlyRevenue               156\n",
       "MonthlyMinutes               156\n",
       "TotalRecurringCharge         156\n",
       "DirectorAssistedCalls        156\n",
       "OverageMinutes               156\n",
       "RoamingCalls                 156\n",
       "PercChangeMinutes            367\n",
       "PercChangeRevenues           367\n",
       "DroppedCalls                   0\n",
       "BlockedCalls                   0\n",
       "UnansweredCalls                0\n",
       "CustomerCareCalls              0\n",
       "ThreewayCalls                  0\n",
       "ReceivedCalls                  0\n",
       "OutboundCalls                  0\n",
       "InboundCalls                   0\n",
       "PeakCallsInOut                 0\n",
       "OffPeakCallsInOut              0\n",
       "DroppedBlockedCalls            0\n",
       "CallForwardingCalls            0\n",
       "CallWaitingCalls               0\n",
       "MonthsInService                0\n",
       "UniqueSubs                     0\n",
       "ActiveSubs                     0\n",
       "ServiceArea                   24\n",
       "Handsets                       1\n",
       "HandsetModels                  1\n",
       "CurrentEquipmentDays           1\n",
       "AgeHH1                       909\n",
       "AgeHH2                       909\n",
       "ChildrenInHH                   0\n",
       "HandsetRefurbished             0\n",
       "HandsetWebCapable              0\n",
       "TruckOwner                     0\n",
       "RVOwner                        0\n",
       "Homeownership                  0\n",
       "BuysViaMailOrder               0\n",
       "RespondsToMailOffers           0\n",
       "OptOutMailings                 0\n",
       "NonUSTravel                    0\n",
       "OwnsComputer                   0\n",
       "HasCreditCard                  0\n",
       "RetentionCalls                 0\n",
       "RetentionOffersAccepted        0\n",
       "NewCellphoneUser               0\n",
       "NotNewCellphoneUser            0\n",
       "ReferralsMadeBySubscriber      0\n",
       "IncomeGroup                    0\n",
       "OwnsMotorcycle                 0\n",
       "AdjustmentsToCreditRating      0\n",
       "HandsetPrice                   0\n",
       "MadeCallToRetentionTeam        0\n",
       "CreditRating                   0\n",
       "PrizmCode                      0\n",
       "Occupation                     0\n",
       "MaritalStatus                  0\n",
       "dtype: int64"
      ]
     },
     "execution_count": 3,
     "metadata": {},
     "output_type": "execute_result"
    }
   ],
   "source": [
    "data.isna().sum()"
   ]
  },
  {
   "cell_type": "code",
   "execution_count": 4,
   "id": "f6e3d238",
   "metadata": {
    "scrolled": false
   },
   "outputs": [],
   "source": [
    "# dealing with null values in MonthlyRevenue, it has 156 we delete all Na\n",
    "data = data[data['MonthlyRevenue'].isna()==False]"
   ]
  },
  {
   "cell_type": "code",
   "execution_count": 5,
   "id": "8b3970da",
   "metadata": {},
   "outputs": [],
   "source": [
    "# delaing with Null values in PercChangeMinutes , They are not much so we delete them\n",
    "data = data[data['PercChangeMinutes'].isna()==False]"
   ]
  },
  {
   "cell_type": "code",
   "execution_count": 6,
   "id": "3f27a75c",
   "metadata": {},
   "outputs": [],
   "source": [
    "# delaing with Null values in Service Area, They are not much so we delete them\n",
    "data = data[data['ServiceArea'].isna()==False]"
   ]
  },
  {
   "cell_type": "code",
   "execution_count": 7,
   "id": "c0dc46a5",
   "metadata": {},
   "outputs": [],
   "source": [
    "#For AgeHH1 and AgHH2 both them reperesnet of age so we Delete one of them and we delete null valuyes as well\n",
    "data=data.drop('AgeHH2', axis=1)"
   ]
  },
  {
   "cell_type": "code",
   "execution_count": 8,
   "id": "86cf6698",
   "metadata": {},
   "outputs": [],
   "source": [
    "# Drop Na and also change the name of Column\n",
    "data = data[data['AgeHH1'].isna()==False]\n",
    "data = data.rename(columns={'AgeHH1':'Age'})"
   ]
  },
  {
   "cell_type": "code",
   "execution_count": 9,
   "id": "620123c2",
   "metadata": {},
   "outputs": [],
   "source": [
    "# we have only one null value in Handsets ,HandsetModels , CurrentEquipmentDays , so we delet them as well\n",
    "data = data[data['Handsets'].isna()==False]"
   ]
  },
  {
   "cell_type": "code",
   "execution_count": 10,
   "id": "352994a8",
   "metadata": {},
   "outputs": [
    {
     "data": {
      "text/plain": [
       "(49752, 57)"
      ]
     },
     "execution_count": 10,
     "metadata": {},
     "output_type": "execute_result"
    }
   ],
   "source": [
    "# Make sure there in no Null Values in Data\n",
    "data.isna().sum()\n",
    "data.shape"
   ]
  },
  {
   "cell_type": "markdown",
   "id": "3accbb89",
   "metadata": {},
   "source": [
    "## Dealing with Missing values in Data"
   ]
  },
  {
   "cell_type": "code",
   "execution_count": 11,
   "id": "3e1f71ad",
   "metadata": {},
   "outputs": [
    {
     "name": "stdout",
     "output_type": "stream",
     "text": [
      "<class 'pandas.core.frame.DataFrame'>\n",
      "Int64Index: 49752 entries, 0 to 50890\n",
      "Data columns (total 57 columns):\n",
      " #   Column                     Non-Null Count  Dtype  \n",
      "---  ------                     --------------  -----  \n",
      " 0   CustomerID                 49752 non-null  int64  \n",
      " 1   Churn                      49752 non-null  object \n",
      " 2   MonthlyRevenue             49752 non-null  float64\n",
      " 3   MonthlyMinutes             49752 non-null  float64\n",
      " 4   TotalRecurringCharge       49752 non-null  float64\n",
      " 5   DirectorAssistedCalls      49752 non-null  float64\n",
      " 6   OverageMinutes             49752 non-null  float64\n",
      " 7   RoamingCalls               49752 non-null  float64\n",
      " 8   PercChangeMinutes          49752 non-null  float64\n",
      " 9   PercChangeRevenues         49752 non-null  float64\n",
      " 10  DroppedCalls               49752 non-null  float64\n",
      " 11  BlockedCalls               49752 non-null  float64\n",
      " 12  UnansweredCalls            49752 non-null  float64\n",
      " 13  CustomerCareCalls          49752 non-null  float64\n",
      " 14  ThreewayCalls              49752 non-null  float64\n",
      " 15  ReceivedCalls              49752 non-null  float64\n",
      " 16  OutboundCalls              49752 non-null  float64\n",
      " 17  InboundCalls               49752 non-null  float64\n",
      " 18  PeakCallsInOut             49752 non-null  float64\n",
      " 19  OffPeakCallsInOut          49752 non-null  float64\n",
      " 20  DroppedBlockedCalls        49752 non-null  float64\n",
      " 21  CallForwardingCalls        49752 non-null  float64\n",
      " 22  CallWaitingCalls           49752 non-null  float64\n",
      " 23  MonthsInService            49752 non-null  int64  \n",
      " 24  UniqueSubs                 49752 non-null  int64  \n",
      " 25  ActiveSubs                 49752 non-null  int64  \n",
      " 26  ServiceArea                49752 non-null  object \n",
      " 27  Handsets                   49752 non-null  float64\n",
      " 28  HandsetModels              49752 non-null  float64\n",
      " 29  CurrentEquipmentDays       49752 non-null  float64\n",
      " 30  Age                        49752 non-null  float64\n",
      " 31  ChildrenInHH               49752 non-null  object \n",
      " 32  HandsetRefurbished         49752 non-null  object \n",
      " 33  HandsetWebCapable          49752 non-null  object \n",
      " 34  TruckOwner                 49752 non-null  object \n",
      " 35  RVOwner                    49752 non-null  object \n",
      " 36  Homeownership              49752 non-null  object \n",
      " 37  BuysViaMailOrder           49752 non-null  object \n",
      " 38  RespondsToMailOffers       49752 non-null  object \n",
      " 39  OptOutMailings             49752 non-null  object \n",
      " 40  NonUSTravel                49752 non-null  object \n",
      " 41  OwnsComputer               49752 non-null  object \n",
      " 42  HasCreditCard              49752 non-null  object \n",
      " 43  RetentionCalls             49752 non-null  int64  \n",
      " 44  RetentionOffersAccepted    49752 non-null  int64  \n",
      " 45  NewCellphoneUser           49752 non-null  object \n",
      " 46  NotNewCellphoneUser        49752 non-null  object \n",
      " 47  ReferralsMadeBySubscriber  49752 non-null  int64  \n",
      " 48  IncomeGroup                49752 non-null  int64  \n",
      " 49  OwnsMotorcycle             49752 non-null  object \n",
      " 50  AdjustmentsToCreditRating  49752 non-null  int64  \n",
      " 51  HandsetPrice               49752 non-null  object \n",
      " 52  MadeCallToRetentionTeam    49752 non-null  object \n",
      " 53  CreditRating               49752 non-null  object \n",
      " 54  PrizmCode                  49752 non-null  object \n",
      " 55  Occupation                 49752 non-null  object \n",
      " 56  MaritalStatus              49752 non-null  object \n",
      "dtypes: float64(25), int64(9), object(23)\n",
      "memory usage: 22.0+ MB\n"
     ]
    }
   ],
   "source": [
    "data.info()"
   ]
  },
  {
   "cell_type": "code",
   "execution_count": 12,
   "id": "994662e4",
   "metadata": {},
   "outputs": [],
   "source": [
    "# check the values of data if we have missing values(not null somthing that are not correct or unknown)\n"
   ]
  },
  {
   "cell_type": "markdown",
   "id": "ca555844",
   "metadata": {},
   "source": [
    "### ServiceArea(Categorical)"
   ]
  },
  {
   "cell_type": "code",
   "execution_count": 13,
   "id": "5f8b832c",
   "metadata": {},
   "outputs": [
    {
     "data": {
      "text/plain": [
       "California              6926\n",
       "Texas                   6827\n",
       "New York                5055\n",
       "Florida                 3699\n",
       "Illinois                2031\n",
       "Ohio                    1908\n",
       "Virginia                1633\n",
       "New Jersey              1496\n",
       "Michigan                1451\n",
       "Georgia                 1438\n",
       "Maryland                1247\n",
       "Massachusetts           1185\n",
       "North Carolina          1145\n",
       "Missouri                1117\n",
       "Pennsylvania            1081\n",
       "Washington               837\n",
       "Connecticut              825\n",
       "Minnesota                801\n",
       "Tennessee                788\n",
       "Arizona                  779\n",
       "Colorado                 716\n",
       "Indiana                  692\n",
       "Kansas                   630\n",
       "Wisconsin                626\n",
       "Nevada                   503\n",
       "Kentucky                 438\n",
       "Louisiana                384\n",
       "Oklahoma                 369\n",
       "South Carolina           348\n",
       "District of Columbia     335\n",
       "Oregon                   288\n",
       "Nebraska                 279\n",
       "Iowa                     269\n",
       "Hawaii                   252\n",
       "New Hampshire            227\n",
       "New Mexico               169\n",
       "Utah                     166\n",
       "Alabama                  142\n",
       "Arkansas                 140\n",
       "Rhode Island             139\n",
       "Delaware                 130\n",
       "West Virginia             81\n",
       "Mississippi               64\n",
       "Maine                     48\n",
       "South Dakota              30\n",
       "Idaho                     16\n",
       "North Dakota               2\n",
       "Name: ServiceArea, dtype: int64"
      ]
     },
     "execution_count": 13,
     "metadata": {},
     "output_type": "execute_result"
    }
   ],
   "source": [
    "data.ServiceArea.value_counts()\n",
    "# service area dosent have any missindg values"
   ]
  },
  {
   "cell_type": "markdown",
   "id": "8cff37c8",
   "metadata": {},
   "source": [
    "### Age(Numerical)\n",
    "\n"
   ]
  },
  {
   "cell_type": "code",
   "execution_count": 14,
   "id": "f73226b9",
   "metadata": {},
   "outputs": [
    {
     "data": {
      "text/plain": [
       "0.0     13808\n",
       "46.0     2136\n",
       "42.0     2056\n",
       "50.0     2051\n",
       "48.0     2035\n",
       "44.0     2019\n",
       "40.0     1965\n",
       "38.0     1951\n",
       "52.0     1950\n",
       "36.0     1875\n",
       "30.0     1866\n",
       "32.0     1816\n",
       "34.0     1812\n",
       "54.0     1705\n",
       "28.0     1642\n",
       "26.0     1384\n",
       "56.0     1372\n",
       "58.0     1229\n",
       "24.0      853\n",
       "60.0      804\n",
       "22.0      535\n",
       "62.0      476\n",
       "64.0      399\n",
       "66.0      303\n",
       "68.0      277\n",
       "20.0      255\n",
       "70.0      246\n",
       "72.0      224\n",
       "74.0      165\n",
       "76.0      137\n",
       "78.0      102\n",
       "80.0       81\n",
       "82.0       54\n",
       "84.0       44\n",
       "18.0       44\n",
       "86.0       29\n",
       "88.0       23\n",
       "90.0       12\n",
       "94.0        7\n",
       "92.0        6\n",
       "98.0        2\n",
       "96.0        1\n",
       "99.0        1\n",
       "Name: Age, dtype: int64"
      ]
     },
     "execution_count": 14,
     "metadata": {},
     "output_type": "execute_result"
    }
   ],
   "source": [
    "data.Age.value_counts()\n",
    "# we have 13808 value with 0 which is missing value so we need to\n",
    "#complete missing values because the number is so high\n"
   ]
  },
  {
   "cell_type": "code",
   "execution_count": 15,
   "id": "a878da94",
   "metadata": {},
   "outputs": [
    {
     "data": {
      "text/plain": [
       "(49752, 33)"
      ]
     },
     "execution_count": 15,
     "metadata": {},
     "output_type": "execute_result"
    }
   ],
   "source": [
    "# Becuse we have lots of 0 in data we dont want to change the value of them so we change 0 value with 0.0001\n",
    "# to just calculate missging value for Age 0\n",
    "data['Age'] = data['Age'].replace(0,0.0001)\n",
    "numerical=data.select_dtypes(['int64', 'float64'])\n",
    "numerical=numerical.drop('CustomerID' ,axis=1)\n",
    "numerical.shape"
   ]
  },
  {
   "cell_type": "code",
   "execution_count": null,
   "id": "c2ac9215",
   "metadata": {},
   "outputs": [],
   "source": [
    "cols_backup = numerical.columns\n",
    "imputer=KNNImputer(missing_values=0.0001, n_neighbors=5, weights='uniform')\n",
    "imputed_data = imputer.fit_transform(numerical)\n",
    "numerical= pd.DataFrame(data=imputed_data, columns=cols_backup)"
   ]
  },
  {
   "cell_type": "code",
   "execution_count": null,
   "id": "58604539",
   "metadata": {},
   "outputs": [],
   "source": [
    "# Repalcing Data of age with imputer data\n",
    "data.loc[data.index.isin(numerical.index),'Age'] = numerical.Age"
   ]
  },
  {
   "cell_type": "code",
   "execution_count": null,
   "id": "08c57645",
   "metadata": {},
   "outputs": [],
   "source": [
    "data[data['Age']==0.0001]['Age'].value_counts()"
   ]
  },
  {
   "cell_type": "code",
   "execution_count": null,
   "id": "306bbc76",
   "metadata": {},
   "outputs": [],
   "source": [
    "# we still have some missing values(364) in age becuse KNN could computed more so we detele them form dataframe\n",
    "data = data[data['Age']!=0.0001]\n",
    "data[['Age','CustomerID']].sort_values(by='Age')\n",
    "data.shape"
   ]
  },
  {
   "cell_type": "markdown",
   "id": "34f56bc8",
   "metadata": {},
   "source": [
    "### HandsetPrice"
   ]
  },
  {
   "cell_type": "code",
   "execution_count": null,
   "id": "974ec7ca",
   "metadata": {},
   "outputs": [],
   "source": [
    "# we have 28150 Unkonwn value so we can use KNNImputer for completeing this part of data\n",
    "data.HandsetPrice.value_counts()\n",
    "# this field should be numercial but becuase we have unknown in values so this feature is obejct\n",
    "# we need to change that in order to input numericla value\n",
    "# repalce Unkonwn with value which is not in data like 100000, so we are going to predict values for those one\n",
    "data['HandsetPrice'] = data['HandsetPrice'].replace(\"Unknown\",100000)\n",
    "data['HandsetPrice'] = data['HandsetPrice'].astype('int64')\n",
    "data[['HandsetPrice','CustomerID']].sort_values(by='HandsetPrice' ,ascending=False)\n",
    "numerical=data.select_dtypes(['int64', 'float64'])\n",
    "numerical=numerical.drop('CustomerID' ,axis=1)"
   ]
  },
  {
   "cell_type": "code",
   "execution_count": null,
   "id": "6e4ddb4f",
   "metadata": {},
   "outputs": [],
   "source": [
    "cols_backup = numerical.columns\n",
    "imputer=KNNImputer(missing_values=100000, n_neighbors=5, weights='uniform')\n",
    "imputed_data = imputer.fit_transform(numerical)\n",
    "numerical= pd.DataFrame(data=imputed_data, columns=cols_backup)"
   ]
  },
  {
   "cell_type": "code",
   "execution_count": null,
   "id": "1b65aa7c",
   "metadata": {},
   "outputs": [],
   "source": [
    "numerical.shape"
   ]
  },
  {
   "cell_type": "code",
   "execution_count": null,
   "id": "2b39a936",
   "metadata": {},
   "outputs": [],
   "source": [
    "numerical[['HandsetPrice']].sort_values(by='HandsetPrice',ascending=False)"
   ]
  },
  {
   "cell_type": "code",
   "execution_count": null,
   "id": "4cf253af",
   "metadata": {},
   "outputs": [],
   "source": [
    "# Repalcing Data of HandsetPrice with imputer data\n",
    "data.loc[data.index.isin(numerical.index),'HandsetPrice'] = numerical.HandsetPrice\n",
    "data.shape"
   ]
  },
  {
   "cell_type": "code",
   "execution_count": null,
   "id": "a489247d",
   "metadata": {},
   "outputs": [],
   "source": [
    "data[data['HandsetPrice']==100000].shape"
   ]
  },
  {
   "cell_type": "code",
   "execution_count": null,
   "id": "56c9f14b",
   "metadata": {},
   "outputs": [],
   "source": [
    "# we still have 312 row which KNN couldn't replace values so we delete them\n",
    "data[['HandsetPrice','CustomerID']].sort_values(by='HandsetPrice',ascending=False)\n",
    "data=data[data['HandsetPrice']!=100000]\n",
    "# based on data of this column, the mod 10 of all values were 0 so we need to change these new value of missing data to obay the currnt rule\n",
    "data['HandsetPrice'].apply(np.ceil)\n",
    "data['HandsetPrice']=data['HandsetPrice']+np.mod(data['HandsetPrice'],10)\n",
    "data[['CustomerID','HandsetPrice']]"
   ]
  },
  {
   "cell_type": "markdown",
   "id": "beb70420",
   "metadata": {},
   "source": [
    "## Changing the Numerical ordinal to Catrgorical ordinal"
   ]
  },
  {
   "cell_type": "code",
   "execution_count": null,
   "id": "bf8bbfa4",
   "metadata": {},
   "outputs": [],
   "source": [
    "data['CreditRating'].value_counts()"
   ]
  },
  {
   "cell_type": "markdown",
   "id": "a7de2d48",
   "metadata": {},
   "source": [
    "### CreditRating"
   ]
  },
  {
   "cell_type": "code",
   "execution_count": null,
   "id": "46f5e311",
   "metadata": {},
   "outputs": [],
   "source": [
    "# creditRating Could be Numercial Ordinal so we can make it Numercical\n",
    "def creditrating(x):\n",
    "    if x ==\"7-Lowest\":\n",
    "        return 1\n",
    "    elif x ==\"6-VeryLow\":\n",
    "        return 2\n",
    "    elif x ==\"5-Low\":\n",
    "        return 3\n",
    "    elif x ==\"4-Medium\":\n",
    "        return 4\n",
    "    elif x ==\"3-Good\":\n",
    "        return 5\n",
    "    elif x ==\"2-High\":\n",
    "        return 6\n",
    "    elif x ==\"1-Highest\":\n",
    "        return 7\n",
    "    else:\n",
    "        return x   \n",
    "data['CreditRating']=data['CreditRating'].apply(creditrating)\n",
    "data['CreditRating'].value_counts()"
   ]
  },
  {
   "cell_type": "code",
   "execution_count": null,
   "id": "13dbeb2c",
   "metadata": {},
   "outputs": [],
   "source": [
    "# Handsets ,HandsetModels,RetentionCall,RetentionOffersAccepted,ReferralsMadeBySubscriber are ordinal\n",
    "categorical=data.select_dtypes(['object'])\n",
    "numerical=data.select_dtypes(['int64','float64'])\n",
    "numerical=numerical.drop('CustomerID',axis=1)\n",
    "\n",
    "categorical=pd.concat([categorical,data[['Handsets',\n",
    "                                         'HandsetModels',\n",
    "                                         'RetentionCalls',\n",
    "                                         'RetentionOffersAccepted',\n",
    "                                         'ReferralsMadeBySubscriber',\n",
    "                                         'AdjustmentsToCreditRating',\n",
    "                                         'CreditRating' ]]], axis=1)\n",
    "numerical=numerical.drop(numerical[['Handsets',\n",
    "                                         'HandsetModels',\n",
    "                                         'RetentionCalls',\n",
    "                                         'RetentionOffersAccepted',\n",
    "                                         'ReferralsMadeBySubscriber',\n",
    "                                         'AdjustmentsToCreditRating',\n",
    "                                         'CreditRating']], axis=1)"
   ]
  },
  {
   "cell_type": "code",
   "execution_count": null,
   "id": "3c743496",
   "metadata": {},
   "outputs": [],
   "source": [
    "categorical[['Handsets',\n",
    "            'HandsetModels',\n",
    "            'RetentionCalls',\n",
    "            'RetentionOffersAccepted',\n",
    "            'ReferralsMadeBySubscriber',\n",
    "            'AdjustmentsToCreditRating',\n",
    "            'CreditRating']] = categorical[['Handsets',\n",
    "            'HandsetModels',\n",
    "            'RetentionCalls',\n",
    "            'RetentionOffersAccepted',\n",
    "            'ReferralsMadeBySubscriber',\n",
    "            'AdjustmentsToCreditRating',\n",
    "            'CreditRating']].astype('object')\n"
   ]
  },
  {
   "cell_type": "code",
   "execution_count": null,
   "id": "0e93e884",
   "metadata": {},
   "outputs": [],
   "source": [
    "categorical.info()"
   ]
  },
  {
   "cell_type": "code",
   "execution_count": null,
   "id": "a557d03f",
   "metadata": {},
   "outputs": [],
   "source": [
    "num_backup=numerical\n",
    "cat_backup=categorical"
   ]
  },
  {
   "cell_type": "code",
   "execution_count": null,
   "id": "e4debefd",
   "metadata": {},
   "outputs": [],
   "source": [
    "numerical.shape"
   ]
  },
  {
   "cell_type": "code",
   "execution_count": null,
   "id": "6ced3e5c",
   "metadata": {},
   "outputs": [],
   "source": [
    "categorical.shape"
   ]
  },
  {
   "cell_type": "code",
   "execution_count": null,
   "id": "87f9ead1",
   "metadata": {},
   "outputs": [],
   "source": [
    "categorical.info()\n",
    "numerical.info()\n",
    "numerical.describe().T"
   ]
  },
  {
   "cell_type": "markdown",
   "id": "3f87eefd",
   "metadata": {},
   "source": [
    "## Removing multicollinearity"
   ]
  },
  {
   "cell_type": "code",
   "execution_count": null,
   "id": "b30a962b",
   "metadata": {},
   "outputs": [],
   "source": [
    "# load statmodels functions\n",
    "col = numerical.columns\n",
    "considered_features = ['MonthlyRevenue', 'MonthlyMinutes', 'TotalRecurringCharge',\n",
    "       'DirectorAssistedCalls', 'OverageMinutes', 'RoamingCalls',\n",
    "       'PercChangeMinutes', 'PercChangeRevenues', 'DroppedCalls',\n",
    "       'BlockedCalls', 'UnansweredCalls', 'CustomerCareCalls', 'ThreewayCalls',\n",
    "       'ReceivedCalls', 'OutboundCalls', 'InboundCalls', 'PeakCallsInOut',\n",
    "       'OffPeakCallsInOut', 'DroppedBlockedCalls', 'CallForwardingCalls',\n",
    "       'CallWaitingCalls', 'MonthsInService', 'UniqueSubs', 'ActiveSubs',\n",
    "       'CurrentEquipmentDays', 'Age', 'IncomeGroup', 'HandsetPrice']\n",
    "# compute the vif for all given features\n",
    "def compute_vif(considered_features):\n",
    "    \n",
    "    X = data[considered_features]\n",
    "    # the calculation of variance inflation requires a constant\n",
    "    X['intercept'] = 1\n",
    "    \n",
    "    # create dataframe to store vif values\n",
    "    vif = pd.DataFrame()\n",
    "    vif[\"Variable\"] = X.columns\n",
    "    vif[\"VIF\"] = [variance_inflation_factor(X.values, i) for i in range(X.shape[1])]\n",
    "    vif = vif[vif['Variable']!='intercept']\n",
    "    return vif\n",
    "compute_vif(considered_features)\n",
    "compute_vif(considered_features).sort_values('VIF', ascending=False)\n",
    "# the VIF of DroppedBlockedCalls is 283 so we remove it\n",
    "# compute vif values after removing a feature\n",
    "considered_features.remove('DroppedBlockedCalls')\n",
    "compute_vif(considered_features)\n",
    "compute_vif(considered_features).sort_values('VIF', ascending=False)\n",
    "# the VIF of MonthlyRevenue is 10.106 so we remove it\n",
    "# compute vif values after removing a feature\n",
    "considered_features.remove('MonthlyRevenue')\n",
    "compute_vif(considered_features)\n",
    "compute_vif(considered_features).sort_values('VIF', ascending=False)\n",
    "# the VIF of MonthlyMintes is 5.76 so we remove it\n",
    "considered_features.remove('MonthlyMinutes')\n",
    "compute_vif(considered_features)\n",
    "compute_vif(considered_features).sort_values('VIF', ascending=False)\n",
    "numerical=numerical.drop(['DroppedBlockedCalls','MonthlyRevenue','MonthlyMinutes'],axis=1)"
   ]
  },
  {
   "cell_type": "code",
   "execution_count": null,
   "id": "2a201a4b",
   "metadata": {
    "scrolled": true
   },
   "outputs": [],
   "source": [
    "numerical.shape"
   ]
  },
  {
   "cell_type": "code",
   "execution_count": null,
   "id": "d6b8c0dd",
   "metadata": {},
   "outputs": [],
   "source": [
    "numerical.info()"
   ]
  },
  {
   "cell_type": "code",
   "execution_count": null,
   "id": "e835501a",
   "metadata": {},
   "outputs": [],
   "source": [
    "def plot_num(df):\n",
    "    col=list(df.columns)\n",
    "    fig,ax=plt.subplots(int(np.ceil(len(col)/2)),2 ,figsize=(40,60))\n",
    "    plt.subplots_adjust(left=0.1,\n",
    "                    bottom=0.1, \n",
    "                    right=0.9, \n",
    "                    top=0.9, \n",
    "                    wspace=0.4, \n",
    "                    hspace=0.5)\n",
    "    j=0\n",
    "    k=0\n",
    "    for i in range(len(col)):\n",
    "        sns.histplot(x =df[col[i]], data = df, ax=ax[j,k],bins = 50)\n",
    "        k=k+1\n",
    "        if k>=2:\n",
    "            j=j+1\n",
    "            k=0\n",
    "            \n",
    "plot_num(numerical)"
   ]
  },
  {
   "cell_type": "code",
   "execution_count": null,
   "id": "082aa9ac",
   "metadata": {},
   "outputs": [],
   "source": [
    "def plot_num(df):\n",
    "    col=list(df.columns)\n",
    "    for i in range(len(col)):\n",
    "        sns.boxplot(x =df[col[i]], data = df) \n",
    "        plt.show()\n",
    "plot_num(numerical)"
   ]
  },
  {
   "cell_type": "markdown",
   "id": "d761db1e",
   "metadata": {},
   "source": [
    "## removing Outliers"
   ]
  },
  {
   "cell_type": "code",
   "execution_count": null,
   "id": "35891766",
   "metadata": {},
   "outputs": [],
   "source": [
    "# Age\n",
    "#For age we weill remove agell people grater that 80 it seems not corrcet\n",
    "numerical[numerical['Age']>80]['Age'].value_counts()\n",
    "numerical=numerical[numerical['Age']<=80]\n",
    "sns.boxplot(x =numerical['Age'], data = numerical) \n",
    "plt.show()\n",
    "numerical.shape"
   ]
  },
  {
   "cell_type": "code",
   "execution_count": null,
   "id": "ad5130d1",
   "metadata": {},
   "outputs": [],
   "source": [
    "#'TotalRecurringCharge'\n",
    "print(numerical[numerical['TotalRecurringCharge']>250]['TotalRecurringCharge'].value_counts())\n",
    "numerical=numerical[numerical['TotalRecurringCharge']<=250]\n",
    "sns.boxplot(x =numerical['TotalRecurringCharge'], data = numerical) \n",
    "plt.show()\n",
    "numerical.shape"
   ]
  },
  {
   "cell_type": "code",
   "execution_count": null,
   "id": "580fe0b0",
   "metadata": {},
   "outputs": [],
   "source": [
    "#OverageMinutes\n",
    "print(numerical[numerical['OverageMinutes']>3000]['OverageMinutes'].value_counts())\n",
    "numerical=numerical[numerical['OverageMinutes']<=3000]\n",
    "sns.boxplot(x =numerical['OverageMinutes'], data = numerical) \n",
    "plt.show()\n",
    "numerical.shape"
   ]
  },
  {
   "cell_type": "code",
   "execution_count": null,
   "id": "e2251905",
   "metadata": {},
   "outputs": [],
   "source": [
    "#RoamingCalls \n",
    "print(numerical[numerical['RoamingCalls']>100]['RoamingCalls'].value_counts())\n",
    "numerical=numerical[numerical['RoamingCalls']<=100]\n",
    "sns.boxplot(x =numerical['RoamingCalls'], data = numerical) \n",
    "plt.show()\n",
    "numerical.shape"
   ]
  },
  {
   "cell_type": "code",
   "execution_count": null,
   "id": "45abacf0",
   "metadata": {},
   "outputs": [],
   "source": [
    "#PercChangeMinutes\n",
    "print(numerical[(numerical['PercChangeMinutes']>3000)|(numerical['PercChangeMinutes']<-3000)\n",
    "               ]['PercChangeMinutes'].value_counts())\n",
    "numerical=numerical[(numerical['PercChangeMinutes']<3000)&(numerical['PercChangeMinutes']>-3000)]\n",
    "sns.boxplot(x =numerical['PercChangeMinutes'], data = numerical) \n",
    "plt.show()\n",
    "numerical.shape"
   ]
  },
  {
   "cell_type": "code",
   "execution_count": null,
   "id": "366796fd",
   "metadata": {},
   "outputs": [],
   "source": [
    "#PercChangeRevenues\n",
    "print(numerical[numerical['PercChangeRevenues']>400]['PercChangeRevenues'].value_counts())\n",
    "numerical=numerical[numerical['PercChangeRevenues']<=400]\n",
    "sns.boxplot(x =numerical['PercChangeRevenues'], data = numerical) \n",
    "plt.show()\n",
    "numerical.shape"
   ]
  },
  {
   "cell_type": "code",
   "execution_count": null,
   "id": "b46584fc",
   "metadata": {},
   "outputs": [],
   "source": [
    "#DroppedCalls \n",
    "print(numerical[numerical['DroppedCalls']>150]['DroppedCalls'].value_counts())\n",
    "numerical=numerical[numerical['DroppedCalls']<=150]\n",
    "sns.boxplot(x =numerical['DroppedCalls'], data = numerical) \n",
    "plt.show()\n",
    "numerical.shape"
   ]
  },
  {
   "cell_type": "code",
   "execution_count": null,
   "id": "f24fa07a",
   "metadata": {},
   "outputs": [],
   "source": [
    "#BlockedCalls\n",
    "print(numerical[numerical['BlockedCalls']>250]['BlockedCalls'].value_counts())\n",
    "numerical=numerical[numerical['BlockedCalls']<=250]\n",
    "sns.boxplot(x =numerical['BlockedCalls'], data = numerical) \n",
    "plt.show()\n",
    "numerical.shape"
   ]
  },
  {
   "cell_type": "code",
   "execution_count": null,
   "id": "6c7af6b2",
   "metadata": {},
   "outputs": [],
   "source": [
    "#UnansweredCalls\n",
    "print(numerical[numerical['UnansweredCalls']>550]['UnansweredCalls'].value_counts())\n",
    "numerical=numerical[numerical['UnansweredCalls']<=550]\n",
    "sns.boxplot(x =numerical['UnansweredCalls'], data = numerical) \n",
    "plt.show()\n",
    "numerical.shape"
   ]
  },
  {
   "cell_type": "code",
   "execution_count": null,
   "id": "77b7cfe5",
   "metadata": {},
   "outputs": [],
   "source": [
    "#CustomerCareCalls\n",
    "print(numerical[numerical['CustomerCareCalls']>100]['CustomerCareCalls'].value_counts())\n",
    "numerical=numerical[numerical['CustomerCareCalls']<=100]\n",
    "sns.boxplot(x =numerical['CustomerCareCalls'], data = numerical) \n",
    "plt.show()\n",
    "numerical.shape"
   ]
  },
  {
   "cell_type": "code",
   "execution_count": null,
   "id": "ff07bbb0",
   "metadata": {},
   "outputs": [],
   "source": [
    "#ThreewayCalls \n",
    "print(numerical[numerical['ThreewayCalls']>35]['ThreewayCalls'].value_counts())\n",
    "numerical=numerical[numerical['ThreewayCalls']<=35]\n",
    "sns.boxplot(x =numerical['ThreewayCalls'], data = numerical) \n",
    "plt.show()\n",
    "numerical.shape"
   ]
  },
  {
   "cell_type": "code",
   "execution_count": null,
   "id": "b4ae02da",
   "metadata": {},
   "outputs": [],
   "source": [
    "#ReceivedCalls\n",
    "print(numerical[numerical['ReceivedCalls']>2000]['ReceivedCalls'].value_counts())\n",
    "numerical=numerical[numerical['ReceivedCalls']<=2000]\n",
    "sns.boxplot(x =numerical['ReceivedCalls'], data = numerical) \n",
    "plt.show()\n",
    "numerical.shape"
   ]
  },
  {
   "cell_type": "code",
   "execution_count": null,
   "id": "292748e2",
   "metadata": {},
   "outputs": [],
   "source": [
    "#OutboundCalls\n",
    "print(numerical[numerical['OutboundCalls']>400]['OutboundCalls'].value_counts())\n",
    "numerical=numerical[numerical['OutboundCalls']<=400]\n",
    "sns.boxplot(x =numerical['OutboundCalls'], data = numerical) \n",
    "plt.show()\n",
    "numerical.shape"
   ]
  },
  {
   "cell_type": "code",
   "execution_count": null,
   "id": "e9c8673d",
   "metadata": {},
   "outputs": [],
   "source": [
    "#InboundCalls\n",
    "print(numerical[numerical['InboundCalls']>250]['InboundCalls'].value_counts())\n",
    "numerical=numerical[numerical['InboundCalls']<=250]\n",
    "sns.boxplot(x =numerical['InboundCalls'], data = numerical) \n",
    "plt.show()\n",
    "numerical.shape"
   ]
  },
  {
   "cell_type": "code",
   "execution_count": null,
   "id": "f20eacab",
   "metadata": {},
   "outputs": [],
   "source": [
    "#PeakCallsInOut\n",
    "print(numerical[numerical['PeakCallsInOut']>1000]['PeakCallsInOut'].value_counts())\n",
    "numerical=numerical[numerical['PeakCallsInOut']<=1000]\n",
    "sns.boxplot(x =numerical['PeakCallsInOut'], data = numerical) \n",
    "plt.show()\n",
    "numerical.shape"
   ]
  },
  {
   "cell_type": "code",
   "execution_count": null,
   "id": "ebfbe09a",
   "metadata": {},
   "outputs": [],
   "source": [
    "#CallForwardingCalls\n",
    "print(numerical[numerical['CallForwardingCalls']>40]['CallForwardingCalls'].value_counts())\n",
    "numerical=numerical[numerical['CallForwardingCalls']<=40]\n",
    "sns.boxplot(x =numerical['CallForwardingCalls'], data = numerical) \n",
    "plt.show()\n",
    "numerical.shape"
   ]
  },
  {
   "cell_type": "code",
   "execution_count": null,
   "id": "22fb7f4e",
   "metadata": {},
   "outputs": [],
   "source": [
    "#CallWaitingCalls\n",
    "print(numerical[numerical['CallWaitingCalls']>100]['CallWaitingCalls'].value_counts())\n",
    "numerical=numerical[numerical['CallWaitingCalls']<=100]\n",
    "sns.boxplot(x =numerical['CallWaitingCalls'], data = numerical) \n",
    "plt.show()\n",
    "numerical.shape"
   ]
  },
  {
   "cell_type": "code",
   "execution_count": null,
   "id": "c2f4d498",
   "metadata": {},
   "outputs": [],
   "source": [
    "#UniqueSubs\n",
    "print(numerical[numerical['UniqueSubs']>17]['UniqueSubs'].value_counts())\n",
    "numerical=numerical[numerical['UniqueSubs']<=17]\n",
    "sns.boxplot(x =numerical['UniqueSubs'], data = numerical) \n",
    "plt.show()\n",
    "numerical.shape"
   ]
  },
  {
   "cell_type": "code",
   "execution_count": null,
   "id": "5730fcb7",
   "metadata": {},
   "outputs": [],
   "source": [
    "# Removing rows in cat which we delete in numerical removing outliers\n",
    "#cat.loc[cat.index.isin(numerical.index),'HandsetPrice'] = numerical.HandsetPrice\n",
    "cols=categorical.columns\n",
    "cat_df = pd.DataFrame(categorical, columns=cols, index =numerical.index)\n",
    "num_df=numerical\n",
    "print(cat_df.shape)\n",
    "print(num_df.shape)"
   ]
  },
  {
   "cell_type": "code",
   "execution_count": null,
   "id": "f4bfb854",
   "metadata": {},
   "outputs": [],
   "source": [
    "def plot_cat(df):\n",
    "    col=list(df.columns)\n",
    "    fig,ax=plt.subplots(int(np.ceil(len(col)/2)),2 ,figsize=(15,25))\n",
    "    plt.subplots_adjust(left=0.1,\n",
    "                    bottom=0.1, \n",
    "                    right=0.9, \n",
    "                    top=0.9, \n",
    "                    wspace=0.4, \n",
    "                    hspace=0.5)\n",
    "    j=0\n",
    "    k=0\n",
    "    for i in range(len(col)):\n",
    "        chart=sns.countplot(x=df[col[i]],data=df,ax=ax[j,k])\n",
    "        chart.set_xticklabels(chart.get_xticklabels(), rotation=45)\n",
    "        k=k+1\n",
    "        if k>=2:\n",
    "            j=j+1\n",
    "            k=0\n",
    "plot_cat(cat_df)"
   ]
  },
  {
   "cell_type": "markdown",
   "id": "7ae1039a",
   "metadata": {},
   "source": [
    "# Normalizing"
   ]
  },
  {
   "cell_type": "code",
   "execution_count": null,
   "id": "596d08eb",
   "metadata": {},
   "outputs": [],
   "source": [
    "X=pd.concat([cat_df,num_df], axis=1) \n",
    "Y=X['Churn']\n",
    "X=X.drop('Churn',axis=1)"
   ]
  },
  {
   "cell_type": "code",
   "execution_count": null,
   "id": "6717005b",
   "metadata": {},
   "outputs": [],
   "source": [
    "from sklearn.model_selection import train_test_split\n",
    "X_train, X_test, y_train, y_test = train_test_split(X, Y, test_size=0.2, random_state=42)"
   ]
  },
  {
   "cell_type": "code",
   "execution_count": null,
   "id": "8a9d6d3a",
   "metadata": {},
   "outputs": [],
   "source": [
    "X=pd.concat([cat_df,num_df], axis=1) \n",
    "Y=X['Churn']\n",
    "X=X.drop('Churn',axis=1)\n",
    "X.shape"
   ]
  },
  {
   "cell_type": "code",
   "execution_count": null,
   "id": "0c187667",
   "metadata": {},
   "outputs": [],
   "source": [
    "from sklearn.model_selection import train_test_split\n",
    "X_train, X_test, y_train, y_test = train_test_split(X, Y, test_size=0.2, random_state=42)"
   ]
  },
  {
   "cell_type": "code",
   "execution_count": null,
   "id": "57f699d7",
   "metadata": {},
   "outputs": [],
   "source": [
    "# Normalizing\n",
    "def normal(name,X_train,y_train,X_test,y_test):\n",
    "    \n",
    "    while ( name not in ['MinMaxScaler','PowerTransformer','StandardScaler']):\n",
    "        value = input(\"Incorrect transformer name, please enter a valid one: [1:'MinMaxScaler',2:'PowerTransformer',3:'StandardScaler']\")\n",
    "        if ( value == '1'):\n",
    "            name = \"MinMaxScaler\"\n",
    "        elif ( value == '2'):\n",
    "            name = \"PowerTransformer\"\n",
    "        elif ( value == \"3\"):\n",
    "            name = \"StandardScaler\"\n",
    "        else:\n",
    "            name = None          \n",
    "    #X_train_df = pd.DataFrame(X_train, columns=X.columns)\n",
    "    #X_test_df  = pd.DataFrame(X_test,  columns=X.columns)\n",
    "    X_train_num = X_train_df.select_dtypes(include = np.number)\n",
    "    X_test_num  = X_test_df.select_dtypes(include = np.number)\n",
    "    X_train_cat = X_train_df.select_dtypes(include = 'object')\n",
    "    X_test_cat  = X_test_df.select_dtypes(include = 'object')\n",
    "    \n",
    "    encoder = OneHotEncoder(drop='first')\n",
    "    encoder.fit(X_train_cat)\n",
    "    \n",
    "    X_train_cat_encoded = encoder.transform(X_train_cat).toarray()\n",
    "    cols = encoder.get_feature_names_out(input_features=X_train_cat.columns)\n",
    "    X_train_encoded_df = pd.DataFrame(X_train_cat_encoded, columns=cols, index = X_train_cat.index)\n",
    "    X_train_encoded = pd.concat([X_train_encoded_df,X_train_num], axis=1)\n",
    "    \n",
    "    X_test_cat_encoded = encoder.transform(X_test_cat).toarray()\n",
    "    X_test_cat_encoded_df = pd.DataFrame(X_test_cat_encoded,columns=cols, index = X_test_cat.index)\n",
    "    X_test_encoded = pd.concat([X_test_cat_encoded_df,X_test_num], axis=1)\n",
    "        \n",
    "    if name==\"MinMaxScaler\":\n",
    "        transformer = MinMaxScaler()\n",
    "        transformer.fit(X_train_encoded)\n",
    "    elif name==\"PowerTransformer\":\n",
    "        transformer = PowerTransformer()\n",
    "        transformer.fit(X_train_encoded)\n",
    "    elif name=='StandardScaler':\n",
    "        transformer = StandardScaler()\n",
    "        transformer.fit(X_train_encoded)\n",
    "        \n",
    "    X_train_scaled_total = transformer.transform(X_train_encoded)\n",
    "    X_train_scaled_total_df = pd.DataFrame(X_train_scaled_total, columns = X_train_encoded.columns)\n",
    "    X_test_scaled_total  = transformer.transform(X_test_encoded)\n",
    "    X_test_scaled_total_df = pd.DataFrame(X_test_scaled_total, columns= X_test_encoded.columns)\n",
    "    \n",
    "    return X_train_scaled_total_df, X_test_scaled_total_df"
   ]
  },
  {
   "cell_type": "code",
   "execution_count": null,
   "id": "94f192a4",
   "metadata": {},
   "outputs": [],
   "source": []
  },
  {
   "cell_type": "markdown",
   "id": "a1b63efa",
   "metadata": {},
   "source": [
    "# Prediction for Differnet Type of Normalization"
   ]
  },
  {
   "cell_type": "markdown",
   "id": "db4f3e52",
   "metadata": {},
   "source": [
    "## MinMaxScaler"
   ]
  },
  {
   "cell_type": "code",
   "execution_count": null,
   "id": "5adba16f",
   "metadata": {},
   "outputs": [],
   "source": [
    "X_train_minmax, X_test_minmax=normal(1,X_train,y_train,X_test,y_test)"
   ]
  },
  {
   "cell_type": "code",
   "execution_count": null,
   "id": "62b5a8cb",
   "metadata": {},
   "outputs": [],
   "source": [
    "from sklearn.linear_model import LogisticRegression\n",
    "lr = LogisticRegression(random_state=0, solver='lbfgs')\n",
    "lr.fit(X_train_minmax,y_train)"
   ]
  },
  {
   "cell_type": "code",
   "execution_count": null,
   "id": "38bd2514",
   "metadata": {},
   "outputs": [],
   "source": [
    "#perdict\n",
    "y_pred_train = lr.predict(X_train_minmax)\n",
    "y_pred_test = lr.predict(X_test_minmax)"
   ]
  },
  {
   "cell_type": "code",
   "execution_count": null,
   "id": "3191c031",
   "metadata": {},
   "outputs": [],
   "source": [
    "#Check the Errors\n",
    "#accuracy\n",
    "print(\"The accuracy of MinMaxScaler in the TRAIN set is: {:.3f}\".format(accuracy_score(y_train, y_pred_train)))\n",
    "print(\"The accuracy of MinMaxScaler in the TEST  set is: {:.3f}\".format(accuracy_score(y_test, y_pred_test)))\n",
    "\n",
    "#Precission\n",
    "print(\"The precission of MinMaxScalerin the TRAIN set is: {:.3f}\".format(precision_score(y_train, y_pred_train, pos_label=\"Yes\")))\n",
    "print(\"The precission of MinMaxScaler  in the TEST  set is: {:.3f}\".format(precision_score(y_test, y_pred_test, pos_label=\"Yes\")))\n",
    "\n",
    "#Recall\n",
    "print(\"The recall of MinMaxScaler  in the TRAIN set is: {:.3f}\".format(recall_score(y_train, y_pred_train, pos_label=\"Yes\")))\n",
    "print(\"The recall of MinMaxScaler in the TEST  set is: {:.3f}\".format(recall_score(y_test,  y_pred_test, pos_label=\"Yes\")))\n",
    "#f1_score\n",
    "print(\"The F1-score of MinMaxScaler for the TRAIN set is {:.2f}\".format(f1_score(y_train,y_pred_train, pos_label=\"Yes\")))\n",
    "#Kappa\n",
    "print(\"The kappa in of MinMaxScaler the TRAIN- set is: {:.2f}\".format(cohen_kappa_score(y_train,y_pred_train)))\n",
    "print(\"The kappa in of MinMaxScaler the TEST set is: {:.2f}\".format(cohen_kappa_score(y_test,y_pred_test)))"
   ]
  },
  {
   "cell_type": "code",
   "execution_count": null,
   "id": "775d5049",
   "metadata": {},
   "outputs": [],
   "source": [
    "print(\"The confusion matrix on the TRAIN set is: \")\n",
    "cm_train = confusion_matrix(y_train,y_pred_train)\n",
    "cm_train\n",
    "disp = ConfusionMatrixDisplay(cm_train,display_labels=lr.classes_);\n",
    "disp.plot()\n",
    "plt.show()"
   ]
  },
  {
   "cell_type": "markdown",
   "id": "3a377555",
   "metadata": {},
   "source": [
    "## \"PowerTransformer\""
   ]
  },
  {
   "cell_type": "code",
   "execution_count": null,
   "id": "7796861b",
   "metadata": {},
   "outputs": [],
   "source": [
    "X_train_power, X_test_power=normal(\"PowerTransformer\",X_train,y_train,X_test,y_test)"
   ]
  },
  {
   "cell_type": "code",
   "execution_count": null,
   "id": "5d04a595",
   "metadata": {},
   "outputs": [],
   "source": [
    "from sklearn.linear_model import LogisticRegression\n",
    "lr = LogisticRegression(random_state=0, solver='lbfgs')\n",
    "lr.fit(X_train_power,y_train)"
   ]
  },
  {
   "cell_type": "code",
   "execution_count": null,
   "id": "f794e6a2",
   "metadata": {},
   "outputs": [],
   "source": [
    "#perdict-PowerTransformer\n",
    "y_pred_train = lr.predict(X_train_power)\n",
    "y_pred_test = lr.predict(X_test_power)"
   ]
  },
  {
   "cell_type": "code",
   "execution_count": null,
   "id": "6c419bbc",
   "metadata": {},
   "outputs": [],
   "source": [
    "#Check the Errors\n",
    "#accuracy\n",
    "print(\"The accuracy of PowerTransformer in the TRAIN set is: {:.3f}\".format(accuracy_score(y_train, y_pred_train)))\n",
    "print(\"The accuracy of PowerTransformer in the TEST  set is: {:.3f}\".format(accuracy_score(y_test, y_pred_test)))\n",
    "\n",
    "#Precission\n",
    "print(\"The precission of PowerTransformer in the TRAIN set is: {:.3f}\".format(precision_score(y_train, y_pred_train, pos_label=\"Yes\")))\n",
    "print(\"The precission of PowerTransformer in the TEST  set is: {:.3f}\".format(precision_score(y_test, y_pred_test, pos_label=\"Yes\")))\n",
    "\n",
    "#Recall\n",
    "print(\"The recall of PowerTransformer  in the TRAIN set is: {:.3f}\".format(recall_score(y_train, y_pred_train, pos_label=\"Yes\")))\n",
    "print(\"The recall of PowerTransformer in the TEST  set is: {:.3f}\".format(recall_score(y_test,  y_pred_test, pos_label=\"Yes\")))\n",
    "#f1_score\n",
    "print(\"The F1-score of PowerTransformer for the TRAIN set is {:.2f}\".format(f1_score(y_train,y_pred_train, pos_label=\"Yes\")))\n",
    "#Kappa\n",
    "print(\"The kappa in of PowerTransformer the TRAIN- set is: {:.2f}\".format(cohen_kappa_score(y_train,y_pred_train)))\n",
    "print(\"The kappa in of PowerTransformer the TEST set is: {:.2f}\".format(cohen_kappa_score(y_test,y_pred_test)))"
   ]
  },
  {
   "cell_type": "code",
   "execution_count": null,
   "id": "6ca58df4",
   "metadata": {},
   "outputs": [],
   "source": [
    "print(\"The confusion matrix on the TRAIN set is: \")\n",
    "cm_train = confusion_matrix(y_train, y_pred_train)\n",
    "cm_train\n",
    "disp = ConfusionMatrixDisplay(cm_train,display_labels=lr.classes_);\n",
    "disp.plot()\n",
    "plt.show()"
   ]
  },
  {
   "cell_type": "markdown",
   "id": "8aff493b",
   "metadata": {},
   "source": [
    "## StandardScaler"
   ]
  },
  {
   "cell_type": "code",
   "execution_count": null,
   "id": "c0e0b1a4",
   "metadata": {},
   "outputs": [],
   "source": [
    "X_train_stan, X_test_stan=normal(\"StandardScaler\",X_train,y_train,X_test,y_test)"
   ]
  },
  {
   "cell_type": "code",
   "execution_count": null,
   "id": "28e9393e",
   "metadata": {},
   "outputs": [],
   "source": [
    "lr = LogisticRegression(random_state=0, solver='lbfgs')\n",
    "lr.fit(X_train_stan,y_train)"
   ]
  },
  {
   "cell_type": "code",
   "execution_count": null,
   "id": "30ede46c",
   "metadata": {},
   "outputs": [],
   "source": [
    "#perdict-StandardScalerTransformer\n",
    "y_pred_train = lr.predict(X_train_stan)\n",
    "y_pred_test = lr.predict(X_test_stan)"
   ]
  },
  {
   "cell_type": "code",
   "execution_count": null,
   "id": "e92a2a70",
   "metadata": {},
   "outputs": [],
   "source": [
    "#Check the Errors\n",
    "#accuracy\n",
    "print(\"The accuracy of PowerTransformer in the TRAIN set is: {:.3f}\".format(accuracy_score(y_train, y_pred_train)))\n",
    "print(\"The accuracy of PowerTransformer in the TEST  set is: {:.3f}\".format(accuracy_score(y_test, y_pred_test)))\n",
    "\n",
    "#Precission\n",
    "print(\"The precission of PowerTransformer in the TRAIN set is: {:.3f}\".format(precision_score(y_train, y_pred_train, pos_label=\"Yes\")))\n",
    "print(\"The precission of PowerTransformer in the TEST  set is: {:.3f}\".format(precision_score(y_test, y_pred_test, pos_label=\"Yes\")))\n",
    "\n",
    "#Recall\n",
    "print(\"The recall of PowerTransformer  in the TRAIN set is: {:.3f}\".format(recall_score(y_train, y_pred_train, pos_label=\"Yes\")))\n",
    "print(\"The recall of PowerTransformer in the TEST  set is: {:.3f}\".format(recall_score(y_test,  y_pred_test, pos_label=\"Yes\")))\n",
    "#f1_score\n",
    "print(\"The F1-score of PowerTransformer for the TRAIN set is {:.2f}\".format(f1_score(y_train,y_pred_train, pos_label=\"Yes\")))\n",
    "#Kappa\n",
    "print(\"The kappa in of PowerTransformer the TRAIN- set is: {:.2f}\".format(cohen_kappa_score(y_train,y_pred_train)))\n",
    "print(\"The kappa in of PowerTransformer the TEST set is: {:.2f}\".format(cohen_kappa_score(y_test,y_pred_test)))"
   ]
  },
  {
   "cell_type": "code",
   "execution_count": null,
   "id": "7e516d49",
   "metadata": {},
   "outputs": [],
   "source": [
    "print(\"The confusion matrix on the TRAIN set is: \")\n",
    "cm_train = confusion_matrix(y_train, y_pred_train)\n",
    "cm_train\n",
    "disp = ConfusionMatrixDisplay(cm_train,display_labels=lr.classes_);\n",
    "disp.plot()\n",
    "plt.show()"
   ]
  },
  {
   "cell_type": "code",
   "execution_count": null,
   "id": "95d6abc6",
   "metadata": {},
   "outputs": [],
   "source": [
    "from imblearn.over_sampling import SMOTE"
   ]
  },
  {
   "cell_type": "code",
   "execution_count": null,
   "id": "98a864d2",
   "metadata": {},
   "outputs": [],
   "source": [
    "sm = SMOTE(random_state=100,k_neighbors=5)\n",
    "X_train_SMOTE,y_train_SMOTE = sm.fit_resample(X_train_power,y_train)\n"
   ]
  },
  {
   "cell_type": "code",
   "execution_count": null,
   "id": "a45abab6",
   "metadata": {},
   "outputs": [],
   "source": [
    "from sklearn.linear_model import LogisticRegression\n",
    "lr = LogisticRegression(max_iter=1000)\n",
    "lr.fit(X_train_SMOTE, y_train_SMOTE)\n",
    "y_pred_test = lr.predict(X_test_power)\n",
    "y_pred_train = lr.predict(X_train_SMOTE)"
   ]
  },
  {
   "cell_type": "code",
   "execution_count": null,
   "id": "d188e337",
   "metadata": {},
   "outputs": [],
   "source": [
    "cm_test = confusion_matrix(y_test,y_pred_test)\n",
    "disp = ConfusionMatrixDisplay(confusion_matrix=cm_test, display_labels=lr.classes_)\n",
    "disp.plot()\n",
    "plt.show()"
   ]
  },
  {
   "cell_type": "code",
   "execution_count": null,
   "id": "188fd345",
   "metadata": {},
   "outputs": [],
   "source": [
    "from sklearn.datasets import load_iris\n",
    "from sklearn.model_selection import cross_val_score\n",
    "from sklearn.tree import DecisionTreeClassifier\n",
    "dtc = DecisionTreeClassifier(random_state = 42)\n",
    "#accuracies = cross_val_score(dtc,X_train_power,y_train, cv=5)\n",
    "dtc.fit(X_train_power,y_train)\n",
    "y_pred = dtc.predict(X_test)\n",
    " \n",
    "#Obtain accuracy\n",
    "#print(\"Train Score:\",np.mean(accuracies))\n",
    "#print(\"Test Score:\",dtc.score(X_test,y_test))"
   ]
  },
  {
   "cell_type": "code",
   "execution_count": null,
   "id": "67d3927f",
   "metadata": {},
   "outputs": [],
   "source": [
    "cm_test = confusion_matrix(y_test,y_pred_test)\n",
    "disp = ConfusionMatrixDisplay(confusion_matrix=cm_test, display_labels=lr.classes_)\n",
    "disp.plot()\n",
    "plt.show()"
   ]
  }
 ],
 "metadata": {
  "kernelspec": {
   "display_name": "Python 3 (ipykernel)",
   "language": "python",
   "name": "python3"
  },
  "language_info": {
   "codemirror_mode": {
    "name": "ipython",
    "version": 3
   },
   "file_extension": ".py",
   "mimetype": "text/x-python",
   "name": "python",
   "nbconvert_exporter": "python",
   "pygments_lexer": "ipython3",
   "version": "3.9.7"
  },
  "toc": {
   "base_numbering": 1,
   "nav_menu": {},
   "number_sections": true,
   "sideBar": true,
   "skip_h1_title": false,
   "title_cell": "Table of Contents",
   "title_sidebar": "Contents",
   "toc_cell": true,
   "toc_position": {
    "height": "calc(100% - 180px)",
    "left": "10px",
    "top": "150px",
    "width": "256px"
   },
   "toc_section_display": true,
   "toc_window_display": false
  },
  "varInspector": {
   "cols": {
    "lenName": 16,
    "lenType": 16,
    "lenVar": 40
   },
   "kernels_config": {
    "python": {
     "delete_cmd_postfix": "",
     "delete_cmd_prefix": "del ",
     "library": "var_list.py",
     "varRefreshCmd": "print(var_dic_list())"
    },
    "r": {
     "delete_cmd_postfix": ") ",
     "delete_cmd_prefix": "rm(",
     "library": "var_list.r",
     "varRefreshCmd": "cat(var_dic_list()) "
    }
   },
   "types_to_exclude": [
    "module",
    "function",
    "builtin_function_or_method",
    "instance",
    "_Feature"
   ],
   "window_display": false
  }
 },
 "nbformat": 4,
 "nbformat_minor": 5
}
